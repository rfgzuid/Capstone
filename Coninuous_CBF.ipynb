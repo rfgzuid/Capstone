{
  "cells": [
    {
      "cell_type": "code",
      "execution_count": 1,
      "metadata": {
        "id": "EQMzLhfyk1ro",
        "outputId": "4b79c8ba-cf42-4d64-eebf-e3b32b4fcb3a"
      },
      "outputs": [
        {
          "name": "stdout",
          "output_type": "stream",
          "text": [
            "(CVXPY) Jan 17 11:46:43 AM: Encountered unexpected exception importing solver SCS:\n",
            "ImportError(\"dlopen(/Users/koentuin/Documents/Studie/Minor Engineering wit AI/CAI/venv/lib/python3.11/site-packages/_scs_direct.cpython-311-darwin.so, 0x0002): tried: '/Users/koentuin/Documents/Studie/Minor Engineering wit AI/CAI/venv/lib/python3.11/site-packages/_scs_direct.cpython-311-darwin.so' (mach-o file, but is an incompatible architecture (have 'x86_64', need 'arm64')), '/System/Volumes/Preboot/Cryptexes/OS/Users/koentuin/Documents/Studie/Minor Engineering wit AI/CAI/venv/lib/python3.11/site-packages/_scs_direct.cpython-311-darwin.so' (no such file), '/Users/koentuin/Documents/Studie/Minor Engineering wit AI/CAI/venv/lib/python3.11/site-packages/_scs_direct.cpython-311-darwin.so' (mach-o file, but is an incompatible architecture (have 'x86_64', need 'arm64'))\")\n",
            "(CVXPY) Jan 17 11:46:43 AM: Encountered unexpected exception importing solver OSQP:\n",
            "ImportError(\"dlopen(/Users/koentuin/Documents/Studie/Minor Engineering wit AI/CAI/venv/lib/python3.11/site-packages/osqp/_osqp.cpython-311-darwin.so, 0x0002): symbol not found in flat namespace '_csc_matrix'\")\n"
          ]
        }
      ],
      "source": [
        "from torch import nn\n",
        "from bound_propagation import BoundModelFactory, HyperRectangle\n",
        "from bound_propagation.polynomial import Pow\n",
        "from bound_propagation.bounds import LinearBounds\n",
        "import torch\n",
        "import numpy as np\n",
        "import cvxpy as cp\n",
        "import gymnasium as gym"
      ]
    },
    {
      "cell_type": "code",
      "execution_count": 2,
      "metadata": {
        "id": "vJrpCTQrk1rq"
      },
      "outputs": [],
      "source": [
        "def create_action_partitions(env, partitions):\n",
        "    \"\"\"\n",
        "    Generates partitions of the action space of a reinforcement learning environment into smaller hyperrectangles.\n",
        "\n",
        "    This function is useful for discretizing a continuous action space into smaller, manageable parts, allowing for more granular exploration or analysis.\n",
        "\n",
        "    Parameters:\n",
        "    - env (Environment): The reinforcement learning environment object, which should have an action space attribute.\n",
        "    - partitions (int): The number of partitions to create along each dimension of the action space.\n",
        "\n",
        "    Each dimension of the action space is divided into 'partitions' number of equal parts. For an action space with 'n' dimensions, this results in 'partitions^n' total hyperrectangles.\n",
        "\n",
        "    Returns:\n",
        "    - A list of HyperRectangle objects, each representing a partition of the action space. Each HyperRectangle object is defined by its lower and upper bounds in the action space.\n",
        "    \"\"\"\n",
        "    action_space = env.action_space\n",
        "    num_actions = action_space.shape[0]\n",
        "    action_low = action_space.low\n",
        "    action_high = action_space.high\n",
        "\n",
        "    res = []\n",
        "\n",
        "    def generate_partitions(dimensions, lower, upper, current_partition):\n",
        "        if dimensions == num_actions:\n",
        "            # If we've reached the number of dimensions, add the current partition\n",
        "            res.append(HyperRectangle(np.array(lower), np.array(upper)))\n",
        "        else:\n",
        "            # Calculate the size of the partition for the current dimension\n",
        "            partition_size = (action_high[dimensions] - action_low[dimensions]) / partitions\n",
        "\n",
        "            for part in range(partitions):\n",
        "                # Determine the lower and upper bounds for the current dimension\n",
        "                dim_lower_bound = action_low[dimensions] + part * partition_size\n",
        "                dim_upper_bound = dim_lower_bound + partition_size\n",
        "\n",
        "                # Recursively generate partitions for the next dimension\n",
        "                generate_partitions(dimensions + 1, lower + [dim_lower_bound], upper + [dim_upper_bound], current_partition)\n",
        "\n",
        "    generate_partitions(0, [], [], [])\n",
        "\n",
        "    return res"
      ]
    },
    {
      "cell_type": "code",
      "execution_count": 3,
      "metadata": {},
      "outputs": [
        {
          "name": "stderr",
          "output_type": "stream",
          "text": [
            "E\n",
            "======================================================================\n",
            "ERROR: /Users/koentuin/Library/Jupyter/runtime/kernel-5856537a-b22f-416a-ab1a-8b4bda031544 (unittest.loader._FailedTest./Users/koentuin/Library/Jupyter/runtime/kernel-5856537a-b22f-416a-ab1a-8b4bda031544)\n",
            "----------------------------------------------------------------------\n",
            "AttributeError: module '__main__' has no attribute '/Users/koentuin/Library/Jupyter/runtime/kernel-5856537a-b22f-416a-ab1a-8b4bda031544'\n",
            "\n",
            "----------------------------------------------------------------------\n",
            "Ran 1 test in 0.000s\n",
            "\n",
            "FAILED (errors=1)\n"
          ]
        },
        {
          "ename": "SystemExit",
          "evalue": "True",
          "output_type": "error",
          "traceback": [
            "An exception has occurred, use %tb to see the full traceback.\n",
            "\u001b[0;31mSystemExit\u001b[0m\u001b[0;31m:\u001b[0m True\n"
          ]
        },
        {
          "name": "stderr",
          "output_type": "stream",
          "text": [
            "/Users/koentuin/Documents/Studie/Minor Engineering wit AI/CAI/venv/lib/python3.11/site-packages/IPython/core/interactiveshell.py:3561: UserWarning: To exit: use 'exit', 'quit', or Ctrl-D.\n",
            "  warn(\"To exit: use 'exit', 'quit', or Ctrl-D.\", stacklevel=1)\n"
          ]
        }
      ],
      "source": [
        "# import unittest\n",
        "# import numpy as np\n",
        "\n",
        "# class TestCreateActionPartitions(unittest.TestCase):\n",
        "\n",
        "#     def setUp(self):\n",
        "#         # Mocking an environment and HyperRectangle class for testing\n",
        "#         class MockEnv:\n",
        "#             class action_space:\n",
        "#                 low = np.array([0, 0])\n",
        "#                 high = np.array([10, 10])\n",
        "#                 shape = (2,)\n",
        "\n",
        "#         self.MockEnv = MockEnv\n",
        "#         self.HyperRectangle = HyperRectangle\n",
        "\n",
        "#     def test_partition_generation(self):\n",
        "#         env = self.MockEnv()\n",
        "#         partitions = 2\n",
        "#         expected_number_of_partitions = partitions ** env.action_space.shape[0]\n",
        "#         result = create_action_partitions(env, partitions)\n",
        "#         self.assertEqual(len(result), expected_number_of_partitions)\n",
        "\n",
        "#     def test_hyperrectangle_bounds(self):\n",
        "#         env = self.MockEnv()\n",
        "#         partitions = 2\n",
        "#         result = create_action_partitions(env, partitions)\n",
        "#         for hyperrectangle in result:\n",
        "#             for low, high in zip(hyperrectangle.low, hyperrectangle.high):\n",
        "#                 self.assertGreaterEqual(high, low)\n",
        "\n",
        "#     def test_invalid_partitions(self):\n",
        "#         env = self.MockEnv()\n",
        "#         with self.assertRaises(ValueError):\n",
        "#             create_action_partitions(env, -1)\n",
        "\n",
        "#     def test_single_partition(self):\n",
        "#         env = self.MockEnv()\n",
        "#         partitions = 1\n",
        "#         result = create_action_partitions(env, partitions)\n",
        "#         self.assertEqual(len(result), 1)\n",
        "\n",
        "#     def test_large_number_of_partitions(self):\n",
        "#         env = self.MockEnv()\n",
        "#         partitions = 10\n",
        "#         result = create_action_partitions(env, partitions)\n",
        "#         self.assertEqual(len(result), partitions ** env.action_space.shape[0])\n",
        "\n",
        "# if __name__ == '__main__':\n",
        "#     unittest.main()\n"
      ]
    },
    {
      "cell_type": "code",
      "execution_count": 4,
      "metadata": {
        "id": "rtWNurG4k1rr"
      },
      "outputs": [],
      "source": [
        "def get_lower_bound(model, state, action_partition, epsilon):\n",
        "    \"\"\"\n",
        "    Computes the lower bound of the output for a given state-action pair using CROWN (Convex Relaxation for neural network Output bounNd) method.\n",
        "\n",
        "    This function applies CROWN, a method for robustness verification of neural networks, to compute the lower bound of the neural network's output for a given state-action pair within a specified perturbation range. The perturbation range is defined by epsilon around the state-action pair.\n",
        "\n",
        "    Parameters:\n",
        "    - model (NN): The neural network model for which the bounds are computed.\n",
        "    - state (Tensor): The current state of the system, represented as a tensor.\n",
        "    - action (Tensor): The action to be evaluated, represented as a tensor.\n",
        "    - epsilon (float): The perturbation range around the state-action pair within which the lower bound is computed.\n",
        "\n",
        "    Returns:\n",
        "    - A tensor representing the lower bound of the network's output for the given state-action pair within the specified perturbation range. The shape of the tensor matches the concatenated state-action input shape.\n",
        "\n",
        "    Notes:\n",
        "    - The method assumes that the input to 'model' is a concatenation of state and action.\n",
        "    - The lower bound is computed using the CROWN method, which involves a convex relaxation technique to estimate bounds on neural network outputs.\n",
        "    - HyperRectangle.from_eps is used to define the perturbation range around the input state-action pair.\n",
        "    \"\"\"\n",
        "    state_partition = HyperRectangle.from_eps(state.view(1, -1), epsilon)\n",
        "\n",
        "    input_bounds = HyperRectangle(\n",
        "        torch.cat((state_partition.lower, action_partition.lower), dim=1),\n",
        "        torch.cat((state_partition.upper, action_partition.upper), dim=1)\n",
        "    )\n",
        "    crown_bounds = model.crown(input_bounds)\n",
        "\n",
        "    crown_bounds.lower # (A, b)\n",
        "\n",
        "    return crown_bounds.lower"
      ]
    },
    {
      "cell_type": "code",
      "execution_count": 5,
      "metadata": {
        "id": "TzN2anPCk1rs"
      },
      "outputs": [],
      "source": [
        "def create_bound_matrices(partitions, state, env, boundnet):\n",
        "    \"\"\"\n",
        "    Computes bound matrices for action partitions in a given state using a bound network.\n",
        "\n",
        "    Parameters:\n",
        "    - partitions (Iterable): A collection of partitions of the action space, each representing a subset of potential actions.\n",
        "    - state (Tensor): The current state of the system, represented as a tensor.\n",
        "    - env: The environment object, containing information about the action space.\n",
        "    - boundnet (NN): A neural network used to compute linear bounds for a given state and action.\n",
        "\n",
        "    Returns:\n",
        "    - A list of tuples. Each tuple contains:\n",
        "        1. An action partition,\n",
        "        2. A tensor representing the action-dependent component of the bound for that partition,\n",
        "        3. A numpy array representing the state vector component of the bound.\n",
        "    \"\"\"\n",
        "    action_space = env.action_space\n",
        "    num_actions = action_space.shape[0]\n",
        "    res = []\n",
        "    for action_partition in partitions:\n",
        "        action = torch.tensor(action_partition.center).view(1, -1)\n",
        "        (A, b) = get_lower_bound(boundnet, state, action_partition, 0.01)\n",
        "        h_action_dependent = A[:, -num_actions:]\n",
        "\n",
        "        # State input region is a hyperrectangle with \"radius\" 0.01\n",
        "        state_input_bounds = HyperRectangle.from_eps(state, 0.01)\n",
        "        # State dependent part of the A matrix\n",
        "        state_A = A[:, :-num_actions]\n",
        "        # Make this into a (lower) linear bounds (\\underbar{A}_x x + b \\leq ...)\n",
        "        state_linear_bounds = LinearBounds(state_input_bounds, (state_A, b), None)\n",
        "        # Convert to lower interval bounds (b \\leq ...)\n",
        "        state_interval_bounds = state_linear_bounds.concretize()\n",
        "        # Select the lower bound\n",
        "        h_vec = state_interval_bounds.lower\n",
        "\n",
        "        vecs = (action_partition, h_action_dependent.squeeze().detach().numpy(), h_vec.squeeze().detach().numpy())\n",
        "        res.append(vecs)\n",
        "\n",
        "    return res"
      ]
    },
    {
      "cell_type": "code",
      "execution_count": 6,
      "metadata": {
        "id": "kwejjbz4k1rt"
      },
      "outputs": [],
      "source": [
        "class InfeasibilityError(Exception):\n",
        "    \"\"\"Exception raised if there are no actions that fulfill the safety criterions.\"\"\"\n",
        "\n",
        "    def __init__(self, message=\"No safe action to take\"):\n",
        "        self.message = message\n",
        "        super().__init__(self.message)"
      ]
    },
    {
      "cell_type": "code",
      "execution_count": 8,
      "metadata": {
        "id": "x9otczxgk1ru"
      },
      "outputs": [],
      "source": [
        "def continuous_cbf(bound_matrices, nominal_action, h_current, alpha):\n",
        "    \"\"\"\n",
        "    Selects a safe action from bound matrices using continuous control barrier functions (CBF).\n",
        "\n",
        "    Parameters:\n",
        "    - bound_matrices (Iterable): An iterable of tuples, each containing the action partition, the action-dependent component of the barrier function h, and the state vector component of the bound of h.\n",
        "    - nominal_action (Tensor): The preferred action in the current state, typically derived from an unconstrained policy.\n",
        "    - h_current (Tensor): The current value of the barrier function.\n",
        "    - alpha (float): A scaling factor used in the safety criterion. It scales the current barrier function value to set a threshold for the next state's barrier function value.\n",
        "\n",
        "    Returns:\n",
        "    - The selected safe action as a numpy array. If multiple safe actions are available, it returns the one closest to the nominal action.\n",
        "\n",
        "    Raises:\n",
        "    - InfeasibilityError: If no safe actions are found, indicating that the current state is infeasible under the given safety constraints.\n",
        "    \"\"\"\n",
        "    safe_actions = []\n",
        "    for action_partition, h_action_dependent, h_vec in bound_matrices:\n",
        "        num_actions = nominal_action.shape[0]\n",
        "        action = cp.Variable(num_actions)\n",
        "\n",
        "        # Constraints\n",
        "        action_lower_bound = (action_partition).lower.reshape((-1,))\n",
        "        action_upper_bound = (action_partition).upper.reshape((-1,))\n",
        "        constraints = [action_lower_bound <= action, action <= action_upper_bound, h_action_dependent @ action + h_vec >= alpha * h_current]\n",
        "\n",
        "        # Objective\n",
        "        objective = cp.Minimize(cp.norm(action - nominal_action, 2))\n",
        "\n",
        "        # Solve the problem\n",
        "        problem = cp.Problem(objective, constraints)\n",
        "        problem.solve()\n",
        "\n",
        "        if problem.status in [cp.INFEASIBLE, cp.UNBOUNDED]:\n",
        "            # safe_actions.append((None, None))\n",
        "            pass\n",
        "        else:\n",
        "            safe_actions.append((action.value, objective.value))\n",
        "\n",
        "    if safe_actions and len(safe_actions) > 1:\n",
        "      return min(safe_actions, key=lambda x: x[1], default=(None, None))[0]\n",
        "    elif safe_actions:\n",
        "      return safe_actions[0]\n",
        "    else:\n",
        "      raise InfeasibilityError()"
      ]
    },
    {
      "cell_type": "code",
      "execution_count": 9,
      "metadata": {
        "id": "mboOyfFmk1ru"
      },
      "outputs": [],
      "source": [
        "class NNDM(nn.Sequential):\n",
        "    \"\"\"\n",
        "    TODO: write docstring\n",
        "    TODO: generalise class\n",
        "    \"\"\"\n",
        "    def __init__(self):\n",
        "        super(NNDM, self).__init__(\n",
        "            nn.Linear(28, 64),\n",
        "            nn.Tanh(),\n",
        "            nn.Linear(64, 24),\n",
        "        )\n",
        "\n",
        "    def forward(self, x):\n",
        "        out = super().forward(x)\n",
        "        return out + x[:,:24]\n",
        "\n",
        "\n",
        "class HHead(nn.Sequential):\n",
        "    \"\"\"\n",
        "    TODO: implement h function\n",
        "    TODO: write docstring\n",
        "    TODO: generalise class\n",
        "    \"\"\"\n",
        "    def __init__(self):\n",
        "\n",
        "        super().__init__(\n",
        "            Pow(2),\n",
        "            nn.Linear(24, 2)\n",
        "        )\n",
        "\n",
        "class CombinedModel(nn.Sequential):\n",
        "    def __init__(self):\n",
        "        super(CombinedModel, self).__init__()\n",
        "        self.add_module('nndm', NNDM())\n",
        "        self.add_module('hhead', HHead())"
      ]
    },
    {
      "cell_type": "code",
      "execution_count": 10,
      "metadata": {
        "id": "bZCPd6EOk1rv",
        "outputId": "08c4e66f-2e85-4173-efc9-406176e89671"
      },
      "outputs": [
        {
          "ename": "TypeError",
          "evalue": "expected Tensor as element 1 in argument 0, but got numpy.ndarray",
          "output_type": "error",
          "traceback": [
            "\u001b[0;31m---------------------------------------------------------------------------\u001b[0m",
            "\u001b[0;31mTypeError\u001b[0m                                 Traceback (most recent call last)",
            "Cell \u001b[0;32mIn[10], line 17\u001b[0m\n\u001b[1;32m     15\u001b[0m \u001b[39m# Apply the CBF to the nominal action\u001b[39;00m\n\u001b[1;32m     16\u001b[0m partitions \u001b[39m=\u001b[39m create_action_partitions(env, \u001b[39m4\u001b[39m)\n\u001b[0;32m---> 17\u001b[0m bound_matrices \u001b[39m=\u001b[39m create_bound_matrices(partitions, state, env, boundnet)\n\u001b[1;32m     18\u001b[0m safe_action \u001b[39m=\u001b[39m continuous_cbf(bound_matrices, nominal_action, h_current, \u001b[39m0\u001b[39m)\n\u001b[1;32m     19\u001b[0m \u001b[39mprint\u001b[39m(safe_action)\n",
            "Cell \u001b[0;32mIn[5], line 22\u001b[0m, in \u001b[0;36mcreate_bound_matrices\u001b[0;34m(partitions, state, env, boundnet)\u001b[0m\n\u001b[1;32m     20\u001b[0m \u001b[39mfor\u001b[39;00m action_partition \u001b[39min\u001b[39;00m partitions:\n\u001b[1;32m     21\u001b[0m     action \u001b[39m=\u001b[39m torch\u001b[39m.\u001b[39mtensor(action_partition\u001b[39m.\u001b[39mcenter)\u001b[39m.\u001b[39mview(\u001b[39m1\u001b[39m, \u001b[39m-\u001b[39m\u001b[39m1\u001b[39m)\n\u001b[0;32m---> 22\u001b[0m     (A, b) \u001b[39m=\u001b[39m get_lower_bound(boundnet, state, action_partition, \u001b[39m0.01\u001b[39;49m)\n\u001b[1;32m     23\u001b[0m     h_action_dependent \u001b[39m=\u001b[39m A[:, \u001b[39m-\u001b[39mnum_actions:]\n\u001b[1;32m     25\u001b[0m     \u001b[39m# State input region is a hyperrectangle with \"radius\" 0.01\u001b[39;00m\n",
            "Cell \u001b[0;32mIn[4], line 24\u001b[0m, in \u001b[0;36mget_lower_bound\u001b[0;34m(model, state, action_partition, epsilon)\u001b[0m\n\u001b[1;32m      2\u001b[0m \u001b[39m\u001b[39m\u001b[39m\"\"\"\u001b[39;00m\n\u001b[1;32m      3\u001b[0m \u001b[39mComputes the lower bound of the output for a given state-action pair using CROWN (Convex Relaxation for neural network Output bounNd) method.\u001b[39;00m\n\u001b[1;32m      4\u001b[0m \n\u001b[0;32m   (...)\u001b[0m\n\u001b[1;32m     19\u001b[0m \u001b[39m- HyperRectangle.from_eps is used to define the perturbation range around the input state-action pair.\u001b[39;00m\n\u001b[1;32m     20\u001b[0m \u001b[39m\"\"\"\u001b[39;00m\n\u001b[1;32m     21\u001b[0m state_partition \u001b[39m=\u001b[39m HyperRectangle\u001b[39m.\u001b[39mfrom_eps(state\u001b[39m.\u001b[39mview(\u001b[39m1\u001b[39m, \u001b[39m-\u001b[39m\u001b[39m1\u001b[39m), epsilon)\n\u001b[1;32m     23\u001b[0m input_bounds \u001b[39m=\u001b[39m HyperRectangle(\n\u001b[0;32m---> 24\u001b[0m     torch\u001b[39m.\u001b[39;49mcat((state_partition\u001b[39m.\u001b[39;49mlower, action_partition\u001b[39m.\u001b[39;49mlower), dim\u001b[39m=\u001b[39;49m\u001b[39m1\u001b[39;49m),\n\u001b[1;32m     25\u001b[0m     torch\u001b[39m.\u001b[39mcat((state_partition\u001b[39m.\u001b[39mupper, action_partition\u001b[39m.\u001b[39mupper), dim\u001b[39m=\u001b[39m\u001b[39m1\u001b[39m)\n\u001b[1;32m     26\u001b[0m )\n\u001b[1;32m     27\u001b[0m crown_bounds \u001b[39m=\u001b[39m model\u001b[39m.\u001b[39mcrown(input_bounds)\n\u001b[1;32m     29\u001b[0m crown_bounds\u001b[39m.\u001b[39mlower \u001b[39m# (A, b)\u001b[39;00m\n",
            "\u001b[0;31mTypeError\u001b[0m: expected Tensor as element 1 in argument 0, but got numpy.ndarray"
          ]
        }
      ],
      "source": [
        "# Initialise the environment\n",
        "env = gym.make(\"BipedalWalker-v3\")\n",
        "\n",
        "# Initialise the barrier function h and the NNDM with the barrier function on top to compute linear bounds\n",
        "hnet = HHead()\n",
        "net = CombinedModel()\n",
        "factory = BoundModelFactory()\n",
        "boundnet = factory.build(net)\n",
        "\n",
        "# Generate random state, h values, and nominal action for demonstration\n",
        "state = torch.rand(1, 24)\n",
        "h_current = hnet(state).view(-1).detach().numpy()\n",
        "nominal_action = torch.rand(4)\n",
        "\n",
        "# Apply the CBF to the nominal action\n",
        "partitions = create_action_partitions(env, 4)\n",
        "bound_matrices = create_bound_matrices(partitions, state, env, boundnet)\n",
        "safe_action = continuous_cbf(bound_matrices, nominal_action, h_current, 0)\n",
        "print(safe_action)"
      ]
    }
  ],
  "metadata": {
    "colab": {
      "provenance": []
    },
    "kernelspec": {
      "display_name": "venv",
      "language": "python",
      "name": "python3"
    },
    "language_info": {
      "codemirror_mode": {
        "name": "ipython",
        "version": 3
      },
      "file_extension": ".py",
      "mimetype": "text/x-python",
      "name": "python",
      "nbconvert_exporter": "python",
      "pygments_lexer": "ipython3",
      "version": "3.11.3"
    },
    "orig_nbformat": 4,
    "vscode": {
      "interpreter": {
        "hash": "5a40ef642b076910db029035e8a6499a4c0b1b5d539d6340d12e574079074661"
      }
    }
  },
  "nbformat": 4,
  "nbformat_minor": 0
}
