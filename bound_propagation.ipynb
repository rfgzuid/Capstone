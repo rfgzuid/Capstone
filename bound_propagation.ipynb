{
 "cells": [
  {
   "cell_type": "code",
   "execution_count": 44,
   "metadata": {},
   "outputs": [],
   "source": [
    "from torch import nn\n",
    "from bound_propagation import BoundModelFactory, HyperRectangle\n",
    "from bound_propagation.polynomial import Pow\n",
    "import torch\n",
    "\n",
    "class NNDM(nn.Sequential):\n",
    "    def __init__(self):\n",
    "        super(NNDM, self).__init__(\n",
    "            nn.Linear(5, 64),\n",
    "            nn.Tanh(),\n",
    "            nn.Linear(64, 4),\n",
    "        )\n",
    "\n",
    "    def forward(self, x):\n",
    "        out = super().forward(x)\n",
    "        return out + x[:,:4]\n",
    "\n",
    "    \n",
    "class HHead(nn.Sequential):\n",
    "    def __init__(self, x_0_max, x_2_max):\n",
    "        \n",
    "        super().__init__(\n",
    "            Pow(2),\n",
    "            nn.Linear(4, 2)\n",
    "        )\n",
    "        self[1].weight.data = torch.tensor([[-1/x_0_max**2, 0, 0, 0],\n",
    "                                            [0, 0, -1/x_2_max**2, 0]])\n",
    "        self[1].bias.data = torch.tensor([1., 1.])\n",
    "\n",
    "class CombinedModel(nn.Sequential):\n",
    "    def __init__(self, x_0_max, x_2_max):\n",
    "        super(CombinedModel, self).__init__()\n",
    "        self.add_module('nndm', NNDM())\n",
    "        self.add_module('hhead', HHead(x_0_max, x_2_max))\n",
    "    \n",
    "# Parameters for safety function\n",
    "x_position = 2.4\n",
    "pole_angel = 0.2095  # In radians\n",
    "\n",
    "# thetanet = HThetaHead(pole_angel)\n",
    "prenet = CombinedModel(x_position, pole_angel)\n",
    "\n",
    "factory = BoundModelFactory()\n",
    "net = factory.build(prenet)"
   ]
  },
  {
   "cell_type": "code",
   "execution_count": 47,
   "metadata": {},
   "outputs": [],
   "source": [
    "x = torch.rand(1, 5)\n",
    "epsilon = 0.1\n",
    "input_bounds = HyperRectangle.from_eps(x, epsilon)\n",
    "\n",
    "crown_bounds = net.crown(input_bounds)\n",
    "crown_ibp_bounds = net.crown_ibp(input_bounds)\n",
    "\n",
    "alpha_crown_bounds = net.crown(input_bounds, alpha=True)\n",
    "alpha_crown_ibp_bounds = net.crown_ibp(input_bounds, alpha=True)"
   ]
  },
  {
   "cell_type": "code",
   "execution_count": 48,
   "metadata": {},
   "outputs": [
    {
     "name": "stdout",
     "output_type": "stream",
     "text": [
      "Final lower bounds:  tensor([[0.9997, 0.8685]], grad_fn=<AddBackward0>)\n"
     ]
    }
   ],
   "source": [
    "print(\"Final lower bounds: \", crown_bounds.lower[1])"
   ]
  },
  {
   "cell_type": "code",
   "execution_count": 49,
   "metadata": {},
   "outputs": [],
   "source": [
    "def get_bounds(model, state, action_space_partition, epsilon):\n",
    "    \"\"\"\n",
    "    model: Pytorch neural network initialised with BoundModelFactory\n",
    "        - model input size: [state_dimensionality + action_dimensionality]\n",
    "        - model output size: [state_dimensionality]\n",
    "    state: Tensor with shape [state_dimensionality]\n",
    "    action_space_partition: Tensor with shape: [action_options] -> in future: [action_dimensionality, action_partition]\n",
    "    epsilon: Perturbation radius for input bounds\n",
    "    ---\n",
    "    output: [action_options, 2, state_dimensionality] (2: upperbound & lowerbound)\n",
    "    \"\"\"\n",
    "    result = []\n",
    "\n",
    "    for action in action_space_partition:\n",
    "        state_action = torch.cat((state, action.unsqueeze(0))).view(1, 5)\n",
    "        input_bounds = HyperRectangle.from_eps(state_action, epsilon)\n",
    "        crown_bounds = model.crown(input_bounds)\n",
    "\n",
    "        # Assuming the output dimension of the model is state_dimensionality\n",
    "        lower_bound = crown_bounds.lower[0].unsqueeze(0)\n",
    "\n",
    "        result.append(lower_bound)\n",
    "\n",
    "    return torch.stack(result, dim=0)"
   ]
  },
  {
   "cell_type": "code",
   "execution_count": 50,
   "metadata": {},
   "outputs": [],
   "source": [
    "import numpy as np\n",
    "\n",
    "carpole_data = np.load('Cartpole_data.npy')\n",
    "state = torch.Tensor(carpole_data[0, :4])\n",
    "action_space = torch.Tensor([0, 1])\n",
    "bounds_for_all_actions = get_bounds(net, state, action_space, 0.1)"
   ]
  },
  {
   "cell_type": "code",
   "execution_count": null,
   "metadata": {},
   "outputs": [],
   "source": []
  },
  {
   "cell_type": "code",
   "execution_count": 51,
   "metadata": {},
   "outputs": [
    {
     "data": {
      "text/plain": [
       "tensor([[[[[ 0.0008, -0.0016, -0.0006,  0.0005,  0.0012],\n",
       "           [ 0.3251, -0.3889, -0.0926, -0.4328,  0.1166]]]],\n",
       "\n",
       "\n",
       "\n",
       "        [[[[-0.0059,  0.0106,  0.0041, -0.0029, -0.0082],\n",
       "           [-0.0219,  0.0258,  0.0124,  0.0343, -0.0107]]]]],\n",
       "       grad_fn=<StackBackward0>)"
      ]
     },
     "execution_count": 51,
     "metadata": {},
     "output_type": "execute_result"
    }
   ],
   "source": [
    "desired_action_index = 0\n",
    "\n",
    "guaranteed_next_state_set = bounds_for_all_actions[desired_action_index, :, :]\n",
    "guaranteed_next_state_set\n",
    "bounds_for_all_actions"
   ]
  },
  {
   "cell_type": "code",
   "execution_count": 65,
   "metadata": {},
   "outputs": [],
   "source": [
    "import torch.nn.functional as F\n",
    "\n",
    "class DQN(nn.Module):\n",
    "\n",
    "    def __init__(self, n_observations, n_actions):\n",
    "        super(DQN, self).__init__()\n",
    "        self.layer1 = nn.Linear(n_observations, 128)\n",
    "        self.layer2 = nn.Linear(128, 128)\n",
    "        self.layer3 = nn.Linear(128, n_actions)\n",
    "\n",
    "    # Called with either one element to determine next action, or a batch\n",
    "    # during optimization. Returns tensor([[left0exp,right0exp]...]).\n",
    "    def forward(self, x):\n",
    "        x = F.relu(self.layer1(x))\n",
    "        x = F.relu(self.layer2(x))\n",
    "        return self.layer3(x)\n",
    "    \n",
    "dqn_model = DQN(4, 2)\n",
    "\n",
    "# TODO: when we have trained the model\n",
    "# dqn_model.load_state_dict(torch.load(PATH_TO_MODEL_WEIGHTS))"
   ]
  },
  {
   "cell_type": "code",
   "execution_count": 69,
   "metadata": {},
   "outputs": [
    {
     "data": {
      "text/plain": [
       "tensor([0.0233, 0.0100], grad_fn=<ViewBackward0>)"
      ]
     },
     "execution_count": 69,
     "metadata": {},
     "output_type": "execute_result"
    }
   ],
   "source": [
    "dqn_model(state)"
   ]
  },
  {
   "cell_type": "code",
   "execution_count": 58,
   "metadata": {},
   "outputs": [],
   "source": [
    "def discrete_cbf(action_space, state, nominal_action, hfunction, h_nndm, alpha):\n",
    "    \"\"\"\n",
    "    action_space: A 1-dimensional tensor containing possible actions.\n",
    "    state: The current state of the system.\n",
    "    nominal_action: A pre-selected action by the nominal controller.\n",
    "    hfunction: A function representing the barrier condition.\n",
    "    h_nndm: A NNDM with the h function put on top.\n",
    "    alpha: A scaling factor.\n",
    "    \"\"\"\n",
    "    best_action = nominal_action\n",
    "    res = []\n",
    "    for action in action_space:\n",
    "        h = h_nndm(torch.cat((state, action.unsqueeze(0))).view(1, -1))\n",
    "        h_prev = hfunction(state)\n",
    "        if torch.all(torch.ge(h, alpha * h_prev)):\n",
    "            res += [(int(action!=nominal_action), h, action)]\n",
    "    best_action_tuple = min(res, key = lambda x: x[0])\n",
    "    \n",
    "    if sum(best_action_tuple[0] == action_tuple[0] for action_tuple in res) > 1:\n",
    "        best_action_tuple = min([action_tuple for action_tuple in res if action_tuple[0] == best_action_tuple[0]], key= lambda x: x[1])\n",
    "    best_action = best_action_tuple[2]\n",
    "    return best_action"
   ]
  },
  {
   "cell_type": "code",
   "execution_count": 60,
   "metadata": {},
   "outputs": [
    {
     "data": {
      "text/plain": [
       "tensor(1.)"
      ]
     },
     "execution_count": 60,
     "metadata": {},
     "output_type": "execute_result"
    }
   ],
   "source": [
    "hfunction = HHead(x_position, pole_angel)\n",
    "new_action = discrete_cbf(action_space, state, torch.tensor(1), hfunction, prenet, 1)\n",
    "new_action"
   ]
  },
  {
   "cell_type": "code",
   "execution_count": 19,
   "metadata": {},
   "outputs": [
    {
     "ename": "IndexError",
     "evalue": "index 2 is out of bounds for dimension 0 with size 1",
     "output_type": "error",
     "traceback": [
      "\u001b[0;31m---------------------------------------------------------------------------\u001b[0m",
      "\u001b[0;31mIndexError\u001b[0m                                Traceback (most recent call last)",
      "Cell \u001b[0;32mIn[19], line 31\u001b[0m\n\u001b[1;32m     28\u001b[0m state_action \u001b[39m=\u001b[39m torch\u001b[39m.\u001b[39mcat((state, torch\u001b[39m.\u001b[39mTensor(\u001b[39m1\u001b[39m)))\u001b[39m.\u001b[39mview(\u001b[39m1\u001b[39m, \u001b[39m5\u001b[39m)\n\u001b[1;32m     30\u001b[0m \u001b[39m# Compute the safety function values\u001b[39;00m\n\u001b[0;32m---> 31\u001b[0m h_state_action \u001b[39m=\u001b[39m h(net(state_action))\u001b[39m.\u001b[39mdetach()\u001b[39m.\u001b[39mnumpy()\n\u001b[1;32m     32\u001b[0m h_state \u001b[39m=\u001b[39m h(state)\u001b[39m.\u001b[39mdetach()\u001b[39m.\u001b[39mnumpy()\n\u001b[1;32m     34\u001b[0m \u001b[39m# Define the safety condition constraint\u001b[39;00m\n\u001b[1;32m     35\u001b[0m \u001b[39m# This is a simplified example assuming h(x) can be linearized or is linear\u001b[39;00m\n",
      "Cell \u001b[0;32mIn[19], line 10\u001b[0m, in \u001b[0;36mh\u001b[0;34m(x)\u001b[0m\n\u001b[1;32m      8\u001b[0m \u001b[39mdef\u001b[39;00m \u001b[39mh\u001b[39m(x):\n\u001b[1;32m      9\u001b[0m     \u001b[39m# Example safety function\u001b[39;00m\n\u001b[0;32m---> 10\u001b[0m     \u001b[39mreturn\u001b[39;00m \u001b[39m1\u001b[39m \u001b[39m-\u001b[39m (torch\u001b[39m.\u001b[39mabs(x[\u001b[39m0\u001b[39m])\u001b[39m/\u001b[39mx_0_max \u001b[39m+\u001b[39m torch\u001b[39m.\u001b[39mabs(x[\u001b[39m2\u001b[39;49m])\u001b[39m/\u001b[39mx_2_max)\n",
      "\u001b[0;31mIndexError\u001b[0m: index 2 is out of bounds for dimension 0 with size 1"
     ]
    }
   ],
   "source": [
    "\"\"\"WORK IN PROGRESS\"\"\"\n",
    "\n",
    "import cvxpy as cp\n",
    "\n",
    "# Parameters for safety function\n",
    "x_0_max = 2.4\n",
    "x_2_max = 0.2095  # In radians\n",
    "\n",
    "# Define the safety function based on your system's requirements\n",
    "def h(x):\n",
    "    # Example safety function\n",
    "    return 1 - (torch.abs(x[0])/x_0_max + torch.abs(x[2])/x_2_max)\n",
    "\n",
    "# Define the optimization variable (control input)\n",
    "u = cp.Variable(1) # 1 because action is described by a single integer 0/1\n",
    "\n",
    "def knom(state_tensor):\n",
    "    with torch.no_grad():\n",
    "        q_values = dqn_model(state_tensor)\n",
    "        # Assuming you want the action with the highest Q-value\n",
    "        action = torch.argmax(q_values).item()\n",
    "        return action\n",
    "\n",
    "# Define the nominal control\n",
    "k_nom = knom(state)\n",
    "\n",
    "\n",
    "# Define the safety condition constraint\n",
    "alpha = 0.1  # Define alpha based on your requirements\n",
    "state_action = torch.cat((state, torch.Tensor(1))).view(1, 5)\n",
    "\n",
    "# Compute the safety function values\n",
    "h_state_action = h(net(state_action)).detach().numpy()\n",
    "h_state = h(state).detach().numpy()\n",
    "\n",
    "# Define the safety condition constraint\n",
    "# This is a simplified example assuming h(x) can be linearized or is linear\n",
    "safety_condition = cp.Constant(h_state_action) - alpha * cp.Constant(h_state) >= 0\n",
    "\n",
    "# Define constraints\n",
    "constraints = [safety_condition]  # Include other constraints if any\n",
    "\n",
    "# Define the objective function (minimizing deviation from nominal control)\n",
    "objective = cp.Minimize(cp.norm(u - k_nom, 2))\n",
    "\n",
    "# Define constraints\n",
    "constraints = [safety_condition]\n",
    "\n",
    "# Set up and solve the optimization problem\n",
    "problem = cp.Problem(objective, constraints)\n",
    "problem.solve()\n",
    "\n",
    "# Optimal control input\n",
    "optimal_control_input = u.value if problem.status not in [\"infeasible\", \"unbounded\"] else None\n"
   ]
  }
 ],
 "metadata": {
  "kernelspec": {
   "display_name": "venv",
   "language": "python",
   "name": "python3"
  },
  "language_info": {
   "codemirror_mode": {
    "name": "ipython",
    "version": 3
   },
   "file_extension": ".py",
   "mimetype": "text/x-python",
   "name": "python",
   "nbconvert_exporter": "python",
   "pygments_lexer": "ipython3",
   "version": "3.11.3"
  },
  "orig_nbformat": 4,
  "vscode": {
   "interpreter": {
    "hash": "5a40ef642b076910db029035e8a6499a4c0b1b5d539d6340d12e574079074661"
   }
  }
 },
 "nbformat": 4,
 "nbformat_minor": 2
}
