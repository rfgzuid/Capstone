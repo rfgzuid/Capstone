{
 "cells": [
  {
   "cell_type": "code",
   "execution_count": 1,
   "metadata": {},
   "outputs": [],
   "source": [
    "from torch import nn\n",
    "from bound_propagation import BoundModelFactory, HyperRectangle\n",
    "import torch\n",
    "\n",
    "class NNDM(nn.Sequential):\n",
    "    def __init__(self):\n",
    "        super(NNDM, self).__init__(\n",
    "            nn.Linear(5, 64),\n",
    "            nn.Tanh(),\n",
    "            nn.Linear(64, 64),\n",
    "            nn.Tanh(),\n",
    "            nn.Linear(64, 32),\n",
    "            nn.Tanh(),\n",
    "            nn.Linear(32, 32),\n",
    "            nn.Tanh(),\n",
    "            nn.Linear(32, 16),\n",
    "            nn.Tanh(),\n",
    "            nn.Linear(16, 4)\n",
    "        )\n",
    "\n",
    "    def forward(self, x):\n",
    "        out = super().forward(x)\n",
    "        return out + x[:,:4]\n",
    "\n",
    "net = NNDM()\n",
    "\n",
    "factory = BoundModelFactory()\n",
    "net = factory.build(net)"
   ]
  },
  {
   "cell_type": "code",
   "execution_count": 2,
   "metadata": {},
   "outputs": [],
   "source": [
    "x = torch.rand(1, 5)\n",
    "epsilon = 0.1\n",
    "input_bounds = HyperRectangle.from_eps(x, epsilon)\n",
    "\n",
    "crown_bounds = net.crown(input_bounds)\n",
    "crown_ibp_bounds = net.crown_ibp(input_bounds)\n",
    "\n",
    "alpha_crown_bounds = net.crown(input_bounds, alpha=True)\n",
    "alpha_crown_ibp_bounds = net.crown_ibp(input_bounds, alpha=True)"
   ]
  },
  {
   "cell_type": "code",
   "execution_count": 3,
   "metadata": {},
   "outputs": [
    {
     "name": "stdout",
     "output_type": "stream",
     "text": [
      "Final lower bounds:  tensor([[ 0.3256, -0.2088, -0.1270, -0.2015]], grad_fn=<AddBackward0>)\n"
     ]
    }
   ],
   "source": [
    "print(\"Final lower bounds: \", crown_bounds.lower[1])"
   ]
  },
  {
   "cell_type": "code",
   "execution_count": 4,
   "metadata": {},
   "outputs": [],
   "source": [
    "def get_bounds(model, state, action_space_partition, epsilon):\n",
    "    \"\"\"\n",
    "    model: Pytorch neural network initialised with BoundModelFactory\n",
    "        - model input size: [state_dimensionality + action_dimensionality]\n",
    "        - model output size: [state_dimensionality]\n",
    "    state: Tensor with shape [state_dimensionality]\n",
    "    action_space_partition: Tensor with shape: [action_options] -> in future: [action_dimensionality, action_partition]\n",
    "    epsilon: Perturbation radius for input bounds\n",
    "    ---\n",
    "    output: [action_options, 2, state_dimensionality] (2: upperbound & lowerbound)\n",
    "    \"\"\"\n",
    "    result = []\n",
    "\n",
    "    for action in action_space_partition:\n",
    "        state_action = torch.cat((state, action.unsqueeze(0))).view(1, 5)\n",
    "        input_bounds = HyperRectangle.from_eps(state_action, epsilon)\n",
    "        crown_bounds = model.crown(input_bounds)\n",
    "\n",
    "        # Assuming the output dimension of the model is state_dimensionality\n",
    "        lower_bound = crown_bounds.lower[0].unsqueeze(0)\n",
    "        upper_bound = crown_bounds.upper[0].unsqueeze(0)\n",
    "\n",
    "        result.append(torch.cat((lower_bound, upper_bound), dim=0))\n",
    "\n",
    "    return torch.stack(result, dim=0)"
   ]
  },
  {
   "cell_type": "code",
   "execution_count": 7,
   "metadata": {},
   "outputs": [],
   "source": [
    "import numpy as np\n",
    "\n",
    "carpole_data = np.load('Cartpole_data.npy')\n",
    "state = torch.Tensor(carpole_data[0, :4])\n",
    "action_space = torch.Tensor([0, 1])\n",
    "bounds_for_all_actions = get_bounds(net, state, action_space, 0.1)"
   ]
  },
  {
   "cell_type": "code",
   "execution_count": 9,
   "metadata": {},
   "outputs": [
    {
     "data": {
      "text/plain": [
       "tensor([[[[-0.0031, -0.0158, -0.0013,  0.0196, -0.0068],\n",
       "          [ 0.0120,  0.0188, -0.0001,  0.0222, -0.0045],\n",
       "          [ 0.0012, -0.0014,  0.0071,  0.0035, -0.0011],\n",
       "          [ 0.0033,  0.0264, -0.0149,  0.0342, -0.0054]]],\n",
       "\n",
       "\n",
       "        [[[-0.0031, -0.0160, -0.0014,  0.0196, -0.0068],\n",
       "          [ 0.0119,  0.0188, -0.0002,  0.0222, -0.0047],\n",
       "          [ 0.0011, -0.0014,  0.0070,  0.0036, -0.0010],\n",
       "          [ 0.0034,  0.0264, -0.0151,  0.0340, -0.0055]]]],\n",
       "       grad_fn=<SliceBackward0>)"
      ]
     },
     "execution_count": 9,
     "metadata": {},
     "output_type": "execute_result"
    }
   ],
   "source": [
    "desired_action_index = 0\n",
    "\n",
    "guaranteed_next_state_set = bounds_for_all_actions[desired_action_index, :, :]\n",
    "guaranteed_next_state_set"
   ]
  },
  {
   "cell_type": "code",
   "execution_count": 10,
   "metadata": {},
   "outputs": [],
   "source": [
    "import torch.nn.functional as F\n",
    "\n",
    "class DQN(nn.Module):\n",
    "\n",
    "    def __init__(self, n_observations, n_actions):\n",
    "        super(DQN, self).__init__()\n",
    "        self.layer1 = nn.Linear(n_observations, 128)\n",
    "        self.layer2 = nn.Linear(128, 128)\n",
    "        self.layer3 = nn.Linear(128, n_actions)\n",
    "\n",
    "    # Called with either one element to determine next action, or a batch\n",
    "    # during optimization. Returns tensor([[left0exp,right0exp]...]).\n",
    "    def forward(self, x):\n",
    "        x = F.relu(self.layer1(x))\n",
    "        x = F.relu(self.layer2(x))\n",
    "        return self.layer3(x)\n",
    "    \n",
    "dqn_model = DQN(4, 1)\n",
    "\n",
    "# TODO: when we have trained the model\n",
    "# dqn_model.load_state_dict(torch.load(PATH_TO_MODEL_WEIGHTS))"
   ]
  },
  {
   "cell_type": "code",
   "execution_count": 19,
   "metadata": {},
   "outputs": [
    {
     "ename": "IndexError",
     "evalue": "index 2 is out of bounds for dimension 0 with size 1",
     "output_type": "error",
     "traceback": [
      "\u001b[0;31m---------------------------------------------------------------------------\u001b[0m",
      "\u001b[0;31mIndexError\u001b[0m                                Traceback (most recent call last)",
      "Cell \u001b[0;32mIn[19], line 31\u001b[0m\n\u001b[1;32m     28\u001b[0m state_action \u001b[39m=\u001b[39m torch\u001b[39m.\u001b[39mcat((state, torch\u001b[39m.\u001b[39mTensor(\u001b[39m1\u001b[39m)))\u001b[39m.\u001b[39mview(\u001b[39m1\u001b[39m, \u001b[39m5\u001b[39m)\n\u001b[1;32m     30\u001b[0m \u001b[39m# Compute the safety function values\u001b[39;00m\n\u001b[0;32m---> 31\u001b[0m h_state_action \u001b[39m=\u001b[39m h(net(state_action))\u001b[39m.\u001b[39mdetach()\u001b[39m.\u001b[39mnumpy()\n\u001b[1;32m     32\u001b[0m h_state \u001b[39m=\u001b[39m h(state)\u001b[39m.\u001b[39mdetach()\u001b[39m.\u001b[39mnumpy()\n\u001b[1;32m     34\u001b[0m \u001b[39m# Define the safety condition constraint\u001b[39;00m\n\u001b[1;32m     35\u001b[0m \u001b[39m# This is a simplified example assuming h(x) can be linearized or is linear\u001b[39;00m\n",
      "Cell \u001b[0;32mIn[19], line 10\u001b[0m, in \u001b[0;36mh\u001b[0;34m(x)\u001b[0m\n\u001b[1;32m      8\u001b[0m \u001b[39mdef\u001b[39;00m \u001b[39mh\u001b[39m(x):\n\u001b[1;32m      9\u001b[0m     \u001b[39m# Example safety function\u001b[39;00m\n\u001b[0;32m---> 10\u001b[0m     \u001b[39mreturn\u001b[39;00m \u001b[39m1\u001b[39m \u001b[39m-\u001b[39m (torch\u001b[39m.\u001b[39mabs(x[\u001b[39m0\u001b[39m])\u001b[39m/\u001b[39mx_0_max \u001b[39m+\u001b[39m torch\u001b[39m.\u001b[39mabs(x[\u001b[39m2\u001b[39;49m])\u001b[39m/\u001b[39mx_2_max)\n",
      "\u001b[0;31mIndexError\u001b[0m: index 2 is out of bounds for dimension 0 with size 1"
     ]
    }
   ],
   "source": [
    "\"\"\"WORK IN PROGRESS\"\"\"\n",
    "\n",
    "import cvxpy as cp\n",
    "\n",
    "# Parameters for safety function\n",
    "x_0_max = 2.4\n",
    "x_2_max = 0.2095  # In radians\n",
    "\n",
    "# Define the safety function based on your system's requirements\n",
    "def h(x):\n",
    "    # Example safety function\n",
    "    return 1 - (torch.abs(x[0])/x_0_max + torch.abs(x[2])/x_2_max)\n",
    "\n",
    "# Define the optimization variable (control input)\n",
    "u = cp.Variable(1) # 1 because action is described by a single integer 0/1\n",
    "\n",
    "def knom(state_tensor):\n",
    "    with torch.no_grad():\n",
    "        q_values = dqn_model(state_tensor)\n",
    "        # Assuming you want the action with the highest Q-value\n",
    "        action = torch.argmax(q_values).item()\n",
    "        return action\n",
    "\n",
    "# Define the nominal control\n",
    "k_nom = knom(state)\n",
    "\n",
    "\n",
    "# Define the safety condition constraint\n",
    "alpha = 0.1  # Define alpha based on your requirements\n",
    "state_action = torch.cat((state, torch.Tensor(1))).view(1, 5)\n",
    "\n",
    "# Compute the safety function values\n",
    "h_state_action = h(net(state_action)).detach().numpy()\n",
    "h_state = h(state).detach().numpy()\n",
    "\n",
    "# Define the safety condition constraint\n",
    "# This is a simplified example assuming h(x) can be linearized or is linear\n",
    "safety_condition = cp.Constant(h_state_action) - alpha * cp.Constant(h_state) >= 0\n",
    "\n",
    "# Define constraints\n",
    "constraints = [safety_condition]  # Include other constraints if any\n",
    "\n",
    "# Define the objective function (minimizing deviation from nominal control)\n",
    "objective = cp.Minimize(cp.norm(u - k_nom, 2))\n",
    "\n",
    "# Define constraints\n",
    "constraints = [safety_condition]\n",
    "\n",
    "# Set up and solve the optimization problem\n",
    "problem = cp.Problem(objective, constraints)\n",
    "problem.solve()\n",
    "\n",
    "# Optimal control input\n",
    "optimal_control_input = u.value if problem.status not in [\"infeasible\", \"unbounded\"] else None\n"
   ]
  }
 ],
 "metadata": {
  "kernelspec": {
   "display_name": "venv",
   "language": "python",
   "name": "python3"
  },
  "language_info": {
   "codemirror_mode": {
    "name": "ipython",
    "version": 3
   },
   "file_extension": ".py",
   "mimetype": "text/x-python",
   "name": "python",
   "nbconvert_exporter": "python",
   "pygments_lexer": "ipython3",
   "version": "3.11.3"
  },
  "orig_nbformat": 4,
  "vscode": {
   "interpreter": {
    "hash": "5a40ef642b076910db029035e8a6499a4c0b1b5d539d6340d12e574079074661"
   }
  }
 },
 "nbformat": 4,
 "nbformat_minor": 2
}
