{
 "cells": [
  {
   "cell_type": "code",
   "execution_count": 1,
   "metadata": {},
   "outputs": [
    {
     "name": "stderr",
     "output_type": "stream",
     "text": [
      "/Users/wesselwolterbeekmuller/Documents/Documents - Wessel’s MacBook Pro/Studie/Engineering with AI/Capstone/SCBF Paper/Capstone/env/lib/python3.11/site-packages/tqdm/auto.py:21: TqdmWarning: IProgress not found. Please update jupyter and ipywidgets. See https://ipywidgets.readthedocs.io/en/stable/user_install.html\n",
      "  from .autonotebook import tqdm as notebook_tqdm\n"
     ]
    }
   ],
   "source": [
    "from src.capstone.evaluation import Evaluator\n",
    "from src.capstone.cbf import CBF\n",
    "from src.capstone.settings import Env\n",
    "from src.capstone.noise import DoubleIntegratorEnv\n",
    "\n",
    "from bound_propagation.parallel import Parallel\n",
    "from bound_propagation.bivariate import Mul\n",
    "from bound_propagation.reshape import Select\n",
    "from bound_propagation.polynomial import UnivariateMonomial, Pow\n",
    "from bound_propagation.linear import FixedLinear\n",
    "from bound_propagation.activation import Sin\n",
    "\n",
    "import numpy as np\n",
    "import gymnasium as gym\n",
    "\n",
    "import torch\n",
    "import torch.nn as nn\n",
    "\n",
    "import math\n",
    "\n"
   ]
  },
  {
   "cell_type": "code",
   "execution_count": 2,
   "metadata": {},
   "outputs": [],
   "source": [
    "class NNDM(nn.Module):\n",
    "    # input [x pos, y pos, x speed, y speed, ux, uy]\n",
    "    \n",
    "    def __init__(self):\n",
    "        super(NNDM, self).__init__()\n",
    "        self.dt = 0.05\n",
    "        self.layer1 = nn.Linear(6, 4, bias=False)\n",
    "        self.weights = torch.tensor([[1., 0., self.dt, 0., ((self.dt**2)/2), 0], \n",
    "                                     [0., 1., 0., self.dt, 0., ((self.dt**2)/2)], \n",
    "                                     [0., 0., 1., 0., self.dt, 0.], \n",
    "                                     [0., 0., 0., 1., 0., self.dt]])\n",
    "        self.layer1.weight = nn.Parameter(self.weights)\n",
    "\n",
    "    def forward(self, x):\n",
    "        return self.layer1(x)\n",
    "\n",
    "nndm = NNDM()\n",
    "\n"
   ]
  },
  {
   "cell_type": "code",
   "execution_count": 3,
   "metadata": {},
   "outputs": [],
   "source": [
    "class Agent(nn.Module):\n",
    "    # dummy agent of linear form a = c1 * s1 + c2 * s2 + c3, always outputs 0.\n",
    "    \n",
    "    def __init__(self):\n",
    "        super(Agent, self).__init__()\n",
    "        \n",
    "        self.layer = nn.Linear(2, 2)\n",
    "        \n",
    "        # dummy output of u=0\n",
    "        self.layer.weight = nn.Parameter(torch.tensor([[0., 0., 0., 0.], [0., 0., 0., 0.]]))\n",
    "        self.layer.bias = nn.Parameter(torch.tensor([50., 0.]))\n",
    "    \n",
    "    def forward(self, x):\n",
    "        return self.layer(x)\n",
    "    \n",
    "    def select_action(self, x, exploration=False):\n",
    "        if exploration:\n",
    "            raise ValueError('This model is not implemented for exploration')\n",
    "        else:\n",
    "            return self.forward(x)"
   ]
  },
  {
   "cell_type": "code",
   "execution_count": 4,
   "metadata": {},
   "outputs": [],
   "source": [
    "policy = Agent()\n"
   ]
  },
  {
   "cell_type": "code",
   "execution_count": 5,
   "metadata": {},
   "outputs": [],
   "source": [
    "class DoubleIntegrator(Env):\n",
    "    def __init__(self):\n",
    "        self.is_discrete = False\n",
    "        \n",
    "        self.settings = {\n",
    "            'noise': [],\n",
    "            'max_frames': 100\n",
    "        }\n",
    "        \n",
    "        self.h_function = nn.Sequential(\n",
    "            FixedLinear(\n",
    "                torch.tensor([\n",
    "                    [1., 0, 0, 0],\n",
    "                    [0, 1, 0, 0]\n",
    "                ]),\n",
    "                torch.tensor([0., 0.])\n",
    "            ),\n",
    "            Pow(2),\n",
    "            FixedLinear(\n",
    "                torch.tensor([\n",
    "                    [-1 / 0.5 ** 2, 0],\n",
    "                    [0, -1 / 0.5 ** 2]\n",
    "                ]),\n",
    "                torch.tensor([1., 1.])\n",
    "            )\n",
    "        )\n",
    "\n",
    "        self.h_ids = [0, 4]\n",
    "        self.std = [0.0, 0.0]\n",
    "        self.env = DoubleIntegratorEnv()"
   ]
  },
  {
   "cell_type": "code",
   "execution_count": 6,
   "metadata": {},
   "outputs": [
    {
     "name": "stdout",
     "output_type": "stream",
     "text": [
      "(4,)\n"
     ]
    }
   ],
   "source": [
    "env = DoubleIntegrator()\n",
    "print(env.env.observation_space.shape)"
   ]
  },
  {
   "cell_type": "code",
   "execution_count": 7,
   "metadata": {},
   "outputs": [
    {
     "ename": "NotImplementedError",
     "evalue": "Module type not supported - add BoundModule for layer to factory",
     "output_type": "error",
     "traceback": [
      "\u001b[0;31m---------------------------------------------------------------------------\u001b[0m",
      "\u001b[0;31mNotImplementedError\u001b[0m                       Traceback (most recent call last)",
      "Cell \u001b[0;32mIn[7], line 1\u001b[0m\n\u001b[0;32m----> 1\u001b[0m cbf \u001b[39m=\u001b[39m CBF(env, nndm, policy,\n\u001b[1;32m      2\u001b[0m           alpha\u001b[39m=\u001b[39;49m[\u001b[39m0.9\u001b[39;49m, \u001b[39m0.9\u001b[39;49m],\n\u001b[1;32m      3\u001b[0m           delta\u001b[39m=\u001b[39;49m[\u001b[39m0.\u001b[39;49m, \u001b[39m0.\u001b[39;49m],\n\u001b[1;32m      4\u001b[0m           no_action_partitions\u001b[39m=\u001b[39;49m\u001b[39m2\u001b[39;49m,\n\u001b[1;32m      5\u001b[0m           no_noise_partitions\u001b[39m=\u001b[39;49m\u001b[39m2\u001b[39;49m,\n\u001b[1;32m      6\u001b[0m           stochastic\u001b[39m=\u001b[39;49m\u001b[39mTrue\u001b[39;49;00m)\n",
      "File \u001b[0;32m~/Documents/Documents - Wessel’s MacBook Pro/Studie/Engineering with AI/Capstone/SCBF Paper/Capstone/src/capstone/cbf.py:59\u001b[0m, in \u001b[0;36mCBF.__init__\u001b[0;34m(self, env, nndm, policy, alpha, delta, no_action_partitions, no_noise_partitions, stochastic)\u001b[0m\n\u001b[1;32m     56\u001b[0m \u001b[39mself\u001b[39m\u001b[39m.\u001b[39mstds \u001b[39m=\u001b[39m env\u001b[39m.\u001b[39mstd\n\u001b[1;32m     58\u001b[0m factory \u001b[39m=\u001b[39m BoundModelFactory()\n\u001b[0;32m---> 59\u001b[0m \u001b[39mself\u001b[39m\u001b[39m.\u001b[39mbounded_NNDM_H \u001b[39m=\u001b[39m factory\u001b[39m.\u001b[39;49mbuild(\u001b[39mself\u001b[39;49m\u001b[39m.\u001b[39;49mNNDM_H)\n\u001b[1;32m     60\u001b[0m \u001b[39mself\u001b[39m\u001b[39m.\u001b[39maction_partitions \u001b[39m=\u001b[39m \u001b[39mself\u001b[39m\u001b[39m.\u001b[39mcreate_action_partitions(no_action_partitions)\n\u001b[1;32m     62\u001b[0m \u001b[39mif\u001b[39;00m \u001b[39mself\u001b[39m\u001b[39m.\u001b[39mis_stochastic:\n",
      "File \u001b[0;32m~/Documents/Documents - Wessel’s MacBook Pro/Studie/Engineering with AI/Capstone/SCBF Paper/Capstone/env/lib/python3.11/site-packages/bound_propagation/factory.py:61\u001b[0m, in \u001b[0;36mBoundModelFactory.build\u001b[0;34m(self, module)\u001b[0m\n\u001b[1;32m     59\u001b[0m \u001b[39mfor\u001b[39;00m orig_class, bound_class \u001b[39min\u001b[39;00m \u001b[39mself\u001b[39m\u001b[39m.\u001b[39mclass_mapping:\n\u001b[1;32m     60\u001b[0m     \u001b[39mif\u001b[39;00m \u001b[39misinstance\u001b[39m(module, orig_class):\n\u001b[0;32m---> 61\u001b[0m         \u001b[39mreturn\u001b[39;00m bound_class(module, \u001b[39mself\u001b[39;49m, \u001b[39m*\u001b[39;49m\u001b[39m*\u001b[39;49m\u001b[39mself\u001b[39;49m\u001b[39m.\u001b[39;49mkwargs)\n\u001b[1;32m     63\u001b[0m \u001b[39mraise\u001b[39;00m \u001b[39mNotImplementedError\u001b[39;00m(\u001b[39m'\u001b[39m\u001b[39mModule type not supported - add BoundModule for layer to factory\u001b[39m\u001b[39m'\u001b[39m)\n",
      "File \u001b[0;32m~/Documents/Documents - Wessel’s MacBook Pro/Studie/Engineering with AI/Capstone/SCBF Paper/Capstone/env/lib/python3.11/site-packages/bound_propagation/sequential.py:9\u001b[0m, in \u001b[0;36mBoundSequential.__init__\u001b[0;34m(self, sequential, factory, **kwargs)\u001b[0m\n\u001b[1;32m      7\u001b[0m \u001b[39mdef\u001b[39;00m \u001b[39m__init__\u001b[39m(\u001b[39mself\u001b[39m, sequential, factory, \u001b[39m*\u001b[39m\u001b[39m*\u001b[39mkwargs):\n\u001b[1;32m      8\u001b[0m     \u001b[39msuper\u001b[39m()\u001b[39m.\u001b[39m\u001b[39m__init__\u001b[39m(sequential, factory, \u001b[39m*\u001b[39m\u001b[39m*\u001b[39mkwargs)\n\u001b[0;32m----> 9\u001b[0m     \u001b[39mself\u001b[39m\u001b[39m.\u001b[39mbound_sequential \u001b[39m=\u001b[39m nn\u001b[39m.\u001b[39mSequential(\u001b[39m*\u001b[39m\u001b[39mlist\u001b[39;49m(\u001b[39mmap\u001b[39;49m(factory\u001b[39m.\u001b[39;49mbuild, sequential)))\n",
      "File \u001b[0;32m~/Documents/Documents - Wessel’s MacBook Pro/Studie/Engineering with AI/Capstone/SCBF Paper/Capstone/env/lib/python3.11/site-packages/bound_propagation/factory.py:61\u001b[0m, in \u001b[0;36mBoundModelFactory.build\u001b[0;34m(self, module)\u001b[0m\n\u001b[1;32m     59\u001b[0m \u001b[39mfor\u001b[39;00m orig_class, bound_class \u001b[39min\u001b[39;00m \u001b[39mself\u001b[39m\u001b[39m.\u001b[39mclass_mapping:\n\u001b[1;32m     60\u001b[0m     \u001b[39mif\u001b[39;00m \u001b[39misinstance\u001b[39m(module, orig_class):\n\u001b[0;32m---> 61\u001b[0m         \u001b[39mreturn\u001b[39;00m bound_class(module, \u001b[39mself\u001b[39;49m, \u001b[39m*\u001b[39;49m\u001b[39m*\u001b[39;49m\u001b[39mself\u001b[39;49m\u001b[39m.\u001b[39;49mkwargs)\n\u001b[1;32m     63\u001b[0m \u001b[39mraise\u001b[39;00m \u001b[39mNotImplementedError\u001b[39;00m(\u001b[39m'\u001b[39m\u001b[39mModule type not supported - add BoundModule for layer to factory\u001b[39m\u001b[39m'\u001b[39m)\n",
      "File \u001b[0;32m~/Documents/Documents - Wessel’s MacBook Pro/Studie/Engineering with AI/Capstone/SCBF Paper/Capstone/env/lib/python3.11/site-packages/bound_propagation/bivariate.py:30\u001b[0m, in \u001b[0;36mBoundAdd.__init__\u001b[0;34m(self, module, factory, **kwargs)\u001b[0m\n\u001b[1;32m     27\u001b[0m \u001b[39mdef\u001b[39;00m \u001b[39m__init__\u001b[39m(\u001b[39mself\u001b[39m, module, factory, \u001b[39m*\u001b[39m\u001b[39m*\u001b[39mkwargs):\n\u001b[1;32m     28\u001b[0m     \u001b[39msuper\u001b[39m()\u001b[39m.\u001b[39m\u001b[39m__init__\u001b[39m(module, factory, \u001b[39m*\u001b[39m\u001b[39m*\u001b[39mkwargs)\n\u001b[0;32m---> 30\u001b[0m     \u001b[39mself\u001b[39m\u001b[39m.\u001b[39mbound_network1 \u001b[39m=\u001b[39m factory\u001b[39m.\u001b[39;49mbuild(module\u001b[39m.\u001b[39;49mnetwork1)\n\u001b[1;32m     31\u001b[0m     \u001b[39mself\u001b[39m\u001b[39m.\u001b[39mbound_network2 \u001b[39m=\u001b[39m factory\u001b[39m.\u001b[39mbuild(module\u001b[39m.\u001b[39mnetwork2)\n",
      "File \u001b[0;32m~/Documents/Documents - Wessel’s MacBook Pro/Studie/Engineering with AI/Capstone/SCBF Paper/Capstone/env/lib/python3.11/site-packages/bound_propagation/factory.py:61\u001b[0m, in \u001b[0;36mBoundModelFactory.build\u001b[0;34m(self, module)\u001b[0m\n\u001b[1;32m     59\u001b[0m \u001b[39mfor\u001b[39;00m orig_class, bound_class \u001b[39min\u001b[39;00m \u001b[39mself\u001b[39m\u001b[39m.\u001b[39mclass_mapping:\n\u001b[1;32m     60\u001b[0m     \u001b[39mif\u001b[39;00m \u001b[39misinstance\u001b[39m(module, orig_class):\n\u001b[0;32m---> 61\u001b[0m         \u001b[39mreturn\u001b[39;00m bound_class(module, \u001b[39mself\u001b[39;49m, \u001b[39m*\u001b[39;49m\u001b[39m*\u001b[39;49m\u001b[39mself\u001b[39;49m\u001b[39m.\u001b[39;49mkwargs)\n\u001b[1;32m     63\u001b[0m \u001b[39mraise\u001b[39;00m \u001b[39mNotImplementedError\u001b[39;00m(\u001b[39m'\u001b[39m\u001b[39mModule type not supported - add BoundModule for layer to factory\u001b[39m\u001b[39m'\u001b[39m)\n",
      "File \u001b[0;32m~/Documents/Documents - Wessel’s MacBook Pro/Studie/Engineering with AI/Capstone/SCBF Paper/Capstone/env/lib/python3.11/site-packages/bound_propagation/sequential.py:9\u001b[0m, in \u001b[0;36mBoundSequential.__init__\u001b[0;34m(self, sequential, factory, **kwargs)\u001b[0m\n\u001b[1;32m      7\u001b[0m \u001b[39mdef\u001b[39;00m \u001b[39m__init__\u001b[39m(\u001b[39mself\u001b[39m, sequential, factory, \u001b[39m*\u001b[39m\u001b[39m*\u001b[39mkwargs):\n\u001b[1;32m      8\u001b[0m     \u001b[39msuper\u001b[39m()\u001b[39m.\u001b[39m\u001b[39m__init__\u001b[39m(sequential, factory, \u001b[39m*\u001b[39m\u001b[39m*\u001b[39mkwargs)\n\u001b[0;32m----> 9\u001b[0m     \u001b[39mself\u001b[39m\u001b[39m.\u001b[39mbound_sequential \u001b[39m=\u001b[39m nn\u001b[39m.\u001b[39mSequential(\u001b[39m*\u001b[39m\u001b[39mlist\u001b[39;49m(\u001b[39mmap\u001b[39;49m(factory\u001b[39m.\u001b[39;49mbuild, sequential)))\n",
      "File \u001b[0;32m~/Documents/Documents - Wessel’s MacBook Pro/Studie/Engineering with AI/Capstone/SCBF Paper/Capstone/env/lib/python3.11/site-packages/bound_propagation/factory.py:63\u001b[0m, in \u001b[0;36mBoundModelFactory.build\u001b[0;34m(self, module)\u001b[0m\n\u001b[1;32m     60\u001b[0m     \u001b[39mif\u001b[39;00m \u001b[39misinstance\u001b[39m(module, orig_class):\n\u001b[1;32m     61\u001b[0m         \u001b[39mreturn\u001b[39;00m bound_class(module, \u001b[39mself\u001b[39m, \u001b[39m*\u001b[39m\u001b[39m*\u001b[39m\u001b[39mself\u001b[39m\u001b[39m.\u001b[39mkwargs)\n\u001b[0;32m---> 63\u001b[0m \u001b[39mraise\u001b[39;00m \u001b[39mNotImplementedError\u001b[39;00m(\u001b[39m'\u001b[39m\u001b[39mModule type not supported - add BoundModule for layer to factory\u001b[39m\u001b[39m'\u001b[39m)\n",
      "\u001b[0;31mNotImplementedError\u001b[0m: Module type not supported - add BoundModule for layer to factory"
     ]
    }
   ],
   "source": [
    "cbf = CBF(env, nndm, policy,\n",
    "          alpha=[0.9, 0.9],\n",
    "          delta=[0., 0.],\n",
    "          no_action_partitions=2,\n",
    "          no_noise_partitions=2,\n",
    "          stochastic=True)"
   ]
  },
  {
   "cell_type": "code",
   "execution_count": null,
   "metadata": {},
   "outputs": [
    {
     "ename": "NameError",
     "evalue": "name 'cbf' is not defined",
     "output_type": "error",
     "traceback": [
      "\u001b[0;31m---------------------------------------------------------------------------\u001b[0m",
      "\u001b[0;31mNameError\u001b[0m                                 Traceback (most recent call last)",
      "Cell \u001b[0;32mIn[15], line 1\u001b[0m\n\u001b[0;32m----> 1\u001b[0m evaluator \u001b[39m=\u001b[39m Evaluator(env, cbf)\n\u001b[1;32m      2\u001b[0m evaluator\u001b[39m.\u001b[39mplot(policy, n\u001b[39m=\u001b[39m\u001b[39m100\u001b[39m, seed\u001b[39m=\u001b[39m[\u001b[39m0.1\u001b[39m, \u001b[39m0.\u001b[39m])\n",
      "\u001b[0;31mNameError\u001b[0m: name 'cbf' is not defined"
     ]
    }
   ],
   "source": [
    "evaluator = Evaluator(env, cbf)\n",
    "evaluator.plot(policy, n=100, seed=[0.1, 0.])"
   ]
  }
 ],
 "metadata": {
  "kernelspec": {
   "display_name": "env",
   "language": "python",
   "name": "python3"
  },
  "language_info": {
   "codemirror_mode": {
    "name": "ipython",
    "version": 3
   },
   "file_extension": ".py",
   "mimetype": "text/x-python",
   "name": "python",
   "nbconvert_exporter": "python",
   "pygments_lexer": "ipython3",
   "version": "3.11.4"
  },
  "orig_nbformat": 4
 },
 "nbformat": 4,
 "nbformat_minor": 2
}
