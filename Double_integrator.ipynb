{
 "cells": [
  {
   "cell_type": "code",
   "execution_count": 1,
   "metadata": {},
   "outputs": [
    {
     "name": "stderr",
     "output_type": "stream",
     "text": [
      "/Users/wesselwolterbeekmuller/Documents/Documents - Wessel’s MacBook Pro/Studie/Engineering with AI/Capstone/SCBF Paper/Capstone/env/lib/python3.11/site-packages/tqdm/auto.py:21: TqdmWarning: IProgress not found. Please update jupyter and ipywidgets. See https://ipywidgets.readthedocs.io/en/stable/user_install.html\n",
      "  from .autonotebook import tqdm as notebook_tqdm\n"
     ]
    }
   ],
   "source": [
    "from src.capstone.evaluation import Evaluator\n",
    "from src.capstone.cbf import CBF\n",
    "from src.capstone.settings import Env\n",
    "from src.capstone.noise import DoubleIntegratorEnv\n",
    "\n",
    "from bound_propagation.parallel import Parallel\n",
    "from bound_propagation.bivariate import Mul\n",
    "from bound_propagation.reshape import Select\n",
    "from bound_propagation.polynomial import UnivariateMonomial, Pow\n",
    "from bound_propagation.linear import FixedLinear\n",
    "from bound_propagation.activation import Sin\n",
    "\n",
    "import numpy as np\n",
    "import gymnasium as gym\n",
    "\n",
    "import torch\n",
    "import torch.nn as nn\n",
    "\n",
    "import math\n",
    "\n"
   ]
  },
  {
   "cell_type": "code",
   "execution_count": 2,
   "metadata": {},
   "outputs": [],
   "source": [
    "class NNDM(nn.Sequential):\n",
    "    # input [x pos, y pos, x speed, y speed, ux, uy]\n",
    "    \n",
    "    def __init__(self):\n",
    "        super(NNDM, self).__init__()\n",
    "        self.dt = 0.05\n",
    "        self.layer1 = nn.Linear(6, 4, bias=False)\n",
    "        self.weights = torch.tensor([[1., 0., self.dt, 0., ((self.dt**2)/2), 0], \n",
    "                                     [0., 1., 0., self.dt, 0., ((self.dt**2)/2)], \n",
    "                                     [0., 0., 1., 0., self.dt, 0.], \n",
    "                                     [0., 0., 0., 1., 0., self.dt]])\n",
    "        self.layer1.weight = nn.Parameter(self.weights)\n",
    "        self.model = nn.Sequential(\n",
    "            self.layer1\n",
    "        )\n",
    "\n",
    "    def forward(self, x):\n",
    "        return self.model\n",
    "\n",
    "nndm = NNDM()\n",
    "\n"
   ]
  },
  {
   "cell_type": "code",
   "execution_count": 3,
   "metadata": {},
   "outputs": [],
   "source": [
    "class Agent(nn.Module):\n",
    "    # dummy agent of linear form a = c1 * s1 + c2 * s2 + c3, always outputs 0.\n",
    "    \n",
    "    def __init__(self):\n",
    "        super(Agent, self).__init__()\n",
    "        \n",
    "        self.layer = nn.Linear(2, 2)\n",
    "        \n",
    "        # dummy output of u=0\n",
    "        self.layer.weight = nn.Parameter(torch.tensor([[0., 0., 0., 0.], [0., 0., 0., 0.]]))\n",
    "        self.layer.bias = nn.Parameter(torch.tensor([50., 0.]))\n",
    "    \n",
    "    def forward(self, x):\n",
    "        return self.layer(x)\n",
    "    \n",
    "    def select_action(self, x, exploration=False):\n",
    "        if exploration:\n",
    "            raise ValueError('This model is not implemented for exploration')\n",
    "        else:\n",
    "            return self.forward(x)"
   ]
  },
  {
   "cell_type": "code",
   "execution_count": 4,
   "metadata": {},
   "outputs": [],
   "source": [
    "policy = Agent()\n"
   ]
  },
  {
   "cell_type": "code",
   "execution_count": 5,
   "metadata": {},
   "outputs": [],
   "source": [
    "class DoubleIntegrator(Env):\n",
    "    def __init__(self):\n",
    "        self.is_discrete = False\n",
    "        \n",
    "        self.settings = {\n",
    "            'noise': [],\n",
    "            'max_frames': 100\n",
    "        }\n",
    "        \n",
    "        self.h_function = nn.Sequential(\n",
    "            FixedLinear(\n",
    "                torch.tensor([\n",
    "                    [1., 0, 0, 0],\n",
    "                    [0, 1, 0, 0]\n",
    "                ]),\n",
    "                torch.tensor([0., 0.])\n",
    "            ),\n",
    "            Pow(2),\n",
    "            FixedLinear(\n",
    "                torch.tensor([\n",
    "                    [-1 / 0.5 ** 2, 0],\n",
    "                    [0, -1 / 0.5 ** 2]\n",
    "                ]),\n",
    "                torch.tensor([1., 1.])\n",
    "            )\n",
    "        )\n",
    "\n",
    "        self.h_ids = [0, 1]\n",
    "        self.std = [0.0, 0.0]\n",
    "        self.env = DoubleIntegratorEnv()"
   ]
  },
  {
   "cell_type": "code",
   "execution_count": 6,
   "metadata": {},
   "outputs": [
    {
     "name": "stdout",
     "output_type": "stream",
     "text": [
      "(4,)\n"
     ]
    }
   ],
   "source": [
    "env = DoubleIntegrator()\n",
    "print(env.env.observation_space.shape)"
   ]
  },
  {
   "cell_type": "code",
   "execution_count": 7,
   "metadata": {},
   "outputs": [
    {
     "name": "stderr",
     "output_type": "stream",
     "text": [
      "/Users/wesselwolterbeekmuller/Documents/Documents - Wessel’s MacBook Pro/Studie/Engineering with AI/Capstone/SCBF Paper/Capstone/src/capstone/cbf.py:130: RuntimeWarning: invalid value encountered in scalar multiply\n",
      "  dim_lower_bound = action_low[dimensions] + part * partition_size\n",
      "/Users/wesselwolterbeekmuller/Documents/Documents - Wessel’s MacBook Pro/Studie/Engineering with AI/Capstone/SCBF Paper/Capstone/src/capstone/cbf.py:130: RuntimeWarning: invalid value encountered in scalar add\n",
      "  dim_lower_bound = action_low[dimensions] + part * partition_size\n"
     ]
    }
   ],
   "source": [
    "cbf = CBF(env, nndm, policy,\n",
    "          alpha=[0.9, 0.9],\n",
    "          delta=[0., 0.],\n",
    "          no_action_partitions=2,\n",
    "          no_noise_partitions=2,\n",
    "          stochastic=True)"
   ]
  },
  {
   "cell_type": "code",
   "execution_count": 8,
   "metadata": {},
   "outputs": [
    {
     "name": "stderr",
     "output_type": "stream",
     "text": [
      "  0%|          | 0/100 [00:00<?, ?it/s]"
     ]
    },
    {
     "name": "stderr",
     "output_type": "stream",
     "text": [
      "100%|██████████| 100/100 [00:00<00:00, 1323.12it/s]\n"
     ]
    }
   ],
   "source": [
    "evaluator = Evaluator(env, cbf)\n",
    "f, h = evaluator.mc_simulate(policy, 100, seed=[0.1, 0.])"
   ]
  }
 ],
 "metadata": {
  "kernelspec": {
   "display_name": "env",
   "language": "python",
   "name": "python3"
  },
  "language_info": {
   "codemirror_mode": {
    "name": "ipython",
    "version": 3
   },
   "file_extension": ".py",
   "mimetype": "text/x-python",
   "name": "python",
   "nbconvert_exporter": "python",
   "pygments_lexer": "ipython3",
   "version": "3.11.4"
  },
  "orig_nbformat": 4
 },
 "nbformat": 4,
 "nbformat_minor": 2
}
