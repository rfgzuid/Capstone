{
 "cells": [
  {
   "cell_type": "code",
   "execution_count": 28,
   "id": "initial_id",
   "metadata": {
    "collapsed": true,
    "ExecuteTime": {
     "end_time": "2024-03-12T22:18:22.575962Z",
     "start_time": "2024-03-12T22:18:22.563207600Z"
    }
   },
   "outputs": [],
   "source": [
    "from src.capstone.evaluation import Evaluator\n",
    "from src.capstone.cbf import CBF, InfeasibilityError\n",
    "from src.capstone.settings import Env\n",
    "from src.capstone.noise import LunarLanderNoise\n",
    "from src.capstone.nndm import NNDM\n",
    "from src.capstone.ddpg import Actor\n",
    "\n",
    "import numpy as np\n",
    "import gymnasium as gym\n",
    "\n",
    "from bound_propagation.parallel import Parallel\n",
    "from bound_propagation.bivariate import Mul\n",
    "from bound_propagation.reshape import Select\n",
    "from bound_propagation.polynomial import UnivariateMonomial\n",
    "from bound_propagation.linear import FixedLinear\n",
    "\n",
    "import torch\n",
    "import torch.nn as nn\n",
    "import torch.optim as optim\n",
    "import torch.nn.functional as F\n",
    "\n",
    "import matplotlib.pyplot as plt"
   ]
  },
  {
   "cell_type": "markdown",
   "source": [
    "$$h(x) = 1 - \\frac{6^2}{\\pi^2} \\left(\\theta^2 + \\dot{\\theta}^2 + \\frac{2}{\\sqrt{3}} \\theta \\dot{\\theta} \\right)$$"
   ],
   "metadata": {
    "collapsed": false
   },
   "id": "793c4f243a19e6d1"
  },
  {
   "cell_type": "code",
   "outputs": [],
   "source": [
    "class ContinuousLunarLander(Env):\n",
    "\n",
    "    def __init__(self, noise: list[float]) -> None:\n",
    "        env = gym.make(\"LunarLander-v2\", continuous=True)\n",
    "        self.is_discrete = False\n",
    "\n",
    "        self.settings = {\n",
    "            'noise': {\n",
    "                'x': noise[0],\n",
    "                'y': noise[1],\n",
    "                'theta': noise[2],\n",
    "                'v_x': noise[3],\n",
    "                'v_y': noise[4],\n",
    "                'v_theta': noise[5]\n",
    "            },\n",
    "\n",
    "            'replay_size': 1_000_000,\n",
    "            'batch_size': 128,\n",
    "            'num_episodes': 3000,\n",
    "            'max_frames': 1000,  # so that the lander prioritizes landing quick\n",
    "\n",
    "            'gamma': 0.99,\n",
    "            'tau': 0.001,\n",
    "\n",
    "            'NNDM_layers': (64,),\n",
    "            'NNDM_activation': nn.Tanh,\n",
    "            'NNDM_criterion': nn.MSELoss,\n",
    "            'NNDM_optim': optim.Adam,\n",
    "            'NNDM_lr': 1e-3,\n",
    "\n",
    "            'Actor_layers': (256, 128, 64),\n",
    "            'Actor_activation': F.relu,\n",
    "            'Actor_optim': optim.AdamW,\n",
    "            'Actor_lr': 1e-4,\n",
    "            'Action_bound': 1.,  # action space is bounded to [-1, 1] - see gymnasium docs\n",
    "\n",
    "            'Critic_layers': {'s': (256, 128), 'a': (128,), 'concat': (128,)},\n",
    "            'Critic_activation': F.relu,\n",
    "            'Critic_criterion': nn.SmoothL1Loss,\n",
    "            'Critic_optim': optim.AdamW,\n",
    "            'Critic_lr': 1e-3,\n",
    "\n",
    "            'OU_mu': 0,\n",
    "            'OU_theta': 0.15,\n",
    "            'OU_sigma': 0.2\n",
    "        }\n",
    "\n",
    "        self.h_function = nn.Sequential(\n",
    "            Parallel(\n",
    "                UnivariateMonomial([(4, 2)]),\n",
    "                UnivariateMonomial([(5, 2)]),\n",
    "                Mul(Select([0]), Select([1]))\n",
    "            ),\n",
    "            FixedLinear(\n",
    "                torch.tensor([[1., 1., 2./(3.**0.5)]])\n",
    "            ),\n",
    "            FixedLinear(\n",
    "                torch.tensor([[-36 / np.pi**2]]),\n",
    "                torch.tensor([1.])\n",
    "            )\n",
    "        )\n",
    "\n",
    "        self.h_ids = [4, 5]\n",
    "        self.std = [noise[i] for i in self.h_ids]\n",
    "        self.env = LunarLanderNoise(env, self.settings['noise'])"
   ],
   "metadata": {
    "collapsed": false,
    "ExecuteTime": {
     "end_time": "2024-03-12T22:18:22.956674800Z",
     "start_time": "2024-03-12T22:18:22.948101300Z"
    }
   },
   "id": "9405d5b4906187f5",
   "execution_count": 29
  },
  {
   "cell_type": "code",
   "outputs": [],
   "source": [
    "# positions - 0.005, velocities - 0.025\n",
    "env = ContinuousLunarLander([0.005, 0.005, 0.025, 0.025, 0.005, 0.025])"
   ],
   "metadata": {
    "collapsed": false,
    "ExecuteTime": {
     "end_time": "2024-03-12T22:18:23.133806700Z",
     "start_time": "2024-03-12T22:18:23.126484300Z"
    }
   },
   "id": "faa27db38b75b7e4",
   "execution_count": 30
  },
  {
   "cell_type": "markdown",
   "source": [
    "# Alpha"
   ],
   "metadata": {
    "collapsed": false
   },
   "id": "7e2f66a6ee72e3de"
  },
  {
   "cell_type": "code",
   "outputs": [
    {
     "name": "stdout",
     "output_type": "stream",
     "text": [
      "Alpha is 0.989\n"
     ]
    }
   ],
   "source": [
    "lambda_max = (1/np.pi**2) * (6912 + 3456 * 3 ** 0.5) ** 0.5\n",
    "\n",
    "stds = [0.005, 0.005, 0.025, 0.025, 0.005, 0.025]\n",
    "tr_cov = sum(std ** 2 for std in stds)\n",
    "\n",
    "psi = (lambda_max / 2) * tr_cov\n",
    "alpha = 1 - psi\n",
    "print(f'Alpha is {round(alpha, 3)}')"
   ],
   "metadata": {
    "collapsed": false,
    "ExecuteTime": {
     "end_time": "2024-03-12T22:18:23.904068400Z",
     "start_time": "2024-03-12T22:18:23.898210500Z"
    }
   },
   "id": "2014479350ce6763",
   "execution_count": 31
  },
  {
   "cell_type": "markdown",
   "source": [
    "# NNDM"
   ],
   "metadata": {
    "collapsed": false
   },
   "id": "4edc15ecf2db5720"
  },
  {
   "cell_type": "code",
   "outputs": [
    {
     "data": {
      "text/plain": "<All keys matched successfully>"
     },
     "execution_count": 32,
     "metadata": {},
     "output_type": "execute_result"
    }
   ],
   "source": [
    "nndm = NNDM(env)\n",
    "nndm_params = torch.load(f'../models/NNDMs/{type(env).__name__}')\n",
    "nndm.load_state_dict(nndm_params)"
   ],
   "metadata": {
    "collapsed": false,
    "ExecuteTime": {
     "end_time": "2024-03-12T22:18:24.012199200Z",
     "start_time": "2024-03-12T22:18:24.000653300Z"
    }
   },
   "id": "d75ab89ed616a7ec",
   "execution_count": 32
  },
  {
   "cell_type": "markdown",
   "source": [
    "# Agent"
   ],
   "metadata": {
    "collapsed": false
   },
   "id": "52705b3a39363257"
  },
  {
   "cell_type": "code",
   "outputs": [
    {
     "data": {
      "text/plain": "<All keys matched successfully>"
     },
     "execution_count": 33,
     "metadata": {},
     "output_type": "execute_result"
    }
   ],
   "source": [
    "policy = Actor(env)\n",
    "policy_params = torch.load(f'../models/Agents/{type(env).__name__}')\n",
    "policy.load_state_dict(policy_params)"
   ],
   "metadata": {
    "collapsed": false,
    "ExecuteTime": {
     "end_time": "2024-03-12T22:18:24.575815600Z",
     "start_time": "2024-03-12T22:18:24.556633900Z"
    }
   },
   "id": "1ee1092c84516124",
   "execution_count": 33
  },
  {
   "cell_type": "markdown",
   "source": [
    "# Evaluate"
   ],
   "metadata": {
    "collapsed": false
   },
   "id": "adc67f07f153ba6e"
  },
  {
   "cell_type": "code",
   "outputs": [],
   "source": [
    "cbf = CBF(env, nndm, policy,\n",
    "          alpha=[alpha],\n",
    "          delta=[0.],\n",
    "          no_action_partitions=2,\n",
    "          no_noise_partitions=2,\n",
    "          stochastic=True)"
   ],
   "metadata": {
    "collapsed": false,
    "ExecuteTime": {
     "end_time": "2024-03-12T22:40:09.811849900Z",
     "start_time": "2024-03-12T22:40:09.789136900Z"
    }
   },
   "id": "785ba0fb51afd8f2",
   "execution_count": 58
  },
  {
   "cell_type": "code",
   "outputs": [],
   "source": [
    "evaluator = Evaluator(env, cbf)"
   ],
   "metadata": {
    "collapsed": false,
    "ExecuteTime": {
     "end_time": "2024-03-12T22:40:10.327512400Z",
     "start_time": "2024-03-12T22:40:10.316206300Z"
    }
   },
   "id": "6c7985a85e348cc9",
   "execution_count": 59
  },
  {
   "cell_type": "code",
   "outputs": [
    {
     "data": {
      "text/plain": "  0%|          | 0/5 [00:00<?, ?it/s]",
      "application/vnd.jupyter.widget-view+json": {
       "version_major": 2,
       "version_minor": 0,
       "model_id": "d02fd68fed2a4bcc9072640767584037"
      }
     },
     "metadata": {},
     "output_type": "display_data"
    }
   ],
   "source": [
    "end_frames, h = evaluator.mc_simulate(policy, 5, cbf_enabled=False, seed=42)"
   ],
   "metadata": {
    "collapsed": false,
    "ExecuteTime": {
     "end_time": "2024-03-12T22:40:12.329275500Z",
     "start_time": "2024-03-12T22:40:10.452559600Z"
    }
   },
   "id": "587a83402fadd7a3",
   "execution_count": 60
  },
  {
   "cell_type": "code",
   "outputs": [],
   "source": [
    "def plot_results(num_agents=500):\n",
    "    state0, _ = env.env.reset(seed=42)\n",
    "    h0 = env.h_function(torch.tensor(state0).unsqueeze(0))\n",
    "    \n",
    "    h_bound = [h0.item()]\n",
    "    h_bound.extend([h0.item() * evaluator.cbf.alpha.item() ** (t+1) + evaluator.cbf.delta.item()\n",
    "                    for t in range(evaluator.max_frames)])\n",
    "    \n",
    "    frames_agent, h_agent = evaluator.mc_simulate(policy, num_agents, cbf_enabled=False, seed=42)\n",
    "    frames_cbf, h_cbf = evaluator.mc_simulate(policy, num_agents, cbf_enabled=True, seed=42)\n",
    "    \n",
    "    fig, ax = plt.subplots(1, 2, figsize=(10, 3))\n",
    "    \n",
    "    for run in h_agent:\n",
    "        ax[0].plot(run, color='orange', alpha=0.1)\n",
    "        \n",
    "    for run in h_cbf:\n",
    "        ax[0].plot(run, color='blue', alpha=0.1)\n",
    "    \n",
    "    ax[0].plot(h_bound, color='black', linestyle='dashed')\n",
    "    \n",
    "    terminal = np.zeros(evaluator.max_frames + 1)\n",
    "    for f in frames_agent:\n",
    "        terminal[f] += 1 / num_agents\n",
    "    P_agent = np.cumsum(terminal)\n",
    "    \n",
    "    terminal_cbf = np.zeros(evaluator.max_frames + 1)\n",
    "    for f in frames_cbf:\n",
    "        terminal_cbf[f] += 1 / num_agents\n",
    "    P_cbf = np.cumsum(terminal_cbf)\n",
    "    \n",
    "    ax[1].plot(P_agent, color='orange', label='No filter')\n",
    "    ax[1].plot(P_cbf, color='blue', label='CBF')\n",
    "    \n",
    "    P_bound = [1 - (h0.item()) * \n",
    "               ((evaluator.cbf.alpha.item() + evaluator.cbf.delta.item())) ** t\n",
    "               for t in range(evaluator.max_frames)]\n",
    "    \n",
    "    ax[1].plot(P_bound, color='black', linestyle='dashed')\n",
    "    \n",
    "    plt.savefig(r\"plots/LunarLander.png\")\n",
    "    plt.show()"
   ],
   "metadata": {
    "collapsed": false,
    "ExecuteTime": {
     "end_time": "2024-03-12T23:02:48.057196400Z",
     "start_time": "2024-03-12T23:02:48.042036100Z"
    }
   },
   "id": "4963bc6f6d225a73",
   "execution_count": 95
  },
  {
   "cell_type": "code",
   "outputs": [
    {
     "data": {
      "text/plain": "  0%|          | 0/25 [00:00<?, ?it/s]",
      "application/vnd.jupyter.widget-view+json": {
       "version_major": 2,
       "version_minor": 0,
       "model_id": "6867488849eb431f932779d5ad557d3b"
      }
     },
     "metadata": {},
     "output_type": "display_data"
    },
    {
     "data": {
      "text/plain": "  0%|          | 0/25 [00:00<?, ?it/s]",
      "application/vnd.jupyter.widget-view+json": {
       "version_major": 2,
       "version_minor": 0,
       "model_id": "6a67997abea84198be81c0266eb71f85"
      }
     },
     "metadata": {},
     "output_type": "display_data"
    },
    {
     "data": {
      "text/plain": "<Figure size 1000x300 with 2 Axes>",
      "image/png": "[encoded data removed]"
     },
     "metadata": {},
     "output_type": "display_data"
    }
   ],
   "source": [
    "plot_results(25)"
   ],
   "metadata": {
    "collapsed": false,
    "ExecuteTime": {
     "end_time": "2024-03-12T23:06:59.764897100Z",
     "start_time": "2024-03-12T23:02:48.301372400Z"
    }
   },
   "id": "e8916a28bbba5aa8",
   "execution_count": 96
  },
  {
   "cell_type": "code",
   "outputs": [],
   "source": [],
   "metadata": {
    "collapsed": false
   },
   "id": "2806cd4b09be400d"
  }
 ],
 "metadata": {
  "kernelspec": {
   "display_name": "Python 3",
   "language": "python",
   "name": "python3"
  },
  "language_info": {
   "codemirror_mode": {
    "name": "ipython",
    "version": 2
   },
   "file_extension": ".py",
   "mimetype": "text/x-python",
   "name": "python",
   "nbconvert_exporter": "python",
   "pygments_lexer": "ipython2",
   "version": "2.7.6"
  }
 },
 "nbformat": 4,
 "nbformat_minor": 5
}
