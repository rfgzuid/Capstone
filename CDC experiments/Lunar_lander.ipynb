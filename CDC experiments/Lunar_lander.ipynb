{
 "cells": [
  {
   "cell_type": "code",
   "outputs": [],
   "source": [
    "from src.capstone.cbf import CBF, InfeasibilityError\n",
    "from src.capstone.settings import Env\n",
    "from src.capstone.noise import LunarLanderNoise\n",
    "from src.capstone.nndm import NNDM\n",
    "from src.capstone.ddpg import Actor\n",
    "\n",
    "import numpy as np\n",
    "import gymnasium as gym\n",
    "\n",
    "from bound_propagation.polynomial import Pow\n",
    "from bound_propagation.linear import FixedLinear\n",
    "\n",
    "import torch\n",
    "import torch.nn as nn\n",
    "import torch.optim as optim\n",
    "import torch.nn.functional as F\n",
    "\n",
    "import matplotlib.pyplot as plt\n",
    "from tqdm import tqdm"
   ],
   "metadata": {
    "collapsed": false,
    "ExecuteTime": {
     "end_time": "2024-03-18T13:54:14.821408400Z",
     "start_time": "2024-03-18T13:54:14.810181500Z"
    }
   },
   "id": "1d0ad346f7944412",
   "execution_count": 12
  },
  {
   "cell_type": "markdown",
   "source": [
    "We make a plot similar to the Quadruped example of the Robust Safety paper (figure 1). In this case, we apply a simple constraint: an x range $[-0.2, 0.2]$ in which the Lander must remain. This corresponds to the positions of the flags that mark the landing area.\n",
    "\n",
    "$$h(x) = 1 - \\frac{x^2}{0.2^2} = 1-25x^2$$"
   ],
   "metadata": {
    "collapsed": false
   },
   "id": "686247da318bd92f"
  },
  {
   "cell_type": "code",
   "outputs": [],
   "source": [
    "# allows to set a bound (also on other values than x = 0.2)\n",
    "x_bound = 0.2"
   ],
   "metadata": {
    "collapsed": false,
    "ExecuteTime": {
     "end_time": "2024-03-18T13:54:15.194494300Z",
     "start_time": "2024-03-18T13:54:15.190709900Z"
    }
   },
   "id": "34b7022b716e10f6",
   "execution_count": 13
  },
  {
   "cell_type": "code",
   "outputs": [],
   "source": [
    "class ContinuousLunarLander(Env):\n",
    "\n",
    "    def __init__(self, noise: list[float]) -> None:\n",
    "        env = gym.make(\"LunarLander-v2\", continuous=True)\n",
    "        \n",
    "        self.is_discrete = False\n",
    "\n",
    "        self.settings = {\n",
    "            'noise': {\n",
    "                'x': noise[0],\n",
    "                'y': noise[1],\n",
    "                'theta': noise[2],\n",
    "                'v_x': noise[3],\n",
    "                'v_y': noise[4],\n",
    "                'v_theta': noise[5]\n",
    "            },\n",
    "\n",
    "            'replay_size': 1_000_000,\n",
    "            'batch_size': 128,\n",
    "            'num_episodes': 3000,\n",
    "            'max_frames': 1000,  # so that the lander prioritizes landing quick\n",
    "\n",
    "            'gamma': 0.99,\n",
    "            'tau': 0.001,\n",
    "\n",
    "            'NNDM_layers': (64,),\n",
    "            'NNDM_activation': nn.Tanh,\n",
    "            'NNDM_criterion': nn.MSELoss,\n",
    "            'NNDM_optim': optim.Adam,\n",
    "            'NNDM_lr': 1e-3,\n",
    "\n",
    "            'Actor_layers': (256, 128, 64),\n",
    "            'Actor_activation': F.relu,\n",
    "            'Actor_optim': optim.AdamW,\n",
    "            'Actor_lr': 1e-4,\n",
    "            'Action_bound': 1.,  # action space is bounded to [-1, 1] - see gymnasium docs\n",
    "\n",
    "            'Critic_layers': {'s': (256, 128), 'a': (128,), 'concat': (128,)},\n",
    "            'Critic_activation': F.relu,\n",
    "            'Critic_criterion': nn.SmoothL1Loss,\n",
    "            'Critic_optim': optim.AdamW,\n",
    "            'Critic_lr': 1e-3,\n",
    "\n",
    "            'OU_mu': 0,\n",
    "            'OU_theta': 0.15,\n",
    "            'OU_sigma': 0.2\n",
    "        }\n",
    "\n",
    "        self.h_function = nn.Sequential(\n",
    "            FixedLinear(\n",
    "                torch.tensor([\n",
    "                    [1., 0, 0, 0, 0, 0, 0, 0]\n",
    "                ]),\n",
    "                torch.tensor([0.])\n",
    "            ),\n",
    "            Pow(2),\n",
    "            FixedLinear(\n",
    "                torch.tensor([\n",
    "                    [-1 / x_bound ** 2]\n",
    "                ]),\n",
    "                torch.tensor([1.])\n",
    "            )\n",
    "        )\n",
    "\n",
    "        self.h_ids = [0]\n",
    "        self.std = [noise[i] for i in self.h_ids]\n",
    "        self.env = LunarLanderNoise(env, self.settings['noise'])"
   ],
   "metadata": {
    "collapsed": false,
    "ExecuteTime": {
     "end_time": "2024-03-18T13:54:15.419993200Z",
     "start_time": "2024-03-18T13:54:15.410544600Z"
    }
   },
   "id": "e15de7928b029d8b",
   "execution_count": 14
  },
  {
   "cell_type": "code",
   "outputs": [],
   "source": [
    "# positions - 0.005, velocities - 0.025\n",
    "env = ContinuousLunarLander([0.025, 0.025, 0.05, 0.05, 0.025, 0.05])"
   ],
   "metadata": {
    "collapsed": false,
    "ExecuteTime": {
     "end_time": "2024-03-18T13:54:15.597226100Z",
     "start_time": "2024-03-18T13:54:15.591526700Z"
    }
   },
   "id": "877adee4506914c9",
   "execution_count": 15
  },
  {
   "cell_type": "markdown",
   "source": [
    "# Alpha\n",
    "\n",
    "$$\\nabla^2 h = \\begin{bmatrix}\n",
    "-50\n",
    "\\end{bmatrix}$$\n",
    "\n",
    "$$\\nabla^2 h^T \\ \\nabla^2 h = \\begin{bmatrix}\n",
    "2500\n",
    "\\end{bmatrix}$$\n",
    "\n",
    "$$det(\\nabla^2 h^T \\ \\nabla^2 h - \\sigma I) = 2500 - \\sigma = 0$$\n",
    "\n",
    "$$\\sigma = 2500$$\n",
    "\n",
    "$$\\lambda_{max} = \\sqrt{\\sigma} = 50$$"
   ],
   "metadata": {
    "collapsed": false
   },
   "id": "831f9fd5046b35d6"
  },
  {
   "cell_type": "code",
   "outputs": [
    {
     "name": "stdout",
     "output_type": "stream",
     "text": [
      "Alpha is 0.951\n"
     ]
    }
   ],
   "source": [
    "lambda_max = 50\n",
    "\n",
    "stds = [0.005, 0.005, 0.025, 0.025, 0.005, 0.025]\n",
    "tr_cov = sum(std ** 2 for std in stds)\n",
    "\n",
    "psi = (lambda_max / 2) * tr_cov\n",
    "alpha = 1 - psi\n",
    "\n",
    "print(f'Alpha is {round(alpha, 3)}')"
   ],
   "metadata": {
    "collapsed": false,
    "ExecuteTime": {
     "end_time": "2024-03-18T13:54:15.995937Z",
     "start_time": "2024-03-18T13:54:15.990056100Z"
    }
   },
   "id": "31777064c773a07f",
   "execution_count": 16
  },
  {
   "cell_type": "markdown",
   "source": [
    "# NNDM"
   ],
   "metadata": {
    "collapsed": false
   },
   "id": "9c59829bbf816d69"
  },
  {
   "cell_type": "code",
   "outputs": [
    {
     "data": {
      "text/plain": "<All keys matched successfully>"
     },
     "execution_count": 17,
     "metadata": {},
     "output_type": "execute_result"
    }
   ],
   "source": [
    "nndm = NNDM(env)\n",
    "nndm_params = torch.load(f'../models/NNDMs/{type(env).__name__}')\n",
    "nndm.load_state_dict(nndm_params)"
   ],
   "metadata": {
    "collapsed": false,
    "ExecuteTime": {
     "end_time": "2024-03-18T13:54:16.419074400Z",
     "start_time": "2024-03-18T13:54:16.403888500Z"
    }
   },
   "id": "dddb293fa7cb0f50",
   "execution_count": 17
  },
  {
   "cell_type": "markdown",
   "source": [
    "# Agent"
   ],
   "metadata": {
    "collapsed": false
   },
   "id": "c838daa599def751"
  },
  {
   "cell_type": "code",
   "outputs": [
    {
     "data": {
      "text/plain": "<All keys matched successfully>"
     },
     "execution_count": 18,
     "metadata": {},
     "output_type": "execute_result"
    }
   ],
   "source": [
    "policy = Actor(env)\n",
    "policy_params = torch.load(f'../models/Agents/{type(env).__name__}')\n",
    "policy.load_state_dict(policy_params)"
   ],
   "metadata": {
    "collapsed": false,
    "ExecuteTime": {
     "end_time": "2024-03-18T13:54:16.835488Z",
     "start_time": "2024-03-18T13:54:16.822039600Z"
    }
   },
   "id": "d5e747cb97539b6f",
   "execution_count": 18
  },
  {
   "cell_type": "markdown",
   "source": [
    "# Evaluate"
   ],
   "metadata": {
    "collapsed": false
   },
   "id": "a263bcb7540f9c97"
  },
  {
   "cell_type": "code",
   "outputs": [],
   "source": [
    "cbf = CBF(env, nndm, policy,\n",
    "          alpha=[alpha],\n",
    "          delta=[0.],\n",
    "          no_action_partitions=16,\n",
    "          no_noise_partitions=8,\n",
    "          stochastic=True)"
   ],
   "metadata": {
    "collapsed": false,
    "ExecuteTime": {
     "end_time": "2024-03-18T13:54:17.244314900Z",
     "start_time": "2024-03-18T13:54:17.224849300Z"
    }
   },
   "id": "a0a0a20a2d8de28a",
   "execution_count": 19
  },
  {
   "cell_type": "code",
   "outputs": [],
   "source": [
    "def mc_simulate(num_agents, cbf_enabled=False, seed=42):\n",
    "    trajectories = []\n",
    "    unsafe_frames = []\n",
    "\n",
    "    for _ in tqdm(range(num_agents)):\n",
    "        xy_list = []\n",
    "        state, _ = env.env.reset(seed=seed)\n",
    "        xy_list.append(state[:2])\n",
    "        \n",
    "        state = torch.tensor(state).unsqueeze(0)\n",
    "\n",
    "        current_frame = 0\n",
    "        done = False\n",
    "\n",
    "        while not done:\n",
    "            if cbf_enabled:\n",
    "                try:\n",
    "                    action = cbf.safe_action(state)\n",
    "                except InfeasibilityError:\n",
    "                    print('SCBF infeasibility - change no. partitions')\n",
    "                    break\n",
    "            else:\n",
    "                action = policy.select_action(state, exploration=False)\n",
    "\n",
    "            state, reward, terminated, truncated, _ = env.env.step(action.squeeze().detach().numpy())\n",
    "            xy_list.append(state[:2])\n",
    "            \n",
    "            state = torch.tensor(state).unsqueeze(0)\n",
    "\n",
    "            current_frame += 1\n",
    "\n",
    "            if torch.any(env.h_function(state.unsqueeze(0)) < 0).item():\n",
    "                unsafe_frames.append(current_frame)\n",
    "                terminated = True\n",
    "\n",
    "            done = terminated or truncated\n",
    "        trajectories.append(np.array(xy_list))\n",
    "\n",
    "    env.env.close()\n",
    "    return unsafe_frames, trajectories"
   ],
   "metadata": {
    "collapsed": false,
    "ExecuteTime": {
     "end_time": "2024-03-18T13:54:17.464441900Z",
     "start_time": "2024-03-18T13:54:17.460191800Z"
    }
   },
   "id": "f92c3297947f50f9",
   "execution_count": 20
  },
  {
   "cell_type": "code",
   "outputs": [],
   "source": [
    "def plot_paths(num_agents=50):\n",
    "    agent_frames, agent_trajectories = mc_simulate(num_agents)\n",
    "    cbf_frames, cbf_trajectories = mc_simulate(num_agents, cbf_enabled=True)\n",
    "    \n",
    "    fig, ax = plt.subplots(1, 2, figsize=(9, 5))\n",
    "    \n",
    "    for agent_run in agent_trajectories:\n",
    "        ax[0].plot(*zip(*agent_run), color='r', alpha=0.1)\n",
    "    \n",
    "    for cbf_run in cbf_trajectories:\n",
    "        ax[1].plot(*zip(*cbf_run), color='g', alpha=0.1)\n",
    "    \n",
    "    ax[0].plot(*zip(agent_trajectories[0][0]), marker='o', color='black', markersize=5)\n",
    "    ax[1].plot(*zip(cbf_trajectories[0][0]), marker='o', color='black', markersize=5)\n",
    "        \n",
    "    ax[0].vlines([-x_bound, x_bound], 0., 1.5, colors='black', linestyles='dashed')\n",
    "    ax[1].vlines([-x_bound, x_bound], 0., 1.5, colors='black', linestyles='dashed')\n",
    "    \n",
    "    ax[0].set_xlim(-0.3, 0.3)\n",
    "    ax[1].set_xlim(-0.3, 0.3)\n",
    "    \n",
    "    ax[0].set_ylim(0., 1.5)\n",
    "    ax[1].set_ylim(0., 1.5)\n",
    "    \n",
    "    ax[0].set_title(f'No filter - {len(agent_frames)} violations')\n",
    "    ax[1].set_title(f'Stochastic CBF - {len(cbf_frames)} violations')\n",
    "    \n",
    "    plt.savefig('plots/LunarLander.png')\n",
    "    plt.show()"
   ],
   "metadata": {
    "collapsed": false,
    "ExecuteTime": {
     "end_time": "2024-03-18T13:54:17.985891800Z",
     "start_time": "2024-03-18T13:54:17.980862100Z"
    }
   },
   "id": "3a36d832c31264ff",
   "execution_count": 21
  },
  {
   "cell_type": "code",
   "outputs": [
    {
     "name": "stderr",
     "output_type": "stream",
     "text": [
      "100%|██████████| 50/50 [00:03<00:00, 13.64it/s]\n",
      "  0%|          | 0/50 [00:00<?, ?it/s]"
     ]
    },
    {
     "name": "stdout",
     "output_type": "stream",
     "text": [
      "===============================================================================\n",
      "                                     CVXPY                                     \n",
      "                                     v1.4.2                                    \n",
      "===============================================================================\n",
      "(CVXPY) Mar 18 02:54:24 PM: Your problem has 2 variables, 3 constraints, and 0 parameters.\n",
      "(CVXPY) Mar 18 02:54:24 PM: It is compliant with the following grammars: DCP, DQCP\n",
      "(CVXPY) Mar 18 02:54:24 PM: (If you need to solve this problem multiple times, but with different data, consider using parameters.)\n",
      "(CVXPY) Mar 18 02:54:24 PM: CVXPY will first compile your problem; then, it will invoke a numerical solver to obtain a solution.\n",
      "(CVXPY) Mar 18 02:54:24 PM: Your problem is compiled with the CPP canonicalization backend.\n",
      "-------------------------------------------------------------------------------\n",
      "                                  Compilation                                  \n",
      "-------------------------------------------------------------------------------\n",
      "(CVXPY) Mar 18 02:54:24 PM: Compiling problem (target solver=OSQP).\n",
      "(CVXPY) Mar 18 02:54:24 PM: Reduction chain: CvxAttr2Constr -> Qp2SymbolicQp -> QpMatrixStuffing -> OSQP\n",
      "(CVXPY) Mar 18 02:54:24 PM: Applying reduction CvxAttr2Constr\n",
      "(CVXPY) Mar 18 02:54:24 PM: Applying reduction Qp2SymbolicQp\n",
      "(CVXPY) Mar 18 02:54:24 PM: Applying reduction QpMatrixStuffing\n",
      "(CVXPY) Mar 18 02:54:24 PM: Applying reduction OSQP\n",
      "(CVXPY) Mar 18 02:54:24 PM: Finished problem compilation (took 9.318e-03 seconds).\n",
      "-------------------------------------------------------------------------------\n",
      "                                Numerical solver                               \n",
      "-------------------------------------------------------------------------------\n",
      "(CVXPY) Mar 18 02:54:24 PM: Invoking solver OSQP  to obtain a solution.\n"
     ]
    },
    {
     "name": "stderr",
     "output_type": "stream",
     "text": [
      "  0%|          | 0/50 [00:02<?, ?it/s]"
     ]
    },
    {
     "name": "stdout",
     "output_type": "stream",
     "text": [
      "ERROR in validate_data: Lower bound at index 6 is greater than upper bound: -1.0000e+30 > -inf\n",
      "ERROR in osqp_setup: Problem data validation.\n"
     ]
    },
    {
     "name": "stderr",
     "output_type": "stream",
     "text": [
      "\n"
     ]
    },
    {
     "ename": "SolverError",
     "evalue": "Workspace allocation error!",
     "output_type": "error",
     "traceback": [
      "\u001B[1;31m---------------------------------------------------------------------------\u001B[0m",
      "\u001B[1;31mValueError\u001B[0m                                Traceback (most recent call last)",
      "File \u001B[1;32m~\\PycharmProjects\\Capstone\\venv\\Lib\\site-packages\\cvxpy\\reductions\\solvers\\qp_solvers\\osqp_qpif.py:102\u001B[0m, in \u001B[0;36mOSQP.solve_via_data\u001B[1;34m(self, data, warm_start, verbose, solver_opts, solver_cache)\u001B[0m\n\u001B[0;32m    101\u001B[0m \u001B[38;5;28;01mtry\u001B[39;00m:\n\u001B[1;32m--> 102\u001B[0m     \u001B[43msolver\u001B[49m\u001B[38;5;241;43m.\u001B[39;49m\u001B[43msetup\u001B[49m\u001B[43m(\u001B[49m\u001B[43mP\u001B[49m\u001B[43m,\u001B[49m\u001B[43m \u001B[49m\u001B[43mq\u001B[49m\u001B[43m,\u001B[49m\u001B[43m \u001B[49m\u001B[43mA\u001B[49m\u001B[43m,\u001B[49m\u001B[43m \u001B[49m\u001B[43mlA\u001B[49m\u001B[43m,\u001B[49m\u001B[43m \u001B[49m\u001B[43muA\u001B[49m\u001B[43m,\u001B[49m\u001B[43m \u001B[49m\u001B[43mverbose\u001B[49m\u001B[38;5;241;43m=\u001B[39;49m\u001B[43mverbose\u001B[49m\u001B[43m,\u001B[49m\u001B[43m \u001B[49m\u001B[38;5;241;43m*\u001B[39;49m\u001B[38;5;241;43m*\u001B[39;49m\u001B[43msolver_opts\u001B[49m\u001B[43m)\u001B[49m\n\u001B[0;32m    103\u001B[0m \u001B[38;5;28;01mexcept\u001B[39;00m \u001B[38;5;167;01mValueError\u001B[39;00m \u001B[38;5;28;01mas\u001B[39;00m e:\n",
      "File \u001B[1;32m~\\PycharmProjects\\Capstone\\venv\\Lib\\site-packages\\osqp\\interface.py:37\u001B[0m, in \u001B[0;36mOSQP.setup\u001B[1;34m(self, P, q, A, l, u, **settings)\u001B[0m\n\u001B[0;32m     36\u001B[0m unpacked_data, settings \u001B[38;5;241m=\u001B[39m utils\u001B[38;5;241m.\u001B[39mprepare_data(P, q, A, l, u, \u001B[38;5;241m*\u001B[39m\u001B[38;5;241m*\u001B[39msettings)\n\u001B[1;32m---> 37\u001B[0m \u001B[38;5;28;43mself\u001B[39;49m\u001B[38;5;241;43m.\u001B[39;49m\u001B[43m_model\u001B[49m\u001B[38;5;241;43m.\u001B[39;49m\u001B[43msetup\u001B[49m\u001B[43m(\u001B[49m\u001B[38;5;241;43m*\u001B[39;49m\u001B[43munpacked_data\u001B[49m\u001B[43m,\u001B[49m\u001B[43m \u001B[49m\u001B[38;5;241;43m*\u001B[39;49m\u001B[38;5;241;43m*\u001B[39;49m\u001B[43msettings\u001B[49m\u001B[43m)\u001B[49m\n",
      "\u001B[1;31mValueError\u001B[0m: Workspace allocation error!",
      "\nDuring handling of the above exception, another exception occurred:\n",
      "\u001B[1;31mSolverError\u001B[0m                               Traceback (most recent call last)",
      "Cell \u001B[1;32mIn[22], line 1\u001B[0m\n\u001B[1;32m----> 1\u001B[0m \u001B[43mplot_paths\u001B[49m\u001B[43m(\u001B[49m\u001B[43m)\u001B[49m\n",
      "Cell \u001B[1;32mIn[21], line 3\u001B[0m, in \u001B[0;36mplot_paths\u001B[1;34m(num_agents)\u001B[0m\n\u001B[0;32m      1\u001B[0m \u001B[38;5;28;01mdef\u001B[39;00m \u001B[38;5;21mplot_paths\u001B[39m(num_agents\u001B[38;5;241m=\u001B[39m\u001B[38;5;241m50\u001B[39m):\n\u001B[0;32m      2\u001B[0m     agent_frames, agent_trajectories \u001B[38;5;241m=\u001B[39m mc_simulate(num_agents)\n\u001B[1;32m----> 3\u001B[0m     cbf_frames, cbf_trajectories \u001B[38;5;241m=\u001B[39m \u001B[43mmc_simulate\u001B[49m\u001B[43m(\u001B[49m\u001B[43mnum_agents\u001B[49m\u001B[43m,\u001B[49m\u001B[43m \u001B[49m\u001B[43mcbf_enabled\u001B[49m\u001B[38;5;241;43m=\u001B[39;49m\u001B[38;5;28;43;01mTrue\u001B[39;49;00m\u001B[43m)\u001B[49m\n\u001B[0;32m      5\u001B[0m     fig, ax \u001B[38;5;241m=\u001B[39m plt\u001B[38;5;241m.\u001B[39msubplots(\u001B[38;5;241m1\u001B[39m, \u001B[38;5;241m2\u001B[39m, figsize\u001B[38;5;241m=\u001B[39m(\u001B[38;5;241m9\u001B[39m, \u001B[38;5;241m5\u001B[39m))\n\u001B[0;32m      7\u001B[0m     \u001B[38;5;28;01mfor\u001B[39;00m agent_run \u001B[38;5;129;01min\u001B[39;00m agent_trajectories:\n",
      "Cell \u001B[1;32mIn[20], line 18\u001B[0m, in \u001B[0;36mmc_simulate\u001B[1;34m(num_agents, cbf_enabled, seed)\u001B[0m\n\u001B[0;32m     16\u001B[0m \u001B[38;5;28;01mif\u001B[39;00m cbf_enabled:\n\u001B[0;32m     17\u001B[0m     \u001B[38;5;28;01mtry\u001B[39;00m:\n\u001B[1;32m---> 18\u001B[0m         action \u001B[38;5;241m=\u001B[39m \u001B[43mcbf\u001B[49m\u001B[38;5;241;43m.\u001B[39;49m\u001B[43msafe_action\u001B[49m\u001B[43m(\u001B[49m\u001B[43mstate\u001B[49m\u001B[43m)\u001B[49m\n\u001B[0;32m     19\u001B[0m     \u001B[38;5;28;01mexcept\u001B[39;00m InfeasibilityError:\n\u001B[0;32m     20\u001B[0m         \u001B[38;5;28mprint\u001B[39m(\u001B[38;5;124m'\u001B[39m\u001B[38;5;124mSCBF infeasibility - change no. partitions\u001B[39m\u001B[38;5;124m'\u001B[39m)\n",
      "File \u001B[1;32m~\\PycharmProjects\\Capstone\\src\\capstone\\cbf.py:95\u001B[0m, in \u001B[0;36mCBF.safe_action\u001B[1;34m(self, state)\u001B[0m\n\u001B[0;32m     93\u001B[0m     \u001B[38;5;28;01mreturn\u001B[39;00m \u001B[38;5;28mself\u001B[39m\u001B[38;5;241m.\u001B[39mcontinuous_cbf(state)\n\u001B[0;32m     94\u001B[0m \u001B[38;5;28;01melse\u001B[39;00m:\n\u001B[1;32m---> 95\u001B[0m     \u001B[38;5;28;01mreturn\u001B[39;00m \u001B[38;5;28;43mself\u001B[39;49m\u001B[38;5;241;43m.\u001B[39;49m\u001B[43mcontinuous_scbf\u001B[49m\u001B[43m(\u001B[49m\u001B[43mstate\u001B[49m\u001B[43m)\u001B[49m\n",
      "File \u001B[1;32m~\\PycharmProjects\\Capstone\\src\\capstone\\cbf.py:191\u001B[0m, in \u001B[0;36mCBF.continuous_scbf\u001B[1;34m(self, state)\u001B[0m\n\u001B[0;32m    189\u001B[0m h_current \u001B[38;5;241m=\u001B[39m \u001B[38;5;28mself\u001B[39m\u001B[38;5;241m.\u001B[39mh_func(state)\n\u001B[0;32m    190\u001B[0m bound_matrices \u001B[38;5;241m=\u001B[39m \u001B[38;5;28mself\u001B[39m\u001B[38;5;241m.\u001B[39mcreate_noise_bounds_batched(state)\n\u001B[1;32m--> 191\u001B[0m \u001B[38;5;28;01mreturn\u001B[39;00m \u001B[38;5;28;43mself\u001B[39;49m\u001B[38;5;241;43m.\u001B[39;49m\u001B[43mqp_solver\u001B[49m\u001B[43m(\u001B[49m\u001B[43mnominal_action\u001B[49m\u001B[43m,\u001B[49m\u001B[43m \u001B[49m\u001B[43mbound_matrices\u001B[49m\u001B[43m,\u001B[49m\u001B[43m \u001B[49m\u001B[43mh_current\u001B[49m\u001B[43m)\u001B[49m\n",
      "File \u001B[1;32m~\\PycharmProjects\\Capstone\\src\\capstone\\cbf.py:213\u001B[0m, in \u001B[0;36mCBF.qp_solver\u001B[1;34m(self, nominal_action, bound_matrices, h_current)\u001B[0m\n\u001B[0;32m    211\u001B[0m \u001B[38;5;66;03m# Solve the problem, using ECOS as the default solver for small scale QP\u001B[39;00m\n\u001B[0;32m    212\u001B[0m problem \u001B[38;5;241m=\u001B[39m cp\u001B[38;5;241m.\u001B[39mProblem(objective, constraints)\n\u001B[1;32m--> 213\u001B[0m \u001B[43mproblem\u001B[49m\u001B[38;5;241;43m.\u001B[39;49m\u001B[43msolve\u001B[49m\u001B[43m(\u001B[49m\u001B[43msolver\u001B[49m\u001B[38;5;241;43m=\u001B[39;49m\u001B[38;5;124;43m'\u001B[39;49m\u001B[38;5;124;43mOSQP\u001B[39;49m\u001B[38;5;124;43m'\u001B[39;49m\u001B[43m,\u001B[49m\u001B[43m \u001B[49m\u001B[43mverbose\u001B[49m\u001B[38;5;241;43m=\u001B[39;49m\u001B[38;5;28;43;01mTrue\u001B[39;49;00m\u001B[43m)\u001B[49m\n\u001B[0;32m    215\u001B[0m \u001B[38;5;28;01mif\u001B[39;00m problem\u001B[38;5;241m.\u001B[39mstatus \u001B[38;5;129;01mis\u001B[39;00m cp\u001B[38;5;241m.\u001B[39mUNBOUNDED:\n\u001B[0;32m    216\u001B[0m     \u001B[38;5;28mprint\u001B[39m(\u001B[38;5;124m\"\u001B[39m\u001B[38;5;124msomething goes very wrong\u001B[39m\u001B[38;5;124m\"\u001B[39m)\n",
      "File \u001B[1;32m~\\PycharmProjects\\Capstone\\venv\\Lib\\site-packages\\cvxpy\\problems\\problem.py:503\u001B[0m, in \u001B[0;36mProblem.solve\u001B[1;34m(self, *args, **kwargs)\u001B[0m\n\u001B[0;32m    501\u001B[0m \u001B[38;5;28;01melse\u001B[39;00m:\n\u001B[0;32m    502\u001B[0m     solve_func \u001B[38;5;241m=\u001B[39m Problem\u001B[38;5;241m.\u001B[39m_solve\n\u001B[1;32m--> 503\u001B[0m \u001B[38;5;28;01mreturn\u001B[39;00m \u001B[43msolve_func\u001B[49m\u001B[43m(\u001B[49m\u001B[38;5;28;43mself\u001B[39;49m\u001B[43m,\u001B[49m\u001B[43m \u001B[49m\u001B[38;5;241;43m*\u001B[39;49m\u001B[43margs\u001B[49m\u001B[43m,\u001B[49m\u001B[43m \u001B[49m\u001B[38;5;241;43m*\u001B[39;49m\u001B[38;5;241;43m*\u001B[39;49m\u001B[43mkwargs\u001B[49m\u001B[43m)\u001B[49m\n",
      "File \u001B[1;32m~\\PycharmProjects\\Capstone\\venv\\Lib\\site-packages\\cvxpy\\problems\\problem.py:1082\u001B[0m, in \u001B[0;36mProblem._solve\u001B[1;34m(self, solver, warm_start, verbose, gp, qcp, requires_grad, enforce_dpp, ignore_dpp, canon_backend, **kwargs)\u001B[0m\n\u001B[0;32m   1078\u001B[0m     s\u001B[38;5;241m.\u001B[39mLOGGER\u001B[38;5;241m.\u001B[39minfo(\n\u001B[0;32m   1079\u001B[0m             \u001B[38;5;124m'\u001B[39m\u001B[38;5;124mInvoking solver \u001B[39m\u001B[38;5;132;01m%s\u001B[39;00m\u001B[38;5;124m  to obtain a solution.\u001B[39m\u001B[38;5;124m'\u001B[39m,\n\u001B[0;32m   1080\u001B[0m             solving_chain\u001B[38;5;241m.\u001B[39mreductions[\u001B[38;5;241m-\u001B[39m\u001B[38;5;241m1\u001B[39m]\u001B[38;5;241m.\u001B[39mname())\n\u001B[0;32m   1081\u001B[0m start \u001B[38;5;241m=\u001B[39m time\u001B[38;5;241m.\u001B[39mtime()\n\u001B[1;32m-> 1082\u001B[0m solution \u001B[38;5;241m=\u001B[39m \u001B[43msolving_chain\u001B[49m\u001B[38;5;241;43m.\u001B[39;49m\u001B[43msolve_via_data\u001B[49m\u001B[43m(\u001B[49m\n\u001B[0;32m   1083\u001B[0m \u001B[43m    \u001B[49m\u001B[38;5;28;43mself\u001B[39;49m\u001B[43m,\u001B[49m\u001B[43m \u001B[49m\u001B[43mdata\u001B[49m\u001B[43m,\u001B[49m\u001B[43m \u001B[49m\u001B[43mwarm_start\u001B[49m\u001B[43m,\u001B[49m\u001B[43m \u001B[49m\u001B[43mverbose\u001B[49m\u001B[43m,\u001B[49m\u001B[43m \u001B[49m\u001B[43mkwargs\u001B[49m\u001B[43m)\u001B[49m\n\u001B[0;32m   1084\u001B[0m end \u001B[38;5;241m=\u001B[39m time\u001B[38;5;241m.\u001B[39mtime()\n\u001B[0;32m   1085\u001B[0m \u001B[38;5;28mself\u001B[39m\u001B[38;5;241m.\u001B[39m_solve_time \u001B[38;5;241m=\u001B[39m end \u001B[38;5;241m-\u001B[39m start\n",
      "File \u001B[1;32m~\\PycharmProjects\\Capstone\\venv\\Lib\\site-packages\\cvxpy\\reductions\\solvers\\solving_chain.py:453\u001B[0m, in \u001B[0;36mSolvingChain.solve_via_data\u001B[1;34m(self, problem, data, warm_start, verbose, solver_opts)\u001B[0m\n\u001B[0;32m    417\u001B[0m \u001B[38;5;28;01mdef\u001B[39;00m \u001B[38;5;21msolve_via_data\u001B[39m(\u001B[38;5;28mself\u001B[39m, problem, data, warm_start: \u001B[38;5;28mbool\u001B[39m \u001B[38;5;241m=\u001B[39m \u001B[38;5;28;01mFalse\u001B[39;00m, verbose: \u001B[38;5;28mbool\u001B[39m \u001B[38;5;241m=\u001B[39m \u001B[38;5;28;01mFalse\u001B[39;00m,\n\u001B[0;32m    418\u001B[0m                    solver_opts\u001B[38;5;241m=\u001B[39m{}):\n\u001B[0;32m    419\u001B[0m \u001B[38;5;250m    \u001B[39m\u001B[38;5;124;03m\"\"\"Solves the problem using the data output by the an apply invocation.\u001B[39;00m\n\u001B[0;32m    420\u001B[0m \n\u001B[0;32m    421\u001B[0m \u001B[38;5;124;03m    The semantics are:\u001B[39;00m\n\u001B[1;32m   (...)\u001B[0m\n\u001B[0;32m    451\u001B[0m \u001B[38;5;124;03m        a Solution object.\u001B[39;00m\n\u001B[0;32m    452\u001B[0m \u001B[38;5;124;03m    \"\"\"\u001B[39;00m\n\u001B[1;32m--> 453\u001B[0m     \u001B[38;5;28;01mreturn\u001B[39;00m \u001B[38;5;28;43mself\u001B[39;49m\u001B[38;5;241;43m.\u001B[39;49m\u001B[43msolver\u001B[49m\u001B[38;5;241;43m.\u001B[39;49m\u001B[43msolve_via_data\u001B[49m\u001B[43m(\u001B[49m\u001B[43mdata\u001B[49m\u001B[43m,\u001B[49m\u001B[43m \u001B[49m\u001B[43mwarm_start\u001B[49m\u001B[43m,\u001B[49m\u001B[43m \u001B[49m\u001B[43mverbose\u001B[49m\u001B[43m,\u001B[49m\n\u001B[0;32m    454\u001B[0m \u001B[43m                                      \u001B[49m\u001B[43msolver_opts\u001B[49m\u001B[43m,\u001B[49m\u001B[43m \u001B[49m\u001B[43mproblem\u001B[49m\u001B[38;5;241;43m.\u001B[39;49m\u001B[43m_solver_cache\u001B[49m\u001B[43m)\u001B[49m\n",
      "File \u001B[1;32m~\\PycharmProjects\\Capstone\\venv\\Lib\\site-packages\\cvxpy\\reductions\\solvers\\qp_solvers\\osqp_qpif.py:104\u001B[0m, in \u001B[0;36mOSQP.solve_via_data\u001B[1;34m(self, data, warm_start, verbose, solver_opts, solver_cache)\u001B[0m\n\u001B[0;32m    102\u001B[0m         solver\u001B[38;5;241m.\u001B[39msetup(P, q, A, lA, uA, verbose\u001B[38;5;241m=\u001B[39mverbose, \u001B[38;5;241m*\u001B[39m\u001B[38;5;241m*\u001B[39msolver_opts)\n\u001B[0;32m    103\u001B[0m     \u001B[38;5;28;01mexcept\u001B[39;00m \u001B[38;5;167;01mValueError\u001B[39;00m \u001B[38;5;28;01mas\u001B[39;00m e:\n\u001B[1;32m--> 104\u001B[0m         \u001B[38;5;28;01mraise\u001B[39;00m SolverError(e)\n\u001B[0;32m    106\u001B[0m results \u001B[38;5;241m=\u001B[39m solver\u001B[38;5;241m.\u001B[39msolve()\n\u001B[0;32m    108\u001B[0m \u001B[38;5;28;01mif\u001B[39;00m solver_cache \u001B[38;5;129;01mis\u001B[39;00m \u001B[38;5;129;01mnot\u001B[39;00m \u001B[38;5;28;01mNone\u001B[39;00m:\n",
      "\u001B[1;31mSolverError\u001B[0m: Workspace allocation error!"
     ]
    }
   ],
   "source": [
    "plot_paths()"
   ],
   "metadata": {
    "collapsed": false,
    "ExecuteTime": {
     "end_time": "2024-03-18T13:54:24.584007300Z",
     "start_time": "2024-03-18T13:54:18.633620900Z"
    }
   },
   "id": "4f404e9858549d99",
   "execution_count": 22
  },
  {
   "cell_type": "code",
   "outputs": [],
   "source": [],
   "metadata": {
    "collapsed": false,
    "ExecuteTime": {
     "start_time": "2024-03-18T13:53:07.978637900Z"
    }
   },
   "id": "2806cd4b09be400d",
   "execution_count": null
  }
 ],
 "metadata": {
  "kernelspec": {
   "display_name": "Python 3",
   "language": "python",
   "name": "python3"
  },
  "language_info": {
   "codemirror_mode": {
    "name": "ipython",
    "version": 2
   },
   "file_extension": ".py",
   "mimetype": "text/x-python",
   "name": "python",
   "nbconvert_exporter": "python",
   "pygments_lexer": "ipython2",
   "version": "2.7.6"
  }
 },
 "nbformat": 4,
 "nbformat_minor": 5
}
