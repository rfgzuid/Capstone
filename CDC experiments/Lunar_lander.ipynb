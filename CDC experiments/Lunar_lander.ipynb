{
 "cells": [
  {
   "cell_type": "code",
   "execution_count": 87,
   "id": "1d0ad346f7944412",
   "metadata": {
    "ExecuteTime": {
     "end_time": "2024-03-21T16:06:44.019589400Z",
     "start_time": "2024-03-21T16:06:44.005354400Z"
    },
    "collapsed": false
   },
   "outputs": [],
   "source": [
    "# import sys\n",
    "# sys.path.append('../')\n",
    "\n",
    "from src.capstone.cbf import CBF, InfeasibilityError\n",
    "from src.capstone.settings import Env\n",
    "from src.capstone.noise import LunarLanderNoise\n",
    "from src.capstone.nndm import NNDM\n",
    "from src.capstone.ddpg import Actor\n",
    "\n",
    "import numpy as np\n",
    "import gymnasium as gym\n",
    "\n",
    "from bound_propagation.polynomial import Pow\n",
    "from bound_propagation.linear import FixedLinear\n",
    "\n",
    "import torch\n",
    "import torch.nn as nn\n",
    "import torch.optim as optim\n",
    "import torch.nn.functional as F\n",
    "\n",
    "import matplotlib.pyplot as plt\n",
    "from tqdm import tqdm\n",
    "\n",
    "import os"
   ]
  },
  {
   "cell_type": "markdown",
   "id": "686247da318bd92f",
   "metadata": {
    "collapsed": false
   },
   "source": [
    "We make a plot similar to the Quadruped example of the Robust Safety paper (figure 1). In this case, we apply a simple constraint: an x range $[-0.2, 0.2]$ in which the Lander must remain. This corresponds to the positions of the flags that mark the landing area.\n",
    "\n",
    "$$h(x) = 1 - \\frac{x^2}{0.2^2} = 1-25x^2$$"
   ]
  },
  {
   "cell_type": "code",
   "execution_count": 88,
   "id": "34b7022b716e10f6",
   "metadata": {
    "ExecuteTime": {
     "end_time": "2024-03-21T16:06:44.589104400Z",
     "start_time": "2024-03-21T16:06:44.582103800Z"
    },
    "collapsed": false
   },
   "outputs": [],
   "source": [
    "# allows to set a bound (also on other values than x = 0.2)\n",
    "x_bound = 0.15"
   ]
  },
  {
   "cell_type": "code",
   "execution_count": 89,
   "id": "e15de7928b029d8b",
   "metadata": {
    "ExecuteTime": {
     "end_time": "2024-03-21T16:08:30.867314900Z",
     "start_time": "2024-03-21T16:08:30.824928800Z"
    },
    "collapsed": false
   },
   "outputs": [],
   "source": [
    "\n",
    "class ContinuousLunarLander(Env):\n",
    "\n",
    "    def __init__(self, noise: list[float]) -> None:\n",
    "        env = gym.make(\"LunarLander-v2\", continuous=True)\n",
    "        \n",
    "        self.is_discrete = False\n",
    "\n",
    "        self.settings = {\n",
    "            'noise': {\n",
    "                'x': noise[0],\n",
    "                'y': noise[1],\n",
    "                'theta': noise[2],\n",
    "                'v_x': noise[3],\n",
    "                'v_y': noise[4],\n",
    "                'v_theta': noise[5]\n",
    "            },\n",
    "\n",
    "            'replay_size': 1_000_000,\n",
    "            'batch_size': 128,\n",
    "            'num_episodes': 3000,\n",
    "            'max_frames': 1000,  # so that the lander prioritizes landing quick\n",
    "\n",
    "            'gamma': 0.99,\n",
    "            'tau': 0.001,\n",
    "\n",
    "            'NNDM_layers': (64,),\n",
    "            'NNDM_activation': nn.Tanh,\n",
    "            'NNDM_criterion': nn.MSELoss,\n",
    "            'NNDM_optim': optim.Adam,\n",
    "            'NNDM_lr': 1e-3,\n",
    "\n",
    "            'Actor_layers': (256, 128, 64),\n",
    "            'Actor_activation': F.relu,\n",
    "            'Actor_optim': optim.AdamW,\n",
    "            'Actor_lr': 1e-4,\n",
    "            'Action_bound': 1.,  # action space is bounded to [-1, 1] - see gymnasium docs\n",
    "\n",
    "            'Critic_layers': {'s': (256, 128), 'a': (128,), 'concat': (128,)},\n",
    "            'Critic_activation': F.relu,\n",
    "            'Critic_criterion': nn.SmoothL1Loss,\n",
    "            'Critic_optim': optim.AdamW,\n",
    "            'Critic_lr': 1e-3,\n",
    "\n",
    "            'OU_mu': 0,\n",
    "            'OU_theta': 0.15,\n",
    "            'OU_sigma': 0.2\n",
    "        }\n",
    "\n",
    "        self.h_function = nn.Sequential(\n",
    "            FixedLinear(\n",
    "                torch.tensor([\n",
    "                    [1., 0, 0, 0, 0, 0, 0, 0],\n",
    "                    [0, 0, 1., 0, 0, 0, 0, 0]\n",
    "                ]),\n",
    "                torch.tensor([0., 0.])\n",
    "            ),\n",
    "            Pow(2),\n",
    "            FixedLinear(\n",
    "                torch.tensor([\n",
    "                    [-1 / x_bound ** 2, 0],\n",
    "                    [0, -1 / 4. ** 2]\n",
    "                ]),\n",
    "                torch.tensor([1., 1.])\n",
    "            )\n",
    "        )\n",
    "\n",
    "        self.h_ids = [0, 2]\n",
    "        self.std = [noise[i] for i in self.h_ids]\n",
    "        self.env = LunarLanderNoise(env, self.settings['noise'])"
   ]
  },
  {
   "cell_type": "code",
   "execution_count": 90,
   "id": "877adee4506914c9",
   "metadata": {
    "ExecuteTime": {
     "end_time": "2024-03-21T16:08:31.450021500Z",
     "start_time": "2024-03-21T16:08:31.436628800Z"
    },
    "collapsed": false
   },
   "outputs": [],
   "source": [
    "# positions - 0.005, velocities - 0.025\n",
    "env = ContinuousLunarLander([0.005, 0.005, 0.025, 0.025, 0.005, 0.025])"
   ]
  },
  {
   "cell_type": "markdown",
   "id": "831f9fd5046b35d6",
   "metadata": {
    "collapsed": false
   },
   "source": [
    "# Alpha\n",
    "\n",
    "$$\\nabla^2 h = \\begin{bmatrix}\n",
    "-50\n",
    "\\end{bmatrix}$$\n",
    "\n",
    "$$\\nabla^2 h^T \\ \\nabla^2 h = \\begin{bmatrix}\n",
    "2500\n",
    "\\end{bmatrix}$$\n",
    "\n",
    "$$det(\\nabla^2 h^T \\ \\nabla^2 h - \\sigma I) = 2500 - \\sigma = 0$$\n",
    "\n",
    "$$\\sigma = 2500$$\n",
    "\n",
    "$$\\lambda_{max} = \\sqrt{\\sigma} = 50$$"
   ]
  },
  {
   "cell_type": "code",
   "execution_count": 91,
   "id": "31777064c773a07f",
   "metadata": {
    "ExecuteTime": {
     "end_time": "2024-03-21T16:08:31.944234300Z",
     "start_time": "2024-03-21T16:08:31.934148100Z"
    },
    "collapsed": false
   },
   "outputs": [
    {
     "name": "stdout",
     "output_type": "stream",
     "text": [
      "Alpha is 0.98\n"
     ]
    }
   ],
   "source": [
    "lambda_max = 50\n",
    "\n",
    "stds = [0.005, 0.005, 0.025, 0.025, 0.005, 0.025]\n",
    "tr_cov = sum(std ** 2 for std in stds)\n",
    "\n",
    "psi = (lambda_max / 2) * tr_cov\n",
    "alpha = 1 - psi\n",
    "# alpha = 0.98\n",
    "\n",
    "print(f'Alpha is {round(alpha, 3)}')"
   ]
  },
  {
   "cell_type": "markdown",
   "id": "9c59829bbf816d69",
   "metadata": {
    "collapsed": false
   },
   "source": [
    "# NNDM"
   ]
  },
  {
   "cell_type": "code",
   "execution_count": 92,
   "id": "dddb293fa7cb0f50",
   "metadata": {
    "ExecuteTime": {
     "end_time": "2024-03-21T16:08:32.438869700Z",
     "start_time": "2024-03-21T16:08:32.409687Z"
    },
    "collapsed": false
   },
   "outputs": [
    {
     "data": {
      "text/plain": [
       "<All keys matched successfully>"
      ]
     },
     "execution_count": 92,
     "metadata": {},
     "output_type": "execute_result"
    }
   ],
   "source": [
    "nndm = NNDM(env)\n",
    "nndm_params = torch.load(f'../models/NNDMs/{type(env).__name__}')\n",
    "nndm.load_state_dict(nndm_params)"
   ]
  },
  {
   "cell_type": "code",
   "execution_count": 93,
   "id": "8680b8aa03cb7539",
   "metadata": {
    "ExecuteTime": {
     "end_time": "2024-03-21T16:08:32.908333700Z",
     "start_time": "2024-03-21T16:08:32.847449500Z"
    },
    "collapsed": false
   },
   "outputs": [],
   "source": [
    "# n = 101\n",
    "\n",
    "# x = np.linspace(-x_bound, x_bound, n)\n",
    "# xdot = np.linspace(-10, 10, n)\n",
    "\n",
    "# test = torch.zeros((n*n, 10))\n",
    "\n",
    "# for i in range(n):\n",
    "#     test[i*n:(i+1)*n, 0] = torch.tensor(x)\n",
    "#     test[i*n:(i+1)*n, 2] = xdot[i]\n",
    "    \n",
    "# next_states = nndm(test).detach()\n",
    "# hs = env.h_function(next_states)\n",
    "\n",
    "# xg, yg = np.meshgrid(x, xdot)\n",
    "# clrs = hs.numpy().reshape(n, n)\n",
    "\n",
    "# plt.scatter(xg, yg, c=clrs, cmap=plt.colormaps['coolwarm'], vmin=0, vmax=1)"
   ]
  },
  {
   "cell_type": "markdown",
   "id": "c838daa599def751",
   "metadata": {
    "collapsed": false
   },
   "source": [
    "# Agent"
   ]
  },
  {
   "cell_type": "code",
   "execution_count": 94,
   "id": "d5e747cb97539b6f",
   "metadata": {
    "ExecuteTime": {
     "end_time": "2024-03-21T16:08:59.519012900Z",
     "start_time": "2024-03-21T16:08:59.488823400Z"
    },
    "collapsed": false
   },
   "outputs": [
    {
     "data": {
      "text/plain": [
       "<All keys matched successfully>"
      ]
     },
     "execution_count": 94,
     "metadata": {},
     "output_type": "execute_result"
    }
   ],
   "source": [
    "policy = Actor(env)\n",
    "policy_params = torch.load(f'../models/Agents/{type(env).__name__}')\n",
    "policy.load_state_dict(policy_params)"
   ]
  },
  {
   "cell_type": "markdown",
   "id": "a263bcb7540f9c97",
   "metadata": {
    "collapsed": false
   },
   "source": [
    "# Evaluate"
   ]
  },
  {
   "cell_type": "code",
   "execution_count": 95,
   "id": "a0a0a20a2d8de28a",
   "metadata": {
    "ExecuteTime": {
     "end_time": "2024-03-21T16:18:05.443622500Z",
     "start_time": "2024-03-21T16:18:05.409091900Z"
    },
    "collapsed": false
   },
   "outputs": [],
   "source": [
    "cbf = CBF(env, nndm, policy,\n",
    "          alpha=[alpha, alpha],\n",
    "          delta=[0., 0.],\n",
    "          no_action_partitions=6,\n",
    "          no_noise_partitions=8,\n",
    "          stochastic=True)"
   ]
  },
  {
   "cell_type": "code",
   "execution_count": 96,
   "id": "f92c3297947f50f9",
   "metadata": {
    "ExecuteTime": {
     "end_time": "2024-03-21T16:18:05.699679600Z",
     "start_time": "2024-03-21T16:18:05.668320700Z"
    },
    "collapsed": false
   },
   "outputs": [],
   "source": [
    "def mc_simulate(num_agents, cbf_enabled=False, seed=42):\n",
    "    unsafe_frames = []\n",
    "    \n",
    "    if cbf_enabled:\n",
    "        for f in os.listdir('LunarCBF'):\n",
    "            os.remove(os.path.join('LunarCBF', f))\n",
    "        try:\n",
    "            os.remove('LunarTermination/CBF.npy')\n",
    "        except FileNotFoundError:\n",
    "            pass\n",
    "    else:\n",
    "        for f in os.listdir('LunarAgent'):\n",
    "                os.remove(os.path.join('LunarAgent', f))\n",
    "        try:\n",
    "            os.remove('LunarTermination/Agent.npy')\n",
    "        except FileNotFoundError:\n",
    "            pass\n",
    "    \n",
    "    idx = 1\n",
    "    while idx <= num_agents:\n",
    "        xy_list = []\n",
    "        state, _ = env.env.reset(seed=seed)\n",
    "        xy_list.append(state[:2])\n",
    "        \n",
    "        state = torch.tensor(state).unsqueeze(0)\n",
    "\n",
    "        current_frame = 0\n",
    "        done = False\n",
    "\n",
    "        while not done:\n",
    "            if cbf_enabled:\n",
    "                try:\n",
    "                    action = cbf.safe_action(state)\n",
    "                except InfeasibilityError:\n",
    "                    print('SCBF infeasibility - change no. partitions')\n",
    "                    break\n",
    "            else:\n",
    "                action = policy.select_action(state, exploration=False)\n",
    "\n",
    "            state, reward, terminated, truncated, _ = env.env.step(action.squeeze().detach().numpy())\n",
    "            xy_list.append(state[:2])\n",
    "            \n",
    "            state = torch.tensor(state).unsqueeze(0)\n",
    "\n",
    "            current_frame += 1\n",
    "\n",
    "            if torch.any(env.h_function(state.unsqueeze(0)) < 0).item():\n",
    "                unsafe_frames.append(current_frame)\n",
    "                terminated = True\n",
    "            \n",
    "            done = terminated or truncated\n",
    "            \n",
    "            if done:\n",
    "                print(f'{idx}/{num_agents} done', end='\\r')\n",
    "                idx += 1\n",
    "        \n",
    "                if cbf_enabled:  \n",
    "                    np.save(f'LunarCBF/{idx}.npy', np.array(xy_list))\n",
    "                    np.save('LunarTermination/CBF.npy', np.array(unsafe_frames))\n",
    "                else:       \n",
    "                    np.save(f'LunarAgent/{idx}.npy', np.array(xy_list))\n",
    "                    np.save('LunarTermination/Agent.npy', np.array(unsafe_frames))\n",
    "    \n",
    "    env.env.close()"
   ]
  },
  {
   "cell_type": "code",
   "execution_count": 97,
   "id": "3a36d832c31264ff",
   "metadata": {
    "ExecuteTime": {
     "end_time": "2024-03-21T16:18:07.533260600Z",
     "start_time": "2024-03-21T16:18:07.495121400Z"
    },
    "collapsed": false
   },
   "outputs": [],
   "source": [
    "def plot_paths(num_agents=50, generate_data=False):\n",
    "    if not os.listdir('LunarAgent') or 'Agent.npy' not in os.listdir('LunarTermination') or generate_data:\n",
    "        mc_simulate(num_agents)\n",
    "    if os.listdir('LunarCBF') or 'CBF.npy' not in os.listdir('LunarTermination') or generate_data:\n",
    "        mc_simulate(num_agents, cbf_enabled=True)\n",
    "        \n",
    "    agent_trajectories = [np.load(f'LunarAgent/{fn}') for fn in os.listdir('LunarAgent')]\n",
    "    cbf_trajectories = [np.load(f'LunarCBF/{fn}') for fn in os.listdir('LunarCBF')]\n",
    "    \n",
    "    agent_frames = list(np.load('LunarTermination/Agent.npy'))\n",
    "    cbf_frames = list(np.load('LunarTermination/CBF.npy'))\n",
    "    \n",
    "    fig, ax = plt.subplots(1, 2, figsize=(9, 5))\n",
    "    \n",
    "    for agent_run in agent_trajectories:\n",
    "        ax[0].plot(*zip(*agent_run), color='r', alpha=0.1)\n",
    "    \n",
    "    for cbf_run in cbf_trajectories:\n",
    "        ax[1].plot(*zip(*cbf_run), color='g', alpha=0.1)\n",
    "    \n",
    "    ax[0].plot(*zip(agent_trajectories[0][0]), marker='o', color='black', markersize=5)\n",
    "    ax[1].plot(*zip(cbf_trajectories[0][0]), marker='o', color='black', markersize=5)\n",
    "        \n",
    "    ax[0].vlines([-x_bound, x_bound], 0., 1.5, colors='black', linestyles='dashed')\n",
    "    ax[1].vlines([-x_bound, x_bound], 0., 1.5, colors='black', linestyles='dashed')\n",
    "    \n",
    "    ax[0].set_xlim(-0.3, 0.3)\n",
    "    ax[1].set_xlim(-0.3, 0.3)\n",
    "    \n",
    "    ax[0].set_ylim(0., 1.5)\n",
    "    ax[1].set_ylim(0., 1.5)\n",
    "    \n",
    "    ax[0].set_title(f'No filter - {len(agent_frames)} violations')\n",
    "    ax[1].set_title(f'Stochastic CBF - {len(cbf_frames)} violations')\n",
    "    \n",
    "    plt.savefig('plots/LunarLander.png')\n",
    "    plt.show()"
   ]
  },
  {
   "cell_type": "code",
   "execution_count": 98,
   "id": "4f404e9858549d99",
   "metadata": {
    "ExecuteTime": {
     "end_time": "2024-03-21T16:33:02.424131300Z",
     "start_time": "2024-03-21T16:18:09.917481600Z"
    },
    "collapsed": false
   },
   "outputs": [
    {
     "name": "stdout",
     "output_type": "stream",
     "text": [
      "50/50 done\r"
     ]
    },
    {
     "name": "stderr",
     "output_type": "stream",
     "text": [
      "/Users/koentuin/anaconda3/envs/new_env/lib/python3.10/site-packages/cvxpy/problems/problem.py:1403: UserWarning: Solution may be inaccurate. Try another solver, adjusting the solver settings, or solve with verbose=True for more information.\n",
      "  warnings.warn(\n"
     ]
    },
    {
     "name": "stdout",
     "output_type": "stream",
     "text": [
      "50/50 done\r"
     ]
    },
    {
     "data": {
      "image/png": "[encoded data removed]",
      "text/plain": [
       "<Figure size 900x500 with 2 Axes>"
      ]
     },
     "metadata": {},
     "output_type": "display_data"
    }
   ],
   "source": [
    "plot_paths(num_agents=50, generate_data=True)"
   ]
  },
  {
   "cell_type": "code",
   "execution_count": 99,
   "id": "6043a93e6e840f3f",
   "metadata": {
    "ExecuteTime": {
     "start_time": "2024-03-21T14:58:51.137419500Z"
    },
    "collapsed": false
   },
   "outputs": [
    {
     "data": {
      "image/png": "[encoded data removed]",
      "text/plain": [
       "<Figure size 640x480 with 1 Axes>"
      ]
     },
     "metadata": {},
     "output_type": "display_data"
    }
   ],
   "source": [
    "file = plt.imread('plots/img.png')\n",
    "img = file[:600, 475 - int(125/2):725 + int(125/2), :]\n",
    "plt.imshow(img)\n",
    "\n",
    "x0 = int(125 * (3/2))  # flag center x coordinate\n",
    "dx = 125  # flag location wrt center\n",
    "\n",
    "vline = int((x_bound / 0.2) * dx)\n",
    "\n",
    "plt.vlines([x0-vline, x0+vline], 0., 600, colors='green', linestyles='dashed')\n",
    "plt.xticks([x0-vline, x0+vline], [f'-{x_bound}', f'{x_bound}'])\n",
    "\n",
    "plt.savefig('plots/LanderEnv.png')"
   ]
  },
  {
   "cell_type": "code",
   "execution_count": null,
   "id": "5e15a6dd6f6033cc",
   "metadata": {
    "ExecuteTime": {
     "start_time": "2024-03-21T14:58:51.140734400Z"
    },
    "collapsed": false
   },
   "outputs": [],
   "source": []
  }
 ],
 "metadata": {
  "kernelspec": {
   "display_name": "Python 3",
   "language": "python",
   "name": "python3"
  },
  "language_info": {
   "codemirror_mode": {
    "name": "ipython",
    "version": 2
   },
   "file_extension": ".py",
   "mimetype": "text/x-python",
   "name": "python",
   "nbconvert_exporter": "python",
   "pygments_lexer": "ipython2",
   "version": "2.7.6"
  }
 },
 "nbformat": 4,
 "nbformat_minor": 5
}
