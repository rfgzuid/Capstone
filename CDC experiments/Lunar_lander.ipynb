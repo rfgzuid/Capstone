{
 "cells": [
  {
   "cell_type": "code",
   "outputs": [],
   "source": [
    "from src.capstone.cbf import CBF, InfeasibilityError\n",
    "from src.capstone.settings import Env\n",
    "from src.capstone.noise import LunarLanderNoise\n",
    "from src.capstone.nndm import NNDM\n",
    "from src.capstone.ddpg import Actor\n",
    "\n",
    "import numpy as np\n",
    "import gymnasium as gym\n",
    "\n",
    "from bound_propagation.polynomial import Pow\n",
    "from bound_propagation.linear import FixedLinear\n",
    "\n",
    "import torch\n",
    "import torch.nn as nn\n",
    "import torch.optim as optim\n",
    "import torch.nn.functional as F\n",
    "\n",
    "import matplotlib.pyplot as plt\n",
    "from tqdm import tqdm"
   ],
   "metadata": {
    "collapsed": false,
    "ExecuteTime": {
     "end_time": "2024-03-16T12:28:28.721061Z",
     "start_time": "2024-03-16T12:28:24.498196900Z"
    }
   },
   "id": "1d0ad346f7944412",
   "execution_count": 1
  },
  {
   "cell_type": "markdown",
   "source": [
    "We make a plot similar to the Quadruped example of the Robust Safety paper (figure 1). In this case, we apply a simple constraint: an x range $[-0.2, 0.2]$ in which the Lander must remain. This corresponds to the positions of the flags that mark the landing area.\n",
    "\n",
    "$$h(x) = 1 - \\frac{x^2}{0.2^2} = 1-25x^2$$"
   ],
   "metadata": {
    "collapsed": false
   },
   "id": "686247da318bd92f"
  },
  {
   "cell_type": "code",
   "outputs": [],
   "source": [
    "# allows to set a bound (also on other values than x = 0.2)\n",
    "x_bound = 0.15"
   ],
   "metadata": {
    "collapsed": false,
    "ExecuteTime": {
     "end_time": "2024-03-16T12:28:28.726447100Z",
     "start_time": "2024-03-16T12:28:28.721061Z"
    }
   },
   "id": "34b7022b716e10f6",
   "execution_count": 2
  },
  {
   "cell_type": "code",
   "outputs": [],
   "source": [
    "class ContinuousLunarLander(Env):\n",
    "\n",
    "    def __init__(self, noise: list[float]) -> None:\n",
    "        env = gym.make(\"LunarLander-v2\", continuous=True)\n",
    "        \n",
    "        self.is_discrete = False\n",
    "\n",
    "        self.settings = {\n",
    "            'noise': {\n",
    "                'x': noise[0],\n",
    "                'y': noise[1],\n",
    "                'theta': noise[2],\n",
    "                'v_x': noise[3],\n",
    "                'v_y': noise[4],\n",
    "                'v_theta': noise[5]\n",
    "            },\n",
    "\n",
    "            'replay_size': 1_000_000,\n",
    "            'batch_size': 128,\n",
    "            'num_episodes': 3000,\n",
    "            'max_frames': 1000,  # so that the lander prioritizes landing quick\n",
    "\n",
    "            'gamma': 0.99,\n",
    "            'tau': 0.001,\n",
    "\n",
    "            'NNDM_layers': (64,),\n",
    "            'NNDM_activation': nn.Tanh,\n",
    "            'NNDM_criterion': nn.MSELoss,\n",
    "            'NNDM_optim': optim.Adam,\n",
    "            'NNDM_lr': 1e-3,\n",
    "\n",
    "            'Actor_layers': (256, 128, 64),\n",
    "            'Actor_activation': F.relu,\n",
    "            'Actor_optim': optim.AdamW,\n",
    "            'Actor_lr': 1e-4,\n",
    "            'Action_bound': 1.,  # action space is bounded to [-1, 1] - see gymnasium docs\n",
    "\n",
    "            'Critic_layers': {'s': (256, 128), 'a': (128,), 'concat': (128,)},\n",
    "            'Critic_activation': F.relu,\n",
    "            'Critic_criterion': nn.SmoothL1Loss,\n",
    "            'Critic_optim': optim.AdamW,\n",
    "            'Critic_lr': 1e-3,\n",
    "\n",
    "            'OU_mu': 0,\n",
    "            'OU_theta': 0.15,\n",
    "            'OU_sigma': 0.2\n",
    "        }\n",
    "\n",
    "        self.h_function = nn.Sequential(\n",
    "            FixedLinear(\n",
    "                torch.tensor([\n",
    "                    [1., 0, 0, 0, 0, 0, 0, 0]\n",
    "                ]),\n",
    "                torch.tensor([0.])\n",
    "            ),\n",
    "            Pow(2),\n",
    "            FixedLinear(\n",
    "                torch.tensor([\n",
    "                    [-1 / x_bound ** 2]\n",
    "                ]),\n",
    "                torch.tensor([1.])\n",
    "            )\n",
    "        )\n",
    "\n",
    "        self.h_ids = [0]\n",
    "        self.std = [noise[i] for i in self.h_ids]\n",
    "        self.env = LunarLanderNoise(env, self.settings['noise'])"
   ],
   "metadata": {
    "collapsed": false,
    "ExecuteTime": {
     "end_time": "2024-03-16T12:28:28.739139200Z",
     "start_time": "2024-03-16T12:28:28.731810800Z"
    }
   },
   "id": "e15de7928b029d8b",
   "execution_count": 3
  },
  {
   "cell_type": "code",
   "outputs": [],
   "source": [
    "# positions - 0.005, velocities - 0.025\n",
    "env = ContinuousLunarLander([0.025, 0.025, 0.05, 0.05, 0.025, 0.05])"
   ],
   "metadata": {
    "collapsed": false,
    "ExecuteTime": {
     "end_time": "2024-03-16T12:28:28.961147400Z",
     "start_time": "2024-03-16T12:28:28.740137Z"
    }
   },
   "id": "877adee4506914c9",
   "execution_count": 4
  },
  {
   "cell_type": "markdown",
   "source": [
    "# Alpha\n",
    "\n",
    "$$\\nabla^2 h = \\begin{bmatrix}\n",
    "-50\n",
    "\\end{bmatrix}$$\n",
    "\n",
    "$$\\nabla^2 h^T \\ \\nabla^2 h = \\begin{bmatrix}\n",
    "2500\n",
    "\\end{bmatrix}$$\n",
    "\n",
    "$$det(\\nabla^2 h^T \\ \\nabla^2 h - \\sigma I) = 2500 - \\sigma = 0$$\n",
    "\n",
    "$$\\sigma = 2500$$\n",
    "\n",
    "$$\\lambda_{max} = \\sqrt{\\sigma} = 50$$"
   ],
   "metadata": {
    "collapsed": false
   },
   "id": "831f9fd5046b35d6"
  },
  {
   "cell_type": "code",
   "outputs": [
    {
     "name": "stdout",
     "output_type": "stream",
     "text": [
      "Alpha is 0.951\n"
     ]
    }
   ],
   "source": [
    "lambda_max = 50\n",
    "\n",
    "stds = [0.005, 0.005, 0.025, 0.025, 0.005, 0.025]\n",
    "tr_cov = sum(std ** 2 for std in stds)\n",
    "\n",
    "psi = (lambda_max / 2) * tr_cov\n",
    "alpha = 1 - psi\n",
    "\n",
    "print(f'Alpha is {round(alpha, 3)}')"
   ],
   "metadata": {
    "collapsed": false,
    "ExecuteTime": {
     "end_time": "2024-03-16T12:28:28.973048600Z",
     "start_time": "2024-03-16T12:28:28.964867100Z"
    }
   },
   "id": "31777064c773a07f",
   "execution_count": 5
  },
  {
   "cell_type": "markdown",
   "source": [
    "# NNDM"
   ],
   "metadata": {
    "collapsed": false
   },
   "id": "9c59829bbf816d69"
  },
  {
   "cell_type": "code",
   "outputs": [
    {
     "data": {
      "text/plain": "<All keys matched successfully>"
     },
     "execution_count": 6,
     "metadata": {},
     "output_type": "execute_result"
    }
   ],
   "source": [
    "nndm = NNDM(env)\n",
    "nndm_params = torch.load(f'../models/NNDMs/{type(env).__name__}')\n",
    "nndm.load_state_dict(nndm_params)"
   ],
   "metadata": {
    "collapsed": false,
    "ExecuteTime": {
     "end_time": "2024-03-16T12:28:29.366370800Z",
     "start_time": "2024-03-16T12:28:28.973048600Z"
    }
   },
   "id": "dddb293fa7cb0f50",
   "execution_count": 6
  },
  {
   "cell_type": "markdown",
   "source": [
    "# Agent"
   ],
   "metadata": {
    "collapsed": false
   },
   "id": "c838daa599def751"
  },
  {
   "cell_type": "code",
   "outputs": [
    {
     "data": {
      "text/plain": "<All keys matched successfully>"
     },
     "execution_count": 7,
     "metadata": {},
     "output_type": "execute_result"
    }
   ],
   "source": [
    "policy = Actor(env)\n",
    "policy_params = torch.load(f'../models/Agents/{type(env).__name__}')\n",
    "policy.load_state_dict(policy_params)"
   ],
   "metadata": {
    "collapsed": false,
    "ExecuteTime": {
     "end_time": "2024-03-16T12:28:29.372954200Z",
     "start_time": "2024-03-16T12:28:29.365302500Z"
    }
   },
   "id": "d5e747cb97539b6f",
   "execution_count": 7
  },
  {
   "cell_type": "markdown",
   "source": [
    "# Evaluate"
   ],
   "metadata": {
    "collapsed": false
   },
   "id": "a263bcb7540f9c97"
  },
  {
   "cell_type": "code",
   "outputs": [],
   "source": [
    "cbf = CBF(env, nndm, policy,\n",
    "          alpha=[alpha],\n",
    "          delta=[0.],\n",
    "          no_action_partitions=8,\n",
    "          no_noise_partitions=8,\n",
    "          stochastic=True)"
   ],
   "metadata": {
    "collapsed": false,
    "ExecuteTime": {
     "end_time": "2024-03-16T12:28:29.416851900Z",
     "start_time": "2024-03-16T12:28:29.375073Z"
    }
   },
   "id": "a0a0a20a2d8de28a",
   "execution_count": 8
  },
  {
   "cell_type": "code",
   "outputs": [],
   "source": [
    "def mc_simulate(num_agents, cbf_enabled=False, seed=42):\n",
    "    trajectories = []\n",
    "    unsafe_frames = []\n",
    "\n",
    "    for _ in tqdm(range(num_agents)):\n",
    "        xy_list = []\n",
    "        state, _ = env.env.reset(seed=seed)\n",
    "        xy_list.append(state[:2])\n",
    "        \n",
    "        state = torch.tensor(state).unsqueeze(0)\n",
    "\n",
    "        current_frame = 0\n",
    "        done = False\n",
    "\n",
    "        while not done:\n",
    "            if cbf_enabled:\n",
    "                try:\n",
    "                    action = cbf.safe_action(state)\n",
    "                except InfeasibilityError:\n",
    "                    print('SCBF infeasibility - change no. partitions')\n",
    "                    break\n",
    "            else:\n",
    "                action = policy.select_action(state, exploration=False)\n",
    "\n",
    "            state, reward, terminated, truncated, _ = env.env.step(action.squeeze().detach().numpy())\n",
    "            xy_list.append(state[:2])\n",
    "            \n",
    "            state = torch.tensor(state).unsqueeze(0)\n",
    "\n",
    "            current_frame += 1\n",
    "\n",
    "            if torch.any(env.h_function(state.unsqueeze(0)) < 0).item():\n",
    "                unsafe_frames.append(current_frame)\n",
    "                terminated = True\n",
    "\n",
    "            done = terminated or truncated\n",
    "        trajectories.append(np.array(xy_list))\n",
    "\n",
    "    env.env.close()\n",
    "    return unsafe_frames, trajectories"
   ],
   "metadata": {
    "collapsed": false,
    "ExecuteTime": {
     "end_time": "2024-03-16T12:28:29.416851900Z",
     "start_time": "2024-03-16T12:28:29.388744100Z"
    }
   },
   "id": "f92c3297947f50f9",
   "execution_count": 9
  },
  {
   "cell_type": "code",
   "outputs": [],
   "source": [
    "def plot_paths(num_agents=50):\n",
    "    agent_frames, agent_trajectories = mc_simulate(num_agents)\n",
    "    cbf_frames, cbf_trajectories = mc_simulate(num_agents, cbf_enabled=True)\n",
    "    \n",
    "    fig, ax = plt.subplots(1, 2, figsize=(9, 5))\n",
    "    \n",
    "    for agent_run in agent_trajectories:\n",
    "        ax[0].plot(*zip(*agent_run), color='r', alpha=0.1)\n",
    "    \n",
    "    for cbf_run in cbf_trajectories:\n",
    "        ax[1].plot(*zip(*cbf_run), color='g', alpha=0.1)\n",
    "    \n",
    "    ax[0].plot(*zip(agent_trajectories[0][0]), marker='o', color='black', markersize=5)\n",
    "    ax[1].plot(*zip(cbf_trajectories[0][0]), marker='o', color='black', markersize=5)\n",
    "        \n",
    "    ax[0].vlines([-x_bound, x_bound], 0., 1.5, colors='black', linestyles='dashed')\n",
    "    ax[1].vlines([-x_bound, x_bound], 0., 1.5, colors='black', linestyles='dashed')\n",
    "    \n",
    "    ax[0].set_xlim(-0.3, 0.3)\n",
    "    ax[1].set_xlim(-0.3, 0.3)\n",
    "    \n",
    "    ax[0].set_ylim(0., 1.5)\n",
    "    ax[1].set_ylim(0., 1.5)\n",
    "    \n",
    "    ax[0].set_title(f'No filter - {len(agent_frames)} violations')\n",
    "    ax[1].set_title(f'Stochastic CBF - {len(cbf_frames)} violations')\n",
    "    \n",
    "    plt.savefig('plots/LunarLander.png')\n",
    "    plt.show()"
   ],
   "metadata": {
    "collapsed": false,
    "ExecuteTime": {
     "end_time": "2024-03-16T12:28:29.417882Z",
     "start_time": "2024-03-16T12:28:29.396433500Z"
    }
   },
   "id": "3a36d832c31264ff",
   "execution_count": 10
  },
  {
   "cell_type": "code",
   "outputs": [
    {
     "name": "stderr",
     "output_type": "stream",
     "text": [
      "100%|██████████| 50/50 [00:03<00:00, 14.13it/s]\n",
      "  2%|▏         | 1/50 [00:01<00:50,  1.04s/it]"
     ]
    },
    {
     "name": "stdout",
     "output_type": "stream",
     "text": [
      "SCBF infeasibility - change no. partitions\n"
     ]
    },
    {
     "name": "stderr",
     "output_type": "stream",
     "text": [
      "  6%|▌         | 3/50 [00:02<00:28,  1.64it/s]"
     ]
    },
    {
     "name": "stdout",
     "output_type": "stream",
     "text": [
      "SCBF infeasibility - change no. partitions\n"
     ]
    },
    {
     "name": "stderr",
     "output_type": "stream",
     "text": [
      "  8%|▊         | 4/50 [00:03<00:37,  1.24it/s]"
     ]
    },
    {
     "name": "stdout",
     "output_type": "stream",
     "text": [
      "SCBF infeasibility - change no. partitions\n"
     ]
    },
    {
     "name": "stderr",
     "output_type": "stream",
     "text": [
      " 10%|█         | 5/50 [00:04<00:40,  1.12it/s]"
     ]
    },
    {
     "name": "stdout",
     "output_type": "stream",
     "text": [
      "SCBF infeasibility - change no. partitions\n"
     ]
    },
    {
     "name": "stderr",
     "output_type": "stream",
     "text": [
      " 12%|█▏        | 6/50 [00:05<00:39,  1.10it/s]"
     ]
    },
    {
     "name": "stdout",
     "output_type": "stream",
     "text": [
      "SCBF infeasibility - change no. partitions\n"
     ]
    },
    {
     "name": "stderr",
     "output_type": "stream",
     "text": [
      " 14%|█▍        | 7/50 [00:06<00:40,  1.07it/s]"
     ]
    },
    {
     "name": "stdout",
     "output_type": "stream",
     "text": [
      "SCBF infeasibility - change no. partitions\n"
     ]
    },
    {
     "name": "stderr",
     "output_type": "stream",
     "text": [
      " 16%|█▌        | 8/50 [00:07<00:39,  1.06it/s]"
     ]
    },
    {
     "name": "stdout",
     "output_type": "stream",
     "text": [
      "SCBF infeasibility - change no. partitions\n"
     ]
    },
    {
     "name": "stderr",
     "output_type": "stream",
     "text": [
      " 18%|█▊        | 9/50 [00:08<00:40,  1.02it/s]"
     ]
    },
    {
     "name": "stdout",
     "output_type": "stream",
     "text": [
      "SCBF infeasibility - change no. partitions\n"
     ]
    },
    {
     "name": "stderr",
     "output_type": "stream",
     "text": [
      " 20%|██        | 10/50 [00:09<00:39,  1.01it/s]"
     ]
    },
    {
     "name": "stdout",
     "output_type": "stream",
     "text": [
      "SCBF infeasibility - change no. partitions\n"
     ]
    },
    {
     "name": "stderr",
     "output_type": "stream",
     "text": [
      " 22%|██▏       | 11/50 [00:10<00:37,  1.03it/s]"
     ]
    },
    {
     "name": "stdout",
     "output_type": "stream",
     "text": [
      "SCBF infeasibility - change no. partitions\n"
     ]
    },
    {
     "name": "stderr",
     "output_type": "stream",
     "text": [
      " 24%|██▍       | 12/50 [00:11<00:37,  1.01it/s]"
     ]
    },
    {
     "name": "stdout",
     "output_type": "stream",
     "text": [
      "SCBF infeasibility - change no. partitions\n"
     ]
    },
    {
     "name": "stderr",
     "output_type": "stream",
     "text": [
      " 26%|██▌       | 13/50 [00:12<00:36,  1.02it/s]"
     ]
    },
    {
     "name": "stdout",
     "output_type": "stream",
     "text": [
      "SCBF infeasibility - change no. partitions\n"
     ]
    },
    {
     "name": "stderr",
     "output_type": "stream",
     "text": [
      " 28%|██▊       | 14/50 [00:13<00:35,  1.02it/s]"
     ]
    },
    {
     "name": "stdout",
     "output_type": "stream",
     "text": [
      "SCBF infeasibility - change no. partitions\n"
     ]
    },
    {
     "name": "stderr",
     "output_type": "stream",
     "text": [
      " 32%|███▏      | 16/50 [00:14<00:24,  1.41it/s]"
     ]
    },
    {
     "name": "stdout",
     "output_type": "stream",
     "text": [
      "SCBF infeasibility - change no. partitions\n"
     ]
    },
    {
     "name": "stderr",
     "output_type": "stream",
     "text": [
      " 34%|███▍      | 17/50 [00:15<00:27,  1.20it/s]"
     ]
    },
    {
     "name": "stdout",
     "output_type": "stream",
     "text": [
      "SCBF infeasibility - change no. partitions\n"
     ]
    },
    {
     "name": "stderr",
     "output_type": "stream",
     "text": [
      " 36%|███▌      | 18/50 [00:16<00:28,  1.14it/s]"
     ]
    },
    {
     "name": "stdout",
     "output_type": "stream",
     "text": [
      "SCBF infeasibility - change no. partitions\n"
     ]
    },
    {
     "name": "stderr",
     "output_type": "stream",
     "text": [
      " 38%|███▊      | 19/50 [00:17<00:30,  1.03it/s]"
     ]
    },
    {
     "name": "stdout",
     "output_type": "stream",
     "text": [
      "SCBF infeasibility - change no. partitions\n"
     ]
    },
    {
     "name": "stderr",
     "output_type": "stream",
     "text": [
      " 40%|████      | 20/50 [00:18<00:30,  1.02s/it]"
     ]
    },
    {
     "name": "stdout",
     "output_type": "stream",
     "text": [
      "SCBF infeasibility - change no. partitions\n"
     ]
    },
    {
     "name": "stderr",
     "output_type": "stream",
     "text": [
      " 42%|████▏     | 21/50 [00:19<00:29,  1.02s/it]"
     ]
    },
    {
     "name": "stdout",
     "output_type": "stream",
     "text": [
      "SCBF infeasibility - change no. partitions\n"
     ]
    },
    {
     "name": "stderr",
     "output_type": "stream",
     "text": [
      " 44%|████▍     | 22/50 [00:21<00:35,  1.27s/it]"
     ]
    },
    {
     "name": "stdout",
     "output_type": "stream",
     "text": [
      "SCBF infeasibility - change no. partitions\n"
     ]
    },
    {
     "name": "stderr",
     "output_type": "stream",
     "text": [
      " 46%|████▌     | 23/50 [00:22<00:32,  1.19s/it]"
     ]
    },
    {
     "name": "stdout",
     "output_type": "stream",
     "text": [
      "SCBF infeasibility - change no. partitions\n"
     ]
    },
    {
     "name": "stderr",
     "output_type": "stream",
     "text": [
      " 48%|████▊     | 24/50 [00:23<00:29,  1.14s/it]"
     ]
    },
    {
     "name": "stdout",
     "output_type": "stream",
     "text": [
      "SCBF infeasibility - change no. partitions\n"
     ]
    },
    {
     "name": "stderr",
     "output_type": "stream",
     "text": [
      " 50%|█████     | 25/50 [00:24<00:27,  1.08s/it]"
     ]
    },
    {
     "name": "stdout",
     "output_type": "stream",
     "text": [
      "SCBF infeasibility - change no. partitions\n"
     ]
    },
    {
     "name": "stderr",
     "output_type": "stream",
     "text": [
      " 52%|█████▏    | 26/50 [00:25<00:26,  1.11s/it]"
     ]
    },
    {
     "name": "stdout",
     "output_type": "stream",
     "text": [
      "SCBF infeasibility - change no. partitions\n"
     ]
    },
    {
     "name": "stderr",
     "output_type": "stream",
     "text": [
      " 54%|█████▍    | 27/50 [00:26<00:25,  1.11s/it]"
     ]
    },
    {
     "name": "stdout",
     "output_type": "stream",
     "text": [
      "SCBF infeasibility - change no. partitions\n"
     ]
    },
    {
     "name": "stderr",
     "output_type": "stream",
     "text": [
      " 56%|█████▌    | 28/50 [00:27<00:24,  1.12s/it]"
     ]
    },
    {
     "name": "stdout",
     "output_type": "stream",
     "text": [
      "SCBF infeasibility - change no. partitions\n"
     ]
    },
    {
     "name": "stderr",
     "output_type": "stream",
     "text": [
      " 58%|█████▊    | 29/50 [00:28<00:22,  1.09s/it]"
     ]
    },
    {
     "name": "stdout",
     "output_type": "stream",
     "text": [
      "SCBF infeasibility - change no. partitions\n"
     ]
    },
    {
     "name": "stderr",
     "output_type": "stream",
     "text": [
      " 60%|██████    | 30/50 [00:30<00:21,  1.08s/it]"
     ]
    },
    {
     "name": "stdout",
     "output_type": "stream",
     "text": [
      "SCBF infeasibility - change no. partitions\n"
     ]
    },
    {
     "name": "stderr",
     "output_type": "stream",
     "text": [
      " 62%|██████▏   | 31/50 [00:31<00:20,  1.08s/it]"
     ]
    },
    {
     "name": "stdout",
     "output_type": "stream",
     "text": [
      "SCBF infeasibility - change no. partitions\n"
     ]
    },
    {
     "name": "stderr",
     "output_type": "stream",
     "text": [
      " 64%|██████▍   | 32/50 [00:32<00:19,  1.06s/it]"
     ]
    },
    {
     "name": "stdout",
     "output_type": "stream",
     "text": [
      "SCBF infeasibility - change no. partitions\n"
     ]
    },
    {
     "name": "stderr",
     "output_type": "stream",
     "text": [
      " 66%|██████▌   | 33/50 [00:33<00:17,  1.04s/it]"
     ]
    },
    {
     "name": "stdout",
     "output_type": "stream",
     "text": [
      "SCBF infeasibility - change no. partitions\n"
     ]
    },
    {
     "name": "stderr",
     "output_type": "stream",
     "text": [
      " 68%|██████▊   | 34/50 [00:34<00:16,  1.04s/it]"
     ]
    },
    {
     "name": "stdout",
     "output_type": "stream",
     "text": [
      "SCBF infeasibility - change no. partitions\n"
     ]
    },
    {
     "name": "stderr",
     "output_type": "stream",
     "text": [
      " 70%|███████   | 35/50 [00:35<00:15,  1.05s/it]"
     ]
    },
    {
     "name": "stdout",
     "output_type": "stream",
     "text": [
      "SCBF infeasibility - change no. partitions\n"
     ]
    },
    {
     "name": "stderr",
     "output_type": "stream",
     "text": [
      " 72%|███████▏  | 36/50 [00:36<00:15,  1.09s/it]"
     ]
    },
    {
     "name": "stdout",
     "output_type": "stream",
     "text": [
      "SCBF infeasibility - change no. partitions\n"
     ]
    },
    {
     "name": "stderr",
     "output_type": "stream",
     "text": [
      " 74%|███████▍  | 37/50 [00:37<00:13,  1.07s/it]"
     ]
    },
    {
     "name": "stdout",
     "output_type": "stream",
     "text": [
      "SCBF infeasibility - change no. partitions\n"
     ]
    },
    {
     "name": "stderr",
     "output_type": "stream",
     "text": [
      " 78%|███████▊  | 39/50 [00:38<00:08,  1.30it/s]"
     ]
    },
    {
     "name": "stdout",
     "output_type": "stream",
     "text": [
      "SCBF infeasibility - change no. partitions\n"
     ]
    },
    {
     "name": "stderr",
     "output_type": "stream",
     "text": [
      " 80%|████████  | 40/50 [00:39<00:08,  1.14it/s]"
     ]
    },
    {
     "name": "stdout",
     "output_type": "stream",
     "text": [
      "SCBF infeasibility - change no. partitions\n"
     ]
    },
    {
     "name": "stderr",
     "output_type": "stream",
     "text": [
      " 82%|████████▏ | 41/50 [00:40<00:08,  1.08it/s]"
     ]
    },
    {
     "name": "stdout",
     "output_type": "stream",
     "text": [
      "SCBF infeasibility - change no. partitions\n"
     ]
    },
    {
     "name": "stderr",
     "output_type": "stream",
     "text": [
      " 84%|████████▍ | 42/50 [00:41<00:08,  1.00s/it]"
     ]
    },
    {
     "name": "stdout",
     "output_type": "stream",
     "text": [
      "SCBF infeasibility - change no. partitions\n"
     ]
    },
    {
     "name": "stderr",
     "output_type": "stream",
     "text": [
      " 86%|████████▌ | 43/50 [00:43<00:07,  1.05s/it]"
     ]
    },
    {
     "name": "stdout",
     "output_type": "stream",
     "text": [
      "SCBF infeasibility - change no. partitions\n"
     ]
    },
    {
     "name": "stderr",
     "output_type": "stream",
     "text": [
      " 88%|████████▊ | 44/50 [00:44<00:06,  1.10s/it]"
     ]
    },
    {
     "name": "stdout",
     "output_type": "stream",
     "text": [
      "SCBF infeasibility - change no. partitions\n"
     ]
    },
    {
     "name": "stderr",
     "output_type": "stream",
     "text": [
      " 90%|█████████ | 45/50 [00:45<00:05,  1.07s/it]"
     ]
    },
    {
     "name": "stdout",
     "output_type": "stream",
     "text": [
      "SCBF infeasibility - change no. partitions\n"
     ]
    },
    {
     "name": "stderr",
     "output_type": "stream",
     "text": [
      " 92%|█████████▏| 46/50 [00:46<00:04,  1.04s/it]"
     ]
    },
    {
     "name": "stdout",
     "output_type": "stream",
     "text": [
      "SCBF infeasibility - change no. partitions\n"
     ]
    },
    {
     "name": "stderr",
     "output_type": "stream",
     "text": [
      " 94%|█████████▍| 47/50 [00:47<00:03,  1.08s/it]"
     ]
    },
    {
     "name": "stdout",
     "output_type": "stream",
     "text": [
      "SCBF infeasibility - change no. partitions\n"
     ]
    },
    {
     "name": "stderr",
     "output_type": "stream",
     "text": [
      " 96%|█████████▌| 48/50 [00:48<00:02,  1.08s/it]"
     ]
    },
    {
     "name": "stdout",
     "output_type": "stream",
     "text": [
      "SCBF infeasibility - change no. partitions\n"
     ]
    },
    {
     "name": "stderr",
     "output_type": "stream",
     "text": [
      " 98%|█████████▊| 49/50 [00:49<00:01,  1.06s/it]"
     ]
    },
    {
     "name": "stdout",
     "output_type": "stream",
     "text": [
      "SCBF infeasibility - change no. partitions\n"
     ]
    },
    {
     "name": "stderr",
     "output_type": "stream",
     "text": [
      "100%|██████████| 50/50 [00:50<00:00,  1.01s/it]"
     ]
    },
    {
     "name": "stdout",
     "output_type": "stream",
     "text": [
      "SCBF infeasibility - change no. partitions\n"
     ]
    },
    {
     "name": "stderr",
     "output_type": "stream",
     "text": [
      "\n"
     ]
    },
    {
     "data": {
      "text/plain": "<Figure size 900x500 with 2 Axes>",
      "image/png": "[encoded data removed]"
     },
     "metadata": {},
     "output_type": "display_data"
    }
   ],
   "source": [
    "plot_paths()"
   ],
   "metadata": {
    "collapsed": false,
    "ExecuteTime": {
     "end_time": "2024-03-16T12:29:24.001149500Z",
     "start_time": "2024-03-16T12:28:29.402359500Z"
    }
   },
   "id": "4f404e9858549d99",
   "execution_count": 11
  },
  {
   "cell_type": "code",
   "outputs": [],
   "source": [],
   "metadata": {
    "collapsed": false,
    "ExecuteTime": {
     "end_time": "2024-03-16T12:29:24.008812800Z",
     "start_time": "2024-03-16T12:29:24.003486900Z"
    }
   },
   "id": "2806cd4b09be400d",
   "execution_count": 11
  }
 ],
 "metadata": {
  "kernelspec": {
   "display_name": "Python 3",
   "language": "python",
   "name": "python3"
  },
  "language_info": {
   "codemirror_mode": {
    "name": "ipython",
    "version": 2
   },
   "file_extension": ".py",
   "mimetype": "text/x-python",
   "name": "python",
   "nbconvert_exporter": "python",
   "pygments_lexer": "ipython2",
   "version": "2.7.6"
  }
 },
 "nbformat": 4,
 "nbformat_minor": 5
}
