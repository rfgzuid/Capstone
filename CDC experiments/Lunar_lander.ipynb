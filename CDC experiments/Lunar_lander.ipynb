{
 "cells": [
  {
   "cell_type": "code",
   "execution_count": null,
   "id": "initial_id",
   "metadata": {
    "collapsed": true
   },
   "outputs": [],
   "source": [
    "from src.capstone.evaluation import Evaluator\n",
    "from src.capstone.cbf import CBF, InfeasibilityError\n",
    "from src.capstone.settings import Env\n",
    "\n",
    "import numpy as np\n",
    "import gymnasium as gym\n",
    "\n",
    "import torch\n",
    "import torch.nn as nn\n",
    "\n",
    "from tqdm import tqdm\n",
    "import matplotlib.pyplot as plt\n",
    "from scipy.interpolate import RegularGridInterpolator"
   ]
  },
  {
   "cell_type": "code",
   "outputs": [],
   "source": [
    "class ContinuousLunarLander(Env):\n",
    "\n",
    "    def __init__(self, noise: list[float]) -> None:\n",
    "        if len(noise) != 6:\n",
    "            raise ValueError(f'6 noise values expected, got {len(noise)}')\n",
    "\n",
    "        env = gym.make(\"LunarLander-v2\", continuous=True)\n",
    "        self.is_discrete = False\n",
    "\n",
    "        self.settings = {\n",
    "            'noise': {\n",
    "                'x': noise[0],\n",
    "                'y': noise[1],\n",
    "                'theta': noise[2],\n",
    "                'v_x': noise[3],\n",
    "                'v_y': noise[4],\n",
    "                'v_theta': noise[5]\n",
    "            },\n",
    "\n",
    "            'replay_size': 1_000_000,\n",
    "            'batch_size': 128,\n",
    "            'num_episodes': 3000,\n",
    "            'max_frames': 1000,  # so that the lander prioritizes landing quick\n",
    "\n",
    "            'gamma': 0.99,\n",
    "            'tau': 0.001,\n",
    "\n",
    "            'NNDM_layers': (64,),\n",
    "            'NNDM_activation': nn.Tanh,\n",
    "            'NNDM_criterion': nn.MSELoss,\n",
    "            'NNDM_optim': optim.Adam,\n",
    "            'NNDM_lr': 1e-3,\n",
    "\n",
    "            'Actor_layers': (256, 128, 64),\n",
    "            'Actor_activation': F.relu,\n",
    "            'Actor_optim': optim.AdamW,\n",
    "            'Actor_lr': 1e-4,\n",
    "            'Action_bound': 1.,  # action space is bounded to [-1, 1] - see gymnasium docs\n",
    "\n",
    "            'Critic_layers': {'s': (256, 128), 'a': (128,), 'concat': (128,)},\n",
    "            'Critic_activation': F.relu,\n",
    "            'Critic_criterion': nn.SmoothL1Loss,\n",
    "            'Critic_optim': optim.AdamW,\n",
    "            'Critic_lr': 1e-3,\n",
    "\n",
    "            'OU_mu': 0,\n",
    "            'OU_theta': 0.15,\n",
    "            'OU_sigma': 0.2\n",
    "        }\n",
    "\n",
    "        # 1 - x{0}^2 / 0.2^2\n",
    "        # 1 - x{4}^2 / rad(20)^2\n",
    "        self.h_function = nn.Sequential(\n",
    "            FixedLinear(\n",
    "                torch.tensor([\n",
    "                    [1., 0, 0, 0, 0, 0, 0, 0],\n",
    "                    [0, 0, 0, 0, 1., 0, 0, 0]\n",
    "                ]),\n",
    "                torch.tensor([0., 0.])\n",
    "            ),\n",
    "            Pow(2),\n",
    "            FixedLinear(\n",
    "                torch.tensor([\n",
    "                    [-1 / 0.2 ** 2, 0],\n",
    "                    [0, -1 / math.radians(20.) ** 2]\n",
    "                ]),\n",
    "                torch.tensor([1., 1.])\n",
    "            )\n",
    "        )\n",
    "\n",
    "        self.h_ids = [0, 4]\n",
    "        self.std = [noise[i] for i in self.h_ids]\n",
    "        self.env = LunarLanderNoise(env, self.settings['noise'])"
   ],
   "metadata": {
    "collapsed": false
   },
   "id": "9405d5b4906187f5"
  },
  {
   "cell_type": "code",
   "outputs": [],
   "source": [
    "nndm = NNDM(env)\n",
    "nndm_params = torch.load(f'../models/NNDMs/{type(env).__name__}')\n",
    "nndm.load_state_dict(nndm_params)"
   ],
   "metadata": {
    "collapsed": false
   },
   "id": "d75ab89ed616a7ec"
  }
 ],
 "metadata": {
  "kernelspec": {
   "display_name": "Python 3",
   "language": "python",
   "name": "python3"
  },
  "language_info": {
   "codemirror_mode": {
    "name": "ipython",
    "version": 2
   },
   "file_extension": ".py",
   "mimetype": "text/x-python",
   "name": "python",
   "nbconvert_exporter": "python",
   "pygments_lexer": "ipython2",
   "version": "2.7.6"
  }
 },
 "nbformat": 4,
 "nbformat_minor": 5
}
