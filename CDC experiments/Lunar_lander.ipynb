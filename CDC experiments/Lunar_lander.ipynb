{
 "cells": [
  {
   "cell_type": "code",
   "outputs": [],
   "source": [
    "from src.capstone.cbf import CBF, InfeasibilityError\n",
    "from src.capstone.settings import Env\n",
    "from src.capstone.noise import LunarLanderNoise\n",
    "from src.capstone.nndm import NNDM\n",
    "from src.capstone.ddpg import Actor\n",
    "\n",
    "import numpy as np\n",
    "import gymnasium as gym\n",
    "\n",
    "from bound_propagation.polynomial import Pow\n",
    "from bound_propagation.linear import FixedLinear\n",
    "\n",
    "import torch\n",
    "import torch.nn as nn\n",
    "import torch.optim as optim\n",
    "import torch.nn.functional as F\n",
    "\n",
    "import matplotlib.pyplot as plt\n",
    "from tqdm import tqdm\n",
    "\n",
    "import os"
   ],
   "metadata": {
    "collapsed": false,
    "ExecuteTime": {
     "end_time": "2024-03-22T11:11:32.976137400Z",
     "start_time": "2024-03-22T11:11:32.970719800Z"
    }
   },
   "id": "1d0ad346f7944412",
   "execution_count": 16
  },
  {
   "cell_type": "markdown",
   "source": [
    "We make a plot similar to the Quadruped example of the Robust Safety paper (figure 1). In this case, we apply a simple constraint: an x range $[-0.2, 0.2]$ in which the Lander must remain. This corresponds to the positions of the flags that mark the landing area.\n",
    "\n",
    "$$h(x) = 1 - \\frac{x^2}{0.2^2} = 1-25x^2$$"
   ],
   "metadata": {
    "collapsed": false
   },
   "id": "686247da318bd92f"
  },
  {
   "cell_type": "code",
   "outputs": [],
   "source": [
    "# allows to set a bound (also on other values than x = 0.2)\n",
    "x_bound = 0.15"
   ],
   "metadata": {
    "collapsed": false,
    "ExecuteTime": {
     "end_time": "2024-03-22T11:11:33.568815200Z",
     "start_time": "2024-03-22T11:11:33.565812900Z"
    }
   },
   "id": "34b7022b716e10f6",
   "execution_count": 17
  },
  {
   "cell_type": "code",
   "outputs": [],
   "source": [
    "\n",
    "class ContinuousLunarLander(Env):\n",
    "\n",
    "    def __init__(self, noise: list[float]) -> None:\n",
    "        env = gym.make(\"LunarLander-v2\", continuous=True)\n",
    "        \n",
    "        self.is_discrete = False\n",
    "\n",
    "        self.settings = {\n",
    "            'noise': {\n",
    "                'x': noise[0],\n",
    "                'y': noise[1],\n",
    "                'theta': noise[2],\n",
    "                'v_x': noise[3],\n",
    "                'v_y': noise[4],\n",
    "                'v_theta': noise[5]\n",
    "            },\n",
    "\n",
    "            'replay_size': 1_000_000,\n",
    "            'batch_size': 128,\n",
    "            'num_episodes': 3000,\n",
    "            'max_frames': 1000,  # so that the lander prioritizes landing quick\n",
    "\n",
    "            'gamma': 0.99,\n",
    "            'tau': 0.001,\n",
    "\n",
    "            'NNDM_layers': (64,),\n",
    "            'NNDM_activation': nn.Tanh,\n",
    "            'NNDM_criterion': nn.MSELoss,\n",
    "            'NNDM_optim': optim.Adam,\n",
    "            'NNDM_lr': 1e-3,\n",
    "\n",
    "            'Actor_layers': (256, 128, 64),\n",
    "            'Actor_activation': F.relu,\n",
    "            'Actor_optim': optim.AdamW,\n",
    "            'Actor_lr': 1e-4,\n",
    "            'Action_bound': 1.,  # action space is bounded to [-1, 1] - see gymnasium docs\n",
    "\n",
    "            'Critic_layers': {'s': (256, 128), 'a': (128,), 'concat': (128,)},\n",
    "            'Critic_activation': F.relu,\n",
    "            'Critic_criterion': nn.SmoothL1Loss,\n",
    "            'Critic_optim': optim.AdamW,\n",
    "            'Critic_lr': 1e-3,\n",
    "\n",
    "            'OU_mu': 0,\n",
    "            'OU_theta': 0.15,\n",
    "            'OU_sigma': 0.2\n",
    "        }\n",
    "\n",
    "        self.h_function = nn.Sequential(\n",
    "            FixedLinear(\n",
    "                torch.tensor([\n",
    "                    [1., 0, 0, 0, 0, 0, 0, 0],\n",
    "                    [0, 0, 1., 0, 0, 0, 0, 0]\n",
    "                ]),\n",
    "                torch.tensor([0., 0.])\n",
    "            ),\n",
    "            Pow(2),\n",
    "            FixedLinear(\n",
    "                torch.tensor([\n",
    "                    [-1 / x_bound ** 2, 0],\n",
    "                    [0, -1 / 4. ** 2]\n",
    "                ]),\n",
    "                torch.tensor([1., 1.])\n",
    "            )\n",
    "        )\n",
    "\n",
    "        self.h_ids = [0, 2]\n",
    "        self.std = [noise[i] for i in self.h_ids]\n",
    "        self.env = LunarLanderNoise(env, self.settings['noise'])"
   ],
   "metadata": {
    "collapsed": false,
    "ExecuteTime": {
     "end_time": "2024-03-22T11:11:33.847929600Z",
     "start_time": "2024-03-22T11:11:33.838171800Z"
    }
   },
   "id": "e15de7928b029d8b",
   "execution_count": 18
  },
  {
   "cell_type": "code",
   "outputs": [],
   "source": [
    "# positions - 0.005, velocities - 0.025\n",
    "env = ContinuousLunarLander([0.005, 0.005, 0.025, 0.025, 0.005, 0.025])"
   ],
   "metadata": {
    "collapsed": false,
    "ExecuteTime": {
     "end_time": "2024-03-22T11:11:34.061195600Z",
     "start_time": "2024-03-22T11:11:34.055203500Z"
    }
   },
   "id": "877adee4506914c9",
   "execution_count": 19
  },
  {
   "cell_type": "markdown",
   "source": [
    "# Alpha\n",
    "\n",
    "$$\\nabla^2 h = \\begin{bmatrix}\n",
    "-50\n",
    "\\end{bmatrix}$$\n",
    "\n",
    "$$\\nabla^2 h^T \\ \\nabla^2 h = \\begin{bmatrix}\n",
    "2500\n",
    "\\end{bmatrix}$$\n",
    "\n",
    "$$det(\\nabla^2 h^T \\ \\nabla^2 h - \\sigma I) = 2500 - \\sigma = 0$$\n",
    "\n",
    "$$\\sigma = 2500$$\n",
    "\n",
    "$$\\lambda_{max} = \\sqrt{\\sigma} = 50$$"
   ],
   "metadata": {
    "collapsed": false
   },
   "id": "831f9fd5046b35d6"
  },
  {
   "cell_type": "code",
   "outputs": [
    {
     "name": "stdout",
     "output_type": "stream",
     "text": [
      "Alpha is 0.98\n"
     ]
    }
   ],
   "source": [
    "lambda_max = 50\n",
    "\n",
    "stds = [0.005, 0.005, 0.025, 0.025, 0.005, 0.025]\n",
    "tr_cov = sum(std ** 2 for std in stds)\n",
    "\n",
    "psi = (lambda_max / 2) * tr_cov\n",
    "alpha = 1 - psi\n",
    "\n",
    "alpha = 0.98\n",
    "\n",
    "print(f'Alpha is {round(alpha, 3)}')"
   ],
   "metadata": {
    "collapsed": false,
    "ExecuteTime": {
     "end_time": "2024-03-22T11:11:34.640522400Z",
     "start_time": "2024-03-22T11:11:34.636021400Z"
    }
   },
   "id": "31777064c773a07f",
   "execution_count": 20
  },
  {
   "cell_type": "markdown",
   "source": [
    "# NNDM"
   ],
   "metadata": {
    "collapsed": false
   },
   "id": "9c59829bbf816d69"
  },
  {
   "cell_type": "code",
   "outputs": [
    {
     "data": {
      "text/plain": "<All keys matched successfully>"
     },
     "execution_count": 21,
     "metadata": {},
     "output_type": "execute_result"
    }
   ],
   "source": [
    "nndm = NNDM(env)\n",
    "nndm_params = torch.load(f'../models/NNDMs/{type(env).__name__}')\n",
    "nndm.load_state_dict(nndm_params)"
   ],
   "metadata": {
    "collapsed": false,
    "ExecuteTime": {
     "end_time": "2024-03-22T11:11:35.768544800Z",
     "start_time": "2024-03-22T11:11:35.355582Z"
    }
   },
   "id": "dddb293fa7cb0f50",
   "execution_count": 21
  },
  {
   "cell_type": "code",
   "outputs": [
    {
     "ename": "ValueError",
     "evalue": "cannot reshape array of size 20402 into shape (101,101)",
     "output_type": "error",
     "traceback": [
      "\u001B[1;31m---------------------------------------------------------------------------\u001B[0m",
      "\u001B[1;31mValueError\u001B[0m                                Traceback (most recent call last)",
      "Cell \u001B[1;32mIn[22], line 16\u001B[0m\n\u001B[0;32m     13\u001B[0m hs \u001B[38;5;241m=\u001B[39m env\u001B[38;5;241m.\u001B[39mh_function(next_states)\n\u001B[0;32m     15\u001B[0m xg, yg \u001B[38;5;241m=\u001B[39m np\u001B[38;5;241m.\u001B[39mmeshgrid(x, xdot)\n\u001B[1;32m---> 16\u001B[0m clrs \u001B[38;5;241m=\u001B[39m \u001B[43mhs\u001B[49m\u001B[38;5;241;43m.\u001B[39;49m\u001B[43mnumpy\u001B[49m\u001B[43m(\u001B[49m\u001B[43m)\u001B[49m\u001B[38;5;241;43m.\u001B[39;49m\u001B[43mreshape\u001B[49m\u001B[43m(\u001B[49m\u001B[43mn\u001B[49m\u001B[43m,\u001B[49m\u001B[43m \u001B[49m\u001B[43mn\u001B[49m\u001B[43m)\u001B[49m\n\u001B[0;32m     18\u001B[0m plt\u001B[38;5;241m.\u001B[39mscatter(xg, yg, c\u001B[38;5;241m=\u001B[39mclrs, cmap\u001B[38;5;241m=\u001B[39mplt\u001B[38;5;241m.\u001B[39mcolormaps[\u001B[38;5;124m'\u001B[39m\u001B[38;5;124mcoolwarm\u001B[39m\u001B[38;5;124m'\u001B[39m], vmin\u001B[38;5;241m=\u001B[39m\u001B[38;5;241m0\u001B[39m, vmax\u001B[38;5;241m=\u001B[39m\u001B[38;5;241m1\u001B[39m)\n",
      "\u001B[1;31mValueError\u001B[0m: cannot reshape array of size 20402 into shape (101,101)"
     ]
    }
   ],
   "source": [
    "n = 101\n",
    "\n",
    "x = np.linspace(-x_bound, x_bound, n)\n",
    "xdot = np.linspace(-10, 10, n)\n",
    "\n",
    "test = torch.zeros((n*n, 10))\n",
    "\n",
    "for i in range(n):\n",
    "    test[i*n:(i+1)*n, 0] = torch.tensor(x)\n",
    "    test[i*n:(i+1)*n, 2] = xdot[i]\n",
    "    \n",
    "next_states = nndm(test).detach()\n",
    "hs = env.h_function(next_states)\n",
    "\n",
    "xg, yg = np.meshgrid(x, xdot)\n",
    "clrs = hs.numpy().reshape(n, n)\n",
    "\n",
    "plt.scatter(xg, yg, c=clrs, cmap=plt.colormaps['coolwarm'], vmin=0, vmax=1)"
   ],
   "metadata": {
    "collapsed": false,
    "ExecuteTime": {
     "end_time": "2024-03-22T11:11:35.849803Z",
     "start_time": "2024-03-22T11:11:35.765552300Z"
    }
   },
   "id": "8680b8aa03cb7539",
   "execution_count": 22
  },
  {
   "cell_type": "markdown",
   "source": [
    "# Agent"
   ],
   "metadata": {
    "collapsed": false
   },
   "id": "c838daa599def751"
  },
  {
   "cell_type": "code",
   "outputs": [
    {
     "data": {
      "text/plain": "<All keys matched successfully>"
     },
     "execution_count": 23,
     "metadata": {},
     "output_type": "execute_result"
    }
   ],
   "source": [
    "policy = Actor(env)\n",
    "policy_params = torch.load(f'../models/Agents/{type(env).__name__}')\n",
    "policy.load_state_dict(policy_params)"
   ],
   "metadata": {
    "collapsed": false,
    "ExecuteTime": {
     "end_time": "2024-03-22T11:11:38.281325600Z",
     "start_time": "2024-03-22T11:11:38.198252600Z"
    }
   },
   "id": "d5e747cb97539b6f",
   "execution_count": 23
  },
  {
   "cell_type": "markdown",
   "source": [
    "# Evaluate"
   ],
   "metadata": {
    "collapsed": false
   },
   "id": "a263bcb7540f9c97"
  },
  {
   "cell_type": "code",
   "outputs": [],
   "source": [
    "cbf = CBF(env, nndm, policy,\n",
    "          alpha=[alpha, alpha],\n",
    "          delta=[0., 0.],\n",
    "          no_action_partitions=4,\n",
    "          no_noise_partitions=16,\n",
    "          stochastic=True)"
   ],
   "metadata": {
    "collapsed": false,
    "ExecuteTime": {
     "end_time": "2024-03-22T11:11:39.161080400Z",
     "start_time": "2024-03-22T11:11:39.135184100Z"
    }
   },
   "id": "a0a0a20a2d8de28a",
   "execution_count": 24
  },
  {
   "cell_type": "code",
   "outputs": [],
   "source": [
    "def mc_simulate(num_agents, cbf_enabled=False, seed=42):\n",
    "    unsafe_frames = []\n",
    "    \n",
    "    if cbf_enabled:\n",
    "        for f in os.listdir('LunarCBF'):\n",
    "            os.remove(os.path.join('LunarCBF', f))\n",
    "        try:\n",
    "            os.remove('LunarTermination/CBF.npy')\n",
    "        except FileNotFoundError:\n",
    "            pass\n",
    "    else:\n",
    "        for f in os.listdir('LunarAgent'):\n",
    "                os.remove(os.path.join('LunarAgent', f))\n",
    "        try:\n",
    "            os.remove('LunarTermination/Agent.npy')\n",
    "        except FileNotFoundError:\n",
    "            pass\n",
    "    \n",
    "    idx = 1\n",
    "    while idx <= num_agents:\n",
    "        xy_list = []\n",
    "        state, _ = env.env.reset(seed=seed)\n",
    "        xy_list.append(state[:2])\n",
    "        \n",
    "        state = torch.tensor(state).unsqueeze(0)\n",
    "\n",
    "        current_frame = 0\n",
    "        done = False\n",
    "\n",
    "        while not done:\n",
    "            if cbf_enabled:\n",
    "                try:\n",
    "                    action = cbf.safe_action(state)\n",
    "                except InfeasibilityError:\n",
    "                    print('SCBF infeasibility - change no. partitions')\n",
    "                    break\n",
    "            else:\n",
    "                action = policy.select_action(state, exploration=False)\n",
    "\n",
    "            state, reward, terminated, truncated, _ = env.env.step(action.squeeze().detach().numpy())\n",
    "            xy_list.append(state[:2])\n",
    "            \n",
    "            state = torch.tensor(state).unsqueeze(0)\n",
    "\n",
    "            current_frame += 1\n",
    "\n",
    "            if torch.any(env.h_function(state.unsqueeze(0)) < 0).item():\n",
    "                unsafe_frames.append(current_frame)\n",
    "                terminated = True\n",
    "            \n",
    "            done = terminated or truncated\n",
    "            \n",
    "            if done:\n",
    "                print(f'{idx}/{num_agents} done', end='\\r')\n",
    "                idx += 1\n",
    "        \n",
    "                if cbf_enabled:  \n",
    "                    np.save(f'LunarCBF/{idx}.npy', np.array(xy_list))\n",
    "                    np.save('LunarTermination/CBF.npy', np.array(unsafe_frames))\n",
    "                else:       \n",
    "                    np.save(f'LunarAgent/{idx}.npy', np.array(xy_list))\n",
    "                    np.save('LunarTermination/Agent.npy', np.array(unsafe_frames))\n",
    "    \n",
    "    env.env.close()"
   ],
   "metadata": {
    "collapsed": false,
    "ExecuteTime": {
     "end_time": "2024-03-22T11:13:45.312952500Z",
     "start_time": "2024-03-22T11:13:45.301367800Z"
    }
   },
   "id": "f92c3297947f50f9",
   "execution_count": 32
  },
  {
   "cell_type": "code",
   "outputs": [],
   "source": [
    "def plot_paths(num_agents=50, generate_data=False):\n",
    "    if not os.listdir('LunarAgent') or 'Agent.npy' not in os.listdir('LunarTermination') or generate_data:\n",
    "        mc_simulate(num_agents)\n",
    "    if not os.listdir('LunarCBF') or 'CBF.npy' not in os.listdir('LunarTermination') or generate_data:\n",
    "        mc_simulate(num_agents, cbf_enabled=True)\n",
    "        \n",
    "    agent_trajectories = [np.load(f'LunarAgent/{fn}') for fn in os.listdir('LunarAgent')]\n",
    "    cbf_trajectories = [np.load(f'LunarCBF/{fn}') for fn in os.listdir('LunarCBF')]\n",
    "    \n",
    "    agent_frames = list(np.load('LunarTermination/Agent.npy'))\n",
    "    cbf_frames = list(np.load('LunarTermination/CBF.npy'))\n",
    "    \n",
    "    fig, ax = plt.subplots(1, 2, figsize=(8, 5))\n",
    "    \n",
    "    for agent_run in agent_trajectories:\n",
    "        ax[0].plot(*zip(*agent_run), color='r', alpha=0.1)\n",
    "    \n",
    "    for cbf_run in cbf_trajectories:\n",
    "        ax[1].plot(*zip(*cbf_run), color='g', alpha=0.1)\n",
    "    \n",
    "    ax[0].plot(*zip(agent_trajectories[0][0]), marker='o', color='black', markersize=5)\n",
    "    ax[1].plot(*zip(cbf_trajectories[0][0]), marker='o', color='black', markersize=5)\n",
    "        \n",
    "    ax[0].vlines([-x_bound, x_bound], 0., 1.5, colors='black', linestyles='dashed')\n",
    "    ax[1].vlines([-x_bound, x_bound], 0., 1.5, colors='black', linestyles='dashed')\n",
    "    \n",
    "    ax[0].set_xlim(-0.3, 0.3)\n",
    "    ax[1].set_xlim(-0.3, 0.3)\n",
    "    \n",
    "    ax[0].set_ylim(0., 1.5)\n",
    "    ax[1].set_ylim(0., 1.5)\n",
    "    \n",
    "    ax[0].set_xticks([-0.15, 0.15], ['-0.15', '0.15'])\n",
    "    ax[1].set_xticks([-0.15, 0.15], ['-0.15', '0.15'])\n",
    "    \n",
    "    ax[0].set_yticks([0., 0.5, 1.0, 1.5], ['0', '0.5', '1.0', '1.5'])\n",
    "    ax[1].set_yticks([], [])\n",
    "    \n",
    "    ax[0].set_title(f'No filter - {len(agent_frames)} violations')\n",
    "    ax[1].set_title(f'Our method - {len(cbf_frames)} violations')\n",
    "    \n",
    "    plt.savefig('plots/LunarLander.png')\n",
    "    plt.show()"
   ],
   "metadata": {
    "collapsed": false,
    "ExecuteTime": {
     "end_time": "2024-03-22T11:41:46.845419600Z",
     "start_time": "2024-03-22T11:41:46.830642500Z"
    }
   },
   "id": "3a36d832c31264ff",
   "execution_count": 108
  },
  {
   "cell_type": "code",
   "outputs": [
    {
     "data": {
      "text/plain": "<Figure size 800x500 with 2 Axes>",
      "image/png": "[encoded data removed]"
     },
     "metadata": {},
     "output_type": "display_data"
    }
   ],
   "source": [
    "plot_paths(num_agents=50, generate_data=False)"
   ],
   "metadata": {
    "collapsed": false,
    "ExecuteTime": {
     "end_time": "2024-03-22T11:41:48.475389700Z",
     "start_time": "2024-03-22T11:41:48.132659200Z"
    }
   },
   "id": "4f404e9858549d99",
   "execution_count": 109
  },
  {
   "cell_type": "code",
   "outputs": [
    {
     "data": {
      "text/plain": "<Figure size 640x480 with 1 Axes>",
      "image/png": "[encoded data removed]"
     },
     "metadata": {},
     "output_type": "display_data"
    }
   ],
   "source": [
    "e = gym.make(\"LunarLander-v2\", render_mode='rgb_array')\n",
    "s, _ = e.reset(seed=42)\n",
    "y_start = s[1]\n",
    "\n",
    "start_frame = e.render()\n",
    "\n",
    "\"\"\"Image is 600 x 400 (W x H), floor is at y = 300\n",
    "Flag poles are 60 px away from x centre - for x_bound = 0.15, this corresponds to 45 px deviation\n",
    "Aspect ratio should match the plot above W' = (5/8) * 320 = 200\"\"\"\n",
    "\n",
    "plt.imshow(start_frame[:300, (300-100):(300+100), :])\n",
    "\n",
    "plt.vlines([100-45, 100+45], 0., 300, colors='green', linestyles='dashed')\n",
    "\n",
    "plt.fill_betweenx(np.linspace(0, 300, 301), 55 * np.ones((301, )), 145 * np.ones((301, )),\n",
    "                  color='lime', alpha=0.2)\n",
    "\n",
    "plt.xticks([55, 145], ['-0.15', '0.15'])\n",
    "\n",
    "plt.yticks([int(300 - (300/y_start)), int(300 - (150/y_start)), 300], ['1.0', '0.5', '0'])\n",
    "\n",
    "plt.ylim(310, 0)\n",
    "plt.savefig('plots/LanderEnv.png')"
   ],
   "metadata": {
    "collapsed": false,
    "ExecuteTime": {
     "end_time": "2024-03-22T11:41:29.085745400Z",
     "start_time": "2024-03-22T11:41:28.968819800Z"
    }
   },
   "id": "8a6f2fae52ad19b9",
   "execution_count": 106
  },
  {
   "cell_type": "code",
   "outputs": [],
   "source": [],
   "metadata": {
    "collapsed": false,
    "ExecuteTime": {
     "start_time": "2024-03-21T14:58:51.140734400Z"
    }
   },
   "id": "5e15a6dd6f6033cc"
  }
 ],
 "metadata": {
  "kernelspec": {
   "display_name": "Python 3",
   "language": "python",
   "name": "python3"
  },
  "language_info": {
   "codemirror_mode": {
    "name": "ipython",
    "version": 2
   },
   "file_extension": ".py",
   "mimetype": "text/x-python",
   "name": "python",
   "nbconvert_exporter": "python",
   "pygments_lexer": "ipython2",
   "version": "2.7.6"
  }
 },
 "nbformat": 4,
 "nbformat_minor": 5
}
