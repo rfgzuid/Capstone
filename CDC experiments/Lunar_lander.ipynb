{
 "cells": [
  {
   "cell_type": "code",
   "outputs": [],
   "source": [
    "from src.capstone.cbf import CBF, InfeasibilityError\n",
    "from src.capstone.settings import Env\n",
    "from src.capstone.noise import LunarLanderNoise\n",
    "from src.capstone.nndm import NNDM\n",
    "from src.capstone.ddpg import Actor\n",
    "\n",
    "import numpy as np\n",
    "import gymnasium as gym\n",
    "\n",
    "from bound_propagation.polynomial import Pow\n",
    "from bound_propagation.linear import FixedLinear\n",
    "\n",
    "import torch\n",
    "import torch.nn as nn\n",
    "import torch.optim as optim\n",
    "import torch.nn.functional as F\n",
    "\n",
    "import matplotlib.pyplot as plt\n",
    "from tqdm import tqdm"
   ],
   "metadata": {
    "collapsed": false,
    "ExecuteTime": {
     "end_time": "2024-03-15T09:27:12.548014300Z",
     "start_time": "2024-03-15T09:27:06.817903700Z"
    }
   },
   "id": "1d0ad346f7944412",
   "execution_count": 1
  },
  {
   "cell_type": "markdown",
   "source": [
    "We make a plot similar to the Quadruped example of the Robust Safety paper (figure 1). In this case, we apply a simple constraint: an x range $[-0.2, 0.2]$ in which the Lander must remain. This corresponds to the positions of the flags that mark the landing area.\n",
    "\n",
    "$$h(x) = 1 - \\frac{x^2}{0.2^2} = 1-25x^2$$"
   ],
   "metadata": {
    "collapsed": false
   },
   "id": "686247da318bd92f"
  },
  {
   "cell_type": "code",
   "outputs": [],
   "source": [
    "# allows to set a bound (also on other values than x = 0.2)\n",
    "x_bound = 0.15"
   ],
   "metadata": {
    "collapsed": false,
    "ExecuteTime": {
     "end_time": "2024-03-15T09:27:12.557186Z",
     "start_time": "2024-03-15T09:27:12.551671900Z"
    }
   },
   "id": "34b7022b716e10f6",
   "execution_count": 2
  },
  {
   "cell_type": "code",
   "outputs": [],
   "source": [
    "class ContinuousLunarLander(Env):\n",
    "\n",
    "    def __init__(self, noise: list[float]) -> None:\n",
    "        env = gym.make(\"LunarLander-v2\", continuous=True)\n",
    "        \n",
    "        self.is_discrete = False\n",
    "\n",
    "        self.settings = {\n",
    "            'noise': {\n",
    "                'x': noise[0],\n",
    "                'y': noise[1],\n",
    "                'theta': noise[2],\n",
    "                'v_x': noise[3],\n",
    "                'v_y': noise[4],\n",
    "                'v_theta': noise[5]\n",
    "            },\n",
    "\n",
    "            'replay_size': 1_000_000,\n",
    "            'batch_size': 128,\n",
    "            'num_episodes': 3000,\n",
    "            'max_frames': 1000,  # so that the lander prioritizes landing quick\n",
    "\n",
    "            'gamma': 0.99,\n",
    "            'tau': 0.001,\n",
    "\n",
    "            'NNDM_layers': (64,),\n",
    "            'NNDM_activation': nn.Tanh,\n",
    "            'NNDM_criterion': nn.MSELoss,\n",
    "            'NNDM_optim': optim.Adam,\n",
    "            'NNDM_lr': 1e-3,\n",
    "\n",
    "            'Actor_layers': (256, 128, 64),\n",
    "            'Actor_activation': F.relu,\n",
    "            'Actor_optim': optim.AdamW,\n",
    "            'Actor_lr': 1e-4,\n",
    "            'Action_bound': 1.,  # action space is bounded to [-1, 1] - see gymnasium docs\n",
    "\n",
    "            'Critic_layers': {'s': (256, 128), 'a': (128,), 'concat': (128,)},\n",
    "            'Critic_activation': F.relu,\n",
    "            'Critic_criterion': nn.SmoothL1Loss,\n",
    "            'Critic_optim': optim.AdamW,\n",
    "            'Critic_lr': 1e-3,\n",
    "\n",
    "            'OU_mu': 0,\n",
    "            'OU_theta': 0.15,\n",
    "            'OU_sigma': 0.2\n",
    "        }\n",
    "\n",
    "        self.h_function = nn.Sequential(\n",
    "            FixedLinear(\n",
    "                torch.tensor([\n",
    "                    [1., 0, 0, 0, 0, 0, 0, 0]\n",
    "                ]),\n",
    "                torch.tensor([0.])\n",
    "            ),\n",
    "            Pow(2),\n",
    "            FixedLinear(\n",
    "                torch.tensor([\n",
    "                    [-1 / x_bound ** 2]\n",
    "                ]),\n",
    "                torch.tensor([1.])\n",
    "            )\n",
    "        )\n",
    "\n",
    "        self.h_ids = [0]\n",
    "        self.std = [noise[i] for i in self.h_ids]\n",
    "        self.env = LunarLanderNoise(env, self.settings['noise'])"
   ],
   "metadata": {
    "collapsed": false,
    "ExecuteTime": {
     "end_time": "2024-03-15T09:27:12.566708900Z",
     "start_time": "2024-03-15T09:27:12.560836400Z"
    }
   },
   "id": "e15de7928b029d8b",
   "execution_count": 3
  },
  {
   "cell_type": "code",
   "outputs": [],
   "source": [
    "# positions - 0.005, velocities - 0.025\n",
    "env = ContinuousLunarLander([0.025, 0.025, 0.05, 0.05, 0.025, 0.05])"
   ],
   "metadata": {
    "collapsed": false,
    "ExecuteTime": {
     "end_time": "2024-03-15T09:27:12.893464400Z",
     "start_time": "2024-03-15T09:27:12.571056400Z"
    }
   },
   "id": "877adee4506914c9",
   "execution_count": 4
  },
  {
   "cell_type": "markdown",
   "source": [
    "# Alpha\n",
    "\n",
    "$$\\nabla^2 h = \\begin{bmatrix}\n",
    "-50\n",
    "\\end{bmatrix}$$\n",
    "\n",
    "$$\\nabla^2 h^T \\ \\nabla^2 h = \\begin{bmatrix}\n",
    "2500\n",
    "\\end{bmatrix}$$\n",
    "\n",
    "$$det(\\nabla^2 h^T \\ \\nabla^2 h - \\sigma I) = 2500 - \\sigma = 0$$\n",
    "\n",
    "$$\\sigma = 2500$$\n",
    "\n",
    "$$\\lambda_{max} = \\sqrt{\\sigma} = 50$$"
   ],
   "metadata": {
    "collapsed": false
   },
   "id": "831f9fd5046b35d6"
  },
  {
   "cell_type": "code",
   "outputs": [
    {
     "name": "stdout",
     "output_type": "stream",
     "text": [
      "Alpha is 0.951\n"
     ]
    }
   ],
   "source": [
    "lambda_max = 50\n",
    "\n",
    "stds = [0.005, 0.005, 0.025, 0.025, 0.005, 0.025]\n",
    "tr_cov = sum(std ** 2 for std in stds)\n",
    "\n",
    "psi = (lambda_max / 2) * tr_cov\n",
    "alpha = 1 - psi\n",
    "\n",
    "print(f'Alpha is {round(alpha, 3)}')"
   ],
   "metadata": {
    "collapsed": false,
    "ExecuteTime": {
     "end_time": "2024-03-15T09:27:12.919854100Z",
     "start_time": "2024-03-15T09:27:12.900287100Z"
    }
   },
   "id": "31777064c773a07f",
   "execution_count": 5
  },
  {
   "cell_type": "markdown",
   "source": [
    "# NNDM"
   ],
   "metadata": {
    "collapsed": false
   },
   "id": "9c59829bbf816d69"
  },
  {
   "cell_type": "code",
   "outputs": [
    {
     "data": {
      "text/plain": "<All keys matched successfully>"
     },
     "execution_count": 6,
     "metadata": {},
     "output_type": "execute_result"
    }
   ],
   "source": [
    "nndm = NNDM(env)\n",
    "nndm_params = torch.load(f'../models/NNDMs/{type(env).__name__}')\n",
    "nndm.load_state_dict(nndm_params)"
   ],
   "metadata": {
    "collapsed": false,
    "ExecuteTime": {
     "end_time": "2024-03-15T09:27:13.514303100Z",
     "start_time": "2024-03-15T09:27:12.909936700Z"
    }
   },
   "id": "dddb293fa7cb0f50",
   "execution_count": 6
  },
  {
   "cell_type": "markdown",
   "source": [
    "# Agent"
   ],
   "metadata": {
    "collapsed": false
   },
   "id": "c838daa599def751"
  },
  {
   "cell_type": "code",
   "outputs": [
    {
     "data": {
      "text/plain": "<All keys matched successfully>"
     },
     "execution_count": 7,
     "metadata": {},
     "output_type": "execute_result"
    }
   ],
   "source": [
    "policy = Actor(env)\n",
    "policy_params = torch.load(f'../models/Agents/{type(env).__name__}')\n",
    "policy.load_state_dict(policy_params)"
   ],
   "metadata": {
    "collapsed": false,
    "ExecuteTime": {
     "end_time": "2024-03-15T09:27:13.668352300Z",
     "start_time": "2024-03-15T09:27:13.519849600Z"
    }
   },
   "id": "d5e747cb97539b6f",
   "execution_count": 7
  },
  {
   "cell_type": "markdown",
   "source": [
    "# Evaluate"
   ],
   "metadata": {
    "collapsed": false
   },
   "id": "a263bcb7540f9c97"
  },
  {
   "cell_type": "code",
   "outputs": [],
   "source": [
    "cbf = CBF(env, nndm, policy,\n",
    "          alpha=[alpha],\n",
    "          delta=[0.],\n",
    "          no_action_partitions=32,\n",
    "          no_noise_partitions=32,\n",
    "          stochastic=True)"
   ],
   "metadata": {
    "collapsed": false,
    "ExecuteTime": {
     "end_time": "2024-03-15T09:27:13.673043900Z",
     "start_time": "2024-03-15T09:27:13.543069700Z"
    }
   },
   "id": "a0a0a20a2d8de28a",
   "execution_count": 8
  },
  {
   "cell_type": "code",
   "outputs": [],
   "source": [
    "def mc_simulate(num_agents, cbf_enabled=False, seed=42):\n",
    "    trajectories = []\n",
    "    unsafe_frames = []\n",
    "\n",
    "    for _ in tqdm(range(num_agents)):\n",
    "        xy_list = []\n",
    "        state, _ = env.env.reset(seed=seed)\n",
    "        xy_list.append(state[:2])\n",
    "        \n",
    "        state = torch.tensor(state).unsqueeze(0)\n",
    "\n",
    "        current_frame = 0\n",
    "        done = False\n",
    "\n",
    "        while not done:\n",
    "            if cbf_enabled:\n",
    "                try:\n",
    "                    action = cbf.safe_action(state)\n",
    "                except InfeasibilityError:\n",
    "                    print('SCBF infeasibility - change no. partitions')\n",
    "                    break\n",
    "            else:\n",
    "                action = policy.select_action(state, exploration=False)\n",
    "\n",
    "            state, reward, terminated, truncated, _ = env.env.step(action.squeeze().detach().numpy())\n",
    "            xy_list.append(state[:2])\n",
    "            \n",
    "            state = torch.tensor(state).unsqueeze(0)\n",
    "\n",
    "            current_frame += 1\n",
    "\n",
    "            if torch.any(env.h_function(state.unsqueeze(0)) < 0).item():\n",
    "                unsafe_frames.append(current_frame)\n",
    "                terminated = True\n",
    "\n",
    "            done = terminated or truncated\n",
    "        trajectories.append(np.array(xy_list))\n",
    "\n",
    "    env.env.close()\n",
    "    return unsafe_frames, trajectories"
   ],
   "metadata": {
    "collapsed": false,
    "ExecuteTime": {
     "end_time": "2024-03-15T09:27:13.707529300Z",
     "start_time": "2024-03-15T09:27:13.667192Z"
    }
   },
   "id": "f92c3297947f50f9",
   "execution_count": 9
  },
  {
   "cell_type": "code",
   "outputs": [],
   "source": [
    "def plot_paths(num_agents=50):\n",
    "    agent_frames, agent_trajectories = mc_simulate(num_agents)\n",
    "    cbf_frames, cbf_trajectories = mc_simulate(num_agents, cbf_enabled=True)\n",
    "    \n",
    "    fig, ax = plt.subplots(1, 2, figsize=(9, 5))\n",
    "    \n",
    "    for agent_run in agent_trajectories:\n",
    "        ax[0].plot(*zip(*agent_run), color='r', alpha=0.1)\n",
    "    \n",
    "    for cbf_run in cbf_trajectories:\n",
    "        ax[1].plot(*zip(*cbf_run), color='g', alpha=0.1)\n",
    "    \n",
    "    ax[0].plot(*zip(agent_trajectories[0][0]), marker='o', color='black', markersize=5)\n",
    "    ax[1].plot(*zip(cbf_trajectories[0][0]), marker='o', color='black', markersize=5)\n",
    "        \n",
    "    ax[0].vlines([-x_bound, x_bound], 0., 1.5, colors='black', linestyles='dashed')\n",
    "    ax[1].vlines([-x_bound, x_bound], 0., 1.5, colors='black', linestyles='dashed')\n",
    "    \n",
    "    ax[0].set_xlim(-0.3, 0.3)\n",
    "    ax[1].set_xlim(-0.3, 0.3)\n",
    "    \n",
    "    ax[0].set_ylim(0., 1.5)\n",
    "    ax[1].set_ylim(0., 1.5)\n",
    "    \n",
    "    ax[0].set_title(f'No filter - {len(agent_frames)} violations')\n",
    "    ax[1].set_title(f'Stochastic CBF - {len(cbf_frames)} violations')\n",
    "    \n",
    "    plt.savefig('plots/LunarLander.png')\n",
    "    plt.show()"
   ],
   "metadata": {
    "collapsed": false,
    "ExecuteTime": {
     "end_time": "2024-03-15T09:27:13.765000500Z",
     "start_time": "2024-03-15T09:27:13.692586700Z"
    }
   },
   "id": "3a36d832c31264ff",
   "execution_count": 10
  },
  {
   "cell_type": "code",
   "outputs": [
    {
     "name": "stderr",
     "output_type": "stream",
     "text": [
      "100%|██████████| 5/5 [00:00<00:00,  9.07it/s]\n",
      "  0%|          | 0/5 [00:11<?, ?it/s]\n"
     ]
    },
    {
     "ename": "SolverError",
     "evalue": "Problem could not be reduced to a QP, and no conic solvers exist among candidate solvers ({'qp_solvers': ['OSQP'], 'conic_solvers': []}).",
     "output_type": "error",
     "traceback": [
      "\u001B[1;31m---------------------------------------------------------------------------\u001B[0m",
      "\u001B[1;31mSolverError\u001B[0m                               Traceback (most recent call last)",
      "Cell \u001B[1;32mIn[11], line 1\u001B[0m\n\u001B[1;32m----> 1\u001B[0m \u001B[43mplot_paths\u001B[49m\u001B[43m(\u001B[49m\u001B[38;5;241;43m5\u001B[39;49m\u001B[43m)\u001B[49m\n",
      "Cell \u001B[1;32mIn[10], line 3\u001B[0m, in \u001B[0;36mplot_paths\u001B[1;34m(num_agents)\u001B[0m\n\u001B[0;32m      1\u001B[0m \u001B[38;5;28;01mdef\u001B[39;00m \u001B[38;5;21mplot_paths\u001B[39m(num_agents\u001B[38;5;241m=\u001B[39m\u001B[38;5;241m50\u001B[39m):\n\u001B[0;32m      2\u001B[0m     agent_frames, agent_trajectories \u001B[38;5;241m=\u001B[39m mc_simulate(num_agents)\n\u001B[1;32m----> 3\u001B[0m     cbf_frames, cbf_trajectories \u001B[38;5;241m=\u001B[39m \u001B[43mmc_simulate\u001B[49m\u001B[43m(\u001B[49m\u001B[43mnum_agents\u001B[49m\u001B[43m,\u001B[49m\u001B[43m \u001B[49m\u001B[43mcbf_enabled\u001B[49m\u001B[38;5;241;43m=\u001B[39;49m\u001B[38;5;28;43;01mTrue\u001B[39;49;00m\u001B[43m)\u001B[49m\n\u001B[0;32m      5\u001B[0m     fig, ax \u001B[38;5;241m=\u001B[39m plt\u001B[38;5;241m.\u001B[39msubplots(\u001B[38;5;241m1\u001B[39m, \u001B[38;5;241m2\u001B[39m, figsize\u001B[38;5;241m=\u001B[39m(\u001B[38;5;241m9\u001B[39m, \u001B[38;5;241m5\u001B[39m))\n\u001B[0;32m      7\u001B[0m     \u001B[38;5;28;01mfor\u001B[39;00m agent_run \u001B[38;5;129;01min\u001B[39;00m agent_trajectories:\n",
      "Cell \u001B[1;32mIn[9], line 18\u001B[0m, in \u001B[0;36mmc_simulate\u001B[1;34m(num_agents, cbf_enabled, seed)\u001B[0m\n\u001B[0;32m     16\u001B[0m \u001B[38;5;28;01mif\u001B[39;00m cbf_enabled:\n\u001B[0;32m     17\u001B[0m     \u001B[38;5;28;01mtry\u001B[39;00m:\n\u001B[1;32m---> 18\u001B[0m         action \u001B[38;5;241m=\u001B[39m \u001B[43mcbf\u001B[49m\u001B[38;5;241;43m.\u001B[39;49m\u001B[43msafe_action\u001B[49m\u001B[43m(\u001B[49m\u001B[43mstate\u001B[49m\u001B[43m)\u001B[49m\n\u001B[0;32m     19\u001B[0m     \u001B[38;5;28;01mexcept\u001B[39;00m InfeasibilityError:\n\u001B[0;32m     20\u001B[0m         \u001B[38;5;28mprint\u001B[39m(\u001B[38;5;124m'\u001B[39m\u001B[38;5;124mSCBF infeasibility - change no. partitions\u001B[39m\u001B[38;5;124m'\u001B[39m)\n",
      "File \u001B[1;32m~\\PycharmProjects\\Capstone\\src\\capstone\\cbf.py:95\u001B[0m, in \u001B[0;36mCBF.safe_action\u001B[1;34m(self, state)\u001B[0m\n\u001B[0;32m     93\u001B[0m     \u001B[38;5;28;01mreturn\u001B[39;00m \u001B[38;5;28mself\u001B[39m\u001B[38;5;241m.\u001B[39mcontinuous_cbf(state)\n\u001B[0;32m     94\u001B[0m \u001B[38;5;28;01melse\u001B[39;00m:\n\u001B[1;32m---> 95\u001B[0m     \u001B[38;5;28;01mreturn\u001B[39;00m \u001B[38;5;28;43mself\u001B[39;49m\u001B[38;5;241;43m.\u001B[39;49m\u001B[43mcontinuous_scbf\u001B[49m\u001B[43m(\u001B[49m\u001B[43mstate\u001B[49m\u001B[43m)\u001B[49m\n",
      "File \u001B[1;32m~\\PycharmProjects\\Capstone\\src\\capstone\\cbf.py:191\u001B[0m, in \u001B[0;36mCBF.continuous_scbf\u001B[1;34m(self, state)\u001B[0m\n\u001B[0;32m    189\u001B[0m h_current \u001B[38;5;241m=\u001B[39m \u001B[38;5;28mself\u001B[39m\u001B[38;5;241m.\u001B[39mh_func(state)\n\u001B[0;32m    190\u001B[0m bound_matrices \u001B[38;5;241m=\u001B[39m \u001B[38;5;28mself\u001B[39m\u001B[38;5;241m.\u001B[39mcreate_noise_bounds_batched(state)\n\u001B[1;32m--> 191\u001B[0m \u001B[38;5;28;01mreturn\u001B[39;00m \u001B[38;5;28;43mself\u001B[39;49m\u001B[38;5;241;43m.\u001B[39;49m\u001B[43mqp_solver\u001B[49m\u001B[43m(\u001B[49m\u001B[43mnominal_action\u001B[49m\u001B[43m,\u001B[49m\u001B[43m \u001B[49m\u001B[43mbound_matrices\u001B[49m\u001B[43m,\u001B[49m\u001B[43m \u001B[49m\u001B[43mh_current\u001B[49m\u001B[43m)\u001B[49m\n",
      "File \u001B[1;32m~\\PycharmProjects\\Capstone\\src\\capstone\\cbf.py:210\u001B[0m, in \u001B[0;36mCBF.qp_solver\u001B[1;34m(self, nominal_action, bound_matrices, h_current)\u001B[0m\n\u001B[0;32m    208\u001B[0m \u001B[38;5;66;03m# Solve the problem, using ECOS as the default solver for small scale QP\u001B[39;00m\n\u001B[0;32m    209\u001B[0m problem \u001B[38;5;241m=\u001B[39m cp\u001B[38;5;241m.\u001B[39mProblem(objective, constraints)\n\u001B[1;32m--> 210\u001B[0m \u001B[43mproblem\u001B[49m\u001B[38;5;241;43m.\u001B[39;49m\u001B[43msolve\u001B[49m\u001B[43m(\u001B[49m\u001B[43msolver\u001B[49m\u001B[38;5;241;43m=\u001B[39;49m\u001B[38;5;124;43m'\u001B[39;49m\u001B[38;5;124;43mOSQP\u001B[39;49m\u001B[38;5;124;43m'\u001B[39;49m\u001B[43m)\u001B[49m\n\u001B[0;32m    212\u001B[0m \u001B[38;5;28;01mif\u001B[39;00m problem\u001B[38;5;241m.\u001B[39mstatus \u001B[38;5;129;01mis\u001B[39;00m cp\u001B[38;5;241m.\u001B[39mUNBOUNDED:\n\u001B[0;32m    213\u001B[0m     \u001B[38;5;28mprint\u001B[39m(\u001B[38;5;124m\"\u001B[39m\u001B[38;5;124msomething goes very wrong\u001B[39m\u001B[38;5;124m\"\u001B[39m)\n",
      "File \u001B[1;32m~\\PycharmProjects\\Capstone\\venv\\Lib\\site-packages\\cvxpy\\problems\\problem.py:503\u001B[0m, in \u001B[0;36mProblem.solve\u001B[1;34m(self, *args, **kwargs)\u001B[0m\n\u001B[0;32m    501\u001B[0m \u001B[38;5;28;01melse\u001B[39;00m:\n\u001B[0;32m    502\u001B[0m     solve_func \u001B[38;5;241m=\u001B[39m Problem\u001B[38;5;241m.\u001B[39m_solve\n\u001B[1;32m--> 503\u001B[0m \u001B[38;5;28;01mreturn\u001B[39;00m \u001B[43msolve_func\u001B[49m\u001B[43m(\u001B[49m\u001B[38;5;28;43mself\u001B[39;49m\u001B[43m,\u001B[49m\u001B[43m \u001B[49m\u001B[38;5;241;43m*\u001B[39;49m\u001B[43margs\u001B[49m\u001B[43m,\u001B[49m\u001B[43m \u001B[49m\u001B[38;5;241;43m*\u001B[39;49m\u001B[38;5;241;43m*\u001B[39;49m\u001B[43mkwargs\u001B[49m\u001B[43m)\u001B[49m\n",
      "File \u001B[1;32m~\\PycharmProjects\\Capstone\\venv\\Lib\\site-packages\\cvxpy\\problems\\problem.py:1072\u001B[0m, in \u001B[0;36mProblem._solve\u001B[1;34m(self, solver, warm_start, verbose, gp, qcp, requires_grad, enforce_dpp, ignore_dpp, canon_backend, **kwargs)\u001B[0m\n\u001B[0;32m   1069\u001B[0m         \u001B[38;5;28mself\u001B[39m\u001B[38;5;241m.\u001B[39munpack(chain\u001B[38;5;241m.\u001B[39mretrieve(soln))\n\u001B[0;32m   1070\u001B[0m         \u001B[38;5;28;01mreturn\u001B[39;00m \u001B[38;5;28mself\u001B[39m\u001B[38;5;241m.\u001B[39mvalue\n\u001B[1;32m-> 1072\u001B[0m data, solving_chain, inverse_data \u001B[38;5;241m=\u001B[39m \u001B[38;5;28;43mself\u001B[39;49m\u001B[38;5;241;43m.\u001B[39;49m\u001B[43mget_problem_data\u001B[49m\u001B[43m(\u001B[49m\n\u001B[0;32m   1073\u001B[0m \u001B[43m    \u001B[49m\u001B[43msolver\u001B[49m\u001B[43m,\u001B[49m\u001B[43m \u001B[49m\u001B[43mgp\u001B[49m\u001B[43m,\u001B[49m\u001B[43m \u001B[49m\u001B[43menforce_dpp\u001B[49m\u001B[43m,\u001B[49m\u001B[43m \u001B[49m\u001B[43mignore_dpp\u001B[49m\u001B[43m,\u001B[49m\u001B[43m \u001B[49m\u001B[43mverbose\u001B[49m\u001B[43m,\u001B[49m\u001B[43m \u001B[49m\u001B[43mcanon_backend\u001B[49m\u001B[43m,\u001B[49m\u001B[43m \u001B[49m\u001B[43mkwargs\u001B[49m\n\u001B[0;32m   1074\u001B[0m \u001B[43m\u001B[49m\u001B[43m)\u001B[49m\n\u001B[0;32m   1076\u001B[0m \u001B[38;5;28;01mif\u001B[39;00m verbose:\n\u001B[0;32m   1077\u001B[0m     \u001B[38;5;28mprint\u001B[39m(_NUM_SOLVER_STR)\n",
      "File \u001B[1;32m~\\PycharmProjects\\Capstone\\venv\\Lib\\site-packages\\cvxpy\\problems\\problem.py:646\u001B[0m, in \u001B[0;36mProblem.get_problem_data\u001B[1;34m(self, solver, gp, enforce_dpp, ignore_dpp, verbose, canon_backend, solver_opts)\u001B[0m\n\u001B[0;32m    644\u001B[0m \u001B[38;5;28;01mif\u001B[39;00m key \u001B[38;5;241m!=\u001B[39m \u001B[38;5;28mself\u001B[39m\u001B[38;5;241m.\u001B[39m_cache\u001B[38;5;241m.\u001B[39mkey:\n\u001B[0;32m    645\u001B[0m     \u001B[38;5;28mself\u001B[39m\u001B[38;5;241m.\u001B[39m_cache\u001B[38;5;241m.\u001B[39minvalidate()\n\u001B[1;32m--> 646\u001B[0m     solving_chain \u001B[38;5;241m=\u001B[39m \u001B[38;5;28;43mself\u001B[39;49m\u001B[38;5;241;43m.\u001B[39;49m\u001B[43m_construct_chain\u001B[49m\u001B[43m(\u001B[49m\n\u001B[0;32m    647\u001B[0m \u001B[43m        \u001B[49m\u001B[43msolver\u001B[49m\u001B[38;5;241;43m=\u001B[39;49m\u001B[43msolver\u001B[49m\u001B[43m,\u001B[49m\u001B[43m \u001B[49m\u001B[43mgp\u001B[49m\u001B[38;5;241;43m=\u001B[39;49m\u001B[43mgp\u001B[49m\u001B[43m,\u001B[49m\n\u001B[0;32m    648\u001B[0m \u001B[43m        \u001B[49m\u001B[43menforce_dpp\u001B[49m\u001B[38;5;241;43m=\u001B[39;49m\u001B[43menforce_dpp\u001B[49m\u001B[43m,\u001B[49m\n\u001B[0;32m    649\u001B[0m \u001B[43m        \u001B[49m\u001B[43mignore_dpp\u001B[49m\u001B[38;5;241;43m=\u001B[39;49m\u001B[43mignore_dpp\u001B[49m\u001B[43m,\u001B[49m\n\u001B[0;32m    650\u001B[0m \u001B[43m        \u001B[49m\u001B[43mcanon_backend\u001B[49m\u001B[38;5;241;43m=\u001B[39;49m\u001B[43mcanon_backend\u001B[49m\u001B[43m,\u001B[49m\n\u001B[0;32m    651\u001B[0m \u001B[43m        \u001B[49m\u001B[43msolver_opts\u001B[49m\u001B[38;5;241;43m=\u001B[39;49m\u001B[43msolver_opts\u001B[49m\u001B[43m)\u001B[49m\n\u001B[0;32m    652\u001B[0m     \u001B[38;5;28mself\u001B[39m\u001B[38;5;241m.\u001B[39m_cache\u001B[38;5;241m.\u001B[39mkey \u001B[38;5;241m=\u001B[39m key\n\u001B[0;32m    653\u001B[0m     \u001B[38;5;28mself\u001B[39m\u001B[38;5;241m.\u001B[39m_cache\u001B[38;5;241m.\u001B[39msolving_chain \u001B[38;5;241m=\u001B[39m solving_chain\n",
      "File \u001B[1;32m~\\PycharmProjects\\Capstone\\venv\\Lib\\site-packages\\cvxpy\\problems\\problem.py:898\u001B[0m, in \u001B[0;36mProblem._construct_chain\u001B[1;34m(self, solver, gp, enforce_dpp, ignore_dpp, canon_backend, solver_opts)\u001B[0m\n\u001B[0;32m    896\u001B[0m candidate_solvers \u001B[38;5;241m=\u001B[39m \u001B[38;5;28mself\u001B[39m\u001B[38;5;241m.\u001B[39m_find_candidate_solvers(solver\u001B[38;5;241m=\u001B[39msolver, gp\u001B[38;5;241m=\u001B[39mgp)\n\u001B[0;32m    897\u001B[0m \u001B[38;5;28mself\u001B[39m\u001B[38;5;241m.\u001B[39m_sort_candidate_solvers(candidate_solvers)\n\u001B[1;32m--> 898\u001B[0m \u001B[38;5;28;01mreturn\u001B[39;00m \u001B[43mconstruct_solving_chain\u001B[49m\u001B[43m(\u001B[49m\u001B[38;5;28;43mself\u001B[39;49m\u001B[43m,\u001B[49m\u001B[43m \u001B[49m\u001B[43mcandidate_solvers\u001B[49m\u001B[43m,\u001B[49m\u001B[43m \u001B[49m\u001B[43mgp\u001B[49m\u001B[38;5;241;43m=\u001B[39;49m\u001B[43mgp\u001B[49m\u001B[43m,\u001B[49m\n\u001B[0;32m    899\u001B[0m \u001B[43m                               \u001B[49m\u001B[43menforce_dpp\u001B[49m\u001B[38;5;241;43m=\u001B[39;49m\u001B[43menforce_dpp\u001B[49m\u001B[43m,\u001B[49m\n\u001B[0;32m    900\u001B[0m \u001B[43m                               \u001B[49m\u001B[43mignore_dpp\u001B[49m\u001B[38;5;241;43m=\u001B[39;49m\u001B[43mignore_dpp\u001B[49m\u001B[43m,\u001B[49m\n\u001B[0;32m    901\u001B[0m \u001B[43m                               \u001B[49m\u001B[43mcanon_backend\u001B[49m\u001B[38;5;241;43m=\u001B[39;49m\u001B[43mcanon_backend\u001B[49m\u001B[43m,\u001B[49m\n\u001B[0;32m    902\u001B[0m \u001B[43m                               \u001B[49m\u001B[43msolver_opts\u001B[49m\u001B[38;5;241;43m=\u001B[39;49m\u001B[43msolver_opts\u001B[49m\u001B[43m,\u001B[49m\n\u001B[0;32m    903\u001B[0m \u001B[43m                               \u001B[49m\u001B[43mspecified_solver\u001B[49m\u001B[38;5;241;43m=\u001B[39;49m\u001B[43msolver\u001B[49m\u001B[43m)\u001B[49m\n",
      "File \u001B[1;32m~\\PycharmProjects\\Capstone\\venv\\Lib\\site-packages\\cvxpy\\reductions\\solvers\\solving_chain.py:217\u001B[0m, in \u001B[0;36mconstruct_solving_chain\u001B[1;34m(problem, candidates, gp, enforce_dpp, ignore_dpp, canon_backend, solver_opts, specified_solver)\u001B[0m\n\u001B[0;32m    215\u001B[0m \u001B[38;5;28;01mif\u001B[39;00m \u001B[38;5;28mlen\u001B[39m(problem\u001B[38;5;241m.\u001B[39mvariables()) \u001B[38;5;241m==\u001B[39m \u001B[38;5;241m0\u001B[39m:\n\u001B[0;32m    216\u001B[0m     \u001B[38;5;28;01mreturn\u001B[39;00m SolvingChain(reductions\u001B[38;5;241m=\u001B[39m[ConstantSolver()])\n\u001B[1;32m--> 217\u001B[0m reductions \u001B[38;5;241m=\u001B[39m \u001B[43m_reductions_for_problem_class\u001B[49m\u001B[43m(\u001B[49m\u001B[43mproblem\u001B[49m\u001B[43m,\u001B[49m\u001B[43m \u001B[49m\u001B[43mcandidates\u001B[49m\u001B[43m,\u001B[49m\u001B[43m \u001B[49m\u001B[43mgp\u001B[49m\u001B[43m,\u001B[49m\u001B[43m \u001B[49m\u001B[43msolver_opts\u001B[49m\u001B[43m)\u001B[49m\n\u001B[0;32m    219\u001B[0m \u001B[38;5;66;03m# Process DPP status of the problem.\u001B[39;00m\n\u001B[0;32m    220\u001B[0m dpp_context \u001B[38;5;241m=\u001B[39m \u001B[38;5;124m'\u001B[39m\u001B[38;5;124mdcp\u001B[39m\u001B[38;5;124m'\u001B[39m \u001B[38;5;28;01mif\u001B[39;00m \u001B[38;5;129;01mnot\u001B[39;00m gp \u001B[38;5;28;01melse\u001B[39;00m \u001B[38;5;124m'\u001B[39m\u001B[38;5;124mdgp\u001B[39m\u001B[38;5;124m'\u001B[39m\n",
      "File \u001B[1;32m~\\PycharmProjects\\Capstone\\venv\\Lib\\site-packages\\cvxpy\\reductions\\solvers\\solving_chain.py:154\u001B[0m, in \u001B[0;36m_reductions_for_problem_class\u001B[1;34m(problem, candidates, gp, solver_opts)\u001B[0m\n\u001B[0;32m    151\u001B[0m \u001B[38;5;28;01melse\u001B[39;00m:\n\u001B[0;32m    152\u001B[0m     \u001B[38;5;66;03m# Canonicalize it to conic problem.\u001B[39;00m\n\u001B[0;32m    153\u001B[0m     \u001B[38;5;28;01mif\u001B[39;00m \u001B[38;5;129;01mnot\u001B[39;00m candidates[\u001B[38;5;124m'\u001B[39m\u001B[38;5;124mconic_solvers\u001B[39m\u001B[38;5;124m'\u001B[39m]:\n\u001B[1;32m--> 154\u001B[0m         \u001B[38;5;28;01mraise\u001B[39;00m SolverError(\u001B[38;5;124m\"\u001B[39m\u001B[38;5;124mProblem could not be reduced to a QP, and no \u001B[39m\u001B[38;5;124m\"\u001B[39m\n\u001B[0;32m    155\u001B[0m                           \u001B[38;5;124m\"\u001B[39m\u001B[38;5;124mconic solvers exist among candidate solvers \u001B[39m\u001B[38;5;124m\"\u001B[39m\n\u001B[0;32m    156\u001B[0m                           \u001B[38;5;124m\"\u001B[39m\u001B[38;5;124m(\u001B[39m\u001B[38;5;132;01m%s\u001B[39;00m\u001B[38;5;124m).\u001B[39m\u001B[38;5;124m\"\u001B[39m \u001B[38;5;241m%\u001B[39m candidates)\n\u001B[0;32m    158\u001B[0m constr_types \u001B[38;5;241m=\u001B[39m {\u001B[38;5;28mtype\u001B[39m(c) \u001B[38;5;28;01mfor\u001B[39;00m c \u001B[38;5;129;01min\u001B[39;00m problem\u001B[38;5;241m.\u001B[39mconstraints}\n\u001B[0;32m    159\u001B[0m \u001B[38;5;28;01mif\u001B[39;00m FiniteSet \u001B[38;5;129;01min\u001B[39;00m constr_types:\n",
      "\u001B[1;31mSolverError\u001B[0m: Problem could not be reduced to a QP, and no conic solvers exist among candidate solvers ({'qp_solvers': ['OSQP'], 'conic_solvers': []})."
     ]
    }
   ],
   "source": [
    "plot_paths(5)"
   ],
   "metadata": {
    "collapsed": false,
    "ExecuteTime": {
     "end_time": "2024-03-15T09:27:26.991498200Z",
     "start_time": "2024-03-15T09:27:13.708602700Z"
    }
   },
   "id": "4f404e9858549d99",
   "execution_count": 11
  },
  {
   "cell_type": "code",
   "outputs": [],
   "source": [],
   "metadata": {
    "collapsed": false
   },
   "id": "2806cd4b09be400d"
  }
 ],
 "metadata": {
  "kernelspec": {
   "display_name": "Python 3",
   "language": "python",
   "name": "python3"
  },
  "language_info": {
   "codemirror_mode": {
    "name": "ipython",
    "version": 2
   },
   "file_extension": ".py",
   "mimetype": "text/x-python",
   "name": "python",
   "nbconvert_exporter": "python",
   "pygments_lexer": "ipython2",
   "version": "2.7.6"
  }
 },
 "nbformat": 4,
 "nbformat_minor": 5
}
