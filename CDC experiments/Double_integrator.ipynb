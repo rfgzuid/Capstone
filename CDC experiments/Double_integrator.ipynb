{
 "cells": [
  {
   "cell_type": "code",
   "execution_count": 1,
   "metadata": {
    "ExecuteTime": {
     "end_time": "2024-03-09T13:16:59.798168600Z",
     "start_time": "2024-03-09T13:16:54.301042700Z"
    }
   },
   "outputs": [],
   "source": [
    "from src.capstone.evaluation import Evaluator\n",
    "from src.capstone.cbf import CBF\n",
    "from src.capstone.settings import Env\n",
    "\n",
    "from double_integrator import DoubleIntegratorEnv\n",
    "import gymnasium as gym\n",
    "\n",
    "from bound_propagation.polynomial import Pow\n",
    "from bound_propagation.linear import FixedLinear\n",
    "\n",
    "import numpy as np\n",
    "\n",
    "import torch\n",
    "import torch.nn as nn\n",
    "\n",
    "import matplotlib.pyplot as plt"
   ]
  },
  {
   "cell_type": "markdown",
   "source": [
    "$$B = \\begin{bmatrix}\n",
    "\\frac{1}{2}\\Delta t^2 & 0\\\\\n",
    "0 & \\frac{1}{2}\\Delta t^2\\\\\n",
    "\\Delta t & 0\\\\\n",
    "0 & \\Delta t\n",
    "\\end{bmatrix}$$\n",
    "\n",
    "$$Q = B B^T = \\begin{bmatrix}\n",
    "\\frac{1}{2}\\Delta t^2 & 0\\\\\n",
    "0 & \\frac{1}{2}\\Delta t^2\\\\\n",
    "\\Delta t & 0\\\\\n",
    "0 & \\Delta t\n",
    "\\end{bmatrix} \n",
    "\n",
    "\\begin{bmatrix}\n",
    "\\frac{1}{2}\\Delta t^2 & 0 & \\Delta t & 0\\\\\n",
    "0 & \\frac{1}{2}\\Delta t^2 & 0 & \\Delta t\n",
    "\\end{bmatrix} \n",
    "\n",
    "= \\begin{bmatrix}\n",
    "\\frac{1}{4}\\Delta t^4 & 0 & \\frac{1}{2}\\Delta t^3 & 0\\\\\n",
    "0 & \\frac{1}{4}\\Delta t^4 & 0 & \\frac{1}{2}\\Delta t^3\\\\\n",
    "\\frac{1}{2}\\Delta t^3 & 0 & \\Delta t^2 & 0\\\\\n",
    "0 & \\frac{1}{2}\\Delta t^3 & 0 & \\Delta t^2\n",
    "\\end{bmatrix}$$"
   ],
   "metadata": {
    "collapsed": false
   }
  },
  {
   "cell_type": "code",
   "outputs": [],
   "source": [
    "class IntegratorNoise(gym.Wrapper):\n",
    "    def __init__(self, env):\n",
    "        super().__init__(env)\n",
    "        \n",
    "        dt = 0.05\n",
    "        self.cov = np.array([[0.25 * dt**4, 0., 0.5 * dt**3, 0.],\n",
    "                           [0., 0.25 * dt**4, 0., 0.5 * dt**3],\n",
    "                           [0.5 * dt**3, 0., dt**2, 0.],\n",
    "                           [0., 0.5 * dt**3, 0., dt**2]])\n",
    "        \n",
    "    def step(self, action):\n",
    "        state, _, _, truncated, _ = self.env.step(action)\n",
    "        noise = np.random.multivariate_normal(mean=np.zeros(4), cov=self.cov)\n",
    "        \n",
    "        return (state + noise).astype(np.float32), 0., False, truncated, {}\n",
    "    \n",
    "    def reset(self, seed=None):\n",
    "        return self.env.reset(seed=seed)"
   ],
   "metadata": {
    "collapsed": false,
    "ExecuteTime": {
     "end_time": "2024-03-09T13:17:16.696551400Z",
     "start_time": "2024-03-09T13:17:16.684326400Z"
    }
   },
   "execution_count": 4
  },
  {
   "cell_type": "code",
   "execution_count": 6,
   "metadata": {
    "ExecuteTime": {
     "end_time": "2024-03-09T13:17:22.752348500Z",
     "start_time": "2024-03-09T13:17:22.739996600Z"
    }
   },
   "outputs": [],
   "source": [
    "class NNDM(nn.Sequential):\n",
    "    # input [x pos, y pos, x speed, y speed, ux, uy]\n",
    "    \n",
    "    def __init__(self):\n",
    "        super(NNDM, self).__init__()\n",
    "        self.dt = 0.05\n",
    "        \n",
    "        layer = nn.Linear(6, 4, bias=False)\n",
    "        weights = torch.tensor([[1., 0., self.dt, 0., ((self.dt**2)/2), 0], \n",
    "                                [0., 1., 0., self.dt, 0., ((self.dt**2)/2)], \n",
    "                                [0., 0., 1., 0., self.dt, 0.], \n",
    "                                [0., 0., 0., 1., 0., self.dt]])\n",
    "        layer.weight = nn.Parameter(weights)\n",
    "        \n",
    "        super(NNDM, self).__init__(layer)\n",
    "\n",
    "nndm = NNDM()"
   ]
  },
  {
   "cell_type": "code",
   "execution_count": 20,
   "metadata": {
    "ExecuteTime": {
     "end_time": "2024-03-09T13:18:22.918180900Z",
     "start_time": "2024-03-09T13:18:22.910920600Z"
    }
   },
   "outputs": [],
   "source": [
    "class Agent(nn.Module):\n",
    "    def __init__(self):\n",
    "        super(Agent, self).__init__()\n",
    "        \n",
    "        self.layer = nn.Linear(2, 2)\n",
    "        \n",
    "        # dummy output of u=0\n",
    "        self.layer.weight = nn.Parameter(torch.tensor([[0., 0., 0., 0.], [0., 0., 0., 0.]]))\n",
    "        self.layer.bias = nn.Parameter(torch.tensor([50., 0.]))\n",
    "    \n",
    "    def forward(self, x):\n",
    "        return self.layer(x)\n",
    "    \n",
    "    def select_action(self, x, exploration=False):\n",
    "        if exploration:\n",
    "            raise ValueError('This model is not implemented for exploration')\n",
    "        else:\n",
    "            return self.forward(x)"
   ]
  },
  {
   "cell_type": "code",
   "execution_count": 21,
   "metadata": {
    "ExecuteTime": {
     "end_time": "2024-03-09T13:18:23.239343Z",
     "start_time": "2024-03-09T13:18:23.228070800Z"
    }
   },
   "outputs": [],
   "source": [
    "policy = Agent()"
   ]
  },
  {
   "cell_type": "code",
   "outputs": [],
   "source": [
    "# 100 steps for dt = 0.05 yields 5 second episodes\n",
    "gym.register('DoubleIntegrator', DoubleIntegratorEnv, max_episode_steps=100)"
   ],
   "metadata": {
    "collapsed": false,
    "ExecuteTime": {
     "end_time": "2024-03-09T13:23:13.883111900Z",
     "start_time": "2024-03-09T13:23:13.870415100Z"
    }
   },
   "execution_count": 46
  },
  {
   "cell_type": "code",
   "execution_count": 47,
   "metadata": {
    "ExecuteTime": {
     "end_time": "2024-03-09T13:23:14.094762Z",
     "start_time": "2024-03-09T13:23:14.078526200Z"
    }
   },
   "outputs": [],
   "source": [
    "class DoubleIntegrator(Env):\n",
    "    def __init__(self):\n",
    "        env = gym.make('DoubleIntegrator')\n",
    "        \n",
    "        self.is_discrete = False\n",
    "        \n",
    "        self.settings = {\n",
    "            'noise': [],\n",
    "            'max_frames': 999\n",
    "        }\n",
    "        \n",
    "        self.h_function = nn.Sequential(\n",
    "            FixedLinear(\n",
    "                torch.tensor([\n",
    "                    [1., 0, 0, 0],\n",
    "                    [0, 1, 0, 0]\n",
    "                ]),\n",
    "                torch.tensor([0., 0.])\n",
    "            ),\n",
    "            Pow(2),\n",
    "            FixedLinear(\n",
    "                torch.tensor([\n",
    "                    [-1 / 0.5 ** 2, 0],\n",
    "                    [0, -1 / 0.5 ** 2]\n",
    "                ]),\n",
    "                torch.tensor([1., 1.])\n",
    "            )\n",
    "        )\n",
    "\n",
    "        self.h_ids = [0, 1]\n",
    "        self.std = [0.05**2/2, 0.05**2/2]\n",
    "        self.env = IntegratorNoise(env)"
   ]
  },
  {
   "cell_type": "code",
   "outputs": [],
   "source": [
    "env = DoubleIntegrator()"
   ],
   "metadata": {
    "collapsed": false,
    "ExecuteTime": {
     "end_time": "2024-03-09T13:23:14.275364500Z",
     "start_time": "2024-03-09T13:23:14.265835900Z"
    }
   },
   "execution_count": 48
  },
  {
   "cell_type": "code",
   "execution_count": 49,
   "metadata": {
    "ExecuteTime": {
     "end_time": "2024-03-09T13:23:14.647708Z",
     "start_time": "2024-03-09T13:23:14.633104Z"
    }
   },
   "outputs": [],
   "source": [
    "cbf = CBF(env, nndm, policy,\n",
    "          alpha=[0.9, 0.9],\n",
    "          delta=[0., 0.],\n",
    "          no_action_partitions=2,\n",
    "          no_noise_partitions=2,\n",
    "          stochastic=True)"
   ]
  },
  {
   "cell_type": "code",
   "execution_count": 50,
   "metadata": {
    "ExecuteTime": {
     "end_time": "2024-03-09T13:32:49.081714200Z",
     "start_time": "2024-03-09T13:23:15.010075300Z"
    }
   },
   "outputs": [
    {
     "data": {
      "text/plain": "  0%|          | 0/100 [00:00<?, ?it/s]",
      "application/vnd.jupyter.widget-view+json": {
       "version_major": 2,
       "version_minor": 0,
       "model_id": "eed16189f92b44e59cc704d994410cb3"
      }
     },
     "metadata": {},
     "output_type": "display_data"
    }
   ],
   "source": [
    "evaluator = Evaluator(env, cbf)\n",
    "f, h = evaluator.mc_simulate(policy, 100, cbf_enabled=True, seed=[0., 0., 0., 0.])"
   ]
  },
  {
   "cell_type": "code",
   "outputs": [
    {
     "data": {
      "text/plain": "[80, 53, 76, 78, 70]"
     },
     "execution_count": 51,
     "metadata": {},
     "output_type": "execute_result"
    }
   ],
   "source": [
    "f"
   ],
   "metadata": {
    "collapsed": false,
    "ExecuteTime": {
     "end_time": "2024-03-09T13:32:49.099982200Z",
     "start_time": "2024-03-09T13:32:49.086502300Z"
    }
   },
   "execution_count": 51
  },
  {
   "cell_type": "code",
   "outputs": [],
   "source": [
    "    "
   ],
   "metadata": {
    "collapsed": false
   }
  }
 ],
 "metadata": {
  "kernelspec": {
   "display_name": "env",
   "language": "python",
   "name": "python3"
  },
  "language_info": {
   "codemirror_mode": {
    "name": "ipython",
    "version": 3
   },
   "file_extension": ".py",
   "mimetype": "text/x-python",
   "name": "python",
   "nbconvert_exporter": "python",
   "pygments_lexer": "ipython3",
   "version": "3.11.4"
  },
  "orig_nbformat": 4
 },
 "nbformat": 4,
 "nbformat_minor": 2
}
