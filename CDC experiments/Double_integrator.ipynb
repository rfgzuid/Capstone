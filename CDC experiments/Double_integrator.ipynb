{
 "cells": [
  {
   "cell_type": "code",
   "execution_count": 31,
   "metadata": {
    "ExecuteTime": {
     "end_time": "2024-03-16T09:26:53.156614800Z",
     "start_time": "2024-03-16T09:26:53.138091300Z"
    }
   },
   "outputs": [],
   "source": [
    "from src.capstone.cbf import CBF, InfeasibilityError\n",
    "from src.capstone.settings import Env\n",
    "\n",
    "from double_integrator import DoubleIntegratorEnv\n",
    "import gymnasium as gym\n",
    "\n",
    "from bound_propagation.polynomial import Pow\n",
    "from bound_propagation.linear import FixedLinear\n",
    "\n",
    "import numpy as np\n",
    "\n",
    "import torch\n",
    "import torch.nn as nn\n",
    "\n",
    "import matplotlib.pyplot as plt\n",
    "from tqdm import tqdm"
   ]
  },
  {
   "attachments": {},
   "cell_type": "markdown",
   "metadata": {},
   "source": [
    "$$B = \\begin{bmatrix}\n",
    "\\frac{1}{2}\\Delta t^2 & 0\\\\\n",
    "0 & \\frac{1}{2}\\Delta t^2\\\\\n",
    "\\Delta t & 0\\\\\n",
    "0 & \\Delta t\n",
    "\\end{bmatrix}$$\n",
    "\n",
    "$$Q = B B^T = \\begin{bmatrix}\n",
    "\\frac{1}{2}\\Delta t^2 & 0\\\\\n",
    "0 & \\frac{1}{2}\\Delta t^2\\\\\n",
    "\\Delta t & 0\\\\\n",
    "0 & \\Delta t\n",
    "\\end{bmatrix} \n",
    "\n",
    "\\begin{bmatrix}\n",
    "\\frac{1}{2}\\Delta t^2 & 0 & \\Delta t & 0\\\\\n",
    "0 & \\frac{1}{2}\\Delta t^2 & 0 & \\Delta t\n",
    "\\end{bmatrix} \n",
    "\n",
    "= \\begin{bmatrix}\n",
    "\\frac{1}{4}\\Delta t^4 & 0 & \\frac{1}{2}\\Delta t^3 & 0\\\\\n",
    "0 & \\frac{1}{4}\\Delta t^4 & 0 & \\frac{1}{2}\\Delta t^3\\\\\n",
    "\\frac{1}{2}\\Delta t^3 & 0 & \\Delta t^2 & 0\\\\\n",
    "0 & \\frac{1}{2}\\Delta t^3 & 0 & \\Delta t^2\n",
    "\\end{bmatrix}$$"
   ]
  },
  {
   "cell_type": "code",
   "execution_count": 32,
   "metadata": {
    "ExecuteTime": {
     "end_time": "2024-03-16T09:26:53.502989200Z",
     "start_time": "2024-03-16T09:26:53.499575700Z"
    }
   },
   "outputs": [],
   "source": [
    "class IntegratorNoise(gym.Wrapper):\n",
    "    def __init__(self, env):\n",
    "        super().__init__(env)\n",
    "        dt = 0.05\n",
    "        self.cov = np.array([[0.25 * dt**4, 0., 0.5 * dt**3, 0.],\n",
    "                           [0., 0.25 * dt**4, 0., 0.5 * dt**3],\n",
    "                           [0.5 * dt**3, 0., dt**2, 0.],\n",
    "                           [0., 0.5 * dt**3, 0., dt**2]])\n",
    "\n",
    "    def step(self, action):\n",
    "        state, _, _, truncated, _ = self.env.step(action)\n",
    "        noise = np.random.multivariate_normal(mean=np.zeros(4), cov=self.cov)\n",
    "\n",
    "        return (state + noise).astype(np.float32), 0., False, truncated, {}\n",
    "\n",
    "    def reset(self, seed=None):\n",
    "        return self.env.reset(seed=seed)"
   ]
  },
  {
   "cell_type": "code",
   "execution_count": 33,
   "metadata": {
    "ExecuteTime": {
     "end_time": "2024-03-16T09:26:53.700261900Z",
     "start_time": "2024-03-16T09:26:53.694125900Z"
    }
   },
   "outputs": [],
   "source": [
    "class NNDM(nn.Sequential):\n",
    "    # input [x pos, y pos, x speed, y speed, ux, uy]\n",
    "    \n",
    "    def __init__(self):\n",
    "        super(NNDM, self).__init__()\n",
    "        self.dt = 0.05\n",
    "        \n",
    "        layer = nn.Linear(6, 4, bias=False)\n",
    "        weights = torch.tensor([[1., 0., self.dt, 0., ((self.dt**2)/2), 0], \n",
    "                                [0., 1., 0., self.dt, 0., ((self.dt**2)/2)], \n",
    "                                [0., 0., 1., 0., self.dt, 0.], \n",
    "                                [0., 0., 0., 1., 0., self.dt]])\n",
    "        layer.weight = nn.Parameter(weights)\n",
    "        \n",
    "        super(NNDM, self).__init__(layer)\n",
    "\n",
    "nndm = NNDM()"
   ]
  },
  {
   "cell_type": "code",
   "execution_count": 34,
   "metadata": {
    "ExecuteTime": {
     "end_time": "2024-03-16T09:26:53.909218800Z",
     "start_time": "2024-03-16T09:26:53.902968100Z"
    }
   },
   "outputs": [],
   "source": [
    "class Agent(nn.Module):\n",
    "    def __init__(self):\n",
    "        super(Agent, self).__init__()\n",
    "        \n",
    "        self.layer = nn.Linear(2, 2)\n",
    "        \n",
    "        # dummy output of u=0\n",
    "        self.layer.weight = nn.Parameter(torch.tensor([[0., 0., 0., 0.], [0., 0., 0., 0.]]))\n",
    "        self.layer.bias = nn.Parameter(torch.tensor([50., 0.]))\n",
    "    \n",
    "    def forward(self, x):\n",
    "        return self.layer(x)\n",
    "    \n",
    "    def select_action(self, x, exploration=False):\n",
    "        if exploration:\n",
    "            raise ValueError('This model is not implemented for exploration')\n",
    "        else:\n",
    "            return self.forward(x)"
   ]
  },
  {
   "cell_type": "code",
   "execution_count": 35,
   "metadata": {
    "ExecuteTime": {
     "end_time": "2024-03-16T09:26:54.107240200Z",
     "start_time": "2024-03-16T09:26:54.098311Z"
    }
   },
   "outputs": [],
   "source": [
    "policy = Agent()"
   ]
  },
  {
   "cell_type": "code",
   "execution_count": 36,
   "metadata": {
    "ExecuteTime": {
     "end_time": "2024-03-16T09:26:54.324607700Z",
     "start_time": "2024-03-16T09:26:54.315996700Z"
    }
   },
   "outputs": [
    {
     "name": "stderr",
     "output_type": "stream",
     "text": [
      "C:\\Users\\ruben\\PycharmProjects\\Capstone\\venv\\Lib\\site-packages\\gymnasium\\envs\\registration.py:694: UserWarning: \u001B[33mWARN: Overriding environment DoubleIntegrator already in registry.\u001B[0m\n",
      "  logger.warn(f\"Overriding environment {new_spec.id} already in registry.\")\n"
     ]
    }
   ],
   "source": [
    "gym.register('DoubleIntegrator', DoubleIntegratorEnv, max_episode_steps=100)"
   ]
  },
  {
   "cell_type": "code",
   "execution_count": 53,
   "metadata": {
    "ExecuteTime": {
     "end_time": "2024-03-16T09:28:27.324457800Z",
     "start_time": "2024-03-16T09:28:27.311678600Z"
    }
   },
   "outputs": [],
   "source": [
    "class DoubleIntegrator(Env):\n",
    "    def __init__(self):\n",
    "        env = gym.make('DoubleIntegrator')\n",
    "        \n",
    "        self.is_discrete = False\n",
    "        \n",
    "        self.settings = {\n",
    "            'noise': [],\n",
    "            'max_frames': 999\n",
    "        }\n",
    "        \n",
    "        self.h_function = nn.Sequential(\n",
    "            FixedLinear(\n",
    "                torch.tensor([\n",
    "                    [1., 0, 0, 0],\n",
    "                    [0, 1, 0, 0]\n",
    "                ]),\n",
    "                torch.tensor([0., 0.])\n",
    "            ),\n",
    "            Pow(2),\n",
    "            FixedLinear(\n",
    "                torch.tensor([\n",
    "                    [-1 / 0.5 ** 2, 0],\n",
    "                    [0, -1 / 0.5 ** 2]\n",
    "                ]),\n",
    "                torch.tensor([1., 1.])\n",
    "            )\n",
    "        )\n",
    "\n",
    "        self.h_ids = [0, 1]\n",
    "        self.std = [0.05**2/2, 0.05**2/2]\n",
    "        self.env = IntegratorNoise(env)"
   ]
  },
  {
   "cell_type": "code",
   "execution_count": 54,
   "metadata": {
    "ExecuteTime": {
     "end_time": "2024-03-16T09:28:27.524373800Z",
     "start_time": "2024-03-16T09:28:27.514872400Z"
    }
   },
   "outputs": [],
   "source": [
    "env = DoubleIntegrator()"
   ]
  },
  {
   "cell_type": "code",
   "execution_count": 55,
   "metadata": {
    "ExecuteTime": {
     "end_time": "2024-03-16T09:28:27.735292600Z",
     "start_time": "2024-03-16T09:28:27.711220200Z"
    }
   },
   "outputs": [],
   "source": [
    "action = [50., 0.]"
   ]
  },
  {
   "cell_type": "code",
   "execution_count": 60,
   "metadata": {
    "ExecuteTime": {
     "end_time": "2024-03-16T09:29:16.735918600Z",
     "start_time": "2024-03-16T09:29:16.711118500Z"
    }
   },
   "outputs": [],
   "source": [
    "alpha = 0.9875\n",
    "\n",
    "cbf = CBF(env, nndm, policy,\n",
    "          alpha=[alpha, alpha],\n",
    "          delta=[0., 0.],\n",
    "          no_action_partitions=16,\n",
    "          no_noise_partitions=5,\n",
    "          stochastic=True)"
   ]
  },
  {
   "cell_type": "code",
   "execution_count": 61,
   "metadata": {
    "ExecuteTime": {
     "end_time": "2024-03-16T09:29:17.165777700Z",
     "start_time": "2024-03-16T09:29:17.141245Z"
    }
   },
   "outputs": [
    {
     "data": {
      "text/plain": "'evaluator = Evaluator(env, cbf)\\nf, h = evaluator.mc_simulate(policy, 10, cbf_enabled=True, seed=[0., 0., 0., 0.])'"
     },
     "execution_count": 61,
     "metadata": {},
     "output_type": "execute_result"
    }
   ],
   "source": [
    "\"\"\"evaluator = Evaluator(env, cbf)\n",
    "f, h = evaluator.mc_simulate(policy, 10, cbf_enabled=True, seed=[0., 0., 0., 0.])\"\"\""
   ]
  },
  {
   "cell_type": "code",
   "execution_count": 62,
   "metadata": {
    "ExecuteTime": {
     "end_time": "2024-03-16T09:29:17.473846300Z",
     "start_time": "2024-03-16T09:29:17.470655300Z"
    }
   },
   "outputs": [],
   "source": [
    "def plot_trajectories(num_agents, start_state, cbf_enabled=False):\n",
    "    # plot the trajectories of the system, starting from the origin\n",
    "\n",
    "    if start_state is None:\n",
    "        start_state = [0., 0., 0., 0.]\n",
    "    states = []\n",
    "\n",
    "    for _ in tqdm(range(num_agents)):\n",
    "        state_list = []\n",
    "        state, _ = env.env.reset(seed=start_state)\n",
    "        state = torch.tensor(state).unsqueeze(0)\n",
    "\n",
    "        done = False\n",
    "\n",
    "        while not done:   \n",
    "            state_list.append(state.squeeze())\n",
    "\n",
    "            # try cbf action - if cbf disabled or no safe actions available, just follow agent policy\n",
    "            if cbf_enabled:\n",
    "                try:\n",
    "                    action = cbf.safe_action(state)\n",
    "                except InfeasibilityError:\n",
    "                    terminated = True\n",
    "                    done = True\n",
    "                    break\n",
    "            else:\n",
    "                action = policy.select_action(state, exploration=False)\n",
    "\n",
    "            state, reward, terminated, truncated, _ = env.env.step(action.squeeze().detach().numpy())\n",
    "            state = torch.tensor(state).unsqueeze(0)\n",
    "\n",
    "            if torch.any(env.h_function(state.unsqueeze(0)) < 0).item():\n",
    "                terminated = True\n",
    "\n",
    "            done = terminated or truncated\n",
    "\n",
    "        states.append(np.array(state_list))\n",
    "\n",
    "    env.env.close()\n",
    "    \n",
    "    print(states)\n",
    "    \n",
    "    \n",
    "    x_circle = np.linspace(-0.5, 0.5, 1001)\n",
    "    \n",
    "    y_circle_upper = [np.sqrt((0.5)**2 - x**2) for x in x_circle]\n",
    "    y_circle_lower = [-np.sqrt((0.5)**2 - x**2) for x in x_circle]\n",
    "\n",
    "    plt.plot(x_circle, y_circle_upper, color =\"black\")\n",
    "    plt.plot(x_circle, y_circle_lower, color = \"black\")\n",
    "    plt.fill_between(x_circle, y_circle_upper, y_circle_lower, color='g', alpha=0.3)\n",
    "    x_axis = np.linspace(-0.5, 0.5, 3)\n",
    "    y_axis = np.linspace(-0.5, 0.5, 3)\n",
    "\n",
    "    plt.xticks(x_axis)\n",
    "    plt.yticks(y_axis)\n",
    "\n",
    "    plt.title(\"Trajectories\")\n",
    "    plt.xlabel(\"x\")\n",
    "    plt.ylabel(\"y\")\n",
    "\n",
    "    for trajectory in states:\n",
    "        # https://stackoverflow.com/questions/21519203/plotting-a-list-of-x-y-coordinates \n",
    "        x, y, x_dot, y_dot = zip(*trajectory)\n",
    "        plt.plot(x, y, c='b', alpha=0.1)\n",
    "\n",
    "\n",
    "    plt.savefig(\"Double_integrator_trajectory_plot.png\")\n",
    "    plt.show()\n",
    "\n"
   ]
  },
  {
   "cell_type": "code",
   "execution_count": 59,
   "metadata": {
    "ExecuteTime": {
     "end_time": "2024-03-16T09:28:31.696184900Z",
     "start_time": "2024-03-16T09:28:28.562858200Z"
    }
   },
   "outputs": [
    {
     "name": "stderr",
     "output_type": "stream",
     "text": [
      "  0%|          | 0/1 [00:02<?, ?it/s]\n"
     ]
    },
    {
     "ename": "KeyboardInterrupt",
     "evalue": "",
     "output_type": "error",
     "traceback": [
      "\u001B[1;31m---------------------------------------------------------------------------\u001B[0m",
      "\u001B[1;31mKeyboardInterrupt\u001B[0m                         Traceback (most recent call last)",
      "Cell \u001B[1;32mIn[59], line 1\u001B[0m\n\u001B[1;32m----> 1\u001B[0m \u001B[43mplot_trajectories\u001B[49m\u001B[43m(\u001B[49m\u001B[38;5;241;43m1\u001B[39;49m\u001B[43m,\u001B[49m\u001B[43m \u001B[49m\u001B[43m[\u001B[49m\u001B[38;5;241;43m0.\u001B[39;49m\u001B[43m,\u001B[49m\u001B[43m \u001B[49m\u001B[38;5;241;43m0.\u001B[39;49m\u001B[43m,\u001B[49m\u001B[43m \u001B[49m\u001B[38;5;241;43m0.\u001B[39;49m\u001B[43m,\u001B[49m\u001B[43m \u001B[49m\u001B[38;5;241;43m0.\u001B[39;49m\u001B[43m]\u001B[49m\u001B[43m,\u001B[49m\u001B[43m \u001B[49m\u001B[43mcbf_enabled\u001B[49m\u001B[38;5;241;43m=\u001B[39;49m\u001B[38;5;28;43;01mTrue\u001B[39;49;00m\u001B[43m)\u001B[49m\n",
      "Cell \u001B[1;32mIn[58], line 21\u001B[0m, in \u001B[0;36mplot_trajectories\u001B[1;34m(num_agents, start_state, cbf_enabled)\u001B[0m\n\u001B[0;32m     19\u001B[0m \u001B[38;5;28;01mif\u001B[39;00m cbf_enabled:\n\u001B[0;32m     20\u001B[0m     \u001B[38;5;28;01mtry\u001B[39;00m:\n\u001B[1;32m---> 21\u001B[0m         action \u001B[38;5;241m=\u001B[39m \u001B[43mcbf\u001B[49m\u001B[38;5;241;43m.\u001B[39;49m\u001B[43msafe_action\u001B[49m\u001B[43m(\u001B[49m\u001B[43mstate\u001B[49m\u001B[43m)\u001B[49m\n\u001B[0;32m     22\u001B[0m     \u001B[38;5;28;01mexcept\u001B[39;00m InfeasibilityError:\n\u001B[0;32m     23\u001B[0m         terminated \u001B[38;5;241m=\u001B[39m \u001B[38;5;28;01mTrue\u001B[39;00m\n",
      "File \u001B[1;32m~\\PycharmProjects\\Capstone\\src\\capstone\\cbf.py:95\u001B[0m, in \u001B[0;36mCBF.safe_action\u001B[1;34m(self, state)\u001B[0m\n\u001B[0;32m     93\u001B[0m     \u001B[38;5;28;01mreturn\u001B[39;00m \u001B[38;5;28mself\u001B[39m\u001B[38;5;241m.\u001B[39mcontinuous_cbf(state)\n\u001B[0;32m     94\u001B[0m \u001B[38;5;28;01melse\u001B[39;00m:\n\u001B[1;32m---> 95\u001B[0m     \u001B[38;5;28;01mreturn\u001B[39;00m \u001B[38;5;28;43mself\u001B[39;49m\u001B[38;5;241;43m.\u001B[39;49m\u001B[43mcontinuous_scbf\u001B[49m\u001B[43m(\u001B[49m\u001B[43mstate\u001B[49m\u001B[43m)\u001B[49m\n",
      "File \u001B[1;32m~\\PycharmProjects\\Capstone\\src\\capstone\\cbf.py:190\u001B[0m, in \u001B[0;36mCBF.continuous_scbf\u001B[1;34m(self, state)\u001B[0m\n\u001B[0;32m    188\u001B[0m nominal_action \u001B[38;5;241m=\u001B[39m \u001B[38;5;28mself\u001B[39m\u001B[38;5;241m.\u001B[39mpolicy(state)\u001B[38;5;241m.\u001B[39msqueeze(\u001B[38;5;241m0\u001B[39m)\u001B[38;5;241m.\u001B[39mdetach()\n\u001B[0;32m    189\u001B[0m h_current \u001B[38;5;241m=\u001B[39m \u001B[38;5;28mself\u001B[39m\u001B[38;5;241m.\u001B[39mh_func(state)\n\u001B[1;32m--> 190\u001B[0m bound_matrices \u001B[38;5;241m=\u001B[39m \u001B[38;5;28;43mself\u001B[39;49m\u001B[38;5;241;43m.\u001B[39;49m\u001B[43mcreate_noise_bounds_batched\u001B[49m\u001B[43m(\u001B[49m\u001B[43mstate\u001B[49m\u001B[43m)\u001B[49m\n\u001B[0;32m    191\u001B[0m \u001B[38;5;28;01mreturn\u001B[39;00m \u001B[38;5;28mself\u001B[39m\u001B[38;5;241m.\u001B[39mqp_solver(nominal_action, bound_matrices, h_current)\n",
      "File \u001B[1;32m~\\PycharmProjects\\Capstone\\venv\\Lib\\site-packages\\torch\\utils\\_contextlib.py:115\u001B[0m, in \u001B[0;36mcontext_decorator.<locals>.decorate_context\u001B[1;34m(*args, **kwargs)\u001B[0m\n\u001B[0;32m    112\u001B[0m \u001B[38;5;129m@functools\u001B[39m\u001B[38;5;241m.\u001B[39mwraps(func)\n\u001B[0;32m    113\u001B[0m \u001B[38;5;28;01mdef\u001B[39;00m \u001B[38;5;21mdecorate_context\u001B[39m(\u001B[38;5;241m*\u001B[39margs, \u001B[38;5;241m*\u001B[39m\u001B[38;5;241m*\u001B[39mkwargs):\n\u001B[0;32m    114\u001B[0m     \u001B[38;5;28;01mwith\u001B[39;00m ctx_factory():\n\u001B[1;32m--> 115\u001B[0m         \u001B[38;5;28;01mreturn\u001B[39;00m \u001B[43mfunc\u001B[49m\u001B[43m(\u001B[49m\u001B[38;5;241;43m*\u001B[39;49m\u001B[43margs\u001B[49m\u001B[43m,\u001B[49m\u001B[43m \u001B[49m\u001B[38;5;241;43m*\u001B[39;49m\u001B[38;5;241;43m*\u001B[39;49m\u001B[43mkwargs\u001B[49m\u001B[43m)\u001B[49m\n",
      "File \u001B[1;32m~\\PycharmProjects\\Capstone\\src\\capstone\\cbf.py:345\u001B[0m, in \u001B[0;36mCBF.create_noise_bounds_batched\u001B[1;34m(self, state)\u001B[0m\n\u001B[0;32m    343\u001B[0m \u001B[38;5;66;03m# Dims of input bounds: [noise partition number, value]\u001B[39;00m\n\u001B[0;32m    344\u001B[0m input_bounds \u001B[38;5;241m=\u001B[39m HyperRectangle(input_bounds_lower, input_bounds_upper)\n\u001B[1;32m--> 345\u001B[0m crown_bounds \u001B[38;5;241m=\u001B[39m \u001B[38;5;28;43mself\u001B[39;49m\u001B[38;5;241;43m.\u001B[39;49m\u001B[43mbounded_NNDM_H\u001B[49m\u001B[38;5;241;43m.\u001B[39;49m\u001B[43mcrown\u001B[49m\u001B[43m(\u001B[49m\u001B[43minput_bounds\u001B[49m\u001B[43m,\u001B[49m\u001B[43m \u001B[49m\u001B[43mbound_upper\u001B[49m\u001B[38;5;241;43m=\u001B[39;49m\u001B[38;5;28;43;01mFalse\u001B[39;49;00m\u001B[43m)\u001B[49m\n\u001B[0;32m    346\u001B[0m \u001B[38;5;66;03m# Get the lower bounds\u001B[39;00m\n\u001B[0;32m    347\u001B[0m (A, b) \u001B[38;5;241m=\u001B[39m crown_bounds\u001B[38;5;241m.\u001B[39mlower\n",
      "File \u001B[1;32m~\\PycharmProjects\\Capstone\\venv\\Lib\\site-packages\\bound_propagation\\general.py:42\u001B[0m, in \u001B[0;36mBoundModule.crown\u001B[1;34m(self, region, bound_lower, bound_upper, alpha)\u001B[0m\n\u001B[0;32m     41\u001B[0m \u001B[38;5;28;01mdef\u001B[39;00m \u001B[38;5;21mcrown\u001B[39m(\u001B[38;5;28mself\u001B[39m, region, bound_lower\u001B[38;5;241m=\u001B[39m\u001B[38;5;28;01mTrue\u001B[39;00m, bound_upper\u001B[38;5;241m=\u001B[39m\u001B[38;5;28;01mTrue\u001B[39;00m, alpha\u001B[38;5;241m=\u001B[39m\u001B[38;5;28;01mFalse\u001B[39;00m):\n\u001B[1;32m---> 42\u001B[0m     \u001B[38;5;28;01mreturn\u001B[39;00m \u001B[38;5;28;43mself\u001B[39;49m\u001B[38;5;241;43m.\u001B[39;49m\u001B[43mcrown_with_relaxation\u001B[49m\u001B[43m(\u001B[49m\u001B[38;5;28;43mself\u001B[39;49m\u001B[38;5;241;43m.\u001B[39;49m\u001B[43mcrown_relax\u001B[49m\u001B[43m,\u001B[49m\u001B[43m \u001B[49m\u001B[43mregion\u001B[49m\u001B[43m,\u001B[49m\u001B[43m \u001B[49m\u001B[43mbound_lower\u001B[49m\u001B[43m,\u001B[49m\u001B[43m \u001B[49m\u001B[43mbound_upper\u001B[49m\u001B[43m,\u001B[49m\u001B[43m \u001B[49m\u001B[43malpha\u001B[49m\u001B[43m)\u001B[49m\n",
      "File \u001B[1;32m~\\PycharmProjects\\Capstone\\venv\\Lib\\site-packages\\bound_propagation\\general.py:50\u001B[0m, in \u001B[0;36mBoundModule.crown_with_relaxation\u001B[1;34m(self, relax, region, bound_lower, bound_upper, alpha)\u001B[0m\n\u001B[0;32m     47\u001B[0m \u001B[38;5;28;01mdef\u001B[39;00m \u001B[38;5;21mcrown_with_relaxation\u001B[39m(\u001B[38;5;28mself\u001B[39m, relax, region, bound_lower, bound_upper, alpha):\n\u001B[0;32m     48\u001B[0m     out_size \u001B[38;5;241m=\u001B[39m \u001B[38;5;28mself\u001B[39m\u001B[38;5;241m.\u001B[39mpropagate_size(region\u001B[38;5;241m.\u001B[39msize(\u001B[38;5;241m-\u001B[39m\u001B[38;5;241m1\u001B[39m))\n\u001B[1;32m---> 50\u001B[0m     \u001B[43mrelax\u001B[49m\u001B[43m(\u001B[49m\u001B[43mregion\u001B[49m\u001B[43m)\u001B[49m\n\u001B[0;32m     52\u001B[0m     \u001B[38;5;28;01mif\u001B[39;00m alpha:\n\u001B[0;32m     53\u001B[0m         linear_bounds \u001B[38;5;241m=\u001B[39m \u001B[38;5;28mself\u001B[39m\u001B[38;5;241m.\u001B[39malpha_crown(region, out_size, bound_lower, bound_upper)\n",
      "File \u001B[1;32m~\\PycharmProjects\\Capstone\\venv\\Lib\\site-packages\\torch\\utils\\_contextlib.py:115\u001B[0m, in \u001B[0;36mcontext_decorator.<locals>.decorate_context\u001B[1;34m(*args, **kwargs)\u001B[0m\n\u001B[0;32m    112\u001B[0m \u001B[38;5;129m@functools\u001B[39m\u001B[38;5;241m.\u001B[39mwraps(func)\n\u001B[0;32m    113\u001B[0m \u001B[38;5;28;01mdef\u001B[39;00m \u001B[38;5;21mdecorate_context\u001B[39m(\u001B[38;5;241m*\u001B[39margs, \u001B[38;5;241m*\u001B[39m\u001B[38;5;241m*\u001B[39mkwargs):\n\u001B[0;32m    114\u001B[0m     \u001B[38;5;28;01mwith\u001B[39;00m ctx_factory():\n\u001B[1;32m--> 115\u001B[0m         \u001B[38;5;28;01mreturn\u001B[39;00m \u001B[43mfunc\u001B[49m\u001B[43m(\u001B[49m\u001B[38;5;241;43m*\u001B[39;49m\u001B[43margs\u001B[49m\u001B[43m,\u001B[49m\u001B[43m \u001B[49m\u001B[38;5;241;43m*\u001B[39;49m\u001B[38;5;241;43m*\u001B[39;49m\u001B[43mkwargs\u001B[49m\u001B[43m)\u001B[49m\n",
      "File \u001B[1;32m~\\PycharmProjects\\Capstone\\venv\\Lib\\site-packages\\bound_propagation\\general.py:33\u001B[0m, in \u001B[0;36mBoundModule.crown_relax\u001B[1;34m(self, region)\u001B[0m\n\u001B[0;32m     31\u001B[0m \u001B[38;5;28;01mwhile\u001B[39;00m \u001B[38;5;28mself\u001B[39m\u001B[38;5;241m.\u001B[39mneed_relaxation:\n\u001B[0;32m     32\u001B[0m     linear_bounds, module, \u001B[38;5;241m*\u001B[39mextra \u001B[38;5;241m=\u001B[39m \u001B[38;5;28mself\u001B[39m\u001B[38;5;241m.\u001B[39mbackward_relaxation(region)\n\u001B[1;32m---> 33\u001B[0m     \u001B[43mmodule\u001B[49m\u001B[38;5;241;43m.\u001B[39;49m\u001B[43mset_relaxation\u001B[49m\u001B[43m(\u001B[49m\u001B[43mlinear_bounds\u001B[49m\u001B[43m,\u001B[49m\u001B[43m \u001B[49m\u001B[38;5;241;43m*\u001B[39;49m\u001B[43mextra\u001B[49m\u001B[43m)\u001B[49m\n",
      "File \u001B[1;32m~\\PycharmProjects\\Capstone\\venv\\Lib\\site-packages\\bound_propagation\\activation.py:72\u001B[0m, in \u001B[0;36mBoundActivation.set_relaxation\u001B[1;34m(self, linear_bounds)\u001B[0m\n\u001B[0;32m     65\u001B[0m interval_bounds \u001B[38;5;241m=\u001B[39m linear_bounds\u001B[38;5;241m.\u001B[39mconcretize()\n\u001B[0;32m     66\u001B[0m interval_bounds \u001B[38;5;241m=\u001B[39m IntervalBounds(\n\u001B[0;32m     67\u001B[0m     linear_bounds\u001B[38;5;241m.\u001B[39mregion,\n\u001B[0;32m     68\u001B[0m     torch\u001B[38;5;241m.\u001B[39mmax(interval_bounds\u001B[38;5;241m.\u001B[39mlower, \u001B[38;5;28mself\u001B[39m\u001B[38;5;241m.\u001B[39minput_bounds\u001B[38;5;241m.\u001B[39mlower),\n\u001B[0;32m     69\u001B[0m     torch\u001B[38;5;241m.\u001B[39mmin(interval_bounds\u001B[38;5;241m.\u001B[39mupper, \u001B[38;5;28mself\u001B[39m\u001B[38;5;241m.\u001B[39minput_bounds\u001B[38;5;241m.\u001B[39mupper)\n\u001B[0;32m     70\u001B[0m )\n\u001B[1;32m---> 72\u001B[0m \u001B[38;5;28;43mself\u001B[39;49m\u001B[38;5;241;43m.\u001B[39;49m\u001B[43malpha_beta\u001B[49m\u001B[43m(\u001B[49m\u001B[43mpreactivation\u001B[49m\u001B[38;5;241;43m=\u001B[39;49m\u001B[43minterval_bounds\u001B[49m\u001B[43m)\u001B[49m\n\u001B[0;32m     73\u001B[0m \u001B[38;5;28mself\u001B[39m\u001B[38;5;241m.\u001B[39mbounded \u001B[38;5;241m=\u001B[39m \u001B[38;5;28;01mTrue\u001B[39;00m\n",
      "File \u001B[1;32m~\\PycharmProjects\\Capstone\\venv\\Lib\\site-packages\\bound_propagation\\activation.py:28\u001B[0m, in \u001B[0;36massert_bound_order.<locals>.wrapper\u001B[1;34m(self, *args, **kwargs)\u001B[0m\n\u001B[0;32m     23\u001B[0m     bounds \u001B[38;5;241m=\u001B[39m kwargs[keyword]\n\u001B[0;32m     25\u001B[0m \u001B[38;5;28;01massert\u001B[39;00m torch\u001B[38;5;241m.\u001B[39misnan(bounds\u001B[38;5;241m.\u001B[39mlower)\u001B[38;5;241m.\u001B[39many() \u001B[38;5;129;01mor\u001B[39;00m torch\u001B[38;5;241m.\u001B[39misnan(bounds\u001B[38;5;241m.\u001B[39mupper)\u001B[38;5;241m.\u001B[39many() \u001B[38;5;129;01mor\u001B[39;00m \\\n\u001B[0;32m     26\u001B[0m        torch\u001B[38;5;241m.\u001B[39mall(bounds\u001B[38;5;241m.\u001B[39mlower \u001B[38;5;241m<\u001B[39m\u001B[38;5;241m=\u001B[39m bounds\u001B[38;5;241m.\u001B[39mupper \u001B[38;5;241m+\u001B[39m \u001B[38;5;241m1e-6\u001B[39m)\n\u001B[1;32m---> 28\u001B[0m \u001B[38;5;28;01mreturn\u001B[39;00m \u001B[43mfunc\u001B[49m\u001B[43m(\u001B[49m\u001B[38;5;28;43mself\u001B[39;49m\u001B[43m,\u001B[49m\u001B[43m \u001B[49m\u001B[38;5;241;43m*\u001B[39;49m\u001B[43margs\u001B[49m\u001B[43m,\u001B[49m\u001B[43m \u001B[49m\u001B[38;5;241;43m*\u001B[39;49m\u001B[38;5;241;43m*\u001B[39;49m\u001B[43mkwargs\u001B[49m\u001B[43m)\u001B[49m\n",
      "File \u001B[1;32m~\\PycharmProjects\\Capstone\\venv\\Lib\\site-packages\\bound_propagation\\polynomial.py:155\u001B[0m, in \u001B[0;36mBoundPow.alpha_beta\u001B[1;34m(self, preactivation)\u001B[0m\n\u001B[0;32m    150\u001B[0m \u001B[38;5;66;03m########\u001B[39;00m\n\u001B[0;32m    151\u001B[0m \u001B[38;5;66;03m# Even #\u001B[39;00m\n\u001B[0;32m    152\u001B[0m \u001B[38;5;66;03m########\u001B[39;00m\n\u001B[0;32m    153\u001B[0m all_even \u001B[38;5;241m=\u001B[39m (n \u001B[38;5;241m|\u001B[39m p \u001B[38;5;241m|\u001B[39m np) \u001B[38;5;241m&\u001B[39m even\n\u001B[1;32m--> 155\u001B[0m \u001B[43madd_linear\u001B[49m\u001B[43m(\u001B[49m\u001B[38;5;28;43mself\u001B[39;49m\u001B[38;5;241;43m.\u001B[39;49m\u001B[43malpha_lower\u001B[49m\u001B[43m,\u001B[49m\u001B[43m \u001B[49m\u001B[38;5;28;43mself\u001B[39;49m\u001B[38;5;241;43m.\u001B[39;49m\u001B[43mbeta_lower\u001B[49m\u001B[43m,\u001B[49m\u001B[43m \u001B[49m\u001B[43mmask\u001B[49m\u001B[38;5;241;43m=\u001B[39;49m\u001B[43mall_even\u001B[49m\u001B[43m,\u001B[49m\u001B[43m \u001B[49m\u001B[43ma\u001B[49m\u001B[38;5;241;43m=\u001B[39;49m\u001B[43md_prime\u001B[49m\u001B[43m,\u001B[49m\u001B[43m \u001B[49m\u001B[43mx\u001B[49m\u001B[38;5;241;43m=\u001B[39;49m\u001B[43md\u001B[49m\u001B[43m,\u001B[49m\u001B[43m \u001B[49m\u001B[43my\u001B[49m\u001B[38;5;241;43m=\u001B[39;49m\u001B[43md_act\u001B[49m\u001B[43m)\u001B[49m\n\u001B[0;32m    156\u001B[0m add_linear(\u001B[38;5;28mself\u001B[39m\u001B[38;5;241m.\u001B[39malpha_upper, \u001B[38;5;28mself\u001B[39m\u001B[38;5;241m.\u001B[39mbeta_upper, mask\u001B[38;5;241m=\u001B[39mall_even, a\u001B[38;5;241m=\u001B[39mslope, x\u001B[38;5;241m=\u001B[39mlower, y\u001B[38;5;241m=\u001B[39mlower_act)\n\u001B[0;32m    158\u001B[0m \u001B[38;5;66;03m# Allow parameterization\u001B[39;00m\n\u001B[0;32m    159\u001B[0m \u001B[38;5;66;03m# Save mask\u001B[39;00m\n",
      "File \u001B[1;32m~\\PycharmProjects\\Capstone\\venv\\Lib\\site-packages\\bound_propagation\\polynomial.py:138\u001B[0m, in \u001B[0;36mBoundPow.alpha_beta.<locals>.add_linear\u001B[1;34m(alpha, beta, mask, a, x, y, a_mask)\u001B[0m\n\u001B[0;32m    134\u001B[0m d_prime \u001B[38;5;241m=\u001B[39m \u001B[38;5;28mself\u001B[39m\u001B[38;5;241m.\u001B[39mderivative(d)\n\u001B[0;32m    136\u001B[0m slope \u001B[38;5;241m=\u001B[39m (upper_act \u001B[38;5;241m-\u001B[39m lower_act) \u001B[38;5;241m/\u001B[39m (upper \u001B[38;5;241m-\u001B[39m lower)\n\u001B[1;32m--> 138\u001B[0m \u001B[38;5;28;01mdef\u001B[39;00m \u001B[38;5;21madd_linear\u001B[39m(alpha, beta, mask, a, x, y, a_mask\u001B[38;5;241m=\u001B[39m\u001B[38;5;28;01mTrue\u001B[39;00m):\n\u001B[0;32m    139\u001B[0m     \u001B[38;5;28;01mif\u001B[39;00m a_mask:\n\u001B[0;32m    140\u001B[0m         a \u001B[38;5;241m=\u001B[39m a[mask]\n",
      "\u001B[1;31mKeyboardInterrupt\u001B[0m: "
     ]
    }
   ],
   "source": [
    "plot_trajectories(1, [0., 0., 0., 0.], cbf_enabled=True)"
   ]
  },
  {
   "cell_type": "code",
   "execution_count": null,
   "metadata": {
    "ExecuteTime": {
     "start_time": "2024-03-16T09:28:31.693882700Z"
    }
   },
   "outputs": [],
   "source": [
    "def p_u_theoretical(xg, yg):\n",
    "    res = np.zeros([xg.shape[1], yg.shape[0]])\n",
    "    \n",
    "    x_y = np.dstack((xg, yg))\n",
    "    gridpoints = [point for row in x_y for point in row]\n",
    "    h_values = [env.h_function(torch.tensor(point, dtype=torch.float32)) for point in gridpoints]\n",
    "     \n",
    "    idx = 0  # could have used enumerate(gridpoints), but this would disallow the tqdm progress bar\n",
    "    for point in tqdm(gridpoints):\n",
    "        p_u = 1 - (env.h_function(torch.tensor(point, dtype=torch.float32)).item() * alpha ** 100)\n",
    "        \n",
    "        i, j = idx % x_y.shape[1], idx // x_y.shape[0]\n",
    "        res[j, i] = p_u\n",
    "        \n",
    "        idx += 1\n",
    "    \n",
    "    clipped_res = np.clip(res, 0., 1.)  \n",
    "    return clipped_res"
   ]
  },
  {
   "cell_type": "code",
   "execution_count": 49,
   "metadata": {},
   "outputs": [],
   "source": [
    "def p_u_experimental(xg, yg, num_agents=500):\n",
    "    res = np.zeros([xg.shape[1], yg.shape[0]])\n",
    "\n",
    "    x_y = np.dstack((xg, yg))\n",
    "    gridpoints = [point for row in x_y for point in row]\n",
    "    \n",
    "    idx = 0\n",
    "    for point in tqdm(gridpoints):\n",
    "        end_frames, _ = evaluator.mc_simulate(policy, num_agents, cbf_enabled=True, seed=list(point), progress_bar=False)\n",
    "        p_u = sum(f <= 100 for f in end_frames)/len(end_frames) if len(end_frames) > 0 else 0.\n",
    "        \n",
    "        i, j = idx % x_y.shape[1], idx // x_y.shape[0]\n",
    "        res[i, j] = p_u\n",
    "        \n",
    "        idx += 1     \n",
    "    return res"
   ]
  },
  {
   "cell_type": "code",
   "execution_count": 50,
   "metadata": {},
   "outputs": [],
   "source": [
    "#Safety value h(x) plot"
   ]
  },
  {
   "cell_type": "code",
   "execution_count": 51,
   "metadata": {},
   "outputs": [],
   "source": [
    "#Fraction unsafe plot"
   ]
  }
 ],
 "metadata": {
  "kernelspec": {
   "display_name": "env",
   "language": "python",
   "name": "python3"
  },
  "language_info": {
   "codemirror_mode": {
    "name": "ipython",
    "version": 3
   },
   "file_extension": ".py",
   "mimetype": "text/x-python",
   "name": "python",
   "nbconvert_exporter": "python",
   "pygments_lexer": "ipython3",
   "version": "3.10.12"
  },
  "orig_nbformat": 4
 },
 "nbformat": 4,
 "nbformat_minor": 2
}
