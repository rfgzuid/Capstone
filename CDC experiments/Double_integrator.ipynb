{
 "cells": [
  {
   "cell_type": "code",
   "execution_count": 1,
   "metadata": {
    "ExecuteTime": {
     "end_time": "2024-03-16T13:19:53.771380300Z",
     "start_time": "2024-03-16T13:19:49.009698800Z"
    }
   },
   "outputs": [],
   "source": [
    "from src.capstone.cbf import CBF, InfeasibilityError\n",
    "from src.capstone.settings import Env\n",
    "\n",
    "from double_integrator import DoubleIntegratorEnv\n",
    "import gymnasium as gym\n",
    "\n",
    "from bound_propagation.polynomial import Pow\n",
    "from bound_propagation.linear import FixedLinear\n",
    "\n",
    "import numpy as np\n",
    "\n",
    "import torch\n",
    "import torch.nn as nn\n",
    "\n",
    "import matplotlib.pyplot as plt\n",
    "from tqdm import tqdm"
   ]
  },
  {
   "attachments": {},
   "cell_type": "markdown",
   "metadata": {},
   "source": [
    "$$B = \\begin{bmatrix}\n",
    "\\frac{1}{2}\\Delta t^2 & 0\\\\\n",
    "0 & \\frac{1}{2}\\Delta t^2\\\\\n",
    "\\Delta t & 0\\\\\n",
    "0 & \\Delta t\n",
    "\\end{bmatrix}$$\n",
    "\n",
    "$$Q = B B^T = \\begin{bmatrix}\n",
    "\\frac{1}{2}\\Delta t^2 & 0\\\\\n",
    "0 & \\frac{1}{2}\\Delta t^2\\\\\n",
    "\\Delta t & 0\\\\\n",
    "0 & \\Delta t\n",
    "\\end{bmatrix} \n",
    "\n",
    "\\begin{bmatrix}\n",
    "\\frac{1}{2}\\Delta t^2 & 0 & \\Delta t & 0\\\\\n",
    "0 & \\frac{1}{2}\\Delta t^2 & 0 & \\Delta t\n",
    "\\end{bmatrix} \n",
    "\n",
    "= \\begin{bmatrix}\n",
    "\\frac{1}{4}\\Delta t^4 & 0 & \\frac{1}{2}\\Delta t^3 & 0\\\\\n",
    "0 & \\frac{1}{4}\\Delta t^4 & 0 & \\frac{1}{2}\\Delta t^3\\\\\n",
    "\\frac{1}{2}\\Delta t^3 & 0 & \\Delta t^2 & 0\\\\\n",
    "0 & \\frac{1}{2}\\Delta t^3 & 0 & \\Delta t^2\n",
    "\\end{bmatrix}$$"
   ]
  },
  {
   "cell_type": "code",
   "execution_count": 2,
   "metadata": {
    "ExecuteTime": {
     "end_time": "2024-03-16T13:19:53.784241800Z",
     "start_time": "2024-03-16T13:19:53.776743400Z"
    }
   },
   "outputs": [],
   "source": [
    "class IntegratorNoise(gym.Wrapper):\n",
    "    def __init__(self, env):\n",
    "        super().__init__(env)\n",
    "        dt = 0.05\n",
    "        self.cov = np.array([[0.25 * dt**4, 0., 0.5 * dt**3, 0.],\n",
    "                           [0., 0.25 * dt**4, 0., 0.5 * dt**3],\n",
    "                           [0.5 * dt**3, 0., dt**2, 0.],\n",
    "                           [0., 0.5 * dt**3, 0., dt**2]])\n",
    "\n",
    "    def step(self, action):\n",
    "        state, _, _, truncated, _ = self.env.step(action)\n",
    "        noise = np.random.multivariate_normal(mean=np.zeros(4), cov=self.cov)\n",
    "\n",
    "        return (state + noise).astype(np.float32), 0., False, truncated, {}\n",
    "\n",
    "    def reset(self, seed=None):\n",
    "        return self.env.reset(seed=seed)"
   ]
  },
  {
   "cell_type": "markdown",
   "source": [
    "# NNDM"
   ],
   "metadata": {
    "collapsed": false
   }
  },
  {
   "cell_type": "code",
   "execution_count": 3,
   "metadata": {
    "ExecuteTime": {
     "end_time": "2024-03-16T13:19:53.845735100Z",
     "start_time": "2024-03-16T13:19:53.785316500Z"
    }
   },
   "outputs": [],
   "source": [
    "class NNDM(nn.Sequential):\n",
    "    # input [x pos, y pos, x speed, y speed, ux, uy]\n",
    "    \n",
    "    def __init__(self):\n",
    "        super(NNDM, self).__init__()\n",
    "        self.dt = 0.05\n",
    "        \n",
    "        layer = nn.Linear(6, 4, bias=False)\n",
    "        weights = torch.tensor([[1., 0., self.dt, 0., ((self.dt**2)/2), 0], \n",
    "                                [0., 1., 0., self.dt, 0., ((self.dt**2)/2)], \n",
    "                                [0., 0., 1., 0., self.dt, 0.], \n",
    "                                [0., 0., 0., 1., 0., self.dt]])\n",
    "        layer.weight = nn.Parameter(weights)\n",
    "        \n",
    "        super(NNDM, self).__init__(layer)\n",
    "\n",
    "nndm = NNDM()"
   ]
  },
  {
   "cell_type": "code",
   "execution_count": 4,
   "metadata": {
    "ExecuteTime": {
     "end_time": "2024-03-16T13:19:53.846971600Z",
     "start_time": "2024-03-16T13:19:53.807185400Z"
    }
   },
   "outputs": [],
   "source": [
    "class Agent(nn.Module):\n",
    "    def __init__(self):\n",
    "        super(Agent, self).__init__()\n",
    "        \n",
    "        self.layer = nn.Linear(2, 2)\n",
    "        \n",
    "        # dummy output of u=0\n",
    "        self.layer.weight = nn.Parameter(torch.tensor([[0., 0., 0., 0.], [0., 0., 0., 0.]]))\n",
    "        self.layer.bias = nn.Parameter(torch.tensor([50., 0.]))\n",
    "    \n",
    "    def forward(self, x):\n",
    "        return self.layer(x)\n",
    "    \n",
    "    def select_action(self, x, exploration=False):\n",
    "        if exploration:\n",
    "            raise ValueError('This model is not implemented for exploration')\n",
    "        else:\n",
    "            return self.forward(x)"
   ]
  },
  {
   "cell_type": "code",
   "execution_count": 5,
   "metadata": {
    "ExecuteTime": {
     "end_time": "2024-03-16T13:19:53.848173Z",
     "start_time": "2024-03-16T13:19:53.817702900Z"
    }
   },
   "outputs": [],
   "source": [
    "policy = Agent()"
   ]
  },
  {
   "cell_type": "markdown",
   "source": [
    "# Environment"
   ],
   "metadata": {
    "collapsed": false
   }
  },
  {
   "cell_type": "code",
   "execution_count": 6,
   "metadata": {
    "ExecuteTime": {
     "end_time": "2024-03-16T13:19:53.918859100Z",
     "start_time": "2024-03-16T13:19:53.827064600Z"
    }
   },
   "outputs": [],
   "source": [
    "gym.register('DoubleIntegrator', DoubleIntegratorEnv, max_episode_steps=100)"
   ]
  },
  {
   "cell_type": "code",
   "execution_count": 7,
   "metadata": {
    "ExecuteTime": {
     "end_time": "2024-03-16T13:19:53.919943900Z",
     "start_time": "2024-03-16T13:19:53.837145600Z"
    }
   },
   "outputs": [],
   "source": [
    "class DoubleIntegrator(Env):\n",
    "    def __init__(self):\n",
    "        env = gym.make('DoubleIntegrator')\n",
    "        \n",
    "        self.is_discrete = False\n",
    "        \n",
    "        self.settings = {\n",
    "            'noise': [],\n",
    "            'max_frames': 100\n",
    "        }\n",
    "        \n",
    "        self.h_function = nn.Sequential(\n",
    "            FixedLinear(\n",
    "                torch.tensor([\n",
    "                    [1., 0, 0, 0],\n",
    "                    [0, 1, 0, 0]\n",
    "                ]),\n",
    "                torch.tensor([0., 0.])\n",
    "            ),\n",
    "            Pow(2),\n",
    "            FixedLinear(\n",
    "                torch.tensor([\n",
    "                    [-1 / 0.5 ** 2, 0],\n",
    "                    [0, -1 / 0.5 ** 2]\n",
    "                ]),\n",
    "                torch.tensor([1., 1.])\n",
    "            )\n",
    "        )\n",
    "\n",
    "        self.h_ids = [0, 1]\n",
    "        self.std = [0.05**2/2, 0.05**2/2]\n",
    "        self.env = IntegratorNoise(env)"
   ]
  },
  {
   "cell_type": "code",
   "execution_count": 8,
   "metadata": {
    "ExecuteTime": {
     "end_time": "2024-03-16T13:19:53.947368800Z",
     "start_time": "2024-03-16T13:19:53.848173Z"
    }
   },
   "outputs": [],
   "source": [
    "env = DoubleIntegrator()"
   ]
  },
  {
   "cell_type": "markdown",
   "source": [
    "# Evaluation"
   ],
   "metadata": {
    "collapsed": false
   }
  },
  {
   "cell_type": "code",
   "execution_count": 70,
   "metadata": {
    "ExecuteTime": {
     "end_time": "2024-03-16T13:49:28.800563200Z",
     "start_time": "2024-03-16T13:49:28.774090600Z"
    }
   },
   "outputs": [],
   "source": [
    "alpha = 0.9875\n",
    "alpha = 0.9\n",
    "\n",
    "cbf = CBF(env, nndm, policy,\n",
    "          alpha=[alpha, alpha],\n",
    "          delta=[0., 0.],\n",
    "          no_action_partitions=8,\n",
    "          no_noise_partitions=8,\n",
    "          stochastic=True)"
   ]
  },
  {
   "cell_type": "code",
   "execution_count": 71,
   "metadata": {
    "ExecuteTime": {
     "end_time": "2024-03-16T13:49:29.252778600Z",
     "start_time": "2024-03-16T13:49:29.241635Z"
    }
   },
   "outputs": [],
   "source": [
    "# evaluator = Evaluator(env, cbf)\n",
    "# f, h = evaluator.mc_simulate(policy, 10, cbf_enabled=True, seed=[0., 0., 0., 0.])"
   ]
  },
  {
   "cell_type": "code",
   "outputs": [],
   "source": [
    "def mc_simulate(num_agents, cbf_enabled=False, seed=None):\n",
    "    if seed is None:\n",
    "        seed = [0., 0., 0., 0.]\n",
    "    \n",
    "    unsafe_frames = []\n",
    "    h_values = []\n",
    "    trajectories = []\n",
    "\n",
    "    for _ in tqdm(range(num_agents)):\n",
    "        xy_list = []\n",
    "        h_list = []\n",
    "        \n",
    "        state, _ = env.env.reset(seed=seed)\n",
    "        xy_list.append(state[:2])\n",
    "        \n",
    "        state = torch.tensor(state).unsqueeze(0)\n",
    "\n",
    "        current_frame = 0\n",
    "        done = False\n",
    "\n",
    "        while not done:\n",
    "            h_tensor = env.h_function(state)\n",
    "            h_list.append(h_tensor.squeeze().numpy())\n",
    "            \n",
    "            if cbf_enabled:\n",
    "                try:\n",
    "                    action = cbf.safe_action(state)\n",
    "                except InfeasibilityError:\n",
    "                    print('SCBF infeasibility - change no. partitions')\n",
    "                    break\n",
    "            else:\n",
    "                action = policy.select_action(state, exploration=False)\n",
    "\n",
    "            state, reward, terminated, truncated, _ = env.env.step(action.squeeze().detach().numpy())\n",
    "            xy_list.append(state[:2])\n",
    "            \n",
    "            state = torch.tensor(state).unsqueeze(0)\n",
    "\n",
    "            current_frame += 1\n",
    "\n",
    "            if torch.any(env.h_function(state.unsqueeze(0)) < 0).item():\n",
    "                unsafe_frames.append(current_frame)\n",
    "                terminated = True\n",
    "\n",
    "            done = terminated or truncated\n",
    "            \n",
    "        h_values.append(np.array(h_list))\n",
    "        trajectories.append(np.array(xy_list))\n",
    "\n",
    "    env.env.close()\n",
    "    return unsafe_frames, h_values, trajectories"
   ],
   "metadata": {
    "collapsed": false,
    "ExecuteTime": {
     "end_time": "2024-03-16T13:49:29.488119600Z",
     "start_time": "2024-03-16T13:49:29.461623400Z"
    }
   },
   "execution_count": 72
  },
  {
   "cell_type": "code",
   "execution_count": 73,
   "metadata": {
    "ExecuteTime": {
     "end_time": "2024-03-16T13:49:29.903844Z",
     "start_time": "2024-03-16T13:49:29.886903700Z"
    }
   },
   "outputs": [],
   "source": [
    "def plot_trajectories(states):\n",
    "    # plot the trajectories of the system, starting from the origin\n",
    "    x_circle = np.linspace(-0.5, 0.5, 1001)\n",
    "    \n",
    "    y_circle_upper = [np.sqrt((0.5)**2 - x**2) for x in x_circle]\n",
    "    y_circle_lower = [-np.sqrt((0.5)**2 - x**2) for x in x_circle]\n",
    "\n",
    "    plt.plot(x_circle, y_circle_upper, color =\"black\")\n",
    "    plt.plot(x_circle, y_circle_lower, color = \"black\")\n",
    "    plt.fill_between(x_circle, y_circle_upper, y_circle_lower, color='g', alpha=0.3)\n",
    "    x_axis = np.linspace(-0.5, 0.5, 3)\n",
    "    y_axis = np.linspace(-0.5, 0.5, 3)\n",
    "\n",
    "    plt.xticks(x_axis)\n",
    "    plt.yticks(y_axis)\n",
    "\n",
    "    plt.title(\"Trajectories\")\n",
    "    plt.xlabel(\"x\")\n",
    "    plt.ylabel(\"y\")\n",
    "\n",
    "    for trajectory in states:\n",
    "        # https://stackoverflow.com/questions/21519203/plotting-a-list-of-x-y-coordinates \n",
    "        x, y = zip(*trajectory)\n",
    "        plt.plot(x, y, c='b', alpha=0.1)\n",
    "\n",
    "    plt.savefig(\"plots/DoubleIntegratorTrajectories.png\")\n",
    "    plt.show()"
   ]
  },
  {
   "cell_type": "code",
   "outputs": [],
   "source": [
    "def plot_h(unsafe_frames, h_values):\n",
    "    fig, ax = plt.subplots(1, 2, figsize=(9, 5))\n",
    "    num_agents = len(h_values)\n",
    "    \n",
    "    min_h = np.ones(env.settings['max_frames'])\n",
    "    max_h = np.zeros(env.settings['max_frames'])\n",
    "    avg_h = np.zeros(env.settings['max_frames'])\n",
    "    \n",
    "    for run in h_values:\n",
    "        for idx, h in enumerate(run[:, 0]):  # only x coordinate h function is plotted\n",
    "            avg_h[idx] += h/num_agents\n",
    "            \n",
    "            if h < min_h[idx]:\n",
    "                min_h[idx] = h\n",
    "            if h > max_h[idx]:\n",
    "                max_h[idx] = h\n",
    "                \n",
    "    ax[0].plot(avg_h)\n",
    "    ax[0].plot(min_h)\n",
    "    ax[0].plot(max_h)\n",
    "    # ax[0].fill_between(env.settings['max_frames'], max_h)\n",
    "    \n",
    "    terminal = np.zeros(env.settings['max_frames'] + 1)\n",
    "    for f in unsafe_frames:\n",
    "        terminal[f] += 1/num_agents\n",
    "    p_emp = np.cumsum(terminal)\n",
    "    \n",
    "    h0 = h_values[0][0, 0]\n",
    "    p_bound = [1 - h0 *((cbf.alpha[0].item() + cbf.delta[0].item())) ** t\n",
    "               for t in range(env.settings['max_frames'])]\n",
    "    \n",
    "    ax[1].plot(p_emp)\n",
    "    ax[1].plot(p_bound, 'g--')\n",
    "    \n",
    "    plt.savefig(\"plots/DoubleIntegratorH.png\")\n",
    "    plt.show()"
   ],
   "metadata": {
    "collapsed": false,
    "ExecuteTime": {
     "end_time": "2024-03-16T13:49:30.413076300Z",
     "start_time": "2024-03-16T13:49:30.381064Z"
    }
   },
   "execution_count": 74
  },
  {
   "cell_type": "code",
   "outputs": [
    {
     "name": "stderr",
     "output_type": "stream",
     "text": [
      " 40%|████      | 4/10 [01:39<02:21, 23.63s/it]"
     ]
    },
    {
     "name": "stdout",
     "output_type": "stream",
     "text": [
      "SCBF infeasibility - change no. partitions\n"
     ]
    },
    {
     "name": "stderr",
     "output_type": "stream",
     "text": [
      "100%|██████████| 10/10 [03:44<00:00, 22.46s/it]\n"
     ]
    },
    {
     "data": {
      "text/plain": "<Figure size 640x480 with 1 Axes>",
      "image/png": "[encoded data removed]"
     },
     "metadata": {},
     "output_type": "display_data"
    }
   ],
   "source": [
    "frames, h_values, states = mc_simulate(10, cbf_enabled=True)\n",
    "plot_trajectories(states)"
   ],
   "metadata": {
    "ExecuteTime": {
     "end_time": "2024-03-16T13:53:16.042306600Z",
     "start_time": "2024-03-16T13:49:31.269819600Z"
    }
   },
   "execution_count": 75
  },
  {
   "cell_type": "code",
   "outputs": [
    {
     "data": {
      "text/plain": "<Figure size 900x500 with 2 Axes>",
      "image/png": "[encoded data removed]"
     },
     "metadata": {},
     "output_type": "display_data"
    }
   ],
   "source": [
    "plot_h(frames, h_values)"
   ],
   "metadata": {
    "collapsed": false,
    "ExecuteTime": {
     "end_time": "2024-03-16T13:53:16.299317400Z",
     "start_time": "2024-03-16T13:53:16.045485900Z"
    }
   },
   "execution_count": 76
  },
  {
   "cell_type": "code",
   "execution_count": 69,
   "metadata": {
    "ExecuteTime": {
     "end_time": "2024-03-16T13:48:16.077471Z",
     "start_time": "2024-03-16T13:48:16.030470400Z"
    }
   },
   "outputs": [
    {
     "data": {
      "text/plain": "[(37, 2),\n (30, 2),\n (46, 2),\n (45, 2),\n (21, 2),\n (68, 2),\n (43, 2),\n (34, 2),\n (40, 2),\n (55, 2)]"
     },
     "execution_count": 69,
     "metadata": {},
     "output_type": "execute_result"
    }
   ],
   "source": [
    "t = [run.shape for run in h_values]\n",
    "t"
   ]
  },
  {
   "cell_type": "code",
   "outputs": [],
   "source": [],
   "metadata": {
    "collapsed": false
   }
  }
 ],
 "metadata": {
  "kernelspec": {
   "display_name": "env",
   "language": "python",
   "name": "python3"
  },
  "language_info": {
   "codemirror_mode": {
    "name": "ipython",
    "version": 3
   },
   "file_extension": ".py",
   "mimetype": "text/x-python",
   "name": "python",
   "nbconvert_exporter": "python",
   "pygments_lexer": "ipython3",
   "version": "3.10.12"
  },
  "orig_nbformat": 4
 },
 "nbformat": 4,
 "nbformat_minor": 2
}
