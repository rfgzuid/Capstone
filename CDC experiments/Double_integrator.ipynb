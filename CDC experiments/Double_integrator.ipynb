{
 "cells": [
  {
   "cell_type": "code",
   "execution_count": 1,
   "metadata": {
    "ExecuteTime": {
     "end_time": "2024-03-08T12:11:38.214504600Z",
     "start_time": "2024-03-08T12:11:35.269247700Z"
    }
   },
   "outputs": [],
   "source": [
    "from src.capstone.evaluation import Evaluator\n",
    "from src.capstone.cbf import CBF\n",
    "from src.capstone.settings import Env\n",
    "from src.capstone.noise import DoubleIntegratorEnv\n",
    "\n",
    "from double_integrator import DoubleIntegratorEnv\n",
    "\n",
    "from bound_propagation.polynomial import Pow\n",
    "from bound_propagation.linear import FixedLinear\n",
    "\n",
    "import numpy as np\n",
    "\n",
    "import torch\n",
    "import torch.nn as nn\n",
    "\n",
    "import matplotlib.pyplot as plt"
   ]
  },
  {
   "cell_type": "code",
   "execution_count": 2,
   "metadata": {
    "ExecuteTime": {
     "end_time": "2024-03-08T12:11:38.336740100Z",
     "start_time": "2024-03-08T12:11:38.221382300Z"
    }
   },
   "outputs": [
    {
     "name": "stdout",
     "output_type": "stream",
     "text": [
      "[0.0625 0.     2.5    0.    ]\n",
      "[0.25 0.   5.   0.  ]\n",
      "[0.5625 0.     7.5    0.    ]\n"
     ]
    },
    {
     "data": {
      "text/plain": "<Figure size 640x480 with 1 Axes>",
      "image/png": "[encoded data removed]"
     },
     "metadata": {},
     "output_type": "display_data"
    }
   ],
   "source": [
    "env = DoubleIntegratorEnv()\n",
    "env.reset()\n",
    "action = np.array([50., 0.])\n",
    "\n",
    "states = []\n",
    "ts = []\n",
    "\n",
    "i = 0\n",
    "terminated = False\n",
    "while not terminated:\n",
    "    state, _, terminated, _, _ = env.step(action)\n",
    "    state = state.squeeze()\n",
    "\n",
    "    states.append(state)\n",
    "    ts.append(0.05 * i)\n",
    "    \n",
    "    i += 1\n",
    "\n",
    "plt.plot(ts, [state[0] for state in states], label='x')\n",
    "plt.plot(ts, [state[1] for state in states], label='y')\n",
    "plt.show()"
   ]
  },
  {
   "cell_type": "code",
   "execution_count": 3,
   "metadata": {
    "ExecuteTime": {
     "end_time": "2024-03-08T12:00:17.236238400Z",
     "start_time": "2024-03-08T12:00:17.222776Z"
    }
   },
   "outputs": [
    {
     "data": {
      "text/plain": "tensor([[0.5513, 1.0512, 1.0500, 1.0500]], grad_fn=<MmBackward0>)"
     },
     "execution_count": 3,
     "metadata": {},
     "output_type": "execute_result"
    }
   ],
   "source": [
    "class NNDM(nn.Sequential):\n",
    "    # input [x pos, y pos, x speed, y speed, ux, uy]\n",
    "    \n",
    "    def __init__(self):\n",
    "        super(NNDM, self).__init__()\n",
    "        self.dt = 0.05\n",
    "        \n",
    "        layer = nn.Linear(6, 4, bias=False)\n",
    "        weights = torch.tensor([[1., 0., self.dt, 0., ((self.dt**2)/2), 0], \n",
    "                                [0., 1., 0., self.dt, 0., ((self.dt**2)/2)], \n",
    "                                [0., 0., 1., 0., self.dt, 0.], \n",
    "                                [0., 0., 0., 1., 0., self.dt]])\n",
    "        layer.weight = nn.Parameter(weights)\n",
    "        \n",
    "        super(NNDM, self).__init__(layer)\n",
    "\n",
    "nndm = NNDM()\n",
    "nndm(torch.tensor([[0.5, 1., 1., 1., 1., 1.]]))\n"
   ]
  },
  {
   "cell_type": "code",
   "execution_count": 4,
   "metadata": {
    "ExecuteTime": {
     "end_time": "2024-03-08T12:00:17.237234Z",
     "start_time": "2024-03-08T12:00:17.232331Z"
    }
   },
   "outputs": [],
   "source": [
    "class Agent(nn.Module):\n",
    "    def __init__(self):\n",
    "        super(Agent, self).__init__()\n",
    "        \n",
    "        self.layer = nn.Linear(2, 2)\n",
    "        \n",
    "        # dummy output of u=0\n",
    "        self.layer.weight = nn.Parameter(torch.tensor([[0., 0., 0., 0.], [0., 0., 0., 0.]]))\n",
    "        self.layer.bias = nn.Parameter(torch.tensor([50., 0.]))\n",
    "    \n",
    "    def forward(self, x):\n",
    "        return self.layer(x)\n",
    "    \n",
    "    def select_action(self, x, exploration=False):\n",
    "        if exploration:\n",
    "            raise ValueError('This model is not implemented for exploration')\n",
    "        else:\n",
    "            return self.forward(x)"
   ]
  },
  {
   "cell_type": "code",
   "execution_count": 5,
   "metadata": {
    "ExecuteTime": {
     "end_time": "2024-03-08T12:00:17.248211400Z",
     "start_time": "2024-03-08T12:00:17.237234Z"
    }
   },
   "outputs": [],
   "source": [
    "policy = Agent()"
   ]
  },
  {
   "cell_type": "code",
   "execution_count": 15,
   "metadata": {
    "ExecuteTime": {
     "end_time": "2024-03-08T12:04:20.247678300Z",
     "start_time": "2024-03-08T12:04:20.231375900Z"
    }
   },
   "outputs": [],
   "source": [
    "class DoubleIntegrator(Env):\n",
    "    def __init__(self):\n",
    "        self.is_discrete = False\n",
    "        \n",
    "        self.settings = {\n",
    "            'noise': [],\n",
    "            'max_frames': 999\n",
    "        }\n",
    "        \n",
    "        self.h_function = nn.Sequential(\n",
    "            FixedLinear(\n",
    "                torch.tensor([\n",
    "                    [1., 0, 0, 0],\n",
    "                    [0, 1, 0, 0]\n",
    "                ]),\n",
    "                torch.tensor([0., 0.])\n",
    "            ),\n",
    "            Pow(2),\n",
    "            FixedLinear(\n",
    "                torch.tensor([\n",
    "                    [-1 / 0.5 ** 2, 0],\n",
    "                    [0, -1 / 0.5 ** 2]\n",
    "                ]),\n",
    "                torch.tensor([1., 1.])\n",
    "            )\n",
    "        )\n",
    "\n",
    "        self.h_ids = [0, 1]\n",
    "        self.std = [0.001, 0.001]\n",
    "        self.env = DoubleIntegratorEnv()"
   ]
  },
  {
   "cell_type": "code",
   "execution_count": 16,
   "metadata": {
    "ExecuteTime": {
     "end_time": "2024-03-08T12:04:20.458954100Z",
     "start_time": "2024-03-08T12:04:20.452424700Z"
    }
   },
   "outputs": [],
   "source": [
    "env = DoubleIntegrator()"
   ]
  },
  {
   "cell_type": "code",
   "execution_count": 17,
   "metadata": {
    "ExecuteTime": {
     "end_time": "2024-03-08T12:04:20.715538400Z",
     "start_time": "2024-03-08T12:04:20.704310300Z"
    }
   },
   "outputs": [],
   "source": [
    "cbf = CBF(env, nndm, policy,\n",
    "          alpha=[0.9, 0.9],\n",
    "          delta=[0., 0.],\n",
    "          no_action_partitions=2,\n",
    "          no_noise_partitions=2,\n",
    "          stochastic=True)"
   ]
  },
  {
   "cell_type": "code",
   "execution_count": 18,
   "metadata": {
    "ExecuteTime": {
     "end_time": "2024-03-08T12:04:21.180103Z",
     "start_time": "2024-03-08T12:04:21.029936600Z"
    }
   },
   "outputs": [
    {
     "data": {
      "text/plain": "  0%|          | 0/100 [00:00<?, ?it/s]",
      "application/vnd.jupyter.widget-view+json": {
       "version_major": 2,
       "version_minor": 0,
       "model_id": "28e64ad7d3a94186aa751ca067e2c4ff"
      }
     },
     "metadata": {},
     "output_type": "display_data"
    },
    {
     "name": "stdout",
     "output_type": "stream",
     "text": [
      "tensor([[0., 0., 0., 0.]])\n",
      "tensor([[0.0625, 0.0000, 2.5000, 0.0000]])\n"
     ]
    },
    {
     "ename": "TypeError",
     "evalue": "'>' not supported between instances of 'float' and 'NoneType'",
     "output_type": "error",
     "traceback": [
      "\u001B[1;31m---------------------------------------------------------------------------\u001B[0m",
      "\u001B[1;31mTypeError\u001B[0m                                 Traceback (most recent call last)",
      "Cell \u001B[1;32mIn[18], line 2\u001B[0m\n\u001B[0;32m      1\u001B[0m evaluator \u001B[38;5;241m=\u001B[39m Evaluator(env, cbf)\n\u001B[1;32m----> 2\u001B[0m f, h \u001B[38;5;241m=\u001B[39m \u001B[43mevaluator\u001B[49m\u001B[38;5;241;43m.\u001B[39;49m\u001B[43mmc_simulate\u001B[49m\u001B[43m(\u001B[49m\u001B[43mpolicy\u001B[49m\u001B[43m,\u001B[49m\u001B[43m \u001B[49m\u001B[38;5;241;43m100\u001B[39;49m\u001B[43m,\u001B[49m\u001B[43m \u001B[49m\u001B[43mcbf_enabled\u001B[49m\u001B[38;5;241;43m=\u001B[39;49m\u001B[38;5;28;43;01mTrue\u001B[39;49;00m\u001B[43m,\u001B[49m\u001B[43m \u001B[49m\u001B[43mseed\u001B[49m\u001B[38;5;241;43m=\u001B[39;49m\u001B[43m[\u001B[49m\u001B[38;5;241;43m0.\u001B[39;49m\u001B[43m,\u001B[49m\u001B[43m \u001B[49m\u001B[38;5;241;43m0.\u001B[39;49m\u001B[43m,\u001B[49m\u001B[43m \u001B[49m\u001B[38;5;241;43m0.\u001B[39;49m\u001B[43m,\u001B[49m\u001B[43m \u001B[49m\u001B[38;5;241;43m0.\u001B[39;49m\u001B[43m]\u001B[49m\u001B[43m)\u001B[49m\n",
      "File \u001B[1;32m~\\PycharmProjects\\Capstone\\src\\capstone\\evaluation.py:120\u001B[0m, in \u001B[0;36mEvaluator.mc_simulate\u001B[1;34m(self, agent, num_agents, cbf_enabled, seed, progress_bar)\u001B[0m\n\u001B[0;32m    118\u001B[0m \u001B[38;5;28;01mif\u001B[39;00m cbf_enabled:\n\u001B[0;32m    119\u001B[0m     \u001B[38;5;28;01mtry\u001B[39;00m:\n\u001B[1;32m--> 120\u001B[0m         action \u001B[38;5;241m=\u001B[39m \u001B[38;5;28;43mself\u001B[39;49m\u001B[38;5;241;43m.\u001B[39;49m\u001B[43mcbf\u001B[49m\u001B[38;5;241;43m.\u001B[39;49m\u001B[43msafe_action\u001B[49m\u001B[43m(\u001B[49m\u001B[43mstate\u001B[49m\u001B[43m)\u001B[49m\n\u001B[0;32m    121\u001B[0m     \u001B[38;5;28;01mexcept\u001B[39;00m InfeasibilityError:\n\u001B[0;32m    122\u001B[0m         action \u001B[38;5;241m=\u001B[39m agent\u001B[38;5;241m.\u001B[39mselect_action(state, exploration\u001B[38;5;241m=\u001B[39m\u001B[38;5;28;01mFalse\u001B[39;00m)\n",
      "File \u001B[1;32m~\\PycharmProjects\\Capstone\\src\\capstone\\cbf.py:95\u001B[0m, in \u001B[0;36mCBF.safe_action\u001B[1;34m(self, state)\u001B[0m\n\u001B[0;32m     93\u001B[0m     \u001B[38;5;28;01mreturn\u001B[39;00m \u001B[38;5;28mself\u001B[39m\u001B[38;5;241m.\u001B[39mcontinuous_cbf(state)\n\u001B[0;32m     94\u001B[0m \u001B[38;5;28;01melse\u001B[39;00m:\n\u001B[1;32m---> 95\u001B[0m     \u001B[38;5;28;01mreturn\u001B[39;00m \u001B[38;5;28;43mself\u001B[39;49m\u001B[38;5;241;43m.\u001B[39;49m\u001B[43mcontinuous_scbf\u001B[49m\u001B[43m(\u001B[49m\u001B[43mstate\u001B[49m\u001B[43m)\u001B[49m\n",
      "File \u001B[1;32m~\\PycharmProjects\\Capstone\\src\\capstone\\cbf.py:191\u001B[0m, in \u001B[0;36mCBF.continuous_scbf\u001B[1;34m(self, state)\u001B[0m\n\u001B[0;32m    189\u001B[0m h_current \u001B[38;5;241m=\u001B[39m \u001B[38;5;28mself\u001B[39m\u001B[38;5;241m.\u001B[39mh_func(state)\n\u001B[0;32m    190\u001B[0m bound_matrices \u001B[38;5;241m=\u001B[39m \u001B[38;5;28mself\u001B[39m\u001B[38;5;241m.\u001B[39mcreate_noise_bounds_batched(state)\n\u001B[1;32m--> 191\u001B[0m \u001B[38;5;28;01mreturn\u001B[39;00m \u001B[38;5;28;43mself\u001B[39;49m\u001B[38;5;241;43m.\u001B[39;49m\u001B[43mqp_solver\u001B[49m\u001B[43m(\u001B[49m\u001B[43mnominal_action\u001B[49m\u001B[43m,\u001B[49m\u001B[43m \u001B[49m\u001B[43mbound_matrices\u001B[49m\u001B[43m,\u001B[49m\u001B[43m \u001B[49m\u001B[43mh_current\u001B[49m\u001B[43m)\u001B[49m\n",
      "File \u001B[1;32m~\\PycharmProjects\\Capstone\\src\\capstone\\cbf.py:220\u001B[0m, in \u001B[0;36mCBF.qp_solver\u001B[1;34m(self, nominal_action, bound_matrices, h_current)\u001B[0m\n\u001B[0;32m    217\u001B[0m         safe_actions\u001B[38;5;241m.\u001B[39mappend((action\u001B[38;5;241m.\u001B[39mvalue, objective\u001B[38;5;241m.\u001B[39mvalue))\n\u001B[0;32m    219\u001B[0m \u001B[38;5;28;01mif\u001B[39;00m safe_actions \u001B[38;5;129;01mand\u001B[39;00m \u001B[38;5;28mlen\u001B[39m(safe_actions) \u001B[38;5;241m>\u001B[39m \u001B[38;5;241m1\u001B[39m:\n\u001B[1;32m--> 220\u001B[0m     \u001B[38;5;28;01mreturn\u001B[39;00m torch\u001B[38;5;241m.\u001B[39mtensor(\u001B[38;5;28;43mmin\u001B[39;49m\u001B[43m(\u001B[49m\u001B[43msafe_actions\u001B[49m\u001B[43m,\u001B[49m\u001B[43m \u001B[49m\u001B[43mkey\u001B[49m\u001B[38;5;241;43m=\u001B[39;49m\u001B[38;5;28;43;01mlambda\u001B[39;49;00m\u001B[43m \u001B[49m\u001B[43mx\u001B[49m\u001B[43m:\u001B[49m\u001B[43m \u001B[49m\u001B[43mx\u001B[49m\u001B[43m[\u001B[49m\u001B[38;5;241;43m1\u001B[39;49m\u001B[43m]\u001B[49m\u001B[43m,\u001B[49m\u001B[43m \u001B[49m\u001B[43mdefault\u001B[49m\u001B[38;5;241;43m=\u001B[39;49m\u001B[43m(\u001B[49m\u001B[38;5;28;43;01mNone\u001B[39;49;00m\u001B[43m,\u001B[49m\u001B[43m \u001B[49m\u001B[38;5;28;43;01mNone\u001B[39;49;00m\u001B[43m)\u001B[49m\u001B[43m)\u001B[49m[\u001B[38;5;241m0\u001B[39m])\n\u001B[0;32m    221\u001B[0m \u001B[38;5;28;01melif\u001B[39;00m safe_actions:\n\u001B[0;32m    222\u001B[0m     \u001B[38;5;28;01mreturn\u001B[39;00m torch\u001B[38;5;241m.\u001B[39mtensor(safe_actions[\u001B[38;5;241m0\u001B[39m][\u001B[38;5;241m0\u001B[39m])\n",
      "\u001B[1;31mTypeError\u001B[0m: '>' not supported between instances of 'float' and 'NoneType'"
     ]
    }
   ],
   "source": [
    "evaluator = Evaluator(env, cbf)\n",
    "f, h = evaluator.mc_simulate(policy, 100, cbf_enabled=True, seed=[0., 0., 0., 0.])"
   ]
  },
  {
   "cell_type": "code",
   "outputs": [],
   "source": [],
   "metadata": {
    "collapsed": false
   }
  }
 ],
 "metadata": {
  "kernelspec": {
   "display_name": "env",
   "language": "python",
   "name": "python3"
  },
  "language_info": {
   "codemirror_mode": {
    "name": "ipython",
    "version": 3
   },
   "file_extension": ".py",
   "mimetype": "text/x-python",
   "name": "python",
   "nbconvert_exporter": "python",
   "pygments_lexer": "ipython3",
   "version": "3.11.4"
  },
  "orig_nbformat": 4
 },
 "nbformat": 4,
 "nbformat_minor": 2
}
