{
 "cells": [
  {
   "cell_type": "code",
   "execution_count": 35,
   "metadata": {
    "ExecuteTime": {
     "end_time": "2024-03-09T13:16:59.798168600Z",
     "start_time": "2024-03-09T13:16:54.301042700Z"
    }
   },
   "outputs": [],
   "source": [
    "from src.capstone.evaluation import Evaluator\n",
    "from src.capstone.cbf import CBF\n",
    "from src.capstone.settings import Env\n",
    "\n",
    "from double_integrator import DoubleIntegratorEnv\n",
    "import gymnasium as gym\n",
    "\n",
    "from bound_propagation.polynomial import Pow\n",
    "from bound_propagation.linear import FixedLinear\n",
    "\n",
    "import numpy as np\n",
    "\n",
    "import torch\n",
    "import torch.nn as nn\n",
    "\n",
    "import matplotlib.pyplot as plt\n",
    "from tqdm import tqdm"
   ]
  },
  {
   "attachments": {},
   "cell_type": "markdown",
   "metadata": {},
   "source": [
    "$$B = \\begin{bmatrix}\n",
    "\\frac{1}{2}\\Delta t^2 & 0\\\\\n",
    "0 & \\frac{1}{2}\\Delta t^2\\\\\n",
    "\\Delta t & 0\\\\\n",
    "0 & \\Delta t\n",
    "\\end{bmatrix}$$\n",
    "\n",
    "$$Q = B B^T = \\begin{bmatrix}\n",
    "\\frac{1}{2}\\Delta t^2 & 0\\\\\n",
    "0 & \\frac{1}{2}\\Delta t^2\\\\\n",
    "\\Delta t & 0\\\\\n",
    "0 & \\Delta t\n",
    "\\end{bmatrix} \n",
    "\n",
    "\\begin{bmatrix}\n",
    "\\frac{1}{2}\\Delta t^2 & 0 & \\Delta t & 0\\\\\n",
    "0 & \\frac{1}{2}\\Delta t^2 & 0 & \\Delta t\n",
    "\\end{bmatrix} \n",
    "\n",
    "= \\begin{bmatrix}\n",
    "\\frac{1}{4}\\Delta t^4 & 0 & \\frac{1}{2}\\Delta t^3 & 0\\\\\n",
    "0 & \\frac{1}{4}\\Delta t^4 & 0 & \\frac{1}{2}\\Delta t^3\\\\\n",
    "\\frac{1}{2}\\Delta t^3 & 0 & \\Delta t^2 & 0\\\\\n",
    "0 & \\frac{1}{2}\\Delta t^3 & 0 & \\Delta t^2\n",
    "\\end{bmatrix}$$"
   ]
  },
  {
   "cell_type": "code",
   "execution_count": 36,
   "metadata": {},
   "outputs": [],
   "source": [
    "class IntegratorNoise(gym.Wrapper):\n",
    "    def __init__(self, env):\n",
    "        super().__init__(env)\n",
    "        dt = 0.05\n",
    "        self.cov = np.array([[0.25 * dt**4, 0., 0.5 * dt**3, 0.],\n",
    "                           [0., 0.25 * dt**4, 0., 0.5 * dt**3],\n",
    "                           [0.5 * dt**3, 0., dt**2, 0.],\n",
    "                           [0., 0.5 * dt**3, 0., dt**2]])\n",
    "\n",
    "    def step(self, action):\n",
    "        state, _, _, truncated, _ = self.env.step(action)\n",
    "        noise = np.random.multivariate_normal(mean=np.zeros(4), cov=self.cov)\n",
    "\n",
    "        return (state + noise).astype(np.float32), 0., False, truncated, {}\n",
    "\n",
    "    def reset(self, seed=None):\n",
    "        return self.env.reset(seed=seed)"
   ]
  },
  {
   "cell_type": "code",
   "execution_count": 37,
   "metadata": {},
   "outputs": [],
   "source": [
    "class NNDM(nn.Sequential):\n",
    "    # input [x pos, y pos, x speed, y speed, ux, uy]\n",
    "    \n",
    "    def __init__(self):\n",
    "        super(NNDM, self).__init__()\n",
    "        self.dt = 0.05\n",
    "        \n",
    "        layer = nn.Linear(6, 4, bias=False)\n",
    "        weights = torch.tensor([[1., 0., self.dt, 0., ((self.dt**2)/2), 0], \n",
    "                                [0., 1., 0., self.dt, 0., ((self.dt**2)/2)], \n",
    "                                [0., 0., 1., 0., self.dt, 0.], \n",
    "                                [0., 0., 0., 1., 0., self.dt]])\n",
    "        layer.weight = nn.Parameter(weights)\n",
    "        \n",
    "        super(NNDM, self).__init__(layer)\n",
    "\n",
    "nndm = NNDM()"
   ]
  },
  {
   "cell_type": "code",
   "execution_count": 38,
   "metadata": {},
   "outputs": [],
   "source": [
    "class Agent(nn.Module):\n",
    "    def __init__(self):\n",
    "        super(Agent, self).__init__()\n",
    "        \n",
    "        self.layer = nn.Linear(2, 2)\n",
    "        \n",
    "        # dummy output of u=0\n",
    "        self.layer.weight = nn.Parameter(torch.tensor([[0., 0., 0., 0.], [0., 0., 0., 0.]]))\n",
    "        self.layer.bias = nn.Parameter(torch.tensor([50., 0.]))\n",
    "    \n",
    "    def forward(self, x):\n",
    "        return self.layer(x)\n",
    "    \n",
    "    def select_action(self, x, exploration=False):\n",
    "        if exploration:\n",
    "            raise ValueError('This model is not implemented for exploration')\n",
    "        else:\n",
    "            return self.forward(x)"
   ]
  },
  {
   "cell_type": "code",
   "execution_count": 39,
   "metadata": {},
   "outputs": [],
   "source": [
    "policy = Agent()"
   ]
  },
  {
   "cell_type": "code",
   "execution_count": 40,
   "metadata": {},
   "outputs": [
    {
     "name": "stderr",
     "output_type": "stream",
     "text": [
      "/Users/wesselwolterbeekmuller/Documents/Documents - Wessel’s MacBook Pro/Studie/Engineering with AI/SCBF Paper/Code/env/lib/python3.10/site-packages/gymnasium/envs/registration.py:694: UserWarning: \u001b[33mWARN: Overriding environment DoubleIntegrator already in registry.\u001b[0m\n",
      "  logger.warn(f\"Overriding environment {new_spec.id} already in registry.\")\n"
     ]
    }
   ],
   "source": [
    "gym.register('DoubleIntegrator', DoubleIntegratorEnv, max_episode_steps=100)"
   ]
  },
  {
   "cell_type": "code",
   "execution_count": 41,
   "metadata": {},
   "outputs": [],
   "source": [
    "class DoubleIntegrator(Env):\n",
    "    def __init__(self):\n",
    "        env = gym.make('DoubleIntegrator')\n",
    "        \n",
    "        self.is_discrete = False\n",
    "        \n",
    "        self.settings = {\n",
    "            'noise': [],\n",
    "            'max_frames': 999\n",
    "        }\n",
    "        \n",
    "        self.h_function = nn.Sequential(\n",
    "            FixedLinear(\n",
    "                torch.tensor([\n",
    "                    [1., 0, 0, 0],\n",
    "                    [0, 1, 0, 0]\n",
    "                ]),\n",
    "                torch.tensor([0., 0.])\n",
    "            ),\n",
    "            Pow(2),\n",
    "            FixedLinear(\n",
    "                torch.tensor([\n",
    "                    [-1 / 0.5 ** 2, 0],\n",
    "                    [0, -1 / 0.5 ** 2]\n",
    "                ]),\n",
    "                torch.tensor([1., 1.])\n",
    "            )\n",
    "        )\n",
    "\n",
    "        self.h_ids = [0, 1]\n",
    "        self.std = [0.05**2/2, 0.05**2/2]\n",
    "        self.env = IntegratorNoise(env)"
   ]
  },
  {
   "cell_type": "code",
   "execution_count": 42,
   "metadata": {},
   "outputs": [],
   "source": [
    "env = DoubleIntegrator()"
   ]
  },
  {
   "cell_type": "code",
   "execution_count": 43,
   "metadata": {},
   "outputs": [],
   "source": [
    "action = [50., 0.]\n"
   ]
  },
  {
   "cell_type": "code",
   "execution_count": 52,
   "metadata": {},
   "outputs": [],
   "source": [
    "cbf = CBF(env, nndm, policy,\n",
    "          alpha=[0.9875, 0.9875],\n",
    "          delta=[0., 0.],\n",
    "          no_action_partitions=5,\n",
    "          no_noise_partitions=5,\n",
    "          stochastic=True)"
   ]
  },
  {
   "cell_type": "code",
   "execution_count": 45,
   "metadata": {},
   "outputs": [
    {
     "data": {
      "text/plain": [
       "'evaluator = Evaluator(env, cbf)\\nf, h = evaluator.mc_simulate(policy, 10, cbf_enabled=True, seed=[0., 0., 0., 0.])'"
      ]
     },
     "execution_count": 45,
     "metadata": {},
     "output_type": "execute_result"
    }
   ],
   "source": [
    "\"\"\"evaluator = Evaluator(env, cbf)\n",
    "f, h = evaluator.mc_simulate(policy, 10, cbf_enabled=True, seed=[0., 0., 0., 0.])\"\"\""
   ]
  },
  {
   "cell_type": "code",
   "execution_count": 54,
   "metadata": {},
   "outputs": [],
   "source": [
    "def plot_trajectories(num_agents, start_state, cbf_enabled=False):\n",
    "    # plot the trajectories of the system, starting from the origin\n",
    "\n",
    "    if start_state is None:\n",
    "        start_state = [0., 0., 0., 0.]\n",
    "    states = []\n",
    "\n",
    "    for _ in tqdm(range(num_agents)):\n",
    "        state_list = []\n",
    "        state, _ = env.env.reset(seed=start_state)\n",
    "        state = torch.tensor(state).unsqueeze(0)\n",
    "\n",
    "        done = False\n",
    "\n",
    "        while not done:   \n",
    "            state_list.append(state.squeeze())\n",
    "\n",
    "            # try cbf action - if cbf disabled or no safe actions available, just follow agent policy\n",
    "            if cbf_enabled:\n",
    "                try:\n",
    "                    action = cbf.safe_action(state)\n",
    "                except InfeasibilityError:\n",
    "                    terminated = True\n",
    "                    done = True\n",
    "                    break\n",
    "            else:\n",
    "                action = policy.select_action(state, exploration=False)\n",
    "\n",
    "            state, reward, terminated, truncated, _ = env.env.step(action.squeeze().detach().numpy())\n",
    "            state = torch.tensor(state).unsqueeze(0)\n",
    "\n",
    "            if torch.any(env.h_function(state.unsqueeze(0)) < 0).item():\n",
    "                terminated = True\n",
    "\n",
    "            done = terminated or truncated\n",
    "\n",
    "        states.append(np.array(state_list))\n",
    "\n",
    "    env.env.close()\n",
    "    \n",
    "    \n",
    "    x_circle = np.linspace(-0.5, 0.5, 1001)\n",
    "    \n",
    "    y_circle_upper = [np.sqrt((0.5)**2 - x**2) for x in x_circle]\n",
    "    y_circle_lower = [-np.sqrt((0.5)**2 - x**2) for x in x_circle]\n",
    "\n",
    "    plt.plot(x_circle, y_circle_upper, color =\"black\")\n",
    "    plt.plot(x_circle, y_circle_lower, color = \"black\")\n",
    "    plt.fill_between(x_circle, y_circle_upper, y_circle_lower, color='g', alpha=0.3)\n",
    "    x_axis = np.linspace(-0.5, 0.5, 3)\n",
    "    y_axis = np.linspace(-0.5, 0.5, 3)\n",
    "\n",
    "    plt.xticks(x_axis)\n",
    "    plt.yticks(y_axis)\n",
    "\n",
    "    plt.title(\"Trajectories\")\n",
    "    plt.xlabel(\"x\")\n",
    "    plt.ylabel(\"y\")\n",
    "\n",
    "    for trajectory in states:\n",
    "        # https://stackoverflow.com/questions/21519203/plotting-a-list-of-x-y-coordinates \n",
    "        x, y, x_dot, y_dot = zip(*trajectory)\n",
    "        plt.plot(x, y, c='b', alpha=0.1)\n",
    "\n",
    "\n",
    "    plt.savefig(\"Double_integrator_trajectory_plot.png\")\n",
    "    plt.show()\n",
    "\n"
   ]
  },
  {
   "cell_type": "code",
   "execution_count": 55,
   "metadata": {},
   "outputs": [
    {
     "name": "stderr",
     "output_type": "stream",
     "text": [
      "100%|██████████| 10/10 [01:24<00:00,  8.46s/it]\n"
     ]
    },
    {
     "data": {
      "image/png": "[encoded data removed]",
      "text/plain": [
       "<Figure size 640x480 with 1 Axes>"
      ]
     },
     "metadata": {},
     "output_type": "display_data"
    }
   ],
   "source": [
    "plot_trajectories(10, [0., 0., 0., 0.], cbf_enabled=True)"
   ]
  },
  {
   "cell_type": "code",
   "execution_count": 48,
   "metadata": {},
   "outputs": [],
   "source": [
    "def p_u_theoretical(xg, yg):\n",
    "    res = np.zeros([xg.shape[1], yg.shape[0]])\n",
    "    \n",
    "    x_y = np.dstack((xg, yg))\n",
    "    gridpoints = [point for row in x_y for point in row]\n",
    "    h_values = [env.h_function(torch.tensor(point, dtype=torch.float32)) for point in gridpoints]\n",
    "     \n",
    "    idx = 0  # could have used enumerate(gridpoints), but this would disallow the tqdm progress bar\n",
    "    for point in tqdm(gridpoints):\n",
    "        p_u = 1 - (env.h_function(torch.tensor(point, dtype=torch.float32)).item() * alpha ** 100)\n",
    "        \n",
    "        i, j = idx % x_y.shape[1], idx // x_y.shape[0]\n",
    "        res[j, i] = p_u\n",
    "        \n",
    "        idx += 1\n",
    "    \n",
    "    clipped_res = np.clip(res, 0., 1.)  \n",
    "    return clipped_res"
   ]
  },
  {
   "cell_type": "code",
   "execution_count": 49,
   "metadata": {},
   "outputs": [],
   "source": [
    "def p_u_experimental(xg, yg, num_agents=500):\n",
    "    res = np.zeros([xg.shape[1], yg.shape[0]])\n",
    "\n",
    "    x_y = np.dstack((xg, yg))\n",
    "    gridpoints = [point for row in x_y for point in row]\n",
    "    \n",
    "    idx = 0\n",
    "    for point in tqdm(gridpoints):\n",
    "        end_frames, _ = evaluator.mc_simulate(policy, num_agents, cbf_enabled=True, seed=list(point), progress_bar=False)\n",
    "        p_u = sum(f <= 100 for f in end_frames)/len(end_frames) if len(end_frames) > 0 else 0.\n",
    "        \n",
    "        i, j = idx % x_y.shape[1], idx // x_y.shape[0]\n",
    "        res[i, j] = p_u\n",
    "        \n",
    "        idx += 1     \n",
    "    return res"
   ]
  },
  {
   "cell_type": "code",
   "execution_count": 50,
   "metadata": {},
   "outputs": [],
   "source": [
    "#Safety value h(x) plot"
   ]
  },
  {
   "cell_type": "code",
   "execution_count": 51,
   "metadata": {},
   "outputs": [],
   "source": [
    "#Fraction unsafe plot"
   ]
  }
 ],
 "metadata": {
  "kernelspec": {
   "display_name": "env",
   "language": "python",
   "name": "python3"
  },
  "language_info": {
   "codemirror_mode": {
    "name": "ipython",
    "version": 3
   },
   "file_extension": ".py",
   "mimetype": "text/x-python",
   "name": "python",
   "nbconvert_exporter": "python",
   "pygments_lexer": "ipython3",
   "version": "3.10.12"
  },
  "orig_nbformat": 4
 },
 "nbformat": 4,
 "nbformat_minor": 2
}
