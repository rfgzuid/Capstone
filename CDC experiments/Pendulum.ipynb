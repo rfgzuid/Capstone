{
 "cells": [
  {
   "cell_type": "markdown",
   "source": [
    "# Import Libraries"
   ],
   "metadata": {
    "collapsed": false
   },
   "id": "708908ce273d1d70"
  },
  {
   "cell_type": "code",
   "outputs": [],
   "source": [
    "from src.capstone.evaluation import Evaluator\n",
    "from src.capstone.cbf import CBF\n",
    "from src.capstone.settings import Env\n",
    "\n",
    "from bound_propagation.parallel import Parallel\n",
    "from bound_propagation.bivariate import Mul\n",
    "from bound_propagation.reshape import Select\n",
    "from bound_propagation.polynomial import UnivariateMonomial\n",
    "from bound_propagation.linear import FixedLinear\n",
    "from bound_propagation.activation import Sin\n",
    "\n",
    "import numpy as np\n",
    "import gymnasium as gym\n",
    "from gymnasium.spaces import Box\n",
    "\n",
    "import torch\n",
    "import torch.nn as nn\n",
    "\n",
    "from tqdm import tqdm\n",
    "import matplotlib.pyplot as plt\n",
    "from scipy.interpolate import RegularGridInterpolator, RectBivariateSpline"
   ],
   "metadata": {
    "collapsed": true,
    "ExecuteTime": {
     "end_time": "2024-02-29T11:49:25.346715200Z",
     "start_time": "2024-02-29T11:49:08.831424300Z"
    }
   },
   "id": "initial_id",
   "execution_count": 1
  },
  {
   "cell_type": "markdown",
   "source": [
    "# Gym wrapper for dynamics"
   ],
   "metadata": {
    "collapsed": false
   },
   "id": "e0e58a0e69662d29"
  },
  {
   "cell_type": "code",
   "outputs": [],
   "source": [
    "class PendulumNoise(gym.Wrapper):\n",
    "    def __init__(self, env):\n",
    "        super().__init__(env)\n",
    "        self.observation_space = Box(low=np.array([float('-inf'), -8]),\n",
    "                                     high=np.array([float('inf'), 8]),\n",
    "                                     dtype=np.float32)\n",
    "        \n",
    "        self.dt = 0.01\n",
    "        \n",
    "    def step(self, action):\n",
    "        action = np.array([action], dtype=np.float32)  # cannot be scalar like used in Discrete gym envs\n",
    "        \n",
    "        th, thdot = self.env.unwrapped.state\n",
    "        _, _, _, truncated, _ = self.env.step(action)\n",
    "        \n",
    "        u = np.clip(action, -self.env.unwrapped.max_torque, \n",
    "                    self.env.unwrapped.max_torque)[0]\n",
    "        \n",
    "        newthdot = thdot + np.sin(th) * self.dt + u * self.dt + np.random.normal(0., 0.025)\n",
    "        newth = th + thdot * self.dt + np.random.normal(0., 0.005)\n",
    "        \n",
    "        self.env.unwrapped.state = np.array([newth, newthdot], dtype=np.float32)\n",
    "        \n",
    "        return self.env.unwrapped.state, 0., False, truncated, {}\n",
    "    \n",
    "    def reset(self, seed: list[float, float] = None):\n",
    "        # allow the user to set the initial state directly, otherwise random state\n",
    "        self.env.reset()\n",
    "        \n",
    "        if seed is not None:\n",
    "            self.env.unwrapped.state = np.array(seed, dtype=np.float32)\n",
    "        return self.env.unwrapped.state, {}"
   ],
   "metadata": {
    "collapsed": false,
    "ExecuteTime": {
     "end_time": "2024-02-29T11:49:25.369836400Z",
     "start_time": "2024-02-29T11:49:25.354961100Z"
    }
   },
   "id": "f08ab4c940664bed",
   "execution_count": 2
  },
  {
   "cell_type": "markdown",
   "source": [
    "# NNDM\n",
    "\n",
    "We assume the dynamics are known, to be able to directly compare our results to the paper. The NNDM outputs the EXPECTED next state (Gaussian noise term disappears)."
   ],
   "metadata": {
    "collapsed": false
   },
   "id": "ee7f3318957af20e"
  },
  {
   "cell_type": "code",
   "outputs": [],
   "source": [
    "class NNDM(nn.Sequential):\n",
    "    # input [theta, theta_dot, u]\n",
    "    \n",
    "    def __init__(self):\n",
    "        self.dt = 0.01\n",
    "        \n",
    "        super(NNDM, self).__init__(\n",
    "            # outputs [theta{k+1}, theta{k}, theta_dot{k}, u{k}, sin() of previous 3 elements]\n",
    "            Parallel(\n",
    "                FixedLinear(\n",
    "                    torch.tensor([\n",
    "                        [1, self.dt, 0.]\n",
    "                    ])\n",
    "                ),\n",
    "                \n",
    "                Parallel(\n",
    "                    FixedLinear(\n",
    "                        torch.tensor([\n",
    "                            [1., 0., 0.],\n",
    "                            [0., 1., 0.],\n",
    "                            [0., 0., 1.]\n",
    "                        ])\n",
    "                    ),\n",
    "                    Sin(),\n",
    "                )\n",
    "            ),\n",
    "            \n",
    "            # now calculate theta_dot{k+1}, output [theta{k+1}, theta_dot{k+1}]\n",
    "            Parallel(\n",
    "                Select(0),\n",
    "                FixedLinear(\n",
    "                    torch.tensor([\n",
    "                        [0., 0., 1., self.dt, self.dt, 0., 0.]\n",
    "                    ])\n",
    "                )\n",
    "            )\n",
    "        )"
   ],
   "metadata": {
    "collapsed": false,
    "ExecuteTime": {
     "end_time": "2024-02-29T11:49:25.419346700Z",
     "start_time": "2024-02-29T11:49:25.363944300Z"
    }
   },
   "id": "b9f78729b0fe9538",
   "execution_count": 3
  },
  {
   "cell_type": "code",
   "outputs": [],
   "source": [
    "nndm = NNDM()"
   ],
   "metadata": {
    "collapsed": false,
    "ExecuteTime": {
     "end_time": "2024-02-29T11:49:25.464562Z",
     "start_time": "2024-02-29T11:49:25.378171300Z"
    }
   },
   "id": "2ac318d4ff99a19f",
   "execution_count": 4
  },
  {
   "cell_type": "markdown",
   "source": [
    "# Agent"
   ],
   "metadata": {
    "collapsed": false
   },
   "id": "b9f220cf9be6060"
  },
  {
   "cell_type": "code",
   "outputs": [],
   "source": [
    "class Agent(nn.Module):\n",
    "    # dummy agent of linear form a = c1 * s1 + c2 * s2 + c3, always outputs 0.\n",
    "    \n",
    "    def __init__(self):\n",
    "        super(Agent, self).__init__()\n",
    "        \n",
    "        self.layer = nn.Linear(2, 1)\n",
    "        \n",
    "        # dummy output of u=0\n",
    "        self.layer.weight = nn.Parameter(torch.tensor([[0., 0.]]))\n",
    "        self.layer.bias = nn.Parameter(torch.tensor([0.]))\n",
    "    \n",
    "    def forward(self, x):\n",
    "        return self.layer(x)\n",
    "    \n",
    "    def select_action(self, x, exploration=False):\n",
    "        if exploration:\n",
    "            raise ValueError('This model is not implemented for exploration')\n",
    "        else:\n",
    "            return self.forward(x)"
   ],
   "metadata": {
    "collapsed": false,
    "ExecuteTime": {
     "end_time": "2024-02-29T11:49:25.474806400Z",
     "start_time": "2024-02-29T11:49:25.413044400Z"
    }
   },
   "id": "f2f305551cd78476",
   "execution_count": 5
  },
  {
   "cell_type": "code",
   "outputs": [],
   "source": [
    "policy = Agent()"
   ],
   "metadata": {
    "collapsed": false,
    "ExecuteTime": {
     "end_time": "2024-02-29T11:49:25.512048900Z",
     "start_time": "2024-02-29T11:49:25.420371500Z"
    }
   },
   "id": "d2634429e05be797",
   "execution_count": 6
  },
  {
   "cell_type": "markdown",
   "source": [
    "# Env settings\n",
    "\n",
    "$$h(x) = 1 - \\frac{6^2}{\\pi^2} \\left(\\theta^2 + \\dot{\\theta}^2 + \\frac{2}{\\sqrt{3}} \\theta \\dot{\\theta} \\right)$$"
   ],
   "metadata": {
    "collapsed": false
   },
   "id": "27cf4648a41fee95"
  },
  {
   "cell_type": "code",
   "outputs": [],
   "source": [
    "class Pendulum(Env):\n",
    "    def __init__(self):\n",
    "        env = gym.make('Pendulum-v1')\n",
    "\n",
    "        self.is_discrete = False\n",
    "        \n",
    "        self.settings = {\n",
    "            'noise': [],\n",
    "            'max_frames': 100\n",
    "        }\n",
    "        \n",
    "        # h as defined in the paper\n",
    "        self.h_function = nn.Sequential(\n",
    "            Parallel(\n",
    "                UnivariateMonomial([(0, 2)]),\n",
    "                UnivariateMonomial([(1, 2)]),\n",
    "                Mul(Select([0]), Select([1]))\n",
    "            ),\n",
    "            FixedLinear(\n",
    "                torch.tensor([[1., 1., 2./(3.**0.5)]])\n",
    "            ),\n",
    "            FixedLinear(\n",
    "                torch.tensor([[-36 / 3.1415**2]]),\n",
    "                torch.tensor([1.])\n",
    "            )\n",
    "        )\n",
    "        \n",
    "        self.h_ids = [0, 1]\n",
    "        self.std = [0.005, 0.025]\n",
    "        self.env = PendulumNoise(env)"
   ],
   "metadata": {
    "collapsed": false,
    "ExecuteTime": {
     "end_time": "2024-02-29T11:49:25.516806700Z",
     "start_time": "2024-02-29T11:49:25.433371400Z"
    }
   },
   "id": "25de7c5ff6a3af6",
   "execution_count": 7
  },
  {
   "cell_type": "code",
   "outputs": [],
   "source": [
    "env = Pendulum()"
   ],
   "metadata": {
    "collapsed": false,
    "ExecuteTime": {
     "end_time": "2024-02-29T11:49:25.603893900Z",
     "start_time": "2024-02-29T11:49:25.450590300Z"
    }
   },
   "id": "d1d78480b4f7662c",
   "execution_count": 8
  },
  {
   "cell_type": "markdown",
   "source": [
    "# CBF\n",
    "\n",
    "$$\\nabla^2 h = \\begin{bmatrix}\n",
    "\\frac{\\partial^2{h}}{\\partial{\\theta}^2} & \\frac{\\partial^2{h}}{\\partial{\\theta}\\partial{\\dot{\\theta}}}\\\\ \n",
    "\\frac{\\partial^2{h}}{\\partial{\\dot{\\theta}}\\partial{\\theta}} & \\frac{\\partial^2{h}}{\\partial{\\dot{\\theta}}^2}\n",
    "\\end{bmatrix}\n",
    "\n",
    "= \\begin{bmatrix}\n",
    "-2 \\cdot \\frac{6^2}{\\pi^2} & -\\frac{2}{\\sqrt{3}} \\cdot \\frac{6^2}{\\pi^2}\\\\ \n",
    "-\\frac{2}{\\sqrt{3}} \\cdot \\frac{6^2}{\\pi^2} & -2 \\cdot \\frac{6^2}{\\pi^2}\n",
    "\\end{bmatrix}\n",
    "\n",
    "= -2 \\cdot \\frac{6^2}{\\pi^2} \n",
    "\\begin{bmatrix}\n",
    "1 & \\frac{1}{\\sqrt{3}}\\\\ \n",
    "\\frac{1}{\\sqrt{3}} & 1\n",
    "\\end{bmatrix}$$\n",
    "\n",
    "Since the Hessian is a 2x2 matrix, the matrix 2-norm will be equal to the largest singular value. In this case we get\n",
    "\n",
    "$$\\nabla^2 h^T \\ \\nabla^2 h = \n",
    "4\\cdot \\frac{6^4}{\\pi^4} \n",
    "\\begin{bmatrix}\n",
    "\\frac{4}{3} & \\frac{2}{\\sqrt{3}}\\\\ \n",
    "\\frac{2}{\\sqrt{3}} & \\frac{4}{3}\n",
    "\\end{bmatrix}\n",
    "\n",
    "= \\begin{bmatrix}\n",
    "\\frac{6912}{\\pi^4} & \\frac{3456 \\sqrt{3}}{\\pi^4}\\\\ \n",
    "\\frac{3456 \\sqrt{3}}{\\pi^4} & \\frac{6912}{\\pi^4}\n",
    "\\end{bmatrix}$$\n",
    "\n",
    "$$det(\\nabla^2 h^T \\ \\nabla^2 h - \\sigma I) =\n",
    "\\left( \\frac{6912}{\\pi^4} - \\sigma \\right)^2 - \\frac{3456 \\sqrt{3}}{\\pi^4} ^ 2 = 0$$\n",
    "\n",
    "$$\\sigma_{\\pm} = \\frac{6912}{\\pi^4} \\pm \\frac{3456 \\sqrt{3}}{\\pi^4}$$\n",
    "\n",
    "So, finally we get (this output has been verified online to be correct):\n",
    "$$\\lambda_{max} = \\sqrt{\\sigma_+} = \\frac{1}{\\pi^2} \\sqrt{6912 + 3456 \\sqrt{3}}$$"
   ],
   "metadata": {
    "collapsed": false
   },
   "id": "a7fc720ec31fa118"
  },
  {
   "cell_type": "markdown",
   "source": [
    "$$cov(d) = \\begin{bmatrix}\n",
    "\\sigma_1^2 & 0\\\\ \n",
    "0 & \\sigma_2^2\n",
    "\\end{bmatrix}\n",
    "\n",
    "= \\begin{bmatrix}\n",
    "0.005^2 & 0\\\\ \n",
    "0 & 0.025^2\n",
    "\\end{bmatrix}$$\n",
    "\n",
    "$$tr(cov(d)) = 0.005^2 + 0.025^2 = 0.00065 = \\frac{13}{20 000}$$\n",
    "\n",
    "Now everything comes together\n",
    "$$\\psi = \\frac{\\lambda_{max}}{2} tr(cov(d))$$\n",
    "$$\\alpha = 1 - \\psi = 1 - \\frac{13}{40 000\\pi^2} \\sqrt{6912 + 3456 \\sqrt{3}}$$"
   ],
   "metadata": {
    "collapsed": false
   },
   "id": "41dde264739ad22d"
  },
  {
   "cell_type": "code",
   "outputs": [
    {
     "name": "stdout",
     "output_type": "stream",
     "text": [
      "Alpha is 0.996\n"
     ]
    }
   ],
   "source": [
    "lambda_max = (1/3.1415**2) * (6912 + 3456 * 3 ** 0.5) ** 0.5\n",
    "tr_cov = sum(noise ** 2 for noise in env.std)\n",
    "\n",
    "alpha = 1 - (lambda_max / 2) * tr_cov\n",
    "print(f'Alpha is {round(alpha, 3)}')"
   ],
   "metadata": {
    "collapsed": false,
    "ExecuteTime": {
     "end_time": "2024-02-29T11:49:25.630052500Z",
     "start_time": "2024-02-29T11:49:25.489554600Z"
    }
   },
   "id": "343595e2ef69892a",
   "execution_count": 9
  },
  {
   "cell_type": "code",
   "outputs": [],
   "source": [
    "# what to do with delta? \n",
    "cbf = CBF(env, nndm, policy,\n",
    "          alpha=[alpha],\n",
    "          delta=[0.],\n",
    "          no_action_partitions=2,\n",
    "          no_noise_partitions=2,\n",
    "          stochastic=True)"
   ],
   "metadata": {
    "collapsed": false,
    "ExecuteTime": {
     "end_time": "2024-02-29T11:49:25.634538Z",
     "start_time": "2024-02-29T11:49:25.503050700Z"
    }
   },
   "id": "16137ae1454574",
   "execution_count": 10
  },
  {
   "cell_type": "markdown",
   "source": [
    "# Evaluation"
   ],
   "metadata": {
    "collapsed": false
   },
   "id": "cb71ebc4d01ee0b9"
  },
  {
   "cell_type": "code",
   "outputs": [
    {
     "data": {
      "text/plain": "  0%|          | 0/10 [00:00<?, ?it/s]",
      "application/vnd.jupyter.widget-view+json": {
       "version_major": 2,
       "version_minor": 0,
       "model_id": "7c1259991ca54ffbb55fead1f18fb6fb"
      }
     },
     "metadata": {},
     "output_type": "display_data"
    }
   ],
   "source": [
    "evaluator = Evaluator(env, cbf)\n",
    "f, h = evaluator.mc_simulate(policy, 10, seed=[0.1, 0.])"
   ],
   "metadata": {
    "collapsed": false,
    "ExecuteTime": {
     "end_time": "2024-02-29T11:49:26.923529800Z",
     "start_time": "2024-02-29T11:49:25.530041300Z"
    }
   },
   "id": "f55e2e44f79f7755",
   "execution_count": 11
  },
  {
   "cell_type": "code",
   "outputs": [],
   "source": [
    "def p_u_experimental(xg, yg, num_agents=500):\n",
    "    res = np.zeros([xg.shape[1], yg.shape[0]])\n",
    "\n",
    "    x_y = np.dstack((xg, yg))\n",
    "    gridpoints = [point for row in x_y for point in row]\n",
    "    \n",
    "    for idx, point in tqdm(enumerate(gridpoints)):\n",
    "        end_frames, _ = evaluator.mc_simulate(policy, num_agents, cbf_enabled=True, seed=list(point), progress_bar=False)\n",
    "        p_u = sum(f <= 100 for f in end_frames)/len(end_frames) if len(end_frames) > 0 else 0.\n",
    "        \n",
    "        i, j = idx % x_y.shape[1], idx // x_y.shape[0]\n",
    "        res[i, j] = p_u\n",
    "     \n",
    "    # print(res)       \n",
    "    return res"
   ],
   "metadata": {
    "collapsed": false,
    "ExecuteTime": {
     "end_time": "2024-02-29T11:49:26.945233200Z",
     "start_time": "2024-02-29T11:49:26.924529700Z"
    }
   },
   "id": "c3f6bf49606cf30d",
   "execution_count": 12
  },
  {
   "cell_type": "code",
   "outputs": [],
   "source": [
    "def state_space_plot(interp_resolution, num_agents=500):\n",
    "    # define regions (left of the ellipse, ellipse and right of the ellipse)\n",
    "    x_ellipse = np.linspace(-(3/2)**0.5 * np.pi/6 , (3/2)**0.5 * np.pi/6 , 1001)\n",
    "    x_left = np.linspace(-0.75, -(3/2)**0.5 * np.pi/6, 101)\n",
    "    x_right = np.linspace((3/2)**0.5 * np.pi/6, 0.75, 101)\n",
    "    \n",
    "    upper_ellipse = [-x/3**0.5 + (-2/3 * x**2 + np.pi**2 / 36)**0.5 for x in x_ellipse\n",
    "                    if -(3/2)**0.5 * np.pi/6 <= x <= (3/2)**0.5 * np.pi/6]\n",
    "    lower_ellipse = [-x/3**0.5 - (-2/3 * x**2 + np.pi**2 / 36)**0.5 for x in x_ellipse\n",
    "                    if -(3/2)**0.5 * np.pi/6 <= x <= (3/2)**0.5 * np.pi/6]\n",
    "        \n",
    "    # points to evaluate simulation at\n",
    "    x, y = np.linspace(-0.7, 0.7, 15), np.linspace(-0.7, 0.7, 15)\n",
    "    xg, yg = np.meshgrid(x, y)\n",
    "    \n",
    "    # simplification of Theorem 5 robust safety paper for delta=0, gamma = 0, K = 100 (frames):\n",
    "    # upper bound for theoretical K-step exit probability\n",
    "    # assuming max: M of the h function is still 1\n",
    "\n",
    "    data = p_u_experimental(xg, yg, num_agents)\n",
    "    interp = RegularGridInterpolator((x, y), data, method='cubic')\n",
    "\n",
    "    # points to interpolate at\n",
    "    xx, yy = np.linspace(x_ellipse[0], x_ellipse[-1], interp_resolution), np.linspace(-0.7, 0.7, interp_resolution)\n",
    "    X, Y  = np.meshgrid(xx, yy)\n",
    "    \n",
    "    xxx, yyy = np.linspace(-0.7, 0.7, int(1.96*interp_resolution)), np.linspace(-0.7, 0.7, int(1.96*interp_resolution))\n",
    "    XX, YY = np.meshgrid(xxx, yyy, sparse=False)\n",
    "    theoretical_data = p_u_theoretical(100, interp_resolution)\n",
    "\n",
    "    fig, ax = plt.subplots(1, 2)\n",
    "    ax[0].scatter(X, Y, c=interp((X, Y)), cmap=plt.colormaps['coolwarm'])\n",
    "    ax[1].scatter(XX, YY, c=theoretical_data, cmap=plt.colormaps['coolwarm'])\n",
    "\n",
    "    ax[0].plot(x_ellipse, upper_ellipse, color='black')\n",
    "    ax[0].plot(x_ellipse, lower_ellipse, color='black')  \n",
    "    ax[1].plot(x_ellipse, upper_ellipse, color='black')\n",
    "    ax[1].plot(x_ellipse, lower_ellipse, color='black')\n",
    "\n",
    "    plt.xlabel(r'$\\theta$')\n",
    "    plt.ylabel(r'$\\dot{\\theta}$')\n",
    "    \n",
    "    # Plots the color map here, some size scaling that worked \n",
    "    ax[0].scatter(xg, yg, s=4, color='black', label=r'$\\mathbf{x}_0$')\n",
    "    ax[0].legend(loc=1)\n",
    "    ax[1].scatter(xg, yg, s=4, color='black', label=r'$\\mathbf{x}_0$')\n",
    "    ax[1].legend(loc=1)\n",
    "\n",
    "    # shade outer regions\n",
    "    outer_color = plt.colormaps['coolwarm'](1.)[:3]\n",
    "    ax[0].fill_between(x_ellipse, 0.75, upper_ellipse, color=outer_color, alpha=1)\n",
    "    ax[0].fill_between(x_ellipse, lower_ellipse, -0.75, color=outer_color, alpha=1)\n",
    "    ax[0].fill_between(x_left, -0.75, 0.75, color=outer_color, alpha=1)\n",
    "    ax[0].fill_between(x_right, -0.75, 0.75, color=outer_color, alpha=1)\n",
    "    ax[1].fill_between(x_ellipse, 0.75, upper_ellipse, color=outer_color, alpha=1)\n",
    "    ax[1].fill_between(x_ellipse, lower_ellipse, -0.75, color=outer_color, alpha=1)\n",
    "    ax[1].fill_between(x_left, -0.75, 0.75, color=outer_color, alpha=1)\n",
    "    ax[1].fill_between(x_right, -0.75, 0.75, color=outer_color, alpha=1)\n",
    "\n",
    "    ax[0].set_xlim(-0.7, 0.7)\n",
    "    ax[0].set_ylim(-0.7, 0.7)\n",
    "    ax[1].set_xlim(-0.7, 0.7)\n",
    "    ax[1].set_ylim(-0.7, 0.7)\n",
    "\n",
    "    ax[0].set_title(r'Estimated $P_u$')\n",
    "    ax[1].set_title(r'Theoretical $P_u$')\n",
    "\n",
    "    plt.savefig(\"state_space_plot.png\")\n",
    "    plt.show()\n"
   ],
   "metadata": {
    "collapsed": false
   },
   "id": "713ef043917ea8e3"
  },
  {
   "cell_type": "code",
   "outputs": [
    {
     "name": "stderr",
     "output_type": "stream",
     "text": [
      "225it [02:08,  1.74it/s]\n"
     ]
    }
   ],
   "source": [
    "state_space_plot(200, 10)"
   ],
   "metadata": {
    "collapsed": false,
    "is_executing": true,
    "ExecuteTime": {
     "start_time": "2024-02-29T13:40:12.024833600Z"
    }
   },
   "id": "74f37c526450d15c",
   "execution_count": null
  },
  {
   "cell_type": "code",
   "outputs": [],
   "source": [],
   "metadata": {
    "collapsed": false,
    "ExecuteTime": {
     "end_time": "2024-02-29T11:51:21.009329Z",
     "start_time": "2024-02-29T11:51:21.005364300Z"
    }
   },
   "id": "21fa030f297e54df",
   "execution_count": 14
  }
 ],
 "metadata": {
  "kernelspec": {
   "display_name": "Python 3",
   "language": "python",
   "name": "python3"
  },
  "language_info": {
   "codemirror_mode": {
    "name": "ipython",
    "version": 2
   },
   "file_extension": ".py",
   "mimetype": "text/x-python",
   "name": "python",
   "nbconvert_exporter": "python",
   "pygments_lexer": "ipython2",
   "version": "2.7.6"
  }
 },
 "nbformat": 4,
 "nbformat_minor": 5
}
