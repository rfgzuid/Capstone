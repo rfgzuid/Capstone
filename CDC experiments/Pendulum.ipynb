{
 "cells": [
  {
   "cell_type": "markdown",
   "source": [
    "# Import Libraries"
   ],
   "metadata": {
    "collapsed": false
   },
   "id": "708908ce273d1d70"
  },
  {
   "cell_type": "code",
   "outputs": [],
   "source": [
    "from src.capstone.evaluation import Evaluator\n",
    "from src.capstone.cbf import CBF\n",
    "from src.capstone.settings import Env\n",
    "\n",
    "from bound_propagation.parallel import Parallel\n",
    "from bound_propagation.bivariate import Mul\n",
    "from bound_propagation.reshape import Select\n",
    "from bound_propagation.polynomial import UnivariateMonomial\n",
    "from bound_propagation.linear import FixedLinear\n",
    "from bound_propagation.activation import Sin\n",
    "\n",
    "import numpy as np\n",
    "import gymnasium as gym\n",
    "from gymnasium.spaces import Box\n",
    "\n",
    "import torch\n",
    "import torch.nn as nn\n",
    "\n",
    "from tqdm import tqdm\n",
    "import matplotlib.pyplot as plt\n",
    "from scipy.interpolate import RegularGridInterpolator, RectBivariateSpline"
   ],
   "metadata": {
    "collapsed": true,
    "ExecuteTime": {
     "end_time": "2024-02-29T17:20:49.180039700Z",
     "start_time": "2024-02-29T17:20:45.979809800Z"
    }
   },
   "id": "initial_id",
   "execution_count": 1
  },
  {
   "cell_type": "markdown",
   "source": [
    "# Gym wrapper for dynamics"
   ],
   "metadata": {
    "collapsed": false
   },
   "id": "e0e58a0e69662d29"
  },
  {
   "cell_type": "code",
   "outputs": [],
   "source": [
    "class PendulumNoise(gym.Wrapper):\n",
    "    def __init__(self, env):\n",
    "        super().__init__(env)\n",
    "        self.observation_space = Box(low=np.array([float('-inf'), -8]),\n",
    "                                     high=np.array([float('inf'), 8]),\n",
    "                                     dtype=np.float32)\n",
    "        \n",
    "        self.dt = 0.01\n",
    "        \n",
    "    def step(self, action):\n",
    "        action = np.array([action], dtype=np.float32)  # cannot be scalar like used in Discrete gym envs\n",
    "        \n",
    "        th, thdot = self.env.unwrapped.state\n",
    "        _, _, _, truncated, _ = self.env.step(action)\n",
    "        \n",
    "        u = np.clip(action, -self.env.unwrapped.max_torque, \n",
    "                    self.env.unwrapped.max_torque)[0]\n",
    "        \n",
    "        newthdot = thdot + np.sin(th) * self.dt + u * self.dt + np.random.normal(0., 0.025)\n",
    "        newth = th + thdot * self.dt + np.random.normal(0., 0.005)\n",
    "        \n",
    "        self.env.unwrapped.state = np.array([newth, newthdot], dtype=np.float32)\n",
    "        \n",
    "        return self.env.unwrapped.state, 0., False, truncated, {}\n",
    "    \n",
    "    def reset(self, seed: list[float, float] = None):\n",
    "        # allow the user to set the initial state directly, otherwise random state\n",
    "        self.env.reset()\n",
    "        \n",
    "        if seed is not None:\n",
    "            self.env.unwrapped.state = np.array(seed, dtype=np.float32)\n",
    "        return self.env.unwrapped.state, {}"
   ],
   "metadata": {
    "collapsed": false,
    "ExecuteTime": {
     "end_time": "2024-02-29T17:20:49.189168700Z",
     "start_time": "2024-02-29T17:20:49.185447700Z"
    }
   },
   "id": "f08ab4c940664bed",
   "execution_count": 2
  },
  {
   "cell_type": "markdown",
   "source": [
    "# NNDM\n",
    "\n",
    "We assume the dynamics are known, to be able to directly compare our results to the paper. The NNDM outputs the EXPECTED next state (Gaussian noise term disappears)."
   ],
   "metadata": {
    "collapsed": false
   },
   "id": "ee7f3318957af20e"
  },
  {
   "cell_type": "code",
   "outputs": [],
   "source": [
    "class NNDM(nn.Sequential):\n",
    "    # input [theta, theta_dot, u]\n",
    "    \n",
    "    def __init__(self):\n",
    "        self.dt = 0.01\n",
    "        \n",
    "        super(NNDM, self).__init__(\n",
    "            # outputs [theta{k+1}, theta{k}, theta_dot{k}, u{k}, sin() of previous 3 elements]\n",
    "            Parallel(\n",
    "                FixedLinear(\n",
    "                    torch.tensor([\n",
    "                        [1, self.dt, 0.]\n",
    "                    ])\n",
    "                ),\n",
    "                \n",
    "                Parallel(\n",
    "                    FixedLinear(\n",
    "                        torch.tensor([\n",
    "                            [1., 0., 0.],\n",
    "                            [0., 1., 0.],\n",
    "                            [0., 0., 1.]\n",
    "                        ])\n",
    "                    ),\n",
    "                    Sin(),\n",
    "                )\n",
    "            ),\n",
    "            \n",
    "            # now calculate theta_dot{k+1}, output [theta{k+1}, theta_dot{k+1}]\n",
    "            Parallel(\n",
    "                Select(0),\n",
    "                FixedLinear(\n",
    "                    torch.tensor([\n",
    "                        [0., 0., 1., self.dt, self.dt, 0., 0.]\n",
    "                    ])\n",
    "                )\n",
    "            )\n",
    "        )"
   ],
   "metadata": {
    "collapsed": false,
    "ExecuteTime": {
     "end_time": "2024-02-29T17:20:49.200767800Z",
     "start_time": "2024-02-29T17:20:49.192517Z"
    }
   },
   "id": "b9f78729b0fe9538",
   "execution_count": 3
  },
  {
   "cell_type": "code",
   "outputs": [],
   "source": [
    "nndm = NNDM()"
   ],
   "metadata": {
    "collapsed": false,
    "ExecuteTime": {
     "end_time": "2024-02-29T17:20:49.220188500Z",
     "start_time": "2024-02-29T17:20:49.199772700Z"
    }
   },
   "id": "2ac318d4ff99a19f",
   "execution_count": 4
  },
  {
   "cell_type": "markdown",
   "source": [
    "# Agent"
   ],
   "metadata": {
    "collapsed": false
   },
   "id": "b9f220cf9be6060"
  },
  {
   "cell_type": "code",
   "outputs": [],
   "source": [
    "class Agent(nn.Module):\n",
    "    # dummy agent of linear form a = c1 * s1 + c2 * s2 + c3, always outputs 0.\n",
    "    \n",
    "    def __init__(self):\n",
    "        super(Agent, self).__init__()\n",
    "        \n",
    "        self.layer = nn.Linear(2, 1)\n",
    "        \n",
    "        # dummy output of u=0\n",
    "        self.layer.weight = nn.Parameter(torch.tensor([[0., 0.]]))\n",
    "        self.layer.bias = nn.Parameter(torch.tensor([0.]))\n",
    "    \n",
    "    def forward(self, x):\n",
    "        return self.layer(x)\n",
    "    \n",
    "    def select_action(self, x, exploration=False):\n",
    "        if exploration:\n",
    "            raise ValueError('This model is not implemented for exploration')\n",
    "        else:\n",
    "            return self.forward(x)"
   ],
   "metadata": {
    "collapsed": false,
    "ExecuteTime": {
     "end_time": "2024-02-29T17:20:49.220188500Z",
     "start_time": "2024-02-29T17:20:49.207705800Z"
    }
   },
   "id": "f2f305551cd78476",
   "execution_count": 5
  },
  {
   "cell_type": "code",
   "outputs": [],
   "source": [
    "policy = Agent()"
   ],
   "metadata": {
    "collapsed": false,
    "ExecuteTime": {
     "end_time": "2024-02-29T17:20:49.222311900Z",
     "start_time": "2024-02-29T17:20:49.214584500Z"
    }
   },
   "id": "d2634429e05be797",
   "execution_count": 6
  },
  {
   "cell_type": "markdown",
   "source": [
    "# Env settings\n",
    "\n",
    "$$h(x) = 1 - \\frac{6^2}{\\pi^2} \\left(\\theta^2 + \\dot{\\theta}^2 + \\frac{2}{\\sqrt{3}} \\theta \\dot{\\theta} \\right)$$"
   ],
   "metadata": {
    "collapsed": false
   },
   "id": "27cf4648a41fee95"
  },
  {
   "cell_type": "code",
   "outputs": [],
   "source": [
    "class Pendulum(Env):\n",
    "    def __init__(self):\n",
    "        env = gym.make('Pendulum-v1')\n",
    "\n",
    "        self.is_discrete = False\n",
    "        \n",
    "        self.settings = {\n",
    "            'noise': [],\n",
    "            'max_frames': 100\n",
    "        }\n",
    "        \n",
    "        # h as defined in the paper\n",
    "        self.h_function = nn.Sequential(\n",
    "            Parallel(\n",
    "                UnivariateMonomial([(0, 2)]),\n",
    "                UnivariateMonomial([(1, 2)]),\n",
    "                Mul(Select([0]), Select([1]))\n",
    "            ),\n",
    "            FixedLinear(\n",
    "                torch.tensor([[1., 1., 2./(3.**0.5)]])\n",
    "            ),\n",
    "            FixedLinear(\n",
    "                torch.tensor([[-36 / 3.1415**2]]),\n",
    "                torch.tensor([1.])\n",
    "            )\n",
    "        )\n",
    "        \n",
    "        self.h_ids = [0, 1]\n",
    "        self.std = [0.005, 0.025]\n",
    "        self.env = PendulumNoise(env)"
   ],
   "metadata": {
    "collapsed": false,
    "ExecuteTime": {
     "end_time": "2024-02-29T17:20:49.236093Z",
     "start_time": "2024-02-29T17:20:49.222311900Z"
    }
   },
   "id": "25de7c5ff6a3af6",
   "execution_count": 7
  },
  {
   "cell_type": "code",
   "outputs": [],
   "source": [
    "env = Pendulum()"
   ],
   "metadata": {
    "collapsed": false,
    "ExecuteTime": {
     "end_time": "2024-02-29T17:20:49.262911100Z",
     "start_time": "2024-02-29T17:20:49.229725Z"
    }
   },
   "id": "d1d78480b4f7662c",
   "execution_count": 8
  },
  {
   "cell_type": "markdown",
   "source": [
    "# CBF\n",
    "\n",
    "$$\\nabla^2 h = \\begin{bmatrix}\n",
    "\\frac{\\partial^2{h}}{\\partial{\\theta}^2} & \\frac{\\partial^2{h}}{\\partial{\\theta}\\partial{\\dot{\\theta}}}\\\\ \n",
    "\\frac{\\partial^2{h}}{\\partial{\\dot{\\theta}}\\partial{\\theta}} & \\frac{\\partial^2{h}}{\\partial{\\dot{\\theta}}^2}\n",
    "\\end{bmatrix}\n",
    "\n",
    "= \\begin{bmatrix}\n",
    "-2 \\cdot \\frac{6^2}{\\pi^2} & -\\frac{2}{\\sqrt{3}} \\cdot \\frac{6^2}{\\pi^2}\\\\ \n",
    "-\\frac{2}{\\sqrt{3}} \\cdot \\frac{6^2}{\\pi^2} & -2 \\cdot \\frac{6^2}{\\pi^2}\n",
    "\\end{bmatrix}\n",
    "\n",
    "= -2 \\cdot \\frac{6^2}{\\pi^2} \n",
    "\\begin{bmatrix}\n",
    "1 & \\frac{1}{\\sqrt{3}}\\\\ \n",
    "\\frac{1}{\\sqrt{3}} & 1\n",
    "\\end{bmatrix}$$\n",
    "\n",
    "Since the Hessian is a 2x2 matrix, the matrix 2-norm will be equal to the largest singular value. In this case we get\n",
    "\n",
    "$$\\nabla^2 h^T \\ \\nabla^2 h = \n",
    "4\\cdot \\frac{6^4}{\\pi^4} \n",
    "\\begin{bmatrix}\n",
    "\\frac{4}{3} & \\frac{2}{\\sqrt{3}}\\\\ \n",
    "\\frac{2}{\\sqrt{3}} & \\frac{4}{3}\n",
    "\\end{bmatrix}\n",
    "\n",
    "= \\begin{bmatrix}\n",
    "\\frac{6912}{\\pi^4} & \\frac{3456 \\sqrt{3}}{\\pi^4}\\\\ \n",
    "\\frac{3456 \\sqrt{3}}{\\pi^4} & \\frac{6912}{\\pi^4}\n",
    "\\end{bmatrix}$$\n",
    "\n",
    "$$det(\\nabla^2 h^T \\ \\nabla^2 h - \\sigma I) =\n",
    "\\left( \\frac{6912}{\\pi^4} - \\sigma \\right)^2 - \\frac{3456 \\sqrt{3}}{\\pi^4} ^ 2 = 0$$\n",
    "\n",
    "$$\\sigma_{\\pm} = \\frac{6912}{\\pi^4} \\pm \\frac{3456 \\sqrt{3}}{\\pi^4}$$\n",
    "\n",
    "So, finally we get (this output has been verified online to be correct):\n",
    "$$\\lambda_{max} = \\sqrt{\\sigma_+} = \\frac{1}{\\pi^2} \\sqrt{6912 + 3456 \\sqrt{3}}$$"
   ],
   "metadata": {
    "collapsed": false
   },
   "id": "a7fc720ec31fa118"
  },
  {
   "cell_type": "markdown",
   "source": [
    "$$cov(d) = \\begin{bmatrix}\n",
    "\\sigma_1^2 & 0\\\\ \n",
    "0 & \\sigma_2^2\n",
    "\\end{bmatrix}\n",
    "\n",
    "= \\begin{bmatrix}\n",
    "0.005^2 & 0\\\\ \n",
    "0 & 0.025^2\n",
    "\\end{bmatrix}$$\n",
    "\n",
    "$$tr(cov(d)) = 0.005^2 + 0.025^2 = 0.00065 = \\frac{13}{20 000}$$\n",
    "\n",
    "Now everything comes together\n",
    "$$\\psi = \\frac{\\lambda_{max}}{2} tr(cov(d))$$\n",
    "$$\\alpha = 1 - \\psi = 1 - \\frac{13}{40 000\\pi^2} \\sqrt{6912 + 3456 \\sqrt{3}}$$"
   ],
   "metadata": {
    "collapsed": false
   },
   "id": "41dde264739ad22d"
  },
  {
   "cell_type": "code",
   "outputs": [
    {
     "name": "stdout",
     "output_type": "stream",
     "text": [
      "Alpha is 0.996\n"
     ]
    }
   ],
   "source": [
    "lambda_max = (1/3.1415**2) * (6912 + 3456 * 3 ** 0.5) ** 0.5\n",
    "tr_cov = sum(noise ** 2 for noise in env.std)\n",
    "\n",
    "alpha = 1 - (lambda_max / 2) * tr_cov\n",
    "print(f'Alpha is {round(alpha, 3)}')"
   ],
   "metadata": {
    "collapsed": false,
    "ExecuteTime": {
     "end_time": "2024-02-29T17:20:49.289214300Z",
     "start_time": "2024-02-29T17:20:49.243873100Z"
    }
   },
   "id": "343595e2ef69892a",
   "execution_count": 9
  },
  {
   "cell_type": "code",
   "outputs": [],
   "source": [
    "# what to do with delta? \n",
    "cbf = CBF(env, nndm, policy,\n",
    "          alpha=[alpha],\n",
    "          delta=[0.],\n",
    "          no_action_partitions=2,\n",
    "          no_noise_partitions=2,\n",
    "          stochastic=True)"
   ],
   "metadata": {
    "collapsed": false,
    "ExecuteTime": {
     "end_time": "2024-02-29T17:20:49.290328800Z",
     "start_time": "2024-02-29T17:20:49.274329400Z"
    }
   },
   "id": "16137ae1454574",
   "execution_count": 10
  },
  {
   "cell_type": "markdown",
   "source": [
    "# Evaluation"
   ],
   "metadata": {
    "collapsed": false
   },
   "id": "cb71ebc4d01ee0b9"
  },
  {
   "cell_type": "code",
   "outputs": [
    {
     "data": {
      "text/plain": "  0%|          | 0/10 [00:00<?, ?it/s]",
      "application/vnd.jupyter.widget-view+json": {
       "version_major": 2,
       "version_minor": 0,
       "model_id": "249f068e5f79483e9f275495bad194d4"
      }
     },
     "metadata": {},
     "output_type": "display_data"
    }
   ],
   "source": [
    "evaluator = Evaluator(env, cbf)\n",
    "f, h = evaluator.mc_simulate(policy, 10, seed=[0.1, 0.])"
   ],
   "metadata": {
    "collapsed": false,
    "ExecuteTime": {
     "end_time": "2024-02-29T17:20:49.793973200Z",
     "start_time": "2024-02-29T17:20:49.285662900Z"
    }
   },
   "id": "f55e2e44f79f7755",
   "execution_count": 11
  },
  {
   "cell_type": "code",
   "outputs": [],
   "source": [
    "def p_u_theoretical(xg, yg):\n",
    "    res = np.zeros([xg.shape[1], yg.shape[0]])\n",
    "    \n",
    "    x_y = np.dstack((xg, yg))\n",
    "    gridpoints = [point for row in x_y for point in row]\n",
    "    \n",
    "    for idx, point in tqdm(enumerate(gridpoints)):\n",
    "        p_u = 1 - (env.h_function(torch.tensor(point, dtype=torch.float32)).item() * alpha ** 100)\n",
    "        \n",
    "        i, j = idx % x_y.shape[1], idx // x_y.shape[0]\n",
    "        res[i, j] = p_u\n",
    "    \n",
    "    clipped_res = np.clip(res, 0., 1.)  \n",
    "    return clipped_res"
   ],
   "metadata": {
    "collapsed": false,
    "ExecuteTime": {
     "end_time": "2024-02-29T17:25:06.289131500Z",
     "start_time": "2024-02-29T17:25:06.261817Z"
    }
   },
   "id": "baae7b0e7dc2afde",
   "execution_count": 16
  },
  {
   "cell_type": "code",
   "outputs": [],
   "source": [
    "def p_u_experimental(xg, yg, num_agents=500):\n",
    "    res = np.zeros([xg.shape[1], yg.shape[0]])\n",
    "\n",
    "    x_y = np.dstack((xg, yg))\n",
    "    gridpoints = [point for row in x_y for point in row]\n",
    "    \n",
    "    for idx, point in tqdm(enumerate(gridpoints)):\n",
    "        end_frames, _ = evaluator.mc_simulate(policy, num_agents, cbf_enabled=True, seed=list(point), progress_bar=False)\n",
    "        p_u = sum(f <= 100 for f in end_frames)/len(end_frames) if len(end_frames) > 0 else 0.\n",
    "        \n",
    "        i, j = idx % x_y.shape[1], idx // x_y.shape[0]\n",
    "        res[i, j] = p_u\n",
    "     \n",
    "    # print(res)       \n",
    "    return res"
   ],
   "metadata": {
    "collapsed": false,
    "ExecuteTime": {
     "end_time": "2024-02-29T17:25:06.518194Z",
     "start_time": "2024-02-29T17:25:06.496395400Z"
    }
   },
   "id": "c3f6bf49606cf30d",
   "execution_count": 17
  },
  {
   "cell_type": "code",
   "outputs": [],
   "source": [
    "def state_space_plot(interp_resolution, num_agents=500):\n",
    "    # define regions (left of the ellipse, ellipse and right of the ellipse)\n",
    "    x_ellipse = np.linspace(-(3/2)**0.5 * np.pi/6 , (3/2)**0.5 * np.pi/6 , 1001)\n",
    "    x_left = np.linspace(-0.75, -(3/2)**0.5 * np.pi/6, 101)\n",
    "    x_right = np.linspace((3/2)**0.5 * np.pi/6, 0.75, 101)\n",
    "    \n",
    "    upper_ellipse = [-x/3**0.5 + (-2/3 * x**2 + np.pi**2 / 36)**0.5 for x in x_ellipse\n",
    "                    if -(3/2)**0.5 * np.pi/6 <= x <= (3/2)**0.5 * np.pi/6]\n",
    "    lower_ellipse = [-x/3**0.5 - (-2/3 * x**2 + np.pi**2 / 36)**0.5 for x in x_ellipse\n",
    "                    if -(3/2)**0.5 * np.pi/6 <= x <= (3/2)**0.5 * np.pi/6]\n",
    "        \n",
    "    # points to evaluate simulation at\n",
    "    x, y = np.linspace(-0.7, 0.7, 15), np.linspace(-0.7, 0.7, 15)\n",
    "    xg, yg = np.meshgrid(x, y)\n",
    "    \n",
    "    experimental = p_u_experimental(xg, yg, num_agents)\n",
    "    exp_interp = RegularGridInterpolator((x, y), experimental, method='cubic')\n",
    "\n",
    "    # points to interpolate at\n",
    "    xx, yy = np.linspace(x_ellipse[0], x_ellipse[-1], interp_resolution), np.linspace(-0.7, 0.7, interp_resolution)\n",
    "    X, Y  = np.meshgrid(xx, yy)\n",
    "    \n",
    "    theoretical = p_u_theoretical(X, Y)\n",
    "    \n",
    "    fig = plt.figure(figsize=(8, 3))\n",
    "    gs = fig.add_gridspec(1, 2, width_ratios=[1, 1.2])\n",
    "    \n",
    "    ax = fig.add_subplot(gs[0]), fig.add_subplot(gs[1])\n",
    "    \n",
    "    ax[0].scatter(X, Y, c=exp_interp((X, Y)), cmap=plt.colormaps['coolwarm'])\n",
    "    im = ax[1].scatter(X, Y, c=theoretical, cmap=plt.colormaps['coolwarm'])\n",
    "    \n",
    "    ax[0].plot(x_ellipse, upper_ellipse, color='black')\n",
    "    ax[0].plot(x_ellipse, lower_ellipse, color='black') \n",
    "    ax[1].plot(x_ellipse, upper_ellipse, color='black')\n",
    "    ax[1].plot(x_ellipse, lower_ellipse, color='black')  \n",
    "    \n",
    "    # Plots the color map here, some size scaling that worked \n",
    "    ax[0].scatter(xg, yg, s=4, color='black', label=r'$\\mathbf{x}_0$')\n",
    "    ax[1].scatter(xg, yg, s=4, color='black', label=r'$\\mathbf{x}_0$')\n",
    "    ax[0].legend(loc=1)\n",
    "    \n",
    "    # shade outer regions\n",
    "    outer_color = plt.colormaps['coolwarm'](1.)[:3]\n",
    "    ax[0].fill_between(x_ellipse, 0.75, upper_ellipse, color=outer_color, alpha=1)\n",
    "    ax[0].fill_between(x_ellipse, lower_ellipse, -0.75, color=outer_color, alpha=1)\n",
    "    ax[0].fill_between(x_left, -0.75, 0.75, color=outer_color, alpha=1)\n",
    "    ax[0].fill_between(x_right, -0.75, 0.75, color=outer_color, alpha=1)\n",
    "    ax[1].fill_between(x_ellipse, 0.75, upper_ellipse, color=outer_color, alpha=1)\n",
    "    ax[1].fill_between(x_ellipse, lower_ellipse, -0.75, color=outer_color, alpha=1)\n",
    "    ax[1].fill_between(x_left, -0.75, 0.75, color=outer_color, alpha=1)\n",
    "    ax[1].fill_between(x_right, -0.75, 0.75, color=outer_color, alpha=1)\n",
    "    \n",
    "    ax[0].set_xlim(-0.7, 0.7)\n",
    "    ax[0].set_ylim(-0.7, 0.7)\n",
    "    ax[1].set_xlim(-0.7, 0.7)\n",
    "    ax[1].set_ylim(-0.7, 0.7)\n",
    "    \n",
    "    ax[0].set_title(r'Estimated $P_u$')\n",
    "    ax[1].set_title(r'$P_u$ bound')\n",
    "    \n",
    "    ax[0].set_xticks([-0.5, 0., 0.5], labels=['-0.5', r'$\\theta$', '0.5'])\n",
    "    ax[0].set_yticks([-0.5, 0., 0.5], labels=['-0.5', r'$\\dot{\\theta}$', '0.5'])\n",
    "    ax[1].set_xticks([-0.5, 0., 0.5], labels=['-0.5', r'$\\theta$', '0.5'])\n",
    "    ax[1].set_yticks([])\n",
    "    \n",
    "    fig.tight_layout()\n",
    "    fig.colorbar(im)\n",
    "    \n",
    "    plt.savefig(\"state_space_plot.png\")\n",
    "    plt.show()"
   ],
   "metadata": {
    "collapsed": false,
    "ExecuteTime": {
     "end_time": "2024-02-29T17:25:07.369882500Z",
     "start_time": "2024-02-29T17:25:07.308476100Z"
    }
   },
   "id": "6f2092290d11f92e",
   "execution_count": 18
  },
  {
   "cell_type": "code",
   "outputs": [
    {
     "name": "stderr",
     "output_type": "stream",
     "text": [
      "86it [38:35, 26.93s/it]\n"
     ]
    },
    {
     "ename": "KeyboardInterrupt",
     "evalue": "",
     "output_type": "error",
     "traceback": [
      "\u001B[1;31m---------------------------------------------------------------------------\u001B[0m",
      "\u001B[1;31mKeyboardInterrupt\u001B[0m                         Traceback (most recent call last)",
      "Cell \u001B[1;32mIn[19], line 1\u001B[0m\n\u001B[1;32m----> 1\u001B[0m \u001B[43mstate_space_plot\u001B[49m\u001B[43m(\u001B[49m\u001B[38;5;241;43m200\u001B[39;49m\u001B[43m,\u001B[49m\u001B[43m \u001B[49m\u001B[38;5;241;43m5\u001B[39;49m\u001B[43m)\u001B[49m\n",
      "Cell \u001B[1;32mIn[18], line 16\u001B[0m, in \u001B[0;36mstate_space_plot\u001B[1;34m(interp_resolution, num_agents)\u001B[0m\n\u001B[0;32m     13\u001B[0m x, y \u001B[38;5;241m=\u001B[39m np\u001B[38;5;241m.\u001B[39mlinspace(\u001B[38;5;241m-\u001B[39m\u001B[38;5;241m0.7\u001B[39m, \u001B[38;5;241m0.7\u001B[39m, \u001B[38;5;241m15\u001B[39m), np\u001B[38;5;241m.\u001B[39mlinspace(\u001B[38;5;241m-\u001B[39m\u001B[38;5;241m0.7\u001B[39m, \u001B[38;5;241m0.7\u001B[39m, \u001B[38;5;241m15\u001B[39m)\n\u001B[0;32m     14\u001B[0m xg, yg \u001B[38;5;241m=\u001B[39m np\u001B[38;5;241m.\u001B[39mmeshgrid(x, y)\n\u001B[1;32m---> 16\u001B[0m experimental \u001B[38;5;241m=\u001B[39m \u001B[43mp_u_experimental\u001B[49m\u001B[43m(\u001B[49m\u001B[43mxg\u001B[49m\u001B[43m,\u001B[49m\u001B[43m \u001B[49m\u001B[43myg\u001B[49m\u001B[43m,\u001B[49m\u001B[43m \u001B[49m\u001B[43mnum_agents\u001B[49m\u001B[43m)\u001B[49m\n\u001B[0;32m     17\u001B[0m exp_interp \u001B[38;5;241m=\u001B[39m RegularGridInterpolator((x, y), experimental, method\u001B[38;5;241m=\u001B[39m\u001B[38;5;124m'\u001B[39m\u001B[38;5;124mcubic\u001B[39m\u001B[38;5;124m'\u001B[39m)\n\u001B[0;32m     19\u001B[0m \u001B[38;5;66;03m# points to interpolate at\u001B[39;00m\n",
      "Cell \u001B[1;32mIn[17], line 8\u001B[0m, in \u001B[0;36mp_u_experimental\u001B[1;34m(xg, yg, num_agents)\u001B[0m\n\u001B[0;32m      5\u001B[0m gridpoints \u001B[38;5;241m=\u001B[39m [point \u001B[38;5;28;01mfor\u001B[39;00m row \u001B[38;5;129;01min\u001B[39;00m x_y \u001B[38;5;28;01mfor\u001B[39;00m point \u001B[38;5;129;01min\u001B[39;00m row]\n\u001B[0;32m      7\u001B[0m \u001B[38;5;28;01mfor\u001B[39;00m idx, point \u001B[38;5;129;01min\u001B[39;00m tqdm(\u001B[38;5;28menumerate\u001B[39m(gridpoints)):\n\u001B[1;32m----> 8\u001B[0m     end_frames, _ \u001B[38;5;241m=\u001B[39m \u001B[43mevaluator\u001B[49m\u001B[38;5;241;43m.\u001B[39;49m\u001B[43mmc_simulate\u001B[49m\u001B[43m(\u001B[49m\u001B[43mpolicy\u001B[49m\u001B[43m,\u001B[49m\u001B[43m \u001B[49m\u001B[43mnum_agents\u001B[49m\u001B[43m,\u001B[49m\u001B[43m \u001B[49m\u001B[43mcbf_enabled\u001B[49m\u001B[38;5;241;43m=\u001B[39;49m\u001B[38;5;28;43;01mTrue\u001B[39;49;00m\u001B[43m,\u001B[49m\u001B[43m \u001B[49m\u001B[43mseed\u001B[49m\u001B[38;5;241;43m=\u001B[39;49m\u001B[38;5;28;43mlist\u001B[39;49m\u001B[43m(\u001B[49m\u001B[43mpoint\u001B[49m\u001B[43m)\u001B[49m\u001B[43m,\u001B[49m\u001B[43m \u001B[49m\u001B[43mprogress_bar\u001B[49m\u001B[38;5;241;43m=\u001B[39;49m\u001B[38;5;28;43;01mFalse\u001B[39;49;00m\u001B[43m)\u001B[49m\n\u001B[0;32m      9\u001B[0m     p_u \u001B[38;5;241m=\u001B[39m \u001B[38;5;28msum\u001B[39m(f \u001B[38;5;241m<\u001B[39m\u001B[38;5;241m=\u001B[39m \u001B[38;5;241m100\u001B[39m \u001B[38;5;28;01mfor\u001B[39;00m f \u001B[38;5;129;01min\u001B[39;00m end_frames)\u001B[38;5;241m/\u001B[39m\u001B[38;5;28mlen\u001B[39m(end_frames) \u001B[38;5;28;01mif\u001B[39;00m \u001B[38;5;28mlen\u001B[39m(end_frames) \u001B[38;5;241m>\u001B[39m \u001B[38;5;241m0\u001B[39m \u001B[38;5;28;01melse\u001B[39;00m \u001B[38;5;241m0.\u001B[39m\n\u001B[0;32m     11\u001B[0m     i, j \u001B[38;5;241m=\u001B[39m idx \u001B[38;5;241m%\u001B[39m x_y\u001B[38;5;241m.\u001B[39mshape[\u001B[38;5;241m1\u001B[39m], idx \u001B[38;5;241m/\u001B[39m\u001B[38;5;241m/\u001B[39m x_y\u001B[38;5;241m.\u001B[39mshape[\u001B[38;5;241m0\u001B[39m]\n",
      "File \u001B[1;32m~\\PycharmProjects\\Capstone\\src\\capstone\\evaluation.py:119\u001B[0m, in \u001B[0;36mEvaluator.mc_simulate\u001B[1;34m(self, agent, num_agents, cbf_enabled, seed, progress_bar)\u001B[0m\n\u001B[0;32m    117\u001B[0m \u001B[38;5;28;01mif\u001B[39;00m cbf_enabled:\n\u001B[0;32m    118\u001B[0m     \u001B[38;5;28;01mtry\u001B[39;00m:\n\u001B[1;32m--> 119\u001B[0m         action \u001B[38;5;241m=\u001B[39m \u001B[38;5;28;43mself\u001B[39;49m\u001B[38;5;241;43m.\u001B[39;49m\u001B[43mcbf\u001B[49m\u001B[38;5;241;43m.\u001B[39;49m\u001B[43msafe_action\u001B[49m\u001B[43m(\u001B[49m\u001B[43mstate\u001B[49m\u001B[43m)\u001B[49m\n\u001B[0;32m    120\u001B[0m     \u001B[38;5;28;01mexcept\u001B[39;00m InfeasibilityError:\n\u001B[0;32m    121\u001B[0m         action \u001B[38;5;241m=\u001B[39m agent\u001B[38;5;241m.\u001B[39mselect_action(state, exploration\u001B[38;5;241m=\u001B[39m\u001B[38;5;28;01mFalse\u001B[39;00m)\n",
      "File \u001B[1;32m~\\PycharmProjects\\Capstone\\src\\capstone\\cbf.py:95\u001B[0m, in \u001B[0;36mCBF.safe_action\u001B[1;34m(self, state)\u001B[0m\n\u001B[0;32m     93\u001B[0m     \u001B[38;5;28;01mreturn\u001B[39;00m \u001B[38;5;28mself\u001B[39m\u001B[38;5;241m.\u001B[39mcontinuous_cbf(state)\n\u001B[0;32m     94\u001B[0m \u001B[38;5;28;01melse\u001B[39;00m:\n\u001B[1;32m---> 95\u001B[0m     \u001B[38;5;28;01mreturn\u001B[39;00m \u001B[38;5;28;43mself\u001B[39;49m\u001B[38;5;241;43m.\u001B[39;49m\u001B[43mcontinuous_scbf\u001B[49m\u001B[43m(\u001B[49m\u001B[43mstate\u001B[49m\u001B[43m)\u001B[49m\n",
      "File \u001B[1;32m~\\PycharmProjects\\Capstone\\src\\capstone\\cbf.py:190\u001B[0m, in \u001B[0;36mCBF.continuous_scbf\u001B[1;34m(self, state)\u001B[0m\n\u001B[0;32m    188\u001B[0m nominal_action \u001B[38;5;241m=\u001B[39m \u001B[38;5;28mself\u001B[39m\u001B[38;5;241m.\u001B[39mpolicy(state)\u001B[38;5;241m.\u001B[39msqueeze(\u001B[38;5;241m0\u001B[39m)\u001B[38;5;241m.\u001B[39mdetach()\n\u001B[0;32m    189\u001B[0m h_current \u001B[38;5;241m=\u001B[39m \u001B[38;5;28mself\u001B[39m\u001B[38;5;241m.\u001B[39mh_func(state)\n\u001B[1;32m--> 190\u001B[0m bound_matrices \u001B[38;5;241m=\u001B[39m \u001B[38;5;28;43mself\u001B[39;49m\u001B[38;5;241;43m.\u001B[39;49m\u001B[43mcreate_noise_bounds\u001B[49m\u001B[43m(\u001B[49m\u001B[43mstate\u001B[49m\u001B[43m)\u001B[49m\n\u001B[0;32m    191\u001B[0m \u001B[38;5;28;01mreturn\u001B[39;00m \u001B[38;5;28mself\u001B[39m\u001B[38;5;241m.\u001B[39mqp_solver(nominal_action, bound_matrices, h_current)\n",
      "File \u001B[1;32m~\\PycharmProjects\\Capstone\\src\\capstone\\cbf.py:293\u001B[0m, in \u001B[0;36mCBF.create_noise_bounds\u001B[1;34m(self, state)\u001B[0m\n\u001B[0;32m    290\u001B[0m h_vec_state \u001B[38;5;241m=\u001B[39m state_interval_bounds\u001B[38;5;241m.\u001B[39mlower\u001B[38;5;241m.\u001B[39mdetach()\n\u001B[0;32m    292\u001B[0m \u001B[38;5;66;03m# compute \\int_{HR_{wi}} w \\, p(w) \\, dw\u001B[39;00m\n\u001B[1;32m--> 293\u001B[0m weighted_noise_proba \u001B[38;5;241m=\u001B[39m \u001B[43mweighted_noise_prob\u001B[49m\u001B[43m(\u001B[49m\u001B[43mnoise_partition\u001B[49m\u001B[43m,\u001B[49m\u001B[43m \u001B[49m\u001B[38;5;28;43mself\u001B[39;49m\u001B[38;5;241;43m.\u001B[39;49m\u001B[43mh_ids\u001B[49m\u001B[43m,\u001B[49m\u001B[43m \u001B[49m\u001B[38;5;28;43mself\u001B[39;49m\u001B[38;5;241;43m.\u001B[39;49m\u001B[43mstds\u001B[49m\u001B[43m)\u001B[49m\n\u001B[0;32m    295\u001B[0m noise_vec \u001B[38;5;241m=\u001B[39m torch\u001B[38;5;241m.\u001B[39mzeros(\u001B[38;5;28mself\u001B[39m\u001B[38;5;241m.\u001B[39mstate_size)\n\u001B[0;32m    296\u001B[0m \u001B[38;5;28;01mfor\u001B[39;00m i, ind \u001B[38;5;129;01min\u001B[39;00m \u001B[38;5;28menumerate\u001B[39m(\u001B[38;5;28mself\u001B[39m\u001B[38;5;241m.\u001B[39mh_ids):\n",
      "File \u001B[1;32m~\\PycharmProjects\\Capstone\\src\\capstone\\probability.py:30\u001B[0m, in \u001B[0;36mweighted_noise_prob\u001B[1;34m(HR, h_ids, stds)\u001B[0m\n\u001B[0;32m     28\u001B[0m HR_prob \u001B[38;5;241m=\u001B[39m HR_probability(HR, h_ids, stds)\n\u001B[0;32m     29\u001B[0m \u001B[38;5;28;01mfor\u001B[39;00m i \u001B[38;5;129;01min\u001B[39;00m \u001B[38;5;28mrange\u001B[39m(\u001B[38;5;28mlen\u001B[39m(h_ids)):\n\u001B[1;32m---> 30\u001B[0m     res[i] \u001B[38;5;241m=\u001B[39m (HR_prob \u001B[38;5;241m*\u001B[39m \u001B[43mtruncated_normal_expectation\u001B[49m\u001B[43m(\u001B[49m\u001B[38;5;241;43m0\u001B[39;49m\u001B[43m,\u001B[49m\u001B[43m \u001B[49m\u001B[43mstds\u001B[49m\u001B[43m[\u001B[49m\u001B[43mi\u001B[49m\u001B[43m]\u001B[49m\u001B[43m,\u001B[49m\u001B[43m \u001B[49m\u001B[43mHR\u001B[49m\u001B[38;5;241;43m.\u001B[39;49m\u001B[43mlower\u001B[49m\u001B[43m[\u001B[49m\u001B[43m:\u001B[49m\u001B[43m,\u001B[49m\u001B[43m \u001B[49m\u001B[43mh_ids\u001B[49m\u001B[43m[\u001B[49m\u001B[43mi\u001B[49m\u001B[43m]\u001B[49m\u001B[43m]\u001B[49m\u001B[43m,\u001B[49m\u001B[43m \u001B[49m\u001B[43mHR\u001B[49m\u001B[38;5;241;43m.\u001B[39;49m\u001B[43mupper\u001B[49m\u001B[43m[\u001B[49m\u001B[43m:\u001B[49m\u001B[43m,\u001B[49m\u001B[43m \u001B[49m\u001B[43mh_ids\u001B[49m\u001B[43m[\u001B[49m\u001B[43mi\u001B[49m\u001B[43m]\u001B[49m\u001B[43m]\u001B[49m\u001B[43m)\u001B[49m)\n\u001B[0;32m     31\u001B[0m \u001B[38;5;28;01mreturn\u001B[39;00m res\n",
      "File \u001B[1;32m~\\PycharmProjects\\Capstone\\src\\capstone\\probability.py:23\u001B[0m, in \u001B[0;36mtruncated_normal_expectation\u001B[1;34m(mean, std_dev, lower_bound, upper_bound)\u001B[0m\n\u001B[0;32m     21\u001B[0m \u001B[38;5;28;01mdef\u001B[39;00m \u001B[38;5;21mtruncated_normal_expectation\u001B[39m(mean, std_dev, lower_bound, upper_bound):\n\u001B[0;32m     22\u001B[0m     a, b \u001B[38;5;241m=\u001B[39m (lower_bound \u001B[38;5;241m-\u001B[39m mean) \u001B[38;5;241m/\u001B[39m std_dev, (upper_bound \u001B[38;5;241m-\u001B[39m mean) \u001B[38;5;241m/\u001B[39m std_dev\n\u001B[1;32m---> 23\u001B[0m     \u001B[38;5;28;01mreturn\u001B[39;00m mean \u001B[38;5;241m+\u001B[39m std_dev \u001B[38;5;241m*\u001B[39m (\u001B[43mtruncnorm\u001B[49m\u001B[38;5;241;43m.\u001B[39;49m\u001B[43mexpect\u001B[49m\u001B[43m(\u001B[49m\u001B[43margs\u001B[49m\u001B[38;5;241;43m=\u001B[39;49m\u001B[43m(\u001B[49m\u001B[43ma\u001B[49m\u001B[43m,\u001B[49m\u001B[43m \u001B[49m\u001B[43mb\u001B[49m\u001B[43m)\u001B[49m\u001B[43m,\u001B[49m\u001B[43m \u001B[49m\u001B[43mloc\u001B[49m\u001B[38;5;241;43m=\u001B[39;49m\u001B[43mmean\u001B[49m\u001B[43m,\u001B[49m\u001B[43m \u001B[49m\u001B[43mscale\u001B[49m\u001B[38;5;241;43m=\u001B[39;49m\u001B[43mstd_dev\u001B[49m\u001B[43m)\u001B[49m)\n",
      "File \u001B[1;32m~\\PycharmProjects\\Capstone\\venv\\Lib\\site-packages\\scipy\\stats\\_distn_infrastructure.py:2915\u001B[0m, in \u001B[0;36mrv_continuous.expect\u001B[1;34m(self, func, args, loc, scale, lb, ub, conditional, **kwds)\u001B[0m\n\u001B[0;32m   2912\u001B[0m c, d \u001B[38;5;241m=\u001B[39m loc \u001B[38;5;241m+\u001B[39m \u001B[38;5;28mself\u001B[39m\u001B[38;5;241m.\u001B[39m_ppf(cdf_inner_bounds, \u001B[38;5;241m*\u001B[39margs) \u001B[38;5;241m*\u001B[39m scale\n\u001B[0;32m   2914\u001B[0m \u001B[38;5;66;03m# Do not silence warnings from integration.\u001B[39;00m\n\u001B[1;32m-> 2915\u001B[0m lbc \u001B[38;5;241m=\u001B[39m \u001B[43mintegrate\u001B[49m\u001B[38;5;241;43m.\u001B[39;49m\u001B[43mquad\u001B[49m\u001B[43m(\u001B[49m\u001B[43mfun\u001B[49m\u001B[43m,\u001B[49m\u001B[43m \u001B[49m\u001B[43mlb\u001B[49m\u001B[43m,\u001B[49m\u001B[43m \u001B[49m\u001B[43mc\u001B[49m\u001B[43m,\u001B[49m\u001B[43m \u001B[49m\u001B[38;5;241;43m*\u001B[39;49m\u001B[38;5;241;43m*\u001B[39;49m\u001B[43mkwds\u001B[49m\u001B[43m)\u001B[49m[\u001B[38;5;241m0\u001B[39m]\n\u001B[0;32m   2916\u001B[0m cd \u001B[38;5;241m=\u001B[39m integrate\u001B[38;5;241m.\u001B[39mquad(fun, c, d, \u001B[38;5;241m*\u001B[39m\u001B[38;5;241m*\u001B[39mkwds)[\u001B[38;5;241m0\u001B[39m]\n\u001B[0;32m   2917\u001B[0m dub \u001B[38;5;241m=\u001B[39m integrate\u001B[38;5;241m.\u001B[39mquad(fun, d, ub, \u001B[38;5;241m*\u001B[39m\u001B[38;5;241m*\u001B[39mkwds)[\u001B[38;5;241m0\u001B[39m]\n",
      "\u001B[1;31mKeyboardInterrupt\u001B[0m: "
     ]
    }
   ],
   "source": [
    "state_space_plot(200, 3)"
   ],
   "metadata": {
    "collapsed": false,
    "ExecuteTime": {
     "end_time": "2024-02-29T18:03:45.869178Z",
     "start_time": "2024-02-29T17:25:09.375667300Z"
    }
   },
   "id": "74f37c526450d15c",
   "execution_count": 19
  },
  {
   "cell_type": "code",
   "outputs": [],
   "source": [],
   "metadata": {
    "collapsed": false,
    "ExecuteTime": {
     "end_time": "2024-02-29T17:21:46.995046900Z",
     "start_time": "2024-02-29T17:21:46.992926300Z"
    }
   },
   "id": "21fa030f297e54df",
   "execution_count": 15
  }
 ],
 "metadata": {
  "kernelspec": {
   "display_name": "Python 3",
   "language": "python",
   "name": "python3"
  },
  "language_info": {
   "codemirror_mode": {
    "name": "ipython",
    "version": 2
   },
   "file_extension": ".py",
   "mimetype": "text/x-python",
   "name": "python",
   "nbconvert_exporter": "python",
   "pygments_lexer": "ipython2",
   "version": "2.7.6"
  }
 },
 "nbformat": 4,
 "nbformat_minor": 5
}
