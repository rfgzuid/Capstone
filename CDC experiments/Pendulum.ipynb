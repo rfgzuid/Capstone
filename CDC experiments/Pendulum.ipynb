{
 "cells": [
  {
   "cell_type": "markdown",
   "id": "708908ce273d1d70",
   "metadata": {
    "collapsed": false
   },
   "source": [
    "# Import Libraries"
   ]
  },
  {
   "cell_type": "code",
   "execution_count": 1,
   "id": "initial_id",
   "metadata": {
    "ExecuteTime": {
     "end_time": "2024-02-26T14:19:52.439629300Z",
     "start_time": "2024-02-26T14:19:49.465023100Z"
    },
    "collapsed": true
   },
   "outputs": [
    {
     "name": "stderr",
     "output_type": "stream",
     "text": [
      "/Users/koentuin/anaconda3/envs/new_env/lib/python3.10/site-packages/tqdm/auto.py:21: TqdmWarning: IProgress not found. Please update jupyter and ipywidgets. See https://ipywidgets.readthedocs.io/en/stable/user_install.html\n",
      "  from .autonotebook import tqdm as notebook_tqdm\n"
     ]
    }
   ],
   "source": [
    "import sys\n",
    "sys.path.append('../')\n",
    "\n",
    "from src.capstone.evaluation import Evaluator\n",
    "from src.capstone.cbf import CBF\n",
    "from src.capstone.settings import Env\n",
    "\n",
    "from bound_propagation.parallel import Parallel\n",
    "from bound_propagation.bivariate import Mul\n",
    "from bound_propagation.reshape import Select\n",
    "from bound_propagation.polynomial import UnivariateMonomial\n",
    "from bound_propagation.linear import FixedLinear\n",
    "from bound_propagation.activation import Sin\n",
    "\n",
    "import numpy as np\n",
    "import gymnasium as gym\n",
    "from gymnasium.spaces import Box\n",
    "\n",
    "import torch\n",
    "import torch.nn as nn"
   ]
  },
  {
   "cell_type": "markdown",
   "id": "e0e58a0e69662d29",
   "metadata": {
    "collapsed": false
   },
   "source": [
    "# Gym wrapper for dynamics"
   ]
  },
  {
   "cell_type": "code",
   "execution_count": 2,
   "id": "f08ab4c940664bed",
   "metadata": {
    "ExecuteTime": {
     "end_time": "2024-02-26T14:19:52.458493Z",
     "start_time": "2024-02-26T14:19:52.446782800Z"
    },
    "collapsed": false
   },
   "outputs": [],
   "source": [
    "class PendulumNoise(gym.Wrapper):\n",
    "    def __init__(self, env):\n",
    "        super().__init__(env)\n",
    "        self.observation_space = Box(low=np.array([float('-inf'), -8]),\n",
    "                                     high=np.array([float('inf'), 8]),\n",
    "                                     dtype=np.float32)\n",
    "        \n",
    "        self.dt = 0.01\n",
    "        \n",
    "    def step(self, action):\n",
    "        action = np.array([action], dtype=np.float32)  # cannot be scalar like used in Discrete gym envs\n",
    "        \n",
    "        th, thdot = self.env.unwrapped.state\n",
    "        _, _, _, truncated, _ = self.env.step(action)\n",
    "        \n",
    "        u = np.clip(action, -self.env.unwrapped.max_torque, \n",
    "                    self.env.unwrapped.max_torque)[0]\n",
    "        \n",
    "        newthdot = thdot + np.sin(th) * self.dt + u * self.dt + np.random.normal(0., 0.025)\n",
    "        newth = th + thdot * self.dt + np.random.normal(0., 0.005)\n",
    "        \n",
    "        self.env.unwrapped.state = np.array([newth, newthdot], dtype=np.float32)\n",
    "        \n",
    "        return self.env.unwrapped.state, 0., False, truncated, {}\n",
    "    \n",
    "    def reset(self, seed: list[float, float] = None):\n",
    "        # allow the user to set the initial state directly, otherwise random state\n",
    "        self.env.reset()\n",
    "        \n",
    "        if seed is not None:\n",
    "            self.env.unwrapped.state = np.array(seed, dtype=np.float32)\n",
    "        return self.env.unwrapped.state, {}"
   ]
  },
  {
   "cell_type": "markdown",
   "id": "ee7f3318957af20e",
   "metadata": {
    "collapsed": false
   },
   "source": [
    "# NNDM\n",
    "\n",
    "We assume the dynamics are known, to be able to directly compare our results to the paper. The NNDM outputs the EXPECTED next state (Gaussian noise term disappears)."
   ]
  },
  {
   "cell_type": "code",
   "execution_count": 3,
   "id": "b9f78729b0fe9538",
   "metadata": {
    "ExecuteTime": {
     "end_time": "2024-02-26T14:19:52.459490600Z",
     "start_time": "2024-02-26T14:19:52.454454300Z"
    },
    "collapsed": false
   },
   "outputs": [],
   "source": [
    "class NNDM(nn.Sequential):\n",
    "    # input [theta, theta_dot, u]\n",
    "    \n",
    "    def __init__(self):\n",
    "        self.dt = 0.01\n",
    "        \n",
    "        super(NNDM, self).__init__(\n",
    "            # outputs [theta{k+1}, theta{k}, theta_dot{k}, u{k}, sin() of previous 3 elements]\n",
    "            Parallel(\n",
    "                FixedLinear(\n",
    "                    torch.tensor([\n",
    "                        [1, self.dt, 0.]\n",
    "                    ])\n",
    "                ),\n",
    "                \n",
    "                Parallel(\n",
    "                    FixedLinear(\n",
    "                        torch.tensor([\n",
    "                            [1., 0., 0.],\n",
    "                            [0., 1., 0.],\n",
    "                            [0., 0., 1.]\n",
    "                        ])\n",
    "                    ),\n",
    "                    Sin(),\n",
    "                )\n",
    "            ),\n",
    "            \n",
    "            # now calculate theta_dot{k+1}, output [theta{k+1}, theta_dot{k+1}]\n",
    "            Parallel(\n",
    "                Select(0),\n",
    "                FixedLinear(\n",
    "                    torch.tensor([\n",
    "                        [0., 0., 1., self.dt, self.dt, 0., 0.]\n",
    "                    ])\n",
    "                )\n",
    "            )\n",
    "        )"
   ]
  },
  {
   "cell_type": "code",
   "execution_count": 4,
   "id": "2ac318d4ff99a19f",
   "metadata": {
    "ExecuteTime": {
     "end_time": "2024-02-26T14:19:52.487305Z",
     "start_time": "2024-02-26T14:19:52.461621300Z"
    },
    "collapsed": false
   },
   "outputs": [],
   "source": [
    "nndm = NNDM()"
   ]
  },
  {
   "cell_type": "markdown",
   "id": "b9f220cf9be6060",
   "metadata": {
    "collapsed": false
   },
   "source": [
    "# Agent"
   ]
  },
  {
   "cell_type": "code",
   "execution_count": 5,
   "id": "f2f305551cd78476",
   "metadata": {
    "ExecuteTime": {
     "end_time": "2024-02-26T14:19:52.509678600Z",
     "start_time": "2024-02-26T14:19:52.482583600Z"
    },
    "collapsed": false
   },
   "outputs": [],
   "source": [
    "class Agent(nn.Module):\n",
    "    # dummy agent of linear form a = c1 * s1 + c2 * s2 + c3, always outputs 0.\n",
    "    \n",
    "    def __init__(self):\n",
    "        super(Agent, self).__init__()\n",
    "        \n",
    "        self.layer = nn.Linear(2, 1)\n",
    "        \n",
    "        # dummy output of u=0\n",
    "        self.layer.weight = nn.Parameter(torch.tensor([[0., 0.]]))\n",
    "        self.layer.bias = nn.Parameter(torch.tensor([0.]))\n",
    "    \n",
    "    def forward(self, x):\n",
    "        return self.layer(x)\n",
    "    \n",
    "    def select_action(self, x, exploration=False):\n",
    "        if exploration:\n",
    "            raise ValueError('This model is not implemented for exploration')\n",
    "        else:\n",
    "            return self.forward(x)"
   ]
  },
  {
   "cell_type": "code",
   "execution_count": 6,
   "id": "d2634429e05be797",
   "metadata": {
    "ExecuteTime": {
     "end_time": "2024-02-26T14:19:52.510769900Z",
     "start_time": "2024-02-26T14:19:52.489616300Z"
    },
    "collapsed": false
   },
   "outputs": [],
   "source": [
    "policy = Agent()"
   ]
  },
  {
   "cell_type": "markdown",
   "id": "27cf4648a41fee95",
   "metadata": {
    "collapsed": false
   },
   "source": [
    "# Env settings\n",
    "\n",
    "$$h(x) = 1 - \\frac{6^2}{\\pi^2} \\left(\\theta^2 + \\dot{\\theta}^2 + \\frac{2}{\\sqrt{3}} \\theta \\dot{\\theta} \\right)$$"
   ]
  },
  {
   "cell_type": "code",
   "execution_count": 7,
   "id": "25de7c5ff6a3af6",
   "metadata": {
    "ExecuteTime": {
     "end_time": "2024-02-26T14:19:52.511788100Z",
     "start_time": "2024-02-26T14:19:52.497505400Z"
    },
    "collapsed": false
   },
   "outputs": [],
   "source": [
    "class Pendulum(Env):\n",
    "    def __init__(self):\n",
    "        env = gym.make('Pendulum-v1')\n",
    "\n",
    "        self.is_discrete = False\n",
    "        \n",
    "        self.settings = {\n",
    "            'noise': [],\n",
    "            'max_frames': 100\n",
    "        }\n",
    "        \n",
    "        # h as defined in the paper\n",
    "        self.h_function = nn.Sequential(\n",
    "            Parallel(\n",
    "                UnivariateMonomial([(0, 2)]),\n",
    "                UnivariateMonomial([(1, 2)]),\n",
    "                Mul(Select([0]), Select([1]))\n",
    "            ),\n",
    "            FixedLinear(\n",
    "                torch.tensor([[1., 1., 2./(3.**0.5)]])\n",
    "            ),\n",
    "            FixedLinear(\n",
    "                torch.tensor([[-36 / 3.1415**2]]),\n",
    "                torch.tensor([1.])\n",
    "            )\n",
    "        )\n",
    "        \n",
    "        self.h_ids = [0, 1]\n",
    "        self.std = [0.005, 0.025]\n",
    "        self.env = PendulumNoise(env)"
   ]
  },
  {
   "cell_type": "code",
   "execution_count": 8,
   "id": "d1d78480b4f7662c",
   "metadata": {
    "ExecuteTime": {
     "end_time": "2024-02-26T14:19:52.532954600Z",
     "start_time": "2024-02-26T14:19:52.505462500Z"
    },
    "collapsed": false
   },
   "outputs": [],
   "source": [
    "env = Pendulum()"
   ]
  },
  {
   "cell_type": "markdown",
   "id": "a7fc720ec31fa118",
   "metadata": {
    "collapsed": false
   },
   "source": [
    "# CBF\n",
    "\n",
    "$$\\nabla^2 h = \\begin{bmatrix}\n",
    "\\frac{\\partial^2{h}}{\\partial{\\theta}^2} & \\frac{\\partial^2{h}}{\\partial{\\theta}\\partial{\\dot{\\theta}}}\\\\ \n",
    "\\frac{\\partial^2{h}}{\\partial{\\dot{\\theta}}\\partial{\\theta}} & \\frac{\\partial^2{h}}{\\partial{\\dot{\\theta}}^2}\n",
    "\\end{bmatrix}\n",
    "\n",
    "= \\begin{bmatrix}\n",
    "-2 \\cdot \\frac{6^2}{\\pi^2} & -\\frac{2}{\\sqrt{3}} \\cdot \\frac{6^2}{\\pi^2}\\\\ \n",
    "-\\frac{2}{\\sqrt{3}} \\cdot \\frac{6^2}{\\pi^2} & -2 \\cdot \\frac{6^2}{\\pi^2}\n",
    "\\end{bmatrix}\n",
    "\n",
    "= -2 \\cdot \\frac{6^2}{\\pi^2} \n",
    "\\begin{bmatrix}\n",
    "1 & \\frac{1}{\\sqrt{3}}\\\\ \n",
    "\\frac{1}{\\sqrt{3}} & 1\n",
    "\\end{bmatrix}$$\n",
    "\n",
    "Since the Hessian is a 2x2 matrix, the matrix 2-norm will be equal to the largest singular value. In this case we get\n",
    "\n",
    "$$\\nabla^2 h^T \\ \\nabla^2 h = \n",
    "4\\cdot \\frac{6^4}{\\pi^4} \n",
    "\\begin{bmatrix}\n",
    "\\frac{4}{3} & \\frac{2}{\\sqrt{3}}\\\\ \n",
    "\\frac{2}{\\sqrt{3}} & \\frac{4}{3}\n",
    "\\end{bmatrix}\n",
    "\n",
    "= \\begin{bmatrix}\n",
    "\\frac{6912}{\\pi^4} & \\frac{3456 \\sqrt{3}}{\\pi^4}\\\\ \n",
    "\\frac{3456 \\sqrt{3}}{\\pi^4} & \\frac{6912}{\\pi^4}\n",
    "\\end{bmatrix}$$\n",
    "\n",
    "$$det(\\nabla^2 h^T \\ \\nabla^2 h - \\sigma I) =\n",
    "\\left( \\frac{6912}{\\pi^4} - \\sigma \\right)^2 - \\frac{3456 \\sqrt{3}}{\\pi^4} ^ 2 = 0$$\n",
    "\n",
    "$$\\sigma_{\\pm} = \\frac{6912}{\\pi^4} \\pm \\frac{3456 \\sqrt{3}}{\\pi^4}$$\n",
    "\n",
    "So, finally we get (this output has been verified online to be correct):\n",
    "$$\\lambda_{max} = \\sqrt{\\sigma_+} = \\frac{1}{\\pi^2} \\sqrt{6912 + 3456 \\sqrt{3}}$$"
   ]
  },
  {
   "cell_type": "markdown",
   "id": "41dde264739ad22d",
   "metadata": {
    "collapsed": false
   },
   "source": [
    "$$cov(d) = \\begin{bmatrix}\n",
    "\\sigma_1^2 & 0\\\\ \n",
    "0 & \\sigma_2^2\n",
    "\\end{bmatrix}\n",
    "\n",
    "= \\begin{bmatrix}\n",
    "0.005^2 & 0\\\\ \n",
    "0 & 0.025^2\n",
    "\\end{bmatrix}$$\n",
    "\n",
    "$$tr(cov(d)) = 0.005^2 + 0.025^2 = 0.00065 = \\frac{13}{20 000}$$\n",
    "\n",
    "Now everything comes together\n",
    "$$\\psi = \\frac{\\lambda_{max}}{2} tr(cov(d))$$\n",
    "$$\\alpha = 1 - \\psi = 1 - \\frac{13}{40 000\\pi^2} \\sqrt{6912 + 3456 \\sqrt{3}}$$"
   ]
  },
  {
   "cell_type": "code",
   "execution_count": 9,
   "id": "343595e2ef69892a",
   "metadata": {
    "ExecuteTime": {
     "end_time": "2024-02-26T14:19:52.532954600Z",
     "start_time": "2024-02-26T14:19:52.516423100Z"
    },
    "collapsed": false
   },
   "outputs": [
    {
     "name": "stdout",
     "output_type": "stream",
     "text": [
      "Alpha is 0.996\n"
     ]
    }
   ],
   "source": [
    "lambda_max = (1/3.1415**2) * (6912 + 3456 * 3 ** 0.5) ** 0.5\n",
    "tr_cov = sum(noise ** 2 for noise in env.std)\n",
    "\n",
    "alpha = 1 - (lambda_max / 2) * tr_cov\n",
    "print(f'Alpha is {round(alpha, 3)}')"
   ]
  },
  {
   "cell_type": "code",
   "execution_count": 10,
   "id": "16137ae1454574",
   "metadata": {
    "ExecuteTime": {
     "end_time": "2024-02-26T14:19:52.534133500Z",
     "start_time": "2024-02-26T14:19:52.526182300Z"
    },
    "collapsed": false
   },
   "outputs": [],
   "source": [
    "# what to do with delta? \n",
    "cbf = CBF(env, nndm, policy,\n",
    "          alpha=[alpha],\n",
    "          delta=[0.],\n",
    "          no_action_partitions=2,\n",
    "          no_noise_partitions=2,\n",
    "          stochastic=False)"
   ]
  },
  {
   "cell_type": "markdown",
   "id": "cb71ebc4d01ee0b9",
   "metadata": {
    "collapsed": false
   },
   "source": [
    "# Evaluation"
   ]
  },
  {
   "cell_type": "code",
   "execution_count": 11,
   "id": "f55e2e44f79f7755",
   "metadata": {
    "ExecuteTime": {
     "end_time": "2024-02-26T14:19:59.339425900Z",
     "start_time": "2024-02-26T14:19:52.535217100Z"
    },
    "collapsed": false
   },
   "outputs": [
    {
     "name": "stderr",
     "output_type": "stream",
     "text": [
      "100%|██████████| 100/100 [00:52<00:00,  1.92it/s]\n"
     ]
    }
   ],
   "source": [
    "evaluator = Evaluator(env, cbf)\n",
    "f, h = evaluator.mc_simulate(policy, 100, seed=[0.1, 0.], cbf=cbf)"
   ]
  },
  {
   "cell_type": "code",
   "execution_count": 12,
   "id": "5af5fd02e50300db",
   "metadata": {
    "ExecuteTime": {
     "end_time": "2024-02-26T14:19:59.346768200Z",
     "start_time": "2024-02-26T14:19:59.339425900Z"
    },
    "collapsed": false
   },
   "outputs": [
    {
     "data": {
      "text/plain": [
       "[95,\n",
       " 145,\n",
       " 80,\n",
       " 31,\n",
       " 49,\n",
       " 164,\n",
       " 50,\n",
       " 111,\n",
       " 157,\n",
       " 87,\n",
       " 105,\n",
       " 57,\n",
       " 72,\n",
       " 49,\n",
       " 163,\n",
       " 119,\n",
       " 191,\n",
       " 179,\n",
       " 150,\n",
       " 97,\n",
       " 155,\n",
       " 110,\n",
       " 189,\n",
       " 70,\n",
       " 40,\n",
       " 115,\n",
       " 164,\n",
       " 41,\n",
       " 109,\n",
       " 185,\n",
       " 85,\n",
       " 79,\n",
       " 129,\n",
       " 140,\n",
       " 153,\n",
       " 89,\n",
       " 177,\n",
       " 77,\n",
       " 160,\n",
       " 73,\n",
       " 63,\n",
       " 71,\n",
       " 110,\n",
       " 120,\n",
       " 139,\n",
       " 70,\n",
       " 125,\n",
       " 62,\n",
       " 149,\n",
       " 126,\n",
       " 78,\n",
       " 142,\n",
       " 101,\n",
       " 92,\n",
       " 59,\n",
       " 118,\n",
       " 93,\n",
       " 111,\n",
       " 53,\n",
       " 88,\n",
       " 104,\n",
       " 179,\n",
       " 145,\n",
       " 127,\n",
       " 167,\n",
       " 54,\n",
       " 156,\n",
       " 157,\n",
       " 110,\n",
       " 182,\n",
       " 103,\n",
       " 114,\n",
       " 85,\n",
       " 73,\n",
       " 146]"
      ]
     },
     "execution_count": 12,
     "metadata": {},
     "output_type": "execute_result"
    }
   ],
   "source": [
    "f"
   ]
  },
  {
   "cell_type": "code",
   "execution_count": 12,
   "id": "6f2092290d11f92e",
   "metadata": {
    "ExecuteTime": {
     "end_time": "2024-02-26T14:19:59.353325200Z",
     "start_time": "2024-02-26T14:19:59.347670Z"
    },
    "collapsed": false
   },
   "outputs": [],
   "source": []
  }
 ],
 "metadata": {
  "kernelspec": {
   "display_name": "Python 3",
   "language": "python",
   "name": "python3"
  },
  "language_info": {
   "codemirror_mode": {
    "name": "ipython",
    "version": 3
   },
   "file_extension": ".py",
   "mimetype": "text/x-python",
   "name": "python",
   "nbconvert_exporter": "python",
   "pygments_lexer": "ipython3",
   "version": "3.10.12"
  },
  "vscode": {
   "interpreter": {
    "hash": "c0470d9153b1cd1b172a2338ed02140aca908fec896ea62ddab29a2acd830799"
   }
  }
 },
 "nbformat": 4,
 "nbformat_minor": 5
}
