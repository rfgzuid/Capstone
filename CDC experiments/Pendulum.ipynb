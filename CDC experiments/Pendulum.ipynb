{
 "cells": [
  {
   "cell_type": "markdown",
   "source": [
    "# Import Libraries"
   ],
   "metadata": {
    "collapsed": false
   },
   "id": "708908ce273d1d70"
  },
  {
   "cell_type": "code",
   "outputs": [],
   "source": [
    "from src.capstone.evaluation import Evaluator\n",
    "from src.capstone.cbf import CBF\n",
    "from src.capstone.settings import Env\n",
    "\n",
    "from bound_propagation.parallel import Parallel\n",
    "from bound_propagation.bivariate import Mul\n",
    "from bound_propagation.reshape import Select\n",
    "from bound_propagation.polynomial import UnivariateMonomial\n",
    "from bound_propagation.linear import FixedLinear\n",
    "from bound_propagation.activation import Sin\n",
    "\n",
    "import numpy as np\n",
    "import gymnasium as gym\n",
    "from gymnasium.spaces import Box\n",
    "\n",
    "import torch\n",
    "import torch.nn as nn\n",
    "\n",
    "from tqdm import tqdm\n",
    "import matplotlib.pyplot as plt\n",
    "\n",
    "from scipy.interpolate import RegularGridInterpolator"
   ],
   "metadata": {
    "collapsed": true,
    "ExecuteTime": {
     "end_time": "2024-02-27T14:31:19.865455500Z",
     "start_time": "2024-02-27T14:31:19.860182800Z"
    }
   },
   "id": "initial_id",
   "execution_count": 16
  },
  {
   "cell_type": "markdown",
   "source": [
    "# Gym wrapper for dynamics"
   ],
   "metadata": {
    "collapsed": false
   },
   "id": "e0e58a0e69662d29"
  },
  {
   "cell_type": "code",
   "outputs": [],
   "source": [
    "class PendulumNoise(gym.Wrapper):\n",
    "    def __init__(self, env):\n",
    "        super().__init__(env)\n",
    "        self.observation_space = Box(low=np.array([float('-inf'), -8]),\n",
    "                                     high=np.array([float('inf'), 8]),\n",
    "                                     dtype=np.float32)\n",
    "        \n",
    "        self.dt = 0.01\n",
    "        \n",
    "    def step(self, action):\n",
    "        action = np.array([action], dtype=np.float32)  # cannot be scalar like used in Discrete gym envs\n",
    "        \n",
    "        th, thdot = self.env.unwrapped.state\n",
    "        _, _, _, truncated, _ = self.env.step(action)\n",
    "        \n",
    "        u = np.clip(action, -self.env.unwrapped.max_torque, \n",
    "                    self.env.unwrapped.max_torque)[0]\n",
    "        \n",
    "        newthdot = thdot + np.sin(th) * self.dt + u * self.dt + np.random.normal(0., 0.025)\n",
    "        newth = th + thdot * self.dt + np.random.normal(0., 0.005)\n",
    "        \n",
    "        self.env.unwrapped.state = np.array([newth, newthdot], dtype=np.float32)\n",
    "        \n",
    "        return self.env.unwrapped.state, 0., False, truncated, {}\n",
    "    \n",
    "    def reset(self, seed: list[float, float] = None):\n",
    "        # allow the user to set the initial state directly, otherwise random state\n",
    "        self.env.reset()\n",
    "        \n",
    "        if seed is not None:\n",
    "            self.env.unwrapped.state = np.array(seed, dtype=np.float32)\n",
    "        return self.env.unwrapped.state, {}"
   ],
   "metadata": {
    "collapsed": false,
    "ExecuteTime": {
     "end_time": "2024-02-27T14:37:38.647503800Z",
     "start_time": "2024-02-27T14:37:38.630960200Z"
    }
   },
   "id": "f08ab4c940664bed",
   "execution_count": 32
  },
  {
   "cell_type": "markdown",
   "source": [
    "# NNDM\n",
    "\n",
    "We assume the dynamics are known, to be able to directly compare our results to the paper. The NNDM outputs the EXPECTED next state (Gaussian noise term disappears)."
   ],
   "metadata": {
    "collapsed": false
   },
   "id": "ee7f3318957af20e"
  },
  {
   "cell_type": "code",
   "outputs": [],
   "source": [
    "class NNDM(nn.Sequential):\n",
    "    # input [theta, theta_dot, u]\n",
    "    \n",
    "    def __init__(self):\n",
    "        self.dt = 0.01\n",
    "        \n",
    "        super(NNDM, self).__init__(\n",
    "            # outputs [theta{k+1}, theta{k}, theta_dot{k}, u{k}, sin() of previous 3 elements]\n",
    "            Parallel(\n",
    "                FixedLinear(\n",
    "                    torch.tensor([\n",
    "                        [1, self.dt, 0.]\n",
    "                    ])\n",
    "                ),\n",
    "                \n",
    "                Parallel(\n",
    "                    FixedLinear(\n",
    "                        torch.tensor([\n",
    "                            [1., 0., 0.],\n",
    "                            [0., 1., 0.],\n",
    "                            [0., 0., 1.]\n",
    "                        ])\n",
    "                    ),\n",
    "                    Sin(),\n",
    "                )\n",
    "            ),\n",
    "            \n",
    "            # now calculate theta_dot{k+1}, output [theta{k+1}, theta_dot{k+1}]\n",
    "            Parallel(\n",
    "                Select(0),\n",
    "                FixedLinear(\n",
    "                    torch.tensor([\n",
    "                        [0., 0., 1., self.dt, self.dt, 0., 0.]\n",
    "                    ])\n",
    "                )\n",
    "            )\n",
    "        )"
   ],
   "metadata": {
    "collapsed": false,
    "ExecuteTime": {
     "end_time": "2024-02-27T14:36:28.893693200Z",
     "start_time": "2024-02-27T14:36:28.886650700Z"
    }
   },
   "id": "b9f78729b0fe9538",
   "execution_count": 26
  },
  {
   "cell_type": "code",
   "outputs": [],
   "source": [
    "nndm = NNDM()"
   ],
   "metadata": {
    "collapsed": false,
    "ExecuteTime": {
     "end_time": "2024-02-27T14:36:29.059832600Z",
     "start_time": "2024-02-27T14:36:29.051304700Z"
    }
   },
   "id": "2ac318d4ff99a19f",
   "execution_count": 27
  },
  {
   "cell_type": "markdown",
   "source": [
    "# Agent"
   ],
   "metadata": {
    "collapsed": false
   },
   "id": "b9f220cf9be6060"
  },
  {
   "cell_type": "code",
   "outputs": [],
   "source": [
    "class Agent(nn.Module):\n",
    "    # dummy agent of linear form a = c1 * s1 + c2 * s2 + c3, always outputs 0.\n",
    "    \n",
    "    def __init__(self):\n",
    "        super(Agent, self).__init__()\n",
    "        \n",
    "        self.layer = nn.Linear(2, 1)\n",
    "        \n",
    "        # dummy output of u=0\n",
    "        self.layer.weight = nn.Parameter(torch.tensor([[0., 0.]]))\n",
    "        self.layer.bias = nn.Parameter(torch.tensor([0.]))\n",
    "    \n",
    "    def forward(self, x):\n",
    "        return self.layer(x)\n",
    "    \n",
    "    def select_action(self, x, exploration=False):\n",
    "        if exploration:\n",
    "            raise ValueError('This model is not implemented for exploration')\n",
    "        else:\n",
    "            return self.forward(x)"
   ],
   "metadata": {
    "collapsed": false,
    "ExecuteTime": {
     "end_time": "2024-02-27T14:36:29.414132100Z",
     "start_time": "2024-02-27T14:36:29.408569500Z"
    }
   },
   "id": "f2f305551cd78476",
   "execution_count": 28
  },
  {
   "cell_type": "code",
   "outputs": [],
   "source": [
    "policy = Agent()"
   ],
   "metadata": {
    "collapsed": false,
    "ExecuteTime": {
     "end_time": "2024-02-27T14:36:29.753977700Z",
     "start_time": "2024-02-27T14:36:29.737846900Z"
    }
   },
   "id": "d2634429e05be797",
   "execution_count": 29
  },
  {
   "cell_type": "markdown",
   "source": [
    "# Env settings\n",
    "\n",
    "$$h(x) = 1 - \\frac{6^2}{\\pi^2} \\left(\\theta^2 + \\dot{\\theta}^2 + \\frac{2}{\\sqrt{3}} \\theta \\dot{\\theta} \\right)$$"
   ],
   "metadata": {
    "collapsed": false
   },
   "id": "27cf4648a41fee95"
  },
  {
   "cell_type": "code",
   "outputs": [],
   "source": [
    "class Pendulum(Env):\n",
    "    def __init__(self):\n",
    "        env = gym.make('Pendulum-v1')\n",
    "\n",
    "        self.is_discrete = False\n",
    "        \n",
    "        self.settings = {\n",
    "            'noise': [],\n",
    "            'max_frames': 100\n",
    "        }\n",
    "        \n",
    "        # h as defined in the paper\n",
    "        self.h_function = nn.Sequential(\n",
    "            Parallel(\n",
    "                UnivariateMonomial([(0, 2)]),\n",
    "                UnivariateMonomial([(1, 2)]),\n",
    "                Mul(Select([0]), Select([1]))\n",
    "            ),\n",
    "            FixedLinear(\n",
    "                torch.tensor([[1., 1., 2./(3.**0.5)]])\n",
    "            ),\n",
    "            FixedLinear(\n",
    "                torch.tensor([[-36 / 3.1415**2]]),\n",
    "                torch.tensor([1.])\n",
    "            )\n",
    "        )\n",
    "        \n",
    "        self.h_ids = [0, 1]\n",
    "        self.std = [0.005, 0.025]\n",
    "        self.env = PendulumNoise(env)"
   ],
   "metadata": {
    "collapsed": false,
    "ExecuteTime": {
     "end_time": "2024-02-27T14:37:42.557874Z",
     "start_time": "2024-02-27T14:37:42.553850400Z"
    }
   },
   "id": "25de7c5ff6a3af6",
   "execution_count": 33
  },
  {
   "cell_type": "code",
   "outputs": [],
   "source": [
    "env = Pendulum()"
   ],
   "metadata": {
    "collapsed": false,
    "ExecuteTime": {
     "end_time": "2024-02-27T14:37:42.730075900Z",
     "start_time": "2024-02-27T14:37:42.723882800Z"
    }
   },
   "id": "d1d78480b4f7662c",
   "execution_count": 34
  },
  {
   "cell_type": "markdown",
   "source": [
    "# CBF\n",
    "\n",
    "$$\\nabla^2 h = \\begin{bmatrix}\n",
    "\\frac{\\partial^2{h}}{\\partial{\\theta}^2} & \\frac{\\partial^2{h}}{\\partial{\\theta}\\partial{\\dot{\\theta}}}\\\\ \n",
    "\\frac{\\partial^2{h}}{\\partial{\\dot{\\theta}}\\partial{\\theta}} & \\frac{\\partial^2{h}}{\\partial{\\dot{\\theta}}^2}\n",
    "\\end{bmatrix}\n",
    "\n",
    "= \\begin{bmatrix}\n",
    "-2 \\cdot \\frac{6^2}{\\pi^2} & -\\frac{2}{\\sqrt{3}} \\cdot \\frac{6^2}{\\pi^2}\\\\ \n",
    "-\\frac{2}{\\sqrt{3}} \\cdot \\frac{6^2}{\\pi^2} & -2 \\cdot \\frac{6^2}{\\pi^2}\n",
    "\\end{bmatrix}\n",
    "\n",
    "= -2 \\cdot \\frac{6^2}{\\pi^2} \n",
    "\\begin{bmatrix}\n",
    "1 & \\frac{1}{\\sqrt{3}}\\\\ \n",
    "\\frac{1}{\\sqrt{3}} & 1\n",
    "\\end{bmatrix}$$\n",
    "\n",
    "Since the Hessian is a 2x2 matrix, the matrix 2-norm will be equal to the largest singular value. In this case we get\n",
    "\n",
    "$$\\nabla^2 h^T \\ \\nabla^2 h = \n",
    "4\\cdot \\frac{6^4}{\\pi^4} \n",
    "\\begin{bmatrix}\n",
    "\\frac{4}{3} & \\frac{2}{\\sqrt{3}}\\\\ \n",
    "\\frac{2}{\\sqrt{3}} & \\frac{4}{3}\n",
    "\\end{bmatrix}\n",
    "\n",
    "= \\begin{bmatrix}\n",
    "\\frac{6912}{\\pi^4} & \\frac{3456 \\sqrt{3}}{\\pi^4}\\\\ \n",
    "\\frac{3456 \\sqrt{3}}{\\pi^4} & \\frac{6912}{\\pi^4}\n",
    "\\end{bmatrix}$$\n",
    "\n",
    "$$det(\\nabla^2 h^T \\ \\nabla^2 h - \\sigma I) =\n",
    "\\left( \\frac{6912}{\\pi^4} - \\sigma \\right)^2 - \\frac{3456 \\sqrt{3}}{\\pi^4} ^ 2 = 0$$\n",
    "\n",
    "$$\\sigma_{\\pm} = \\frac{6912}{\\pi^4} \\pm \\frac{3456 \\sqrt{3}}{\\pi^4}$$\n",
    "\n",
    "So, finally we get (this output has been verified online to be correct):\n",
    "$$\\lambda_{max} = \\sqrt{\\sigma_+} = \\frac{1}{\\pi^2} \\sqrt{6912 + 3456 \\sqrt{3}}$$"
   ],
   "metadata": {
    "collapsed": false
   },
   "id": "a7fc720ec31fa118"
  },
  {
   "cell_type": "markdown",
   "source": [
    "$$cov(d) = \\begin{bmatrix}\n",
    "\\sigma_1^2 & 0\\\\ \n",
    "0 & \\sigma_2^2\n",
    "\\end{bmatrix}\n",
    "\n",
    "= \\begin{bmatrix}\n",
    "0.005^2 & 0\\\\ \n",
    "0 & 0.025^2\n",
    "\\end{bmatrix}$$\n",
    "\n",
    "$$tr(cov(d)) = 0.005^2 + 0.025^2 = 0.00065 = \\frac{13}{20 000}$$\n",
    "\n",
    "Now everything comes together\n",
    "$$\\psi = \\frac{\\lambda_{max}}{2} tr(cov(d))$$\n",
    "$$\\alpha = 1 - \\psi = 1 - \\frac{13}{40 000\\pi^2} \\sqrt{6912 + 3456 \\sqrt{3}}$$"
   ],
   "metadata": {
    "collapsed": false
   },
   "id": "41dde264739ad22d"
  },
  {
   "cell_type": "code",
   "outputs": [
    {
     "name": "stdout",
     "output_type": "stream",
     "text": [
      "Alpha is 0.996\n"
     ]
    }
   ],
   "source": [
    "lambda_max = (1/3.1415**2) * (6912 + 3456 * 3 ** 0.5) ** 0.5\n",
    "tr_cov = sum(noise ** 2 for noise in env.std)\n",
    "\n",
    "alpha = 1 - (lambda_max / 2) * tr_cov\n",
    "print(f'Alpha is {round(alpha, 3)}')"
   ],
   "metadata": {
    "collapsed": false,
    "ExecuteTime": {
     "end_time": "2024-02-27T14:23:03.540096500Z",
     "start_time": "2024-02-27T14:23:03.482956500Z"
    }
   },
   "id": "343595e2ef69892a",
   "execution_count": 9
  },
  {
   "cell_type": "code",
   "outputs": [],
   "source": [
    "# what to do with delta? \n",
    "cbf = CBF(env, nndm, policy,\n",
    "          alpha=[alpha],\n",
    "          delta=[0.],\n",
    "          no_action_partitions=2,\n",
    "          no_noise_partitions=2,\n",
    "          stochastic=False)"
   ],
   "metadata": {
    "collapsed": false,
    "ExecuteTime": {
     "end_time": "2024-02-27T14:23:03.540096500Z",
     "start_time": "2024-02-27T14:23:03.502440600Z"
    }
   },
   "id": "16137ae1454574",
   "execution_count": 10
  },
  {
   "cell_type": "markdown",
   "source": [
    "# Evaluation"
   ],
   "metadata": {
    "collapsed": false
   },
   "id": "cb71ebc4d01ee0b9"
  },
  {
   "cell_type": "code",
   "outputs": [
    {
     "data": {
      "text/plain": "  0%|          | 0/100 [00:00<?, ?it/s]",
      "application/vnd.jupyter.widget-view+json": {
       "version_major": 2,
       "version_minor": 0,
       "model_id": "7c9ec78d489242cf961511fb9fb62d89"
      }
     },
     "metadata": {},
     "output_type": "display_data"
    },
    {
     "data": {
      "text/plain": "[191,\n 116,\n 82,\n 35,\n 136,\n 75,\n 144,\n 87,\n 189,\n 105,\n 163,\n 66,\n 96,\n 59,\n 85,\n 105,\n 82,\n 165,\n 58,\n 59,\n 156,\n 84,\n 86,\n 76,\n 65,\n 171,\n 123,\n 92,\n 74,\n 52,\n 98,\n 129,\n 161,\n 37,\n 195,\n 124,\n 191,\n 67,\n 126,\n 144,\n 112,\n 165,\n 151,\n 39,\n 194,\n 195,\n 76,\n 25,\n 137,\n 138,\n 105,\n 188,\n 166,\n 191,\n 75,\n 156,\n 95,\n 197,\n 120,\n 28,\n 174,\n 182,\n 80,\n 48,\n 90,\n 46]"
     },
     "execution_count": 17,
     "metadata": {},
     "output_type": "execute_result"
    }
   ],
   "source": [
    "evaluator = Evaluator(env, cbf)\n",
    "f, h = evaluator.mc_simulate(policy, 100, seed=[0.1, 0.])"
   ],
   "metadata": {
    "collapsed": false,
    "ExecuteTime": {
     "end_time": "2024-02-27T14:33:58.219471100Z",
     "start_time": "2024-02-27T14:33:44.905271900Z"
    }
   },
   "id": "f55e2e44f79f7755",
   "execution_count": 17
  },
  {
   "cell_type": "code",
   "outputs": [
    {
     "ename": "SyntaxError",
     "evalue": "invalid syntax (3558964814.py, line 17)",
     "output_type": "error",
     "traceback": [
      "\u001B[1;36m  Cell \u001B[1;32mIn[38], line 17\u001B[1;36m\u001B[0m\n\u001B[1;33m    ax.fill_between(x_list, 0.7., upper_ellipse, color='red', alpha=1)\u001B[0m\n\u001B[1;37m                                ^\u001B[0m\n\u001B[1;31mSyntaxError\u001B[0m\u001B[1;31m:\u001B[0m invalid syntax\n"
     ]
    }
   ],
   "source": [
    "def state_space_plot(num_agents=5):\n",
    "    x_list = np.linspace(-(3/2)**0.5 * np.pi/6 , (3/2)**0.5 * np.pi/6 , 1001)\n",
    "    \n",
    "    upper_ellipse = [-x/3**0.5 + (-2/3 * x**2 + np.pi**2 / 36)**0.5 for x in x_list\n",
    "                    if -(3/2)**0.5 * np.pi/6 <= x <= (3/2)**0.5 * np.pi/6]\n",
    "    lower_ellipse = [-x/3**0.5 - (-2/3 * x**2 + np.pi**2 / 36)**0.5 for x in x_list\n",
    "                    if -(3/2)**0.5 * np.pi/6 <= x <= (3/2)**0.5 * np.pi/6]\n",
    "\n",
    "    grid_points = [(x, y) for x in np.linspace(-1, 1, 21) \n",
    "                   for y in np.linspace(-1, 1, 21) \n",
    "                   if env.h_function(torch.tensor([x, y], dtype=torch.float32)) >= 0]\n",
    "    \n",
    "    fig, ax = plt.subplots()\n",
    "    ax.plot(x_list, upper_ellipse, color='black')\n",
    "    ax.plot(x_list, lower_ellipse, color='black')\n",
    "    \n",
    "    ax.fill_between(x_list, 0.7, upper_ellipse, color='red', alpha=1)\n",
    "    ax.fill_between(x_list, lower_ellipse, -0.7, color='red', alpha=1)\n",
    "    \n",
    "    plt.xlabel(r'${\\theta}$')\n",
    "    plt.ylabel(r'$\\dot{\\theta}$')\n",
    "    \n",
    "    fracs = np.zeros(len(grid_points))\n",
    "    \n",
    "    for point in tqdm(grid_points):   \n",
    "        state = [point[0], point[1]]\n",
    "        f, h = evaluator.mc_simulate(policy, num_agents, seed=state, progress_bar=False)\n",
    "        lst = [1 if x <= env.settings['max_frames'] else 0 for x in f]\n",
    "        \n",
    "        # fraction unsafe is amount of agents failed before 100 frames / num_agents\n",
    "        try:           \n",
    "            frac = sum(lst) / len(lst)\n",
    "            ax.plot(point[0], point[1], marker='o', markersize=5, c='black')\n",
    "        except ZeroDivisionError:\n",
    "            continue\n",
    "    \n",
    "    plt.show()\n",
    "\n",
    "state_space_plot()"
   ],
   "metadata": {
    "collapsed": false,
    "ExecuteTime": {
     "end_time": "2024-02-27T14:39:54.811445500Z",
     "start_time": "2024-02-27T14:39:54.794542900Z"
    }
   },
   "id": "6f2092290d11f92e",
   "execution_count": 38
  },
  {
   "cell_type": "code",
   "outputs": [],
   "source": [
    "\n"
   ],
   "metadata": {
    "collapsed": false,
    "ExecuteTime": {
     "end_time": "2024-02-27T10:02:50.710732200Z",
     "start_time": "2024-02-27T10:02:50.649975200Z"
    }
   },
   "id": "5c50987bf76ccf04",
   "execution_count": 13
  }
 ],
 "metadata": {
  "kernelspec": {
   "display_name": "Python 3",
   "language": "python",
   "name": "python3"
  },
  "language_info": {
   "codemirror_mode": {
    "name": "ipython",
    "version": 2
   },
   "file_extension": ".py",
   "mimetype": "text/x-python",
   "name": "python",
   "nbconvert_exporter": "python",
   "pygments_lexer": "ipython2",
   "version": "2.7.6"
  }
 },
 "nbformat": 4,
 "nbformat_minor": 5
}
