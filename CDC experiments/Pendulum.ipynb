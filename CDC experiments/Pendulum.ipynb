{
 "cells": [
  {
   "cell_type": "markdown",
   "source": [
    "# Import Libraries"
   ],
   "metadata": {
    "collapsed": false
   },
   "id": "708908ce273d1d70"
  },
  {
   "cell_type": "code",
   "outputs": [],
   "source": [
    "from src.capstone.evaluation import Evaluator\n",
    "from src.capstone.cbf import CBF\n",
    "\n",
    "import numpy as np\n",
    "import gymnasium as gym\n",
    "\n",
    "import torch\n",
    "import torch.nn as nn\n",
    "import torch.optim as optim"
   ],
   "metadata": {
    "collapsed": true,
    "ExecuteTime": {
     "end_time": "2024-02-23T13:58:34.060475200Z",
     "start_time": "2024-02-23T13:58:34.052503900Z"
    }
   },
   "id": "initial_id",
   "execution_count": 34
  },
  {
   "cell_type": "markdown",
   "source": [
    "# Gym wrapper for dynamics"
   ],
   "metadata": {
    "collapsed": false
   },
   "id": "e0e58a0e69662d29"
  },
  {
   "cell_type": "code",
   "outputs": [],
   "source": [
    "class Pendulum(gym.Wrapper):\n",
    "    def __init__(self, env):\n",
    "        super().__init__(env)\n",
    "        self.dt = 0.01\n",
    "        \n",
    "    def step(self, action):\n",
    "        th, thdot = self.env.unwrapped.state\n",
    "        _, _, _, truncated, _ = self.env.step(action)\n",
    "        \n",
    "        u = np.clip(action, -self.env.unwrapped.max_torque, \n",
    "                    self.env.unwrapped.max_torque)[0]\n",
    "        \n",
    "        newthdot = thdot + np.sin(th) * self.dt + u * self.dt + np.random.normal(0., 0.025)\n",
    "        newth = th + thdot * self.dt + np.random.normal(0., 0.005)\n",
    "        \n",
    "        self.env.unwrapped.state = np.array([newth, newthdot])\n",
    "        \n",
    "        return self.env.unwrapped.state, 0., False, truncated, {}"
   ],
   "metadata": {
    "collapsed": false,
    "ExecuteTime": {
     "end_time": "2024-02-23T14:05:06.179306900Z",
     "start_time": "2024-02-23T14:05:06.172862900Z"
    }
   },
   "id": "f08ab4c940664bed",
   "execution_count": 40
  },
  {
   "cell_type": "code",
   "outputs": [],
   "source": [
    "env = gym.make('Pendulum-v1')\n",
    "env._max_episode_steps = 100  # in the paper, MC simulation for 1 second - dt = 0.01\n",
    "env = Pendulum(env)"
   ],
   "metadata": {
    "collapsed": false,
    "ExecuteTime": {
     "end_time": "2024-02-23T14:05:06.611926900Z",
     "start_time": "2024-02-23T14:05:06.603979300Z"
    }
   },
   "id": "e9bce4f47a03d253",
   "execution_count": 41
  },
  {
   "cell_type": "code",
   "outputs": [],
   "source": [
    "while not done:\n",
    "    state, reward, terminated, truncated, _ = env.step(np.array([2.]))\n",
    "    done = (terminated or truncated)\n",
    "env.close()"
   ],
   "metadata": {
    "collapsed": false,
    "ExecuteTime": {
     "end_time": "2024-02-23T14:05:07.090196300Z",
     "start_time": "2024-02-23T14:05:07.082937200Z"
    }
   },
   "id": "ac612cf706f0cc0c",
   "execution_count": 42
  },
  {
   "cell_type": "markdown",
   "source": [
    "# NNDM\n",
    "\n",
    "A NNDM must be learnt as the pendulum environment contains non-linear dynamics (we can't craft an analytically perfect neural network)"
   ],
   "metadata": {
    "collapsed": false
   },
   "id": "ee7f3318957af20e"
  },
  {
   "cell_type": "code",
   "outputs": [],
   "source": [
    "class NNDM(nn.Sequential):\n",
    "    def __init__(self):\n",
    "        layers = [\n",
    "            nn.Linear(3, 64),\n",
    "            nn.Tanh(),\n",
    "            nn.Linear(64, 2)\n",
    "        ]\n",
    "        \n",
    "        super(NNDM, self).__init__(*layers)\n",
    "        \n",
    "        self.criterion = nn.MSELoss()\n",
    "        self.optimizer = optim.Adam(self.parameters(), lr=1e-3)\n",
    "        \n",
    "    def update(self, state, action, next_state):\n",
    "        pass"
   ],
   "metadata": {
    "collapsed": false,
    "ExecuteTime": {
     "end_time": "2024-02-23T14:16:27.918522500Z",
     "start_time": "2024-02-23T14:16:27.898547200Z"
    }
   },
   "id": "b9f78729b0fe9538",
   "execution_count": 53
  },
  {
   "cell_type": "code",
   "outputs": [],
   "source": [
    "nndm = NNDM()"
   ],
   "metadata": {
    "collapsed": false,
    "ExecuteTime": {
     "end_time": "2024-02-23T14:16:28.202015800Z",
     "start_time": "2024-02-23T14:16:28.175689500Z"
    }
   },
   "id": "2ac318d4ff99a19f",
   "execution_count": 54
  },
  {
   "cell_type": "code",
   "outputs": [],
   "source": [
    "# 100 runs of 100 frames to train the NNDM\n",
    "for _ in range(100):\n",
    "    state, _ = env.reset()\n",
    "    done = False\n",
    "    \n",
    "    while not done:\n",
    "        action = env.action_space.sample()\n",
    "        next_state, reward, terminated, truncated, _ = env.step(action)\n",
    "        \n",
    "        done = (terminated or truncated)\n",
    "        nndm.update(state, action, next_state)\n",
    "    \n",
    "env.close()"
   ],
   "metadata": {
    "collapsed": false,
    "ExecuteTime": {
     "end_time": "2024-02-23T14:16:29.559369700Z",
     "start_time": "2024-02-23T14:16:28.416839900Z"
    }
   },
   "id": "214c96045ca0da5",
   "execution_count": 55
  },
  {
   "cell_type": "markdown",
   "source": [
    "# Dummy controller"
   ],
   "metadata": {
    "collapsed": false
   },
   "id": "b1bca67e735ee554"
  },
  {
   "cell_type": "code",
   "outputs": [],
   "source": [
    "class Agent(nn.Module):\n",
    "    def __init__(self):\n",
    "        super(Agent, self).__init__()\n",
    "        \n",
    "        self.layer = nn.Linear(2, 1)\n",
    "        \n",
    "        # dummy output of u=0\n",
    "        self.layer.weight = nn.Parameter(torch.tensor([[0., 0.]]))\n",
    "        self.layer.bias = nn.Parameter(torch.tensor([0.]))\n",
    "    \n",
    "    def forward(self, x):\n",
    "        return self.layer(x)"
   ],
   "metadata": {
    "collapsed": false,
    "ExecuteTime": {
     "end_time": "2024-02-23T13:43:47.549049900Z",
     "start_time": "2024-02-23T13:43:47.542848Z"
    }
   },
   "id": "f2f305551cd78476",
   "execution_count": 25
  },
  {
   "cell_type": "code",
   "outputs": [],
   "source": [
    "policy = Agent()"
   ],
   "metadata": {
    "collapsed": false,
    "ExecuteTime": {
     "end_time": "2024-02-23T13:44:58.587671Z",
     "start_time": "2024-02-23T13:44:58.579713Z"
    }
   },
   "id": "d2634429e05be797",
   "execution_count": 27
  },
  {
   "cell_type": "markdown",
   "source": [
    "# CBF"
   ],
   "metadata": {
    "collapsed": false
   },
   "id": "a7fc720ec31fa118"
  },
  {
   "cell_type": "code",
   "outputs": [],
   "source": [],
   "metadata": {
    "collapsed": false
   },
   "id": "16137ae1454574"
  }
 ],
 "metadata": {
  "kernelspec": {
   "display_name": "Python 3",
   "language": "python",
   "name": "python3"
  },
  "language_info": {
   "codemirror_mode": {
    "name": "ipython",
    "version": 2
   },
   "file_extension": ".py",
   "mimetype": "text/x-python",
   "name": "python",
   "nbconvert_exporter": "python",
   "pygments_lexer": "ipython2",
   "version": "2.7.6"
  }
 },
 "nbformat": 4,
 "nbformat_minor": 5
}
