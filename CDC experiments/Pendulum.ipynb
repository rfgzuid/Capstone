{
 "cells": [
  {
   "cell_type": "markdown",
   "source": [
    "# Import Libraries"
   ],
   "metadata": {
    "collapsed": false
   },
   "id": "708908ce273d1d70"
  },
  {
   "cell_type": "code",
   "outputs": [],
   "source": [
    "from src.capstone.evaluation import Evaluator\n",
    "from src.capstone.cbf import CBF\n",
    "from src.capstone.settings import Env\n",
    "\n",
    "from bound_propagation.parallel import Parallel\n",
    "from bound_propagation.bivariate import Mul\n",
    "from bound_propagation.reshape import Select\n",
    "from bound_propagation.polynomial import UnivariateMonomial\n",
    "from bound_propagation.linear import FixedLinear\n",
    "from bound_propagation.activation import Sin\n",
    "\n",
    "import numpy as np\n",
    "import gymnasium as gym\n",
    "from gymnasium.spaces import Box\n",
    "import matplotlib.pyplot as plt\n",
    "\n",
    "import torch\n",
    "import torch.nn as nn"
   ],
   "metadata": {
    "collapsed": true,
    "ExecuteTime": {
     "end_time": "2024-02-26T20:40:52.068023600Z",
     "start_time": "2024-02-26T20:40:52.035671800Z"
    }
   },
   "id": "initial_id",
   "execution_count": 50
  },
  {
   "cell_type": "markdown",
   "source": [
    "# Gym wrapper for dynamics"
   ],
   "metadata": {
    "collapsed": false
   },
   "id": "e0e58a0e69662d29"
  },
  {
   "cell_type": "code",
   "outputs": [],
   "source": [
    "class PendulumNoise(gym.Wrapper):\n",
    "    def __init__(self, env):\n",
    "        super().__init__(env)\n",
    "        self.observation_space = Box(low=np.array([float('-inf'), -8]),\n",
    "                                     high=np.array([float('inf'), 8]),\n",
    "                                     dtype=np.float32)\n",
    "        \n",
    "        self.dt = 0.01\n",
    "        \n",
    "    def step(self, action):\n",
    "        action = np.array([action], dtype=np.float32)  # cannot be scalar like used in Discrete gym envs\n",
    "        \n",
    "        th, thdot = self.env.unwrapped.state\n",
    "        _, _, _, truncated, _ = self.env.step(action)\n",
    "        \n",
    "        u = np.clip(action, -self.env.unwrapped.max_torque, \n",
    "                    self.env.unwrapped.max_torque)[0]\n",
    "        \n",
    "        newthdot = thdot + np.sin(th) * self.dt + u * self.dt + np.random.normal(0., 0.025)\n",
    "        newth = th + thdot * self.dt + np.random.normal(0., 0.005)\n",
    "        \n",
    "        self.env.unwrapped.state = np.array([newth, newthdot], dtype=np.float32)\n",
    "        \n",
    "        return self.env.unwrapped.state, 0., False, truncated, {}\n",
    "    \n",
    "    def reset(self, seed: list[float, float] = None):\n",
    "        # allow the user to set the initial state directly, otherwise random state\n",
    "        self.env.reset()\n",
    "        \n",
    "        if seed is not None:\n",
    "            self.env.unwrapped.state = np.array(seed, dtype=np.float32)\n",
    "        return self.env.unwrapped.state, {}"
   ],
   "metadata": {
    "collapsed": false,
    "ExecuteTime": {
     "end_time": "2024-02-26T20:12:44.802034100Z",
     "start_time": "2024-02-26T20:12:44.790021100Z"
    }
   },
   "id": "f08ab4c940664bed",
   "execution_count": 35
  },
  {
   "cell_type": "markdown",
   "source": [
    "# NNDM\n",
    "\n",
    "We assume the dynamics are known, to be able to directly compare our results to the paper. The NNDM outputs the EXPECTED next state (Gaussian noise term disappears)."
   ],
   "metadata": {
    "collapsed": false
   },
   "id": "ee7f3318957af20e"
  },
  {
   "cell_type": "code",
   "outputs": [],
   "source": [
    "class NNDM(nn.Sequential):\n",
    "    # input [theta, theta_dot, u]\n",
    "    \n",
    "    def __init__(self):\n",
    "        self.dt = 0.01\n",
    "        \n",
    "        super(NNDM, self).__init__(\n",
    "            # outputs [theta{k+1}, theta{k}, theta_dot{k}, u{k}, sin() of previous 3 elements]\n",
    "            Parallel(\n",
    "                FixedLinear(\n",
    "                    torch.tensor([\n",
    "                        [1, self.dt, 0.]\n",
    "                    ])\n",
    "                ),\n",
    "                \n",
    "                Parallel(\n",
    "                    FixedLinear(\n",
    "                        torch.tensor([\n",
    "                            [1., 0., 0.],\n",
    "                            [0., 1., 0.],\n",
    "                            [0., 0., 1.]\n",
    "                        ])\n",
    "                    ),\n",
    "                    Sin(),\n",
    "                )\n",
    "            ),\n",
    "            \n",
    "            # now calculate theta_dot{k+1}, output [theta{k+1}, theta_dot{k+1}]\n",
    "            Parallel(\n",
    "                Select(0),\n",
    "                FixedLinear(\n",
    "                    torch.tensor([\n",
    "                        [0., 0., 1., self.dt, self.dt, 0., 0.]\n",
    "                    ])\n",
    "                )\n",
    "            )\n",
    "        )"
   ],
   "metadata": {
    "collapsed": false,
    "ExecuteTime": {
     "end_time": "2024-02-26T20:12:44.838679100Z",
     "start_time": "2024-02-26T20:12:44.808673600Z"
    }
   },
   "id": "b9f78729b0fe9538",
   "execution_count": 36
  },
  {
   "cell_type": "code",
   "outputs": [],
   "source": [
    "nndm = NNDM()"
   ],
   "metadata": {
    "collapsed": false,
    "ExecuteTime": {
     "end_time": "2024-02-26T20:12:44.841843800Z",
     "start_time": "2024-02-26T20:12:44.821798600Z"
    }
   },
   "id": "2ac318d4ff99a19f",
   "execution_count": 37
  },
  {
   "cell_type": "markdown",
   "source": [
    "# Agent"
   ],
   "metadata": {
    "collapsed": false
   },
   "id": "b9f220cf9be6060"
  },
  {
   "cell_type": "code",
   "outputs": [],
   "source": [
    "class Agent(nn.Module):\n",
    "    # dummy agent of linear form a = c1 * s1 + c2 * s2 + c3, always outputs 0.\n",
    "    \n",
    "    def __init__(self):\n",
    "        super(Agent, self).__init__()\n",
    "        \n",
    "        self.layer = nn.Linear(2, 1)\n",
    "        \n",
    "        # dummy output of u=0\n",
    "        self.layer.weight = nn.Parameter(torch.tensor([[0., 0.]]))\n",
    "        self.layer.bias = nn.Parameter(torch.tensor([0.]))\n",
    "    \n",
    "    def forward(self, x):\n",
    "        return self.layer(x)\n",
    "    \n",
    "    def select_action(self, x, exploration=False):\n",
    "        if exploration:\n",
    "            raise ValueError('This model is not implemented for exploration')\n",
    "        else:\n",
    "            return self.forward(x)"
   ],
   "metadata": {
    "collapsed": false,
    "ExecuteTime": {
     "end_time": "2024-02-26T20:12:44.873463500Z",
     "start_time": "2024-02-26T20:12:44.848154800Z"
    }
   },
   "id": "f2f305551cd78476",
   "execution_count": 38
  },
  {
   "cell_type": "code",
   "outputs": [],
   "source": [
    "policy = Agent()"
   ],
   "metadata": {
    "collapsed": false,
    "ExecuteTime": {
     "end_time": "2024-02-26T20:12:44.877163100Z",
     "start_time": "2024-02-26T20:12:44.860689300Z"
    }
   },
   "id": "d2634429e05be797",
   "execution_count": 39
  },
  {
   "cell_type": "markdown",
   "source": [
    "# Env settings\n",
    "\n",
    "$$h(x) = 1 - \\frac{6^2}{\\pi^2} \\left(\\theta^2 + \\dot{\\theta}^2 + \\frac{2}{\\sqrt{3}} \\theta \\dot{\\theta} \\right)$$"
   ],
   "metadata": {
    "collapsed": false
   },
   "id": "27cf4648a41fee95"
  },
  {
   "cell_type": "code",
   "outputs": [],
   "source": [
    "class Pendulum(Env):\n",
    "    def __init__(self):\n",
    "        env = gym.make('Pendulum-v1')\n",
    "        env.spec.max_episode_steps = 100\n",
    "\n",
    "        self.is_discrete = False\n",
    "        \n",
    "        self.settings = {\n",
    "            'noise': [],\n",
    "            'max_frames': 100\n",
    "        }\n",
    "        \n",
    "        # h as defined in the paper\n",
    "        self.h_function = nn.Sequential(\n",
    "            Parallel(\n",
    "                UnivariateMonomial([(0, 2)]),\n",
    "                UnivariateMonomial([(1, 2)]),\n",
    "                Mul(Select([0]), Select([1]))\n",
    "            ),\n",
    "            FixedLinear(\n",
    "                torch.tensor([[1., 1., 2./(3.**0.5)]])\n",
    "            ),\n",
    "            FixedLinear(\n",
    "                torch.tensor([[-36 / 3.1415**2]]),\n",
    "                torch.tensor([1.])\n",
    "            )\n",
    "        )\n",
    "        \n",
    "        self.h_ids = [0, 1]\n",
    "        self.std = [0.005, 0.025]\n",
    "        self.env = PendulumNoise(env)"
   ],
   "metadata": {
    "collapsed": false,
    "ExecuteTime": {
     "end_time": "2024-02-26T20:12:44.893286100Z",
     "start_time": "2024-02-26T20:12:44.883473600Z"
    }
   },
   "id": "25de7c5ff6a3af6",
   "execution_count": 40
  },
  {
   "cell_type": "code",
   "outputs": [],
   "source": [
    "env = Pendulum()"
   ],
   "metadata": {
    "collapsed": false,
    "ExecuteTime": {
     "end_time": "2024-02-26T20:12:44.921511300Z",
     "start_time": "2024-02-26T20:12:44.895390800Z"
    }
   },
   "id": "d1d78480b4f7662c",
   "execution_count": 41
  },
  {
   "cell_type": "markdown",
   "source": [
    "# CBF\n",
    "\n",
    "$$\\nabla^2 h = \\begin{bmatrix}\n",
    "\\frac{\\partial^2{h}}{\\partial{\\theta}^2} & \\frac{\\partial^2{h}}{\\partial{\\theta}\\partial{\\dot{\\theta}}}\\\\ \n",
    "\\frac{\\partial^2{h}}{\\partial{\\dot{\\theta}}\\partial{\\theta}} & \\frac{\\partial^2{h}}{\\partial{\\dot{\\theta}}^2}\n",
    "\\end{bmatrix}\n",
    "\n",
    "= \\begin{bmatrix}\n",
    "-2 \\cdot \\frac{6^2}{\\pi^2} & -\\frac{2}{\\sqrt{3}} \\cdot \\frac{6^2}{\\pi^2}\\\\ \n",
    "-\\frac{2}{\\sqrt{3}} \\cdot \\frac{6^2}{\\pi^2} & -2 \\cdot \\frac{6^2}{\\pi^2}\n",
    "\\end{bmatrix}\n",
    "\n",
    "= -2 \\cdot \\frac{6^2}{\\pi^2} \n",
    "\\begin{bmatrix}\n",
    "1 & \\frac{1}{\\sqrt{3}}\\\\ \n",
    "\\frac{1}{\\sqrt{3}} & 1\n",
    "\\end{bmatrix}$$\n",
    "\n",
    "Since the Hessian is a 2x2 matrix, the matrix 2-norm will be equal to the largest singular value. In this case we get\n",
    "\n",
    "$$\\nabla^2 h^T \\ \\nabla^2 h = \n",
    "4\\cdot \\frac{6^4}{\\pi^4} \n",
    "\\begin{bmatrix}\n",
    "\\frac{4}{3} & \\frac{2}{\\sqrt{3}}\\\\ \n",
    "\\frac{2}{\\sqrt{3}} & \\frac{4}{3}\n",
    "\\end{bmatrix}\n",
    "\n",
    "= \\begin{bmatrix}\n",
    "\\frac{6912}{\\pi^4} & \\frac{3456 \\sqrt{3}}{\\pi^4}\\\\ \n",
    "\\frac{3456 \\sqrt{3}}{\\pi^4} & \\frac{6912}{\\pi^4}\n",
    "\\end{bmatrix}$$\n",
    "\n",
    "$$det(\\nabla^2 h^T \\ \\nabla^2 h - \\sigma I) =\n",
    "\\left( \\frac{6912}{\\pi^4} - \\sigma \\right)^2 - \\frac{3456 \\sqrt{3}}{\\pi^4} ^ 2 = 0$$\n",
    "\n",
    "$$\\sigma_{\\pm} = \\frac{6912}{\\pi^4} \\pm \\frac{3456 \\sqrt{3}}{\\pi^4}$$\n",
    "\n",
    "So, finally we get (this output has been verified online to be correct):\n",
    "$$\\lambda_{max} = \\sqrt{\\sigma_+} = \\frac{1}{\\pi^2} \\sqrt{6912 + 3456 \\sqrt{3}}$$"
   ],
   "metadata": {
    "collapsed": false
   },
   "id": "a7fc720ec31fa118"
  },
  {
   "cell_type": "markdown",
   "source": [
    "$$cov(d) = \\begin{bmatrix}\n",
    "\\sigma_1^2 & 0\\\\ \n",
    "0 & \\sigma_2^2\n",
    "\\end{bmatrix}\n",
    "\n",
    "= \\begin{bmatrix}\n",
    "0.005^2 & 0\\\\ \n",
    "0 & 0.025^2\n",
    "\\end{bmatrix}$$\n",
    "\n",
    "$$tr(cov(d)) = 0.005^2 + 0.025^2 = 0.00065 = \\frac{13}{20 000}$$\n",
    "\n",
    "Now everything comes together\n",
    "$$\\psi = \\frac{\\lambda_{max}}{2} tr(cov(d))$$\n",
    "$$\\alpha = 1 - \\psi = 1 - \\frac{13}{40 000\\pi^2} \\sqrt{6912 + 3456 \\sqrt{3}}$$"
   ],
   "metadata": {
    "collapsed": false
   },
   "id": "41dde264739ad22d"
  },
  {
   "cell_type": "code",
   "outputs": [
    {
     "name": "stdout",
     "output_type": "stream",
     "text": [
      "Alpha is 0.996\n"
     ]
    }
   ],
   "source": [
    "lambda_max = (1/3.1415**2) * (6912 + 3456 * 3 ** 0.5) ** 0.5\n",
    "tr_cov = sum(noise ** 2 for noise in env.std)\n",
    "\n",
    "alpha = 1 - (lambda_max / 2) * tr_cov\n",
    "print(f'Alpha is {round(alpha, 3)}')"
   ],
   "metadata": {
    "collapsed": false,
    "ExecuteTime": {
     "end_time": "2024-02-26T20:12:44.959090500Z",
     "start_time": "2024-02-26T20:12:44.927783600Z"
    }
   },
   "id": "343595e2ef69892a",
   "execution_count": 42
  },
  {
   "cell_type": "code",
   "outputs": [],
   "source": [
    "# what to do with delta? \n",
    "cbf = CBF(env, nndm, policy,\n",
    "          alpha=[alpha],\n",
    "          delta=[0.],\n",
    "          no_action_partitions=2,\n",
    "          no_noise_partitions=2,\n",
    "          stochastic=False)"
   ],
   "metadata": {
    "collapsed": false,
    "ExecuteTime": {
     "end_time": "2024-02-26T20:12:44.962089Z",
     "start_time": "2024-02-26T20:12:44.946424Z"
    }
   },
   "id": "16137ae1454574",
   "execution_count": 43
  },
  {
   "cell_type": "markdown",
   "source": [
    "# Evaluation"
   ],
   "metadata": {
    "collapsed": false
   },
   "id": "cb71ebc4d01ee0b9"
  },
  {
   "cell_type": "code",
   "outputs": [
    {
     "data": {
      "text/plain": "  0%|          | 0/100 [00:00<?, ?it/s]",
      "application/vnd.jupyter.widget-view+json": {
       "version_major": 2,
       "version_minor": 0,
       "model_id": "c0a81ff4e3384196b14547d107fae907"
      }
     },
     "metadata": {},
     "output_type": "display_data"
    }
   ],
   "source": [
    "evaluator = Evaluator(env, cbf)\n",
    "f, h = evaluator.mc_simulate(policy, 100, seed=[0.1, 0.])"
   ],
   "metadata": {
    "collapsed": false,
    "ExecuteTime": {
     "end_time": "2024-02-26T20:12:54.517561500Z",
     "start_time": "2024-02-26T20:12:44.966080100Z"
    }
   },
   "id": "f55e2e44f79f7755",
   "execution_count": 44
  },
  {
   "cell_type": "code",
   "outputs": [
    {
     "data": {
      "text/plain": "[95,\n 120,\n 108,\n 85,\n 131,\n 175,\n 77,\n 165,\n 170,\n 120,\n 71,\n 95,\n 49,\n 101,\n 190,\n 196,\n 82,\n 131,\n 165,\n 81,\n 54,\n 111,\n 137,\n 98,\n 53,\n 69,\n 144,\n 65,\n 122,\n 64,\n 113,\n 79,\n 88,\n 198,\n 161,\n 163,\n 104,\n 161,\n 87,\n 30,\n 143,\n 120,\n 199,\n 101,\n 62,\n 118,\n 184,\n 94,\n 127,\n 53,\n 48,\n 55,\n 139,\n 188,\n 66,\n 79,\n 77,\n 96,\n 136,\n 140,\n 57,\n 72,\n 103,\n 61,\n 100,\n 168,\n 146,\n 109,\n 160,\n 84,\n 166,\n 90,\n 81,\n 133]"
     },
     "execution_count": 45,
     "metadata": {},
     "output_type": "execute_result"
    }
   ],
   "source": [
    "f"
   ],
   "metadata": {
    "collapsed": false,
    "ExecuteTime": {
     "end_time": "2024-02-26T20:12:54.533532400Z",
     "start_time": "2024-02-26T20:12:54.518586800Z"
    }
   },
   "id": "5af5fd02e50300db",
   "execution_count": 45
  },
  {
   "cell_type": "code",
   "outputs": [
    {
     "name": "stdout",
     "output_type": "stream",
     "text": [
      "[(-0.6, 0.20000000000000018), (-0.6, 0.30000000000000004), (-0.6, 0.40000000000000013), (-0.6, 0.5), (-0.5, 0.0), (-0.5, 0.10000000000000009), (-0.5, 0.20000000000000018), (-0.5, 0.30000000000000004), (-0.5, 0.40000000000000013), (-0.5, 0.5), (-0.5, 0.6000000000000001), (-0.3999999999999999, -0.09999999999999998), (-0.3999999999999999, 0.0), (-0.3999999999999999, 0.10000000000000009), (-0.3999999999999999, 0.20000000000000018), (-0.3999999999999999, 0.30000000000000004), (-0.3999999999999999, 0.40000000000000013), (-0.3999999999999999, 0.5), (-0.3999999999999999, 0.6000000000000001), (-0.29999999999999993, -0.19999999999999996), (-0.29999999999999993, -0.09999999999999998), (-0.29999999999999993, 0.0), (-0.29999999999999993, 0.10000000000000009), (-0.29999999999999993, 0.20000000000000018), (-0.29999999999999993, 0.30000000000000004), (-0.29999999999999993, 0.40000000000000013), (-0.29999999999999993, 0.5), (-0.29999999999999993, 0.6000000000000001), (-0.19999999999999996, -0.29999999999999993), (-0.19999999999999996, -0.19999999999999996), (-0.19999999999999996, -0.09999999999999998), (-0.19999999999999996, 0.0), (-0.19999999999999996, 0.10000000000000009), (-0.19999999999999996, 0.20000000000000018), (-0.19999999999999996, 0.30000000000000004), (-0.19999999999999996, 0.40000000000000013), (-0.19999999999999996, 0.5), (-0.19999999999999996, 0.6000000000000001), (-0.09999999999999998, -0.3999999999999999), (-0.09999999999999998, -0.29999999999999993), (-0.09999999999999998, -0.19999999999999996), (-0.09999999999999998, -0.09999999999999998), (-0.09999999999999998, 0.0), (-0.09999999999999998, 0.10000000000000009), (-0.09999999999999998, 0.20000000000000018), (-0.09999999999999998, 0.30000000000000004), (-0.09999999999999998, 0.40000000000000013), (-0.09999999999999998, 0.5), (0.0, -0.5), (0.0, -0.3999999999999999), (0.0, -0.29999999999999993), (0.0, -0.19999999999999996), (0.0, -0.09999999999999998), (0.0, 0.0), (0.0, 0.10000000000000009), (0.0, 0.20000000000000018), (0.0, 0.30000000000000004), (0.0, 0.40000000000000013), (0.0, 0.5), (0.10000000000000009, -0.5), (0.10000000000000009, -0.3999999999999999), (0.10000000000000009, -0.29999999999999993), (0.10000000000000009, -0.19999999999999996), (0.10000000000000009, -0.09999999999999998), (0.10000000000000009, 0.0), (0.10000000000000009, 0.10000000000000009), (0.10000000000000009, 0.20000000000000018), (0.10000000000000009, 0.30000000000000004), (0.10000000000000009, 0.40000000000000013), (0.20000000000000018, -0.6), (0.20000000000000018, -0.5), (0.20000000000000018, -0.3999999999999999), (0.20000000000000018, -0.29999999999999993), (0.20000000000000018, -0.19999999999999996), (0.20000000000000018, -0.09999999999999998), (0.20000000000000018, 0.0), (0.20000000000000018, 0.10000000000000009), (0.20000000000000018, 0.20000000000000018), (0.20000000000000018, 0.30000000000000004), (0.30000000000000004, -0.6), (0.30000000000000004, -0.5), (0.30000000000000004, -0.3999999999999999), (0.30000000000000004, -0.29999999999999993), (0.30000000000000004, -0.19999999999999996), (0.30000000000000004, -0.09999999999999998), (0.30000000000000004, 0.0), (0.30000000000000004, 0.10000000000000009), (0.30000000000000004, 0.20000000000000018), (0.40000000000000013, -0.6), (0.40000000000000013, -0.5), (0.40000000000000013, -0.3999999999999999), (0.40000000000000013, -0.29999999999999993), (0.40000000000000013, -0.19999999999999996), (0.40000000000000013, -0.09999999999999998), (0.40000000000000013, 0.0), (0.40000000000000013, 0.10000000000000009), (0.5, -0.6), (0.5, -0.5), (0.5, -0.3999999999999999), (0.5, -0.29999999999999993), (0.5, -0.19999999999999996), (0.5, -0.09999999999999998), (0.5, 0.0), (0.6000000000000001, -0.5), (0.6000000000000001, -0.3999999999999999), (0.6000000000000001, -0.29999999999999993), (0.6000000000000001, -0.19999999999999996)]\n"
     ]
    },
    {
     "data": {
      "text/plain": "<Figure size 640x480 with 1 Axes>",
      "image/png": "[encoded data removed]"
     },
     "metadata": {},
     "output_type": "display_data"
    }
   ],
   "source": [
    "def state_space_plot():\n",
    "    sims_pp = 500\n",
    "    x_list = np.linspace(-(3/2)**0.5 * np.pi/6 , (3/2)**0.5 * np.pi/6 , 1001)\n",
    "    upper_elipse = [-x/3**0.5 + (-2/3 * x**2 + np.pi**2 / 36)**0.5 for x in x_list\n",
    "                    if -(3/2)**0.5 * np.pi/6 <= x <= (3/2)**0.5 * np.pi/6]\n",
    "    lower_elipse = [-x/3**0.5 - (-2/3 * x**2 + np.pi**2 / 36)**0.5 for x in x_list\n",
    "                    if -(3/2)**0.5 * np.pi/6 <= x <= (3/2)**0.5 * np.pi/6]\n",
    "\n",
    "    grid_points = [(x, y) for x in np.linspace(-1, 1, 21) \n",
    "                   for y in np.linspace(-1, 1, 21) \n",
    "                   if env.h_function(torch.tensor([x, y], dtype=torch.float32)) >= 0]\n",
    "    \n",
    "    # ToDo implement MC simulate on each gridpoint\n",
    "    \n",
    "    print(grid_points)\n",
    "    fig, ax = plt.subplots()\n",
    "    ax.plot(x_list, upper_elipse)\n",
    "    ax.plot(x_list, lower_elipse)\n",
    "    \n",
    "    for point in grid_points:\n",
    "        ax.plot(point[0], point[1], 'ro')\n",
    "    plt.show()\n",
    "\n",
    "state_space_plot()"
   ],
   "metadata": {
    "collapsed": false,
    "ExecuteTime": {
     "end_time": "2024-02-26T21:02:22.368640400Z",
     "start_time": "2024-02-26T21:02:21.888727300Z"
    }
   },
   "id": "6f2092290d11f92e",
   "execution_count": 67
  },
  {
   "cell_type": "code",
   "outputs": [],
   "source": [],
   "metadata": {
    "collapsed": false
   },
   "id": "5c50987bf76ccf04"
  }
 ],
 "metadata": {
  "kernelspec": {
   "display_name": "Python 3",
   "language": "python",
   "name": "python3"
  },
  "language_info": {
   "codemirror_mode": {
    "name": "ipython",
    "version": 2
   },
   "file_extension": ".py",
   "mimetype": "text/x-python",
   "name": "python",
   "nbconvert_exporter": "python",
   "pygments_lexer": "ipython2",
   "version": "2.7.6"
  }
 },
 "nbformat": 4,
 "nbformat_minor": 5
}
