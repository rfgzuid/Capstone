{
 "cells": [
  {
   "cell_type": "markdown",
   "source": [
    "# Import Libraries"
   ],
   "metadata": {
    "collapsed": false
   },
   "id": "708908ce273d1d70"
  },
  {
   "cell_type": "code",
   "outputs": [],
   "source": [
    "from src.capstone.evaluation import Evaluator\n",
    "from src.capstone.cbf import CBF\n",
    "from src.capstone.settings import Env\n",
    "\n",
    "from bound_propagation.parallel import Parallel\n",
    "from bound_propagation.bivariate import Mul\n",
    "from bound_propagation.reshape import Select\n",
    "from bound_propagation.polynomial import UnivariateMonomial\n",
    "from bound_propagation.linear import FixedLinear\n",
    "\n",
    "import numpy as np\n",
    "import gymnasium as gym\n",
    "\n",
    "import torch\n",
    "import torch.nn as nn"
   ],
   "metadata": {
    "collapsed": true,
    "ExecuteTime": {
     "end_time": "2024-02-25T22:19:15.687927800Z",
     "start_time": "2024-02-25T22:19:15.674302Z"
    }
   },
   "id": "initial_id",
   "execution_count": 60
  },
  {
   "cell_type": "markdown",
   "source": [
    "# Gym wrapper for dynamics"
   ],
   "metadata": {
    "collapsed": false
   },
   "id": "e0e58a0e69662d29"
  },
  {
   "cell_type": "code",
   "outputs": [],
   "source": [
    "class PendulumNoise(gym.Wrapper):\n",
    "    def __init__(self, env):\n",
    "        super().__init__(env)\n",
    "        self.dt = 0.01\n",
    "        \n",
    "    def step(self, action):\n",
    "        th, thdot = self.env.unwrapped.state\n",
    "        _, _, _, truncated, _ = self.env.step(action)\n",
    "        \n",
    "        u = np.clip(action, -self.env.unwrapped.max_torque, \n",
    "                    self.env.unwrapped.max_torque)[0]\n",
    "        \n",
    "        newthdot = thdot + np.sin(th) * self.dt + u * self.dt + np.random.normal(0., 0.025)\n",
    "        newth = th + thdot * self.dt + np.random.normal(0., 0.005)\n",
    "        \n",
    "        self.env.unwrapped.state = np.array([newth, newthdot])\n",
    "        \n",
    "        return self.env.unwrapped.state, 0., False, truncated, {}\n",
    "    \n",
    "    def reset(self, state=None):\n",
    "        # allow the user to set the initial state directly, otherwise random state\n",
    "        self.env.reset()\n",
    "        \n",
    "        if state is not None:\n",
    "            self.env.unwrapped.state = np.array(state)\n",
    "        return self.env.unwrapped.state, {}"
   ],
   "metadata": {
    "collapsed": false,
    "ExecuteTime": {
     "end_time": "2024-02-25T22:19:16.068922600Z",
     "start_time": "2024-02-25T22:19:16.056560300Z"
    }
   },
   "id": "f08ab4c940664bed",
   "execution_count": 61
  },
  {
   "cell_type": "markdown",
   "source": [
    "# NNDM\n",
    "\n",
    "We assume the dynamics are known, to be able to directly compare our results to the paper. The NNDM outputs the EXPECTED next state (Gaussian noise term disappears)."
   ],
   "metadata": {
    "collapsed": false
   },
   "id": "ee7f3318957af20e"
  },
  {
   "cell_type": "code",
   "outputs": [],
   "source": [
    "class NNDM(nn.Module):\n",
    "    def __init__(self):\n",
    "        super(NNDM, self).__init__()\n",
    "        self.dt = 0.01\n",
    "        \n",
    "    def forward(self, x):\n",
    "        th, thdot, u = x\n",
    "        \n",
    "        newthdot = thdot + torch.sin(th) * self.dt + u * self.dt\n",
    "        newth = th + thdot * self.dt\n",
    "        \n",
    "        return torch.tensor([newth, newthdot])"
   ],
   "metadata": {
    "collapsed": false,
    "ExecuteTime": {
     "end_time": "2024-02-25T22:19:16.439338400Z",
     "start_time": "2024-02-25T22:19:16.436584400Z"
    }
   },
   "id": "b9f78729b0fe9538",
   "execution_count": 62
  },
  {
   "cell_type": "code",
   "outputs": [],
   "source": [
    "nndm = NNDM()"
   ],
   "metadata": {
    "collapsed": false,
    "ExecuteTime": {
     "end_time": "2024-02-25T22:19:16.639429600Z",
     "start_time": "2024-02-25T22:19:16.632377900Z"
    }
   },
   "id": "2ac318d4ff99a19f",
   "execution_count": 63
  },
  {
   "cell_type": "markdown",
   "source": [
    "# Agent"
   ],
   "metadata": {
    "collapsed": false
   },
   "id": "b9f220cf9be6060"
  },
  {
   "cell_type": "code",
   "outputs": [],
   "source": [
    "class Agent(nn.Module):\n",
    "    # dummy agent of linear form a = c1 * s1 + c2 * s2 + c3\n",
    "    \n",
    "    def __init__(self):\n",
    "        super(Agent, self).__init__()\n",
    "        \n",
    "        self.layer = nn.Linear(2, 1)\n",
    "        \n",
    "        # dummy output of u=0\n",
    "        self.layer.weight = nn.Parameter(torch.tensor([[0., 0.]]))\n",
    "        self.layer.bias = nn.Parameter(torch.tensor([0.]))\n",
    "    \n",
    "    def forward(self, x):\n",
    "        return self.layer(x)\n",
    "    \n",
    "    def select_action(self, x, exploration=False):\n",
    "        if exploration:\n",
    "            raise ValueError('This model is not implemented for exploration')\n",
    "        else:\n",
    "            return self.forward(x)"
   ],
   "metadata": {
    "collapsed": false,
    "ExecuteTime": {
     "end_time": "2024-02-25T22:19:17.042457900Z",
     "start_time": "2024-02-25T22:19:17.034815600Z"
    }
   },
   "id": "f2f305551cd78476",
   "execution_count": 64
  },
  {
   "cell_type": "code",
   "outputs": [],
   "source": [
    "policy = Agent()"
   ],
   "metadata": {
    "collapsed": false,
    "ExecuteTime": {
     "end_time": "2024-02-25T22:19:17.265774300Z",
     "start_time": "2024-02-25T22:19:17.260235400Z"
    }
   },
   "id": "d2634429e05be797",
   "execution_count": 65
  },
  {
   "cell_type": "markdown",
   "source": [
    "# Env settings\n",
    "\n",
    "$$h(x) = 1 - \\frac{6^2}{\\pi^2} \\left(\\theta^2 + \\dot{\\theta}^2 + \\frac{2}{\\sqrt{3}} \\theta \\dot{\\theta} \\right)$$"
   ],
   "metadata": {
    "collapsed": false
   },
   "id": "27cf4648a41fee95"
  },
  {
   "cell_type": "code",
   "outputs": [],
   "source": [
    "class Pendulum(Env):\n",
    "    def __init__(self):\n",
    "        env = gym.make('Pendulum-v1')\n",
    "        self.is_discrete = False\n",
    "        \n",
    "        self.settings = None\n",
    "        \n",
    "        # h as defined in the paper\n",
    "        self.h_function = nn.Sequential(\n",
    "            Parallel(\n",
    "                UnivariateMonomial([(0, 2)]),\n",
    "                UnivariateMonomial([(1, 2)]),\n",
    "                Mul(Select([0]), Select([1]))\n",
    "            ),\n",
    "            FixedLinear(\n",
    "                torch.tensor([[1., 1., 2./(3.**0.5)]])\n",
    "            ),\n",
    "            FixedLinear(\n",
    "                torch.tensor([[-36 / 3.1415**2]]),\n",
    "                torch.tensor([1.])\n",
    "            )\n",
    "        )\n",
    "        \n",
    "        self.h_ids = [0, 1]\n",
    "        self.std = [0.005, 0.025]\n",
    "        self.env = PendulumNoise(env)"
   ],
   "metadata": {
    "collapsed": false,
    "ExecuteTime": {
     "end_time": "2024-02-25T22:19:17.663673700Z",
     "start_time": "2024-02-25T22:19:17.656695500Z"
    }
   },
   "id": "25de7c5ff6a3af6",
   "execution_count": 66
  },
  {
   "cell_type": "markdown",
   "source": [
    "# CBF\n",
    "\n",
    "$$\\nabla^2 h = \\begin{bmatrix}\n",
    "\\frac{\\partial^2{h}}{\\partial{\\theta}^2} & \\frac{\\partial^2{h}}{\\partial{\\theta}\\partial{\\dot{\\theta}}}\\\\ \n",
    "\\frac{\\partial^2{h}}{\\partial{\\dot{\\theta}}\\partial{\\theta}} & \\frac{\\partial^2{h}}{\\partial{\\dot{\\theta}}^2}\n",
    "\\end{bmatrix}\n",
    "\n",
    "= \\begin{bmatrix}\n",
    "-2 \\cdot \\frac{6^2}{\\pi^2} & -\\frac{2}{\\sqrt{3}} \\cdot \\frac{6^2}{\\pi^2}\\\\ \n",
    "-\\frac{2}{\\sqrt{3}} \\cdot \\frac{6^2}{\\pi^2} & -2 \\cdot \\frac{6^2}{\\pi^2}\n",
    "\\end{bmatrix}\n",
    "\n",
    "= -2 \\cdot \\frac{6^2}{\\pi^2} \n",
    "\\begin{bmatrix}\n",
    "1 & \\frac{1}{\\sqrt{3}}\\\\ \n",
    "\\frac{1}{\\sqrt{3}} & 1\n",
    "\\end{bmatrix}$$\n",
    "\n",
    "Since the Hessian is a 2x2 matrix, the matrix 2-norm will be equal to the largest singular value. In this case we get\n",
    "\n",
    "$$\\nabla^2 h^T \\ \\nabla^2 h = \n",
    "4\\cdot \\frac{6^4}{\\pi^4} \n",
    "\\begin{bmatrix}\n",
    "\\frac{4}{3} & \\frac{2}{\\sqrt{3}}\\\\ \n",
    "\\frac{2}{\\sqrt{3}} & \\frac{4}{3}\n",
    "\\end{bmatrix}\n",
    "\n",
    "= \\begin{bmatrix}\n",
    "\\frac{6912}{\\pi^4} & \\frac{3456 \\sqrt{3}}{\\pi^4}\\\\ \n",
    "\\frac{3456 \\sqrt{3}}{\\pi^4} & \\frac{6912}{\\pi^4}\n",
    "\\end{bmatrix}$$\n",
    "\n",
    "$$det(\\nabla^2 h^T \\ \\nabla^2 h - \\sigma I) =\n",
    "\\left( \\frac{6912}{\\pi^4} - \\sigma \\right)^2 - \\frac{3456 \\sqrt{3}}{\\pi^4} ^ 2 = 0$$\n",
    "\n",
    "$$\\sigma_{\\pm} = \\frac{6912}{\\pi^4} \\pm \\frac{3456 \\sqrt{3}}{\\pi^4}$$\n",
    "\n",
    "So, finally we get (this output has been verified online to be correct):\n",
    "$$\\lambda_{max} = \\sqrt{\\sigma_+} = \\frac{1}{\\pi^2} \\sqrt{6912 + 3456 \\sqrt{3}}$$"
   ],
   "metadata": {
    "collapsed": false
   },
   "id": "a7fc720ec31fa118"
  },
  {
   "cell_type": "markdown",
   "source": [
    "$$cov(d) = \\begin{bmatrix}\n",
    "\\sigma_1^2 & 0\\\\ \n",
    "0 & \\sigma_2^2\n",
    "\\end{bmatrix}\n",
    "\n",
    "= \\begin{bmatrix}\n",
    "0.005^2 & 0\\\\ \n",
    "0 & 0.025^2\n",
    "\\end{bmatrix}$$\n",
    "\n",
    "$$tr(cov(d)) = 0.005^2 + 0.025^2 = 0.00065 = \\frac{13}{20 000}$$\n",
    "\n",
    "Now everything comes together\n",
    "$$\\psi = \\frac{\\lambda_{max}}{2} tr(cov(d))$$\n",
    "$$\\alpha = 1 - \\psi = 1 - \\frac{13}{40 000\\pi^2} \\sqrt{6912 + 3456 \\sqrt{3}}$$"
   ],
   "metadata": {
    "collapsed": false
   },
   "id": "41dde264739ad22d"
  },
  {
   "cell_type": "code",
   "outputs": [
    {
     "name": "stdout",
     "output_type": "stream",
     "text": [
      "0.9962600148865773\n"
     ]
    }
   ],
   "source": [
    "alpha = 1 - 13 / (40_000 * 3.1415 **2) * (6912 + 3456 * 3 ** 0.5) ** 0.5\n",
    "print(alpha)"
   ],
   "metadata": {
    "collapsed": false,
    "ExecuteTime": {
     "end_time": "2024-02-25T22:19:18.843258100Z",
     "start_time": "2024-02-25T22:19:18.840533300Z"
    }
   },
   "id": "343595e2ef69892a",
   "execution_count": 67
  },
  {
   "cell_type": "code",
   "outputs": [
    {
     "ename": "NotImplementedError",
     "evalue": "Module type not supported - add BoundModule for layer to factory",
     "output_type": "error",
     "traceback": [
      "\u001B[1;31m---------------------------------------------------------------------------\u001B[0m",
      "\u001B[1;31mNotImplementedError\u001B[0m                       Traceback (most recent call last)",
      "Cell \u001B[1;32mIn[68], line 4\u001B[0m\n\u001B[0;32m      1\u001B[0m env \u001B[38;5;241m=\u001B[39m Pendulum()\n\u001B[0;32m      3\u001B[0m \u001B[38;5;66;03m# what to do with delta? \u001B[39;00m\n\u001B[1;32m----> 4\u001B[0m cbf \u001B[38;5;241m=\u001B[39m \u001B[43mCBF\u001B[49m\u001B[43m(\u001B[49m\u001B[43menv\u001B[49m\u001B[43m,\u001B[49m\u001B[43m \u001B[49m\u001B[43mnndm\u001B[49m\u001B[43m,\u001B[49m\u001B[43m \u001B[49m\u001B[43mpolicy\u001B[49m\u001B[43m,\u001B[49m\n\u001B[0;32m      5\u001B[0m \u001B[43m          \u001B[49m\u001B[43malpha\u001B[49m\u001B[38;5;241;43m=\u001B[39;49m\u001B[43m[\u001B[49m\u001B[43malpha\u001B[49m\u001B[43m]\u001B[49m\u001B[43m,\u001B[49m\n\u001B[0;32m      6\u001B[0m \u001B[43m          \u001B[49m\u001B[43mdelta\u001B[49m\u001B[38;5;241;43m=\u001B[39;49m\u001B[43m[\u001B[49m\u001B[38;5;241;43m0.\u001B[39;49m\u001B[43m]\u001B[49m\u001B[43m,\u001B[49m\n\u001B[0;32m      7\u001B[0m \u001B[43m          \u001B[49m\u001B[43mno_action_partitions\u001B[49m\u001B[38;5;241;43m=\u001B[39;49m\u001B[38;5;241;43m2\u001B[39;49m\u001B[43m,\u001B[49m\n\u001B[0;32m      8\u001B[0m \u001B[43m          \u001B[49m\u001B[43mno_noise_partitions\u001B[49m\u001B[38;5;241;43m=\u001B[39;49m\u001B[38;5;241;43m2\u001B[39;49m\u001B[43m,\u001B[49m\n\u001B[0;32m      9\u001B[0m \u001B[43m          \u001B[49m\u001B[43mstochastic\u001B[49m\u001B[38;5;241;43m=\u001B[39;49m\u001B[38;5;28;43;01mTrue\u001B[39;49;00m\u001B[43m)\u001B[49m\n",
      "File \u001B[1;32m~\\PycharmProjects\\Capstone\\src\\capstone\\cbf.py:59\u001B[0m, in \u001B[0;36mCBF.__init__\u001B[1;34m(self, env, nndm, policy, alpha, delta, no_action_partitions, no_noise_partitions, stochastic)\u001B[0m\n\u001B[0;32m     56\u001B[0m \u001B[38;5;28mself\u001B[39m\u001B[38;5;241m.\u001B[39mstds \u001B[38;5;241m=\u001B[39m env\u001B[38;5;241m.\u001B[39mstd\n\u001B[0;32m     58\u001B[0m factory \u001B[38;5;241m=\u001B[39m BoundModelFactory()\n\u001B[1;32m---> 59\u001B[0m \u001B[38;5;28mself\u001B[39m\u001B[38;5;241m.\u001B[39mbounded_NNDM_H \u001B[38;5;241m=\u001B[39m \u001B[43mfactory\u001B[49m\u001B[38;5;241;43m.\u001B[39;49m\u001B[43mbuild\u001B[49m\u001B[43m(\u001B[49m\u001B[38;5;28;43mself\u001B[39;49m\u001B[38;5;241;43m.\u001B[39;49m\u001B[43mNNDM_H\u001B[49m\u001B[43m)\u001B[49m\n\u001B[0;32m     60\u001B[0m \u001B[38;5;28mself\u001B[39m\u001B[38;5;241m.\u001B[39maction_partitions \u001B[38;5;241m=\u001B[39m \u001B[38;5;28mself\u001B[39m\u001B[38;5;241m.\u001B[39mcreate_action_partitions(no_action_partitions)\n\u001B[0;32m     62\u001B[0m \u001B[38;5;28;01mif\u001B[39;00m \u001B[38;5;28mself\u001B[39m\u001B[38;5;241m.\u001B[39mis_stochastic:\n",
      "File \u001B[1;32m~\\PycharmProjects\\Capstone\\venv\\Lib\\site-packages\\bound_propagation\\factory.py:61\u001B[0m, in \u001B[0;36mBoundModelFactory.build\u001B[1;34m(self, module)\u001B[0m\n\u001B[0;32m     59\u001B[0m \u001B[38;5;28;01mfor\u001B[39;00m orig_class, bound_class \u001B[38;5;129;01min\u001B[39;00m \u001B[38;5;28mself\u001B[39m\u001B[38;5;241m.\u001B[39mclass_mapping:\n\u001B[0;32m     60\u001B[0m     \u001B[38;5;28;01mif\u001B[39;00m \u001B[38;5;28misinstance\u001B[39m(module, orig_class):\n\u001B[1;32m---> 61\u001B[0m         \u001B[38;5;28;01mreturn\u001B[39;00m \u001B[43mbound_class\u001B[49m\u001B[43m(\u001B[49m\u001B[43mmodule\u001B[49m\u001B[43m,\u001B[49m\u001B[43m \u001B[49m\u001B[38;5;28;43mself\u001B[39;49m\u001B[43m,\u001B[49m\u001B[43m \u001B[49m\u001B[38;5;241;43m*\u001B[39;49m\u001B[38;5;241;43m*\u001B[39;49m\u001B[38;5;28;43mself\u001B[39;49m\u001B[38;5;241;43m.\u001B[39;49m\u001B[43mkwargs\u001B[49m\u001B[43m)\u001B[49m\n\u001B[0;32m     63\u001B[0m \u001B[38;5;28;01mraise\u001B[39;00m \u001B[38;5;167;01mNotImplementedError\u001B[39;00m(\u001B[38;5;124m'\u001B[39m\u001B[38;5;124mModule type not supported - add BoundModule for layer to factory\u001B[39m\u001B[38;5;124m'\u001B[39m)\n",
      "File \u001B[1;32m~\\PycharmProjects\\Capstone\\venv\\Lib\\site-packages\\bound_propagation\\sequential.py:9\u001B[0m, in \u001B[0;36mBoundSequential.__init__\u001B[1;34m(self, sequential, factory, **kwargs)\u001B[0m\n\u001B[0;32m      7\u001B[0m \u001B[38;5;28;01mdef\u001B[39;00m \u001B[38;5;21m__init__\u001B[39m(\u001B[38;5;28mself\u001B[39m, sequential, factory, \u001B[38;5;241m*\u001B[39m\u001B[38;5;241m*\u001B[39mkwargs):\n\u001B[0;32m      8\u001B[0m     \u001B[38;5;28msuper\u001B[39m()\u001B[38;5;241m.\u001B[39m\u001B[38;5;21m__init__\u001B[39m(sequential, factory, \u001B[38;5;241m*\u001B[39m\u001B[38;5;241m*\u001B[39mkwargs)\n\u001B[1;32m----> 9\u001B[0m     \u001B[38;5;28mself\u001B[39m\u001B[38;5;241m.\u001B[39mbound_sequential \u001B[38;5;241m=\u001B[39m nn\u001B[38;5;241m.\u001B[39mSequential(\u001B[38;5;241m*\u001B[39m\u001B[38;5;28;43mlist\u001B[39;49m\u001B[43m(\u001B[49m\u001B[38;5;28;43mmap\u001B[39;49m\u001B[43m(\u001B[49m\u001B[43mfactory\u001B[49m\u001B[38;5;241;43m.\u001B[39;49m\u001B[43mbuild\u001B[49m\u001B[43m,\u001B[49m\u001B[43m \u001B[49m\u001B[43msequential\u001B[49m\u001B[43m)\u001B[49m\u001B[43m)\u001B[49m)\n",
      "File \u001B[1;32m~\\PycharmProjects\\Capstone\\venv\\Lib\\site-packages\\bound_propagation\\factory.py:61\u001B[0m, in \u001B[0;36mBoundModelFactory.build\u001B[1;34m(self, module)\u001B[0m\n\u001B[0;32m     59\u001B[0m \u001B[38;5;28;01mfor\u001B[39;00m orig_class, bound_class \u001B[38;5;129;01min\u001B[39;00m \u001B[38;5;28mself\u001B[39m\u001B[38;5;241m.\u001B[39mclass_mapping:\n\u001B[0;32m     60\u001B[0m     \u001B[38;5;28;01mif\u001B[39;00m \u001B[38;5;28misinstance\u001B[39m(module, orig_class):\n\u001B[1;32m---> 61\u001B[0m         \u001B[38;5;28;01mreturn\u001B[39;00m \u001B[43mbound_class\u001B[49m\u001B[43m(\u001B[49m\u001B[43mmodule\u001B[49m\u001B[43m,\u001B[49m\u001B[43m \u001B[49m\u001B[38;5;28;43mself\u001B[39;49m\u001B[43m,\u001B[49m\u001B[43m \u001B[49m\u001B[38;5;241;43m*\u001B[39;49m\u001B[38;5;241;43m*\u001B[39;49m\u001B[38;5;28;43mself\u001B[39;49m\u001B[38;5;241;43m.\u001B[39;49m\u001B[43mkwargs\u001B[49m\u001B[43m)\u001B[49m\n\u001B[0;32m     63\u001B[0m \u001B[38;5;28;01mraise\u001B[39;00m \u001B[38;5;167;01mNotImplementedError\u001B[39;00m(\u001B[38;5;124m'\u001B[39m\u001B[38;5;124mModule type not supported - add BoundModule for layer to factory\u001B[39m\u001B[38;5;124m'\u001B[39m)\n",
      "File \u001B[1;32m~\\PycharmProjects\\Capstone\\venv\\Lib\\site-packages\\bound_propagation\\bivariate.py:30\u001B[0m, in \u001B[0;36mBoundAdd.__init__\u001B[1;34m(self, module, factory, **kwargs)\u001B[0m\n\u001B[0;32m     27\u001B[0m \u001B[38;5;28;01mdef\u001B[39;00m \u001B[38;5;21m__init__\u001B[39m(\u001B[38;5;28mself\u001B[39m, module, factory, \u001B[38;5;241m*\u001B[39m\u001B[38;5;241m*\u001B[39mkwargs):\n\u001B[0;32m     28\u001B[0m     \u001B[38;5;28msuper\u001B[39m()\u001B[38;5;241m.\u001B[39m\u001B[38;5;21m__init__\u001B[39m(module, factory, \u001B[38;5;241m*\u001B[39m\u001B[38;5;241m*\u001B[39mkwargs)\n\u001B[1;32m---> 30\u001B[0m     \u001B[38;5;28mself\u001B[39m\u001B[38;5;241m.\u001B[39mbound_network1 \u001B[38;5;241m=\u001B[39m \u001B[43mfactory\u001B[49m\u001B[38;5;241;43m.\u001B[39;49m\u001B[43mbuild\u001B[49m\u001B[43m(\u001B[49m\u001B[43mmodule\u001B[49m\u001B[38;5;241;43m.\u001B[39;49m\u001B[43mnetwork1\u001B[49m\u001B[43m)\u001B[49m\n\u001B[0;32m     31\u001B[0m     \u001B[38;5;28mself\u001B[39m\u001B[38;5;241m.\u001B[39mbound_network2 \u001B[38;5;241m=\u001B[39m factory\u001B[38;5;241m.\u001B[39mbuild(module\u001B[38;5;241m.\u001B[39mnetwork2)\n",
      "File \u001B[1;32m~\\PycharmProjects\\Capstone\\venv\\Lib\\site-packages\\bound_propagation\\factory.py:61\u001B[0m, in \u001B[0;36mBoundModelFactory.build\u001B[1;34m(self, module)\u001B[0m\n\u001B[0;32m     59\u001B[0m \u001B[38;5;28;01mfor\u001B[39;00m orig_class, bound_class \u001B[38;5;129;01min\u001B[39;00m \u001B[38;5;28mself\u001B[39m\u001B[38;5;241m.\u001B[39mclass_mapping:\n\u001B[0;32m     60\u001B[0m     \u001B[38;5;28;01mif\u001B[39;00m \u001B[38;5;28misinstance\u001B[39m(module, orig_class):\n\u001B[1;32m---> 61\u001B[0m         \u001B[38;5;28;01mreturn\u001B[39;00m \u001B[43mbound_class\u001B[49m\u001B[43m(\u001B[49m\u001B[43mmodule\u001B[49m\u001B[43m,\u001B[49m\u001B[43m \u001B[49m\u001B[38;5;28;43mself\u001B[39;49m\u001B[43m,\u001B[49m\u001B[43m \u001B[49m\u001B[38;5;241;43m*\u001B[39;49m\u001B[38;5;241;43m*\u001B[39;49m\u001B[38;5;28;43mself\u001B[39;49m\u001B[38;5;241;43m.\u001B[39;49m\u001B[43mkwargs\u001B[49m\u001B[43m)\u001B[49m\n\u001B[0;32m     63\u001B[0m \u001B[38;5;28;01mraise\u001B[39;00m \u001B[38;5;167;01mNotImplementedError\u001B[39;00m(\u001B[38;5;124m'\u001B[39m\u001B[38;5;124mModule type not supported - add BoundModule for layer to factory\u001B[39m\u001B[38;5;124m'\u001B[39m)\n",
      "File \u001B[1;32m~\\PycharmProjects\\Capstone\\venv\\Lib\\site-packages\\bound_propagation\\sequential.py:9\u001B[0m, in \u001B[0;36mBoundSequential.__init__\u001B[1;34m(self, sequential, factory, **kwargs)\u001B[0m\n\u001B[0;32m      7\u001B[0m \u001B[38;5;28;01mdef\u001B[39;00m \u001B[38;5;21m__init__\u001B[39m(\u001B[38;5;28mself\u001B[39m, sequential, factory, \u001B[38;5;241m*\u001B[39m\u001B[38;5;241m*\u001B[39mkwargs):\n\u001B[0;32m      8\u001B[0m     \u001B[38;5;28msuper\u001B[39m()\u001B[38;5;241m.\u001B[39m\u001B[38;5;21m__init__\u001B[39m(sequential, factory, \u001B[38;5;241m*\u001B[39m\u001B[38;5;241m*\u001B[39mkwargs)\n\u001B[1;32m----> 9\u001B[0m     \u001B[38;5;28mself\u001B[39m\u001B[38;5;241m.\u001B[39mbound_sequential \u001B[38;5;241m=\u001B[39m nn\u001B[38;5;241m.\u001B[39mSequential(\u001B[38;5;241m*\u001B[39m\u001B[38;5;28;43mlist\u001B[39;49m\u001B[43m(\u001B[49m\u001B[38;5;28;43mmap\u001B[39;49m\u001B[43m(\u001B[49m\u001B[43mfactory\u001B[49m\u001B[38;5;241;43m.\u001B[39;49m\u001B[43mbuild\u001B[49m\u001B[43m,\u001B[49m\u001B[43m \u001B[49m\u001B[43msequential\u001B[49m\u001B[43m)\u001B[49m\u001B[43m)\u001B[49m)\n",
      "File \u001B[1;32m~\\PycharmProjects\\Capstone\\venv\\Lib\\site-packages\\bound_propagation\\factory.py:63\u001B[0m, in \u001B[0;36mBoundModelFactory.build\u001B[1;34m(self, module)\u001B[0m\n\u001B[0;32m     60\u001B[0m     \u001B[38;5;28;01mif\u001B[39;00m \u001B[38;5;28misinstance\u001B[39m(module, orig_class):\n\u001B[0;32m     61\u001B[0m         \u001B[38;5;28;01mreturn\u001B[39;00m bound_class(module, \u001B[38;5;28mself\u001B[39m, \u001B[38;5;241m*\u001B[39m\u001B[38;5;241m*\u001B[39m\u001B[38;5;28mself\u001B[39m\u001B[38;5;241m.\u001B[39mkwargs)\n\u001B[1;32m---> 63\u001B[0m \u001B[38;5;28;01mraise\u001B[39;00m \u001B[38;5;167;01mNotImplementedError\u001B[39;00m(\u001B[38;5;124m'\u001B[39m\u001B[38;5;124mModule type not supported - add BoundModule for layer to factory\u001B[39m\u001B[38;5;124m'\u001B[39m)\n",
      "\u001B[1;31mNotImplementedError\u001B[0m: Module type not supported - add BoundModule for layer to factory"
     ]
    }
   ],
   "source": [
    "env = Pendulum()\n",
    "\n",
    "# what to do with delta? \n",
    "cbf = CBF(env, nndm, policy,\n",
    "          alpha=[alpha],\n",
    "          delta=[0.],\n",
    "          no_action_partitions=2,\n",
    "          no_noise_partitions=2,\n",
    "          stochastic=True)"
   ],
   "metadata": {
    "collapsed": false,
    "ExecuteTime": {
     "end_time": "2024-02-25T22:19:19.441911400Z",
     "start_time": "2024-02-25T22:19:19.380505200Z"
    }
   },
   "id": "16137ae1454574",
   "execution_count": 68
  },
  {
   "cell_type": "code",
   "outputs": [],
   "source": [],
   "metadata": {
    "collapsed": false
   },
   "id": "f55e2e44f79f7755"
  }
 ],
 "metadata": {
  "kernelspec": {
   "display_name": "Python 3",
   "language": "python",
   "name": "python3"
  },
  "language_info": {
   "codemirror_mode": {
    "name": "ipython",
    "version": 2
   },
   "file_extension": ".py",
   "mimetype": "text/x-python",
   "name": "python",
   "nbconvert_exporter": "python",
   "pygments_lexer": "ipython2",
   "version": "2.7.6"
  }
 },
 "nbformat": 4,
 "nbformat_minor": 5
}
