{
 "cells": [
  {
   "cell_type": "code",
   "execution_count": 2,
   "id": "initial_id",
   "metadata": {
    "collapsed": true,
    "ExecuteTime": {
     "end_time": "2024-02-23T13:29:35.811462100Z",
     "start_time": "2024-02-23T13:29:32.573926900Z"
    }
   },
   "outputs": [],
   "source": [
    "import src.capstone as capstone\n",
    "import numpy as np\n",
    "import gymnasium as gym"
   ]
  },
  {
   "cell_type": "code",
   "outputs": [],
   "source": [
    "class Pendulum(gym.Wrapper):\n",
    "    def __init__(self, env):\n",
    "        super().__init__(env)\n",
    "        self.dt = 0.01\n",
    "        \n",
    "    def step(self, action):\n",
    "        th, thdot = self.env.unwrapped.state\n",
    "        _, _, _, truncated, _ = self.env.step(action)\n",
    "        \n",
    "        u = np.clip(action, -self.env.unwrapped.max_torque, \n",
    "                    self.env.unwrapped.max_torque)[0]\n",
    "        \n",
    "        newthdot = thdot + np.sin(th) * self.dt + u * self.dt + np.random.normal(0., 0.025)\n",
    "        newth = th + thdot * self.dt + np.random.normal(0., 0.005)\n",
    "        \n",
    "        self.env.unwrapped.state = np.array([newth, newthdot])\n",
    "        \n",
    "        return self.env.unwrapped.state, 0., False, truncated, {}"
   ],
   "metadata": {
    "collapsed": false,
    "ExecuteTime": {
     "end_time": "2024-02-23T13:34:25.548796400Z",
     "start_time": "2024-02-23T13:34:25.544843200Z"
    }
   },
   "id": "f08ab4c940664bed",
   "execution_count": 11
  },
  {
   "cell_type": "code",
   "outputs": [],
   "source": [
    "env = gym.make('Pendulum-v1', render_mode='human')\n",
    "env._max_episode_steps = 100  # in the paper, MC simulation for 1 second - dt = 0.01\n",
    "env = Pendulum(env)"
   ],
   "metadata": {
    "collapsed": false,
    "ExecuteTime": {
     "end_time": "2024-02-23T13:34:34.158738900Z",
     "start_time": "2024-02-23T13:34:34.150384700Z"
    }
   },
   "id": "e9bce4f47a03d253",
   "execution_count": 13
  },
  {
   "cell_type": "code",
   "outputs": [],
   "source": [
    "state, _ = env.reset(seed=42)\n",
    "done = False"
   ],
   "metadata": {
    "collapsed": false,
    "ExecuteTime": {
     "end_time": "2024-02-23T13:33:19.915695700Z",
     "start_time": "2024-02-23T13:33:19.244603200Z"
    }
   },
   "id": "143a164107e880a",
   "execution_count": 9
  },
  {
   "cell_type": "code",
   "outputs": [],
   "source": [
    "while not done:\n",
    "    state, reward, terminated, truncated, _ = env.step(np.array([2.]))\n",
    "    done = (terminated or truncated)\n",
    "env.close()"
   ],
   "metadata": {
    "collapsed": false,
    "ExecuteTime": {
     "end_time": "2024-02-23T13:33:26.699156600Z",
     "start_time": "2024-02-23T13:33:19.917701400Z"
    }
   },
   "id": "ac612cf706f0cc0c",
   "execution_count": 10
  }
 ],
 "metadata": {
  "kernelspec": {
   "display_name": "Python 3",
   "language": "python",
   "name": "python3"
  },
  "language_info": {
   "codemirror_mode": {
    "name": "ipython",
    "version": 2
   },
   "file_extension": ".py",
   "mimetype": "text/x-python",
   "name": "python",
   "nbconvert_exporter": "python",
   "pygments_lexer": "ipython2",
   "version": "2.7.6"
  }
 },
 "nbformat": 4,
 "nbformat_minor": 5
}
