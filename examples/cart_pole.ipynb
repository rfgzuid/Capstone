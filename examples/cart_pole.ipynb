{
  "cells": [
    {
      "cell_type": "code",
      "execution_count": 17,
      "metadata": {
        "id": "_O4P2NohlBeR"
      },
      "outputs": [],
      "source": [
        "# For tips on running notebooks in Google Colab, see\n",
        "# https://pytorch.org/tutorials/beginner/colab\n",
        "%matplotlib inline"
      ]
    },
    {
      "cell_type": "markdown",
      "metadata": {
        "id": "cWcFBCX0lBeS"
      },
      "source": [
        "\n",
        "# Reinforcement Learning (DQN) Tutorial\n",
        "**Author**: [Adam Paszke](https://github.com/apaszke)\n",
        "            [Mark Towers](https://github.com/pseudo-rnd-thoughts)\n",
        "\n",
        "\n",
        "This tutorial shows how to use PyTorch to train a Deep Q Learning (DQN) agent\n",
        "on the CartPole-v1 task from [Gymnasium](https://gymnasium.farama.org)_.\n",
        "\n",
        "**Task**\n",
        "\n",
        "The agent has to decide between two actions - moving the cart left or\n",
        "right - so that the pole attached to it stays upright. You can find more\n",
        "information about the environment and other more challenging environments at\n",
        "[Gymnasium's website](https://gymnasium.farama.org/environments/classic_control/cart_pole/)_.\n",
        "\n",
        ".. figure:: /_static/img/cartpole.gif\n",
        "   :alt: CartPole\n",
        "\n",
        "   CartPole\n",
        "\n",
        "As the agent observes the current state of the environment and chooses\n",
        "an action, the environment *transitions* to a new state, and also\n",
        "returns a reward that indicates the consequences of the action. In this\n",
        "task, rewards are +1 for every incremental timestep and the environment\n",
        "terminates if the pole falls over too far or the cart moves more than 2.4\n",
        "units away from center. This means better performing scenarios will run\n",
        "for longer duration, accumulating larger return.\n",
        "\n",
        "The CartPole task is designed so that the inputs to the agent are 4 real\n",
        "values representing the environment state (position, velocity, etc.).\n",
        "We take these 4 inputs without any scaling and pass them through a\n",
        "small fully-connected network with 2 outputs, one for each action.\n",
        "The network is trained to predict the expected value for each action,\n",
        "given the input state. The action with the highest expected value is\n",
        "then chosen.\n",
        "\n",
        "\n",
        "**Packages**\n",
        "\n",
        "\n",
        "First, let's import needed packages. Firstly, we need\n",
        "[gymnasium](https://gymnasium.farama.org/)_ for the environment,\n",
        "installed by using `pip`. This is a fork of the original OpenAI\n",
        "Gym project and maintained by the same team since Gym v0.19.\n",
        "If you are running this in Google Colab, run:\n"
      ]
    },
    {
      "cell_type": "code",
      "execution_count": 18,
      "metadata": {
        "id": "Ao_5cuIdlBeU"
      },
      "outputs": [],
      "source": [
        "# %%bash\n",
        "# pip3 install gymnasium[classic_control]"
      ]
    },
    {
      "cell_type": "markdown",
      "metadata": {
        "id": "poEoS7DElBeV"
      },
      "source": [
        "We'll also use the following from PyTorch:\n",
        "\n",
        "-  neural networks (``torch.nn``)\n",
        "-  optimization (``torch.optim``)\n",
        "-  automatic differentiation (``torch.autograd``)\n"
      ]
    },
    {
      "cell_type": "code",
      "execution_count": 19,
      "metadata": {
        "id": "F0wVPRsRlBeV"
      },
      "outputs": [],
      "source": [
        "import gymnasium as gym\n",
        "import math\n",
        "import random\n",
        "import matplotlib\n",
        "import matplotlib.pyplot as plt\n",
        "from collections import namedtuple, deque\n",
        "from itertools import count\n",
        "import numpy as np\n",
        "\n",
        "import torch\n",
        "import torch.nn as nn\n",
        "import torch.optim as optim\n",
        "import torch.nn.functional as F\n",
        "\n",
        "from bound_propagation.polynomial import Pow\n",
        "from bound_propagation.linear import FixedLinear\n",
        "\n",
        "\n",
        "env = gym.make(\"CartPole-v1\")\n",
        "\n",
        "# set up matplotlib\n",
        "is_ipython = 'inline' in matplotlib.get_backend()\n",
        "if is_ipython:\n",
        "    from IPython import display\n",
        "\n",
        "plt.ion()\n",
        "\n",
        "# if GPU is to be used\n",
        "device = torch.device(\"cuda\" if torch.cuda.is_available() else \"cpu\")"
      ]
    },
    {
      "cell_type": "markdown",
      "metadata": {
        "id": "Sj8xErp0lBeW"
      },
      "source": [
        "## Replay Memory\n",
        "\n",
        "We'll be using experience replay memory for training our DQN. It stores\n",
        "the transitions that the agent observes, allowing us to reuse this data\n",
        "later. By sampling from it randomly, the transitions that build up a\n",
        "batch are decorrelated. It has been shown that this greatly stabilizes\n",
        "and improves the DQN training procedure.\n",
        "\n",
        "For this, we're going to need two classes:\n",
        "\n",
        "-  ``Transition`` - a named tuple representing a single transition in\n",
        "   our environment. It essentially maps (state, action) pairs\n",
        "   to their (next_state, reward) result, with the state being the\n",
        "   screen difference image as described later on.\n",
        "-  ``ReplayMemory`` - a cyclic buffer of bounded size that holds the\n",
        "   transitions observed recently. It also implements a ``.sample()``\n",
        "   method for selecting a random batch of transitions for training.\n",
        "\n",
        "\n"
      ]
    },
    {
      "cell_type": "code",
      "execution_count": 20,
      "metadata": {
        "id": "MzluCosPlBeW"
      },
      "outputs": [],
      "source": [
        "Transition = namedtuple('Transition',\n",
        "                        ('state', 'action', 'next_state', 'reward', 'is_terminal'))\n",
        "\n",
        "\n",
        "class ReplayMemory(object):\n",
        "\n",
        "    def __init__(self, capacity):\n",
        "        self.memory = deque([], maxlen=capacity)\n",
        "\n",
        "    def push(self, *args):\n",
        "        \"\"\"Save a transition\"\"\"\n",
        "        self.memory.append(Transition(*args))\n",
        "\n",
        "    def sample(self, batch_size):\n",
        "        return random.sample(self.memory, batch_size)\n",
        "\n",
        "    def __len__(self):\n",
        "        return len(self.memory)"
      ]
    },
    {
      "cell_type": "markdown",
      "metadata": {
        "id": "HTCQTgP-lBeX"
      },
      "source": [
        "Now, let's define our model. But first, let's quickly recap what a DQN is.\n",
        "\n",
        "## DQN algorithm\n",
        "\n",
        "Our environment is deterministic, so all equations presented here are\n",
        "also formulated deterministically for the sake of simplicity. In the\n",
        "reinforcement learning literature, they would also contain expectations\n",
        "over stochastic transitions in the environment.\n",
        "\n",
        "Our aim will be to train a policy that tries to maximize the discounted,\n",
        "cumulative reward\n",
        "$R_{t_0} = \\sum_{t=t_0}^{\\infty} \\gamma^{t - t_0} r_t$, where\n",
        "$R_{t_0}$ is also known as the *return*. The discount,\n",
        "$\\gamma$, should be a constant between $0$ and $1$\n",
        "that ensures the sum converges. A lower $\\gamma$ makes\n",
        "rewards from the uncertain far future less important for our agent\n",
        "than the ones in the near future that it can be fairly confident\n",
        "about. It also encourages agents to collect reward closer in time\n",
        "than equivalent rewards that are temporally far away in the future.\n",
        "\n",
        "The main idea behind Q-learning is that if we had a function\n",
        "$Q^*: State \\times Action \\rightarrow \\mathbb{R}$, that could tell\n",
        "us what our return would be, if we were to take an action in a given\n",
        "state, then we could easily construct a policy that maximizes our\n",
        "rewards:\n",
        "\n",
        "\\begin{align}\\pi^*(s) = \\arg\\!\\max_a \\ Q^*(s, a)\\end{align}\n",
        "\n",
        "However, we don't know everything about the world, so we don't have\n",
        "access to $Q^*$. But, since neural networks are universal function\n",
        "approximators, we can simply create one and train it to resemble\n",
        "$Q^*$.\n",
        "\n",
        "For our training update rule, we'll use a fact that every $Q$\n",
        "function for some policy obeys the Bellman equation:\n",
        "\n",
        "\\begin{align}Q^{\\pi}(s, a) = r + \\gamma Q^{\\pi}(s', \\pi(s'))\\end{align}\n",
        "\n",
        "The difference between the two sides of the equality is known as the\n",
        "temporal difference error, $\\delta$:\n",
        "\n",
        "\\begin{align}\\delta = Q(s, a) - (r + \\gamma \\max_a' Q(s', a))\\end{align}\n",
        "\n",
        "To minimize this error, we will use the [Huber\n",
        "loss](https://en.wikipedia.org/wiki/Huber_loss)_. The Huber loss acts\n",
        "like the mean squared error when the error is small, but like the mean\n",
        "absolute error when the error is large - this makes it more robust to\n",
        "outliers when the estimates of $Q$ are very noisy. We calculate\n",
        "this over a batch of transitions, $B$, sampled from the replay\n",
        "memory:\n",
        "\n",
        "\\begin{align}\\mathcal{L} = \\frac{1}{|B|}\\sum_{(s, a, s', r) \\ \\in \\ B} \\mathcal{L}(\\delta)\\end{align}\n",
        "\n",
        "\\begin{align}\\text{where} \\quad \\mathcal{L}(\\delta) = \\begin{cases}\n",
        "     \\frac{1}{2}{\\delta^2}  & \\text{for } |\\delta| \\le 1, \\\\\n",
        "     |\\delta| - \\frac{1}{2} & \\text{otherwise.}\n",
        "   \\end{cases}\\end{align}\n",
        "\n",
        "### Q-network\n",
        "\n",
        "Our model will be a feed forward  neural network that takes in the\n",
        "difference between the current and previous screen patches. It has two\n",
        "outputs, representing $Q(s, \\mathrm{left})$ and\n",
        "$Q(s, \\mathrm{right})$ (where $s$ is the input to the\n",
        "network). In effect, the network is trying to predict the *expected return* of\n",
        "taking each action given the current input.\n",
        "\n",
        "\n"
      ]
    },
    {
      "cell_type": "code",
      "execution_count": 21,
      "metadata": {
        "id": "ztajg9xklBec"
      },
      "outputs": [],
      "source": [
        "class DQN(nn.Module):\n",
        "\n",
        "    def __init__(self, n_observations, n_actions):\n",
        "        super(DQN, self).__init__()\n",
        "        self.layer1 = nn.Linear(n_observations, 128)\n",
        "        self.layer2 = nn.Linear(128, 128)\n",
        "        self.layer3 = nn.Linear(128, n_actions)\n",
        "\n",
        "    # Called with either one element to determine next action, or a batch\n",
        "    # during optimization. Returns tensor([[left0exp,right0exp]...]).\n",
        "    def forward(self, x):\n",
        "        x = F.relu(self.layer1(x))\n",
        "        x = F.relu(self.layer2(x))\n",
        "        return self.layer3(x)"
      ]
    },
    {
      "cell_type": "code",
      "execution_count": 22,
      "metadata": {
        "id": "dlyQDptRlBed"
      },
      "outputs": [],
      "source": [
        "class NNDM(nn.Module):\n",
        "    def __init__(self):\n",
        "        super(NNDM, self).__init__()\n",
        "\n",
        "        self.fc1 = nn.Linear(5, 64)\n",
        "        self.fc2 = nn.Linear(64, 4)\n",
        "\n",
        "        self.activation = F.tanh\n",
        "\n",
        "    def forward(self, x):\n",
        "        h = self.activation(self.fc1(x))\n",
        "        return self.fc2(h) + x[:,:4]"
      ]
    },
    {
      "cell_type": "markdown",
      "metadata": {
        "id": "53drUSKflBed"
      },
      "source": [
        "TODO: write about the h function that is implemented in HHead and the combined model that with NNDM and HHead"
      ]
    },
    {
      "cell_type": "code",
      "execution_count": 23,
      "metadata": {
        "id": "n09tPh90lBed"
      },
      "outputs": [],
      "source": [
        "class HHead(nn.Sequential):\n",
        "    def __init__(self, x_0_max, x_2_max):\n",
        "\n",
        "        super().__init__(\n",
        "            Pow(2),\n",
        "            FixedLinear(\n",
        "                torch.tensor([\n",
        "                    [-1/x_0_max**2, 0, 0, 0],\n",
        "                    [0, 0, -1/x_2_max**2, 0]]),\n",
        "                torch.tensor([1., 1.])\n",
        "            )\n",
        "        )\n",
        "\n",
        "class NNDM_HHead(nn.Sequential):\n",
        "    def __init__(self, x_0_max, x_2_max):\n",
        "        super(NNDM_HHead, self).__init__(\n",
        "            ('nndm', NNDM()),\n",
        "            ('hhead', HHead(x_0_max, x_2_max))\n",
        "        )"
      ]
    },
    {
      "cell_type": "markdown",
      "metadata": {
        "id": "hdq5QzPPlBee"
      },
      "source": [
        "## Training\n",
        "\n",
        "### Hyperparameters and utilities\n",
        "This cell instantiates our model and its optimizer, and defines some\n",
        "utilities:\n",
        "\n",
        "-  ``select_action`` - will select an action accordingly to an epsilon\n",
        "   greedy policy. Simply put, we'll sometimes use our model for choosing\n",
        "   the action, and sometimes we'll just sample one uniformly. The\n",
        "   probability of choosing a random action will start at ``EPS_START``\n",
        "   and will decay exponentially towards ``EPS_END``. ``EPS_DECAY``\n",
        "   controls the rate of the decay.\n",
        "-  ``plot_durations`` - a helper for plotting the duration of episodes,\n",
        "   along with an average over the last 100 episodes (the measure used in\n",
        "   the official evaluations). The plot will be underneath the cell\n",
        "   containing the main training loop, and will update after every\n",
        "   episode.\n",
        "\n",
        "\n"
      ]
    },
    {
      "cell_type": "code",
      "execution_count": 24,
      "metadata": {
        "id": "FIsYG0QElBee"
      },
      "outputs": [],
      "source": [
        "# BATCH_SIZE is the number of transitions sampled from the replay buffer\n",
        "# GAMMA is the discount factor as mentioned in the previous section\n",
        "# EPS_START is the starting value of epsilon\n",
        "# EPS_END is the final value of epsilon\n",
        "# EPS_DECAY controls the rate of exponential decay of epsilon, higher means a slower decay\n",
        "# TAU is the update rate of the target network\n",
        "# LR is the learning rate of the ``AdamW`` optimizer\n",
        "BATCH_SIZE = 128\n",
        "GAMMA = 0.99\n",
        "EPS_START = 0.9\n",
        "EPS_END = 0.05\n",
        "EPS_DECAY = 1000\n",
        "TAU = 0.005\n",
        "LR = 1e-4\n",
        "\n",
        "# Get number of actions from gym action space\n",
        "n_actions = env.action_space.n\n",
        "# Get the number of state observations\n",
        "state, info = env.reset()\n",
        "n_observations = len(state)\n",
        "\n",
        "policy_net = DQN(n_observations, n_actions).to(device)\n",
        "target_net = DQN(n_observations, n_actions).to(device)\n",
        "target_net.load_state_dict(policy_net.state_dict())\n",
        "\n",
        "\n",
        "nndm = NNDM().to(device)\n",
        "lr = 1e-2\n",
        "optimizer_nndm = optim.Adam(nndm.parameters(), lr=lr)\n",
        "\n",
        "criterion = nn.MSELoss()\n",
        "\n",
        "optimizer = optim.AdamW(policy_net.parameters(), lr=LR, amsgrad=True)\n",
        "memory = ReplayMemory(10000)\n",
        "\n",
        "\n",
        "steps_done = 0\n",
        "\n",
        "\n",
        "def select_action(state):\n",
        "    global steps_done\n",
        "    sample = random.random()\n",
        "    eps_threshold = EPS_END + (EPS_START - EPS_END) * \\\n",
        "        math.exp(-1. * steps_done / EPS_DECAY)\n",
        "    steps_done += 1\n",
        "    if sample > eps_threshold:\n",
        "        with torch.no_grad():\n",
        "            # t.max(1) will return the largest column value of each row.\n",
        "            # second column on max result is index of where max element was\n",
        "            # found, so we pick action with the larger expected reward.\n",
        "            return policy_net(state).max(1).indices.view(1, 1)\n",
        "    else:\n",
        "        return torch.tensor([[env.action_space.sample()]], device=device, dtype=torch.long)\n",
        "\n",
        "\n",
        "def discrete_cbf(action_space, state, nominal_action, hfunction, h_nndm, alpha):\n",
        "    \"\"\"\n",
        "    action_space: A 1-dimensional tensor containing possible actions.\n",
        "    state: The current state of the system.\n",
        "    nominal_action: A pre-selected action by the nominal controller.\n",
        "    hfunction: A function representing the barrier condition.\n",
        "    h_nndm: A NNDM with the h function put on top.\n",
        "    alpha: A scaling factor.\n",
        "    \"\"\"\n",
        "    best_action = nominal_action\n",
        "    res = []\n",
        "    for action in action_space:\n",
        "        h = h_nndm(torch.cat((state, action.unsqueeze(0))).view(1, -1))\n",
        "        h_prev = hfunction(state)\n",
        "        if torch.all(torch.ge(h, alpha * h_prev)):\n",
        "            res += [(int(action!=nominal_action), h, action)]\n",
        "    best_action_tuple = min(res, key = lambda x: x[0])\n",
        "\n",
        "    if sum(best_action_tuple[0] == action_tuple[0] for action_tuple in res) > 1:\n",
        "        best_action_tuple = min([action_tuple for action_tuple in res if action_tuple[0] == best_action_tuple[0]], key= lambda x: x[1])\n",
        "    best_action = best_action_tuple[2].view(1, 1)\n",
        "    return best_action\n",
        "\n",
        "\n",
        "episode_durations = []\n",
        "\n",
        "\n",
        "def plot_durations(show_result=False):\n",
        "    plt.figure(1)\n",
        "    durations_t = torch.tensor(episode_durations, dtype=torch.float)\n",
        "    if show_result:\n",
        "        plt.title('Result')\n",
        "    else:\n",
        "        plt.clf()\n",
        "        plt.title('Training...')\n",
        "    plt.xlabel('Episode')\n",
        "    plt.ylabel('Duration')\n",
        "    plt.plot(durations_t.numpy())\n",
        "    # Take 100 episode averages and plot them too\n",
        "    if len(durations_t) >= 100:\n",
        "        means = durations_t.unfold(0, 100, 1).mean(1).view(-1)\n",
        "        means = torch.cat((torch.zeros(99), means))\n",
        "        plt.plot(means.numpy())\n",
        "\n",
        "    plt.pause(0.001)  # pause a bit so that plots are updated\n",
        "    if is_ipython:\n",
        "        if not show_result:\n",
        "            display.display(plt.gcf())\n",
        "            display.clear_output(wait=True)\n",
        "        else:\n",
        "            display.display(plt.gcf())"
      ]
    },
    {
      "cell_type": "markdown",
      "metadata": {
        "id": "mzn3HKnulBef"
      },
      "source": [
        "### Training loop\n",
        "\n",
        "Finally, the code for training our model.\n",
        "\n",
        "Here, you can find an ``optimize_model`` function that performs a\n",
        "single step of the optimization. It first samples a batch, concatenates\n",
        "all the tensors into a single one, computes $Q(s_t, a_t)$ and\n",
        "$V(s_{t+1}) = \\max_a Q(s_{t+1}, a)$, and combines them into our\n",
        "loss. By definition we set $V(s) = 0$ if $s$ is a terminal\n",
        "state. We also use a target network to compute $V(s_{t+1})$ for\n",
        "added stability. The target network is updated at every step with a\n",
        "[soft update](https://arxiv.org/pdf/1509.02971.pdf)_ controlled by\n",
        "the hyperparameter ``TAU``, which was previously defined.\n",
        "\n",
        "\n"
      ]
    },
    {
      "cell_type": "code",
      "execution_count": 25,
      "metadata": {
        "id": "C6pkfV8ElBef"
      },
      "outputs": [],
      "source": [
        "def optimize_model():\n",
        "    if len(memory) < BATCH_SIZE:\n",
        "        return\n",
        "    transitions = memory.sample(BATCH_SIZE)\n",
        "    # Transpose the batch (see https://stackoverflow.com/a/19343/3343043 for\n",
        "    # detailed explanation). This converts batch-array of Transitions\n",
        "    # to Transition of batch-arrays.\n",
        "    batch = Transition(*zip(*transitions))\n",
        "\n",
        "    # Compute a mask of non-final states and concatenate the batch elements\n",
        "    # (a final state would've been the one after which simulation ended)\n",
        "\n",
        "    ddqn_next_states = []\n",
        "    for n in range(len(batch.next_state)):\n",
        "        if batch.is_terminal[n]:\n",
        "            ddqn_next_states.append(None)\n",
        "        else:\n",
        "            ddqn_next_states.append(batch.next_state[n])\n",
        "\n",
        "    non_final_mask = torch.tensor(tuple(map(lambda s: s is not None,\n",
        "                                          ddqn_next_states)), device=device, dtype=torch.bool)\n",
        "    non_final_next_states = torch.cat([s for s in ddqn_next_states\n",
        "                                                if s is not None])\n",
        "    state_batch = torch.cat(batch.state)\n",
        "    action_batch = torch.cat(batch.action)\n",
        "    reward_batch = torch.cat(batch.reward)\n",
        "\n",
        "    # Compute Q(s_t, a) - the model computes Q(s_t), then we select the\n",
        "    # columns of actions taken. These are the actions which would've been taken\n",
        "    # for each batch state according to policy_net\n",
        "    state_action_values = policy_net(state_batch).gather(1, action_batch)\n",
        "\n",
        "    # Compute V(s_{t+1}) for all next states.\n",
        "    # Expected values of actions for non_final_next_states are computed based\n",
        "    # on the \"older\" target_net; selecting their best reward with max(1).values\n",
        "    # This is merged based on the mask, such that we'll have either the expected\n",
        "    # state value or 0 in case the state was final.\n",
        "    next_state_values = torch.zeros(BATCH_SIZE, device=device)\n",
        "    with torch.no_grad():\n",
        "        next_state_values[non_final_mask] = target_net(non_final_next_states).max(1).values\n",
        "    # Compute the expected Q values\n",
        "    expected_state_action_values = (next_state_values * GAMMA) + reward_batch\n",
        "\n",
        "    # Compute Huber loss\n",
        "    criterion = nn.SmoothL1Loss()\n",
        "    loss = criterion(state_action_values, expected_state_action_values.unsqueeze(1))\n",
        "\n",
        "    # Optimize the model\n",
        "    optimizer.zero_grad()\n",
        "    loss.backward()\n",
        "    # In-place gradient clipping\n",
        "    torch.nn.utils.clip_grad_value_(policy_net.parameters(), 100)\n",
        "    optimizer.step()"
      ]
    },
    {
      "cell_type": "code",
      "execution_count": 26,
      "metadata": {
        "id": "qcbtO3eylBef"
      },
      "outputs": [],
      "source": [
        "def optimize_NNDM():\n",
        "    if len(memory) < BATCH_SIZE:\n",
        "        return\n",
        "    transitions = memory.sample(BATCH_SIZE)\n",
        "\n",
        "    batch = Transition(*zip(*transitions))\n",
        "\n",
        "    state_batch = torch.cat(batch.state)\n",
        "    action_batch = torch.cat(batch.action)\n",
        "\n",
        "    x_train = torch.cat([state_batch, action_batch], dim=1)\n",
        "    y_train = torch.cat(batch.next_state)\n",
        "\n",
        "    optimizer_nndm.zero_grad()\n",
        "\n",
        "    y_pred = nndm(x_train)\n",
        "\n",
        "    loss = criterion(y_pred, y_train)\n",
        "    loss.backward()\n",
        "\n",
        "    optimizer_nndm.step()\n",
        "\n",
        "    return loss.item()"
      ]
    },
    {
      "cell_type": "markdown",
      "metadata": {
        "id": "l07WjJ8LlBeg"
      },
      "source": [
        "Below, you can find the main training loop. At the beginning we reset\n",
        "the environment and obtain the initial ``state`` Tensor. Then, we sample\n",
        "an action, execute it, observe the next state and the reward (always\n",
        "1), and optimize our model once. When the episode ends (our model\n",
        "fails), we restart the loop.\n",
        "\n",
        "Below, `num_episodes` is set to 600 if a GPU is available, otherwise 50\n",
        "episodes are scheduled so training does not take too long. However, 50\n",
        "episodes is insufficient for to observe good performance on CartPole.\n",
        "You should see the model constantly achieve 500 steps within 600 training\n",
        "episodes. Training RL agents can be a noisy process, so restarting training\n",
        "can produce better results if convergence is not observed.\n",
        "\n",
        "\n"
      ]
    },
    {
      "cell_type": "code",
      "execution_count": 27,
      "metadata": {
        "id": "oqXMrmIklBeg",
        "outputId": "a888ae09-3476-4ada-9b10-2179bbc727b0"
      },
      "outputs": [
        {
          "name": "stdout",
          "output_type": "stream",
          "text": [
            "Complete\n"
          ]
        },
        {
          "data": {
            "image/png": "[encoded data removed]",
            "text/plain": [
              "<Figure size 640x480 with 1 Axes>"
            ]
          },
          "metadata": {},
          "output_type": "display_data"
        },
        {
          "data": {
            "text/plain": [
              "<Figure size 640x480 with 0 Axes>"
            ]
          },
          "metadata": {},
          "output_type": "display_data"
        },
        {
          "data": {
            "text/plain": [
              "<Figure size 640x480 with 0 Axes>"
            ]
          },
          "metadata": {},
          "output_type": "display_data"
        }
      ],
      "source": [
        "if torch.cuda.is_available():\n",
        "    num_episodes = 500\n",
        "else:\n",
        "    num_episodes = 400\n",
        "\n",
        "NNDM_losses = []\n",
        "\n",
        "for i_episode in range(num_episodes):\n",
        "    episode_loss = 0.\n",
        "    good_t = 0\n",
        "\n",
        "    # Initialize the environment and get its state\n",
        "    state, info = env.reset()\n",
        "    state = torch.tensor(state, dtype=torch.float32, device=device).unsqueeze(0)\n",
        "\n",
        "    #print(len(memory))\n",
        "\n",
        "    for t in count():\n",
        "        action = select_action(state)\n",
        "        observation, reward, terminated, truncated, _ = env.step(action.item())\n",
        "        reward = torch.tensor([reward], device=device)\n",
        "        done = terminated or truncated\n",
        "\n",
        "        next_state = torch.tensor(observation, dtype=torch.float32, device=device).unsqueeze(0)\n",
        "\n",
        "        # Store the transition in memory\n",
        "        memory.push(state, action, next_state, reward, int(terminated))\n",
        "\n",
        "        # Move to the next state\n",
        "        state = next_state\n",
        "\n",
        "        # Perform one step of the optimization (on the policy network)\n",
        "        optimize_model()\n",
        "        train_loss = optimize_NNDM()\n",
        "\n",
        "        if train_loss is not None:\n",
        "          good_t += 1\n",
        "          episode_loss += train_loss\n",
        "\n",
        "        # Soft update of the target network's weights\n",
        "        # θ′ ← τ θ + (1 − τ)θ′\n",
        "        target_net_state_dict = target_net.state_dict()\n",
        "        policy_net_state_dict = policy_net.state_dict()\n",
        "        for key in policy_net_state_dict:\n",
        "            target_net_state_dict[key] = policy_net_state_dict[key]*TAU + target_net_state_dict[key]*(1-TAU)\n",
        "        target_net.load_state_dict(target_net_state_dict)\n",
        "\n",
        "        if done:\n",
        "            episode_durations.append(t+1)\n",
        "            plot_durations()\n",
        "\n",
        "            if good_t != 0:\n",
        "              episode_loss /= good_t\n",
        "              NNDM_losses.append(episode_loss)\n",
        "            break\n",
        "\n",
        "print('Complete')\n",
        "plot_durations(show_result=True)\n",
        "plt.ioff()\n",
        "plt.show()"
      ]
    },
    {
      "cell_type": "code",
      "execution_count": 28,
      "metadata": {
        "id": "xfXx73nNlBeg",
        "outputId": "eb85c619-c4c9-461c-bac8-19fab5927f9f"
      },
      "outputs": [
        {
          "data": {
            "image/png": "[encoded data removed]",
            "text/plain": [
              "<Figure size 640x480 with 1 Axes>"
            ]
          },
          "metadata": {},
          "output_type": "display_data"
        }
      ],
      "source": [
        "plt.plot(list(range(len(NNDM_losses))), NNDM_losses)\n",
        "plt.show()"
      ]
    },
    {
      "cell_type": "markdown",
      "metadata": {
        "id": "_OaOEC1PlBeh"
      },
      "source": [
        "Here is the diagram that illustrates the overall resulting data flow.\n",
        "\n",
        ".. figure:: /_static/img/reinforcement_learning_diagram.jpg\n",
        "\n",
        "Actions are chosen either randomly or based on a policy, getting the next\n",
        "step sample from the gym environment. We record the results in the\n",
        "replay memory and also run optimization step on every iteration.\n",
        "Optimization picks a random batch from the replay memory to do training of the\n",
        "new policy. The \"older\" target_net is also used in optimization to compute the\n",
        "expected Q values. A soft update of its weights are performed at every step.\n",
        "\n",
        "\n"
      ]
    },
    {
      "cell_type": "code",
      "execution_count": 29,
      "metadata": {
        "id": "k4FJgF5ElBeh"
      },
      "outputs": [],
      "source": [
        "class InfeasibilityError(Exception):\n",
        "    \"\"\"Exception raised if there are no actions that fulfill the safety criterions.\"\"\"\n",
        "\n",
        "    def __init__(self, message=\"No safe action to take\"):\n",
        "        self.message = message\n",
        "        super().__init__(self.message)"
      ]
    },
    {
      "cell_type": "code",
      "execution_count": 30,
      "metadata": {
        "id": "96IlREpLlBeh"
      },
      "outputs": [],
      "source": [
        "def discrete_cbf(action_space, state, hfunction, nndm_h, q_network, alpha):\n",
        "    \"\"\"\n",
        "    Selects a safe action from the action space for a given state in a reinforcement learning environment using control barrier functions (CBF) and a neural network dynamical model (NNDM).\n",
        "\n",
        "    Parameters:\n",
        "    - action_space (Tensor): A 1-dimensional tensor containing possible actions.\n",
        "    - state (Tensor): The current state of the system, represented as a tensor.\n",
        "    - hfunction (NN): A function that represents the barrier condition. It takes the system's state as input and returns a scalar value representing the barrier function's output.\n",
        "    - nndm_h (NN): A neural network-based decision-making model that predicts the barrier function value for the next state, given the current state and a proposed action.\n",
        "    - q_network (NN): A neural network that returns Q-values for each action given the current state. Used to select the optimal action among the safe actions.\n",
        "    - alpha (float): A scaling factor used in the safety criterion. It scales the current barrier function value to set a threshold for the next state's barrier function value.\n",
        "\n",
        "    Returns:\n",
        "    - The selected action as a numpy array item. If there are multiple safe actions, it returns the one with the highest Q-value. If there's only one safe action, it returns that action directly.\n",
        "\n",
        "    Raises:\n",
        "    - InfeasibilityError: If no safe actions are found, indicating that the current state is infeasible under the given safety constraints.\n",
        "    \"\"\"\n",
        "    safe_actions = []\n",
        "    h_cur = hfunction(state).view(1, -1)\n",
        "    for action in action_space:\n",
        "        h_next = nndm_h(torch.cat((state, action.unsqueeze(0))).view(1, -1))\n",
        "        if (h_next >= alpha * h_cur).item():\n",
        "            safe_actions.append(action)\n",
        "\n",
        "    if safe_actions and len(safe_actions) > 1:\n",
        "        q_values = q_network(state)\n",
        "        mask = torch.zeros_like(q_values, dtype=torch.bool)\n",
        "        for action in safe_actions:\n",
        "            mask[action] = True\n",
        "\n",
        "        safe_q_values = q_values.masked_fill(~mask, float('-inf'))\n",
        "        best_action_index = torch.argmax(safe_q_values)\n",
        "        best_action = action_space[best_action_index]\n",
        "        return best_action.cpu().detach().numpy().item()\n",
        "    elif safe_actions:\n",
        "        return safe_actions[0].cpu().detach().numpy().item()\n",
        "    else:\n",
        "        raise InfeasibilityError()"
      ]
    },
    {
      "cell_type": "code",
      "execution_count": 31,
      "metadata": {
        "id": "lJVulreVlBeh",
        "outputId": "e1780006-0c5e-45a6-fd73-2bd7305ef1cd"
      },
      "outputs": [
        {
          "ename": "TypeError",
          "evalue": "tuple is not a Module subclass",
          "output_type": "error",
          "traceback": [
            "\u001b[0;31m---------------------------------------------------------------------------\u001b[0m",
            "\u001b[0;31mTypeError\u001b[0m                                 Traceback (most recent call last)",
            "Cell \u001b[0;32mIn[31], line 7\u001b[0m\n\u001b[1;32m      5\u001b[0m \u001b[39m# Define the control barrier function (h) and the NNDM + HHead combined network\u001b[39;00m\n\u001b[1;32m      6\u001b[0m h_function \u001b[39m=\u001b[39m HHead(x_position, pole_angel)\u001b[39m.\u001b[39mto(device)\n\u001b[0;32m----> 7\u001b[0m nndm_h \u001b[39m=\u001b[39m NNDM_HHead(x_position, pole_angel)\u001b[39m.\u001b[39mto(device)\n\u001b[1;32m      9\u001b[0m \u001b[39m# Load the pre-trained parameters for NNDM\u001b[39;00m\n\u001b[1;32m     10\u001b[0m nndm_pretrained_params \u001b[39m=\u001b[39m nndm\u001b[39m.\u001b[39mstate_dict()\n",
            "Cell \u001b[0;32mIn[23], line 16\u001b[0m, in \u001b[0;36mNNDM_HHead.__init__\u001b[0;34m(self, x_0_max, x_2_max)\u001b[0m\n\u001b[1;32m     15\u001b[0m \u001b[39mdef\u001b[39;00m \u001b[39m__init__\u001b[39m(\u001b[39mself\u001b[39m, x_0_max, x_2_max):\n\u001b[0;32m---> 16\u001b[0m     \u001b[39msuper\u001b[39;49m(NNDM_HHead, \u001b[39mself\u001b[39;49m)\u001b[39m.\u001b[39;49m\u001b[39m__init__\u001b[39;49m(\n\u001b[1;32m     17\u001b[0m         (\u001b[39m'\u001b[39;49m\u001b[39mnndm\u001b[39;49m\u001b[39m'\u001b[39;49m, NNDM()),\n\u001b[1;32m     18\u001b[0m         (\u001b[39m'\u001b[39;49m\u001b[39mhhead\u001b[39;49m\u001b[39m'\u001b[39;49m, HHead(x_0_max, x_2_max))\n\u001b[1;32m     19\u001b[0m     )\n",
            "File \u001b[0;32m~/Documents/Studie/Minor Engineering wit AI/CAI/venv/lib/python3.11/site-packages/torch/nn/modules/container.py:104\u001b[0m, in \u001b[0;36mSequential.__init__\u001b[0;34m(self, *args)\u001b[0m\n\u001b[1;32m    102\u001b[0m \u001b[39melse\u001b[39;00m:\n\u001b[1;32m    103\u001b[0m     \u001b[39mfor\u001b[39;00m idx, module \u001b[39min\u001b[39;00m \u001b[39menumerate\u001b[39m(args):\n\u001b[0;32m--> 104\u001b[0m         \u001b[39mself\u001b[39;49m\u001b[39m.\u001b[39;49madd_module(\u001b[39mstr\u001b[39;49m(idx), module)\n",
            "File \u001b[0;32m~/Documents/Studie/Minor Engineering wit AI/CAI/venv/lib/python3.11/site-packages/torch/nn/modules/module.py:610\u001b[0m, in \u001b[0;36mModule.add_module\u001b[0;34m(self, name, module)\u001b[0m\n\u001b[1;32m    600\u001b[0m \u001b[39m\u001b[39m\u001b[39mr\u001b[39m\u001b[39m\"\"\"Adds a child module to the current module.\u001b[39;00m\n\u001b[1;32m    601\u001b[0m \n\u001b[1;32m    602\u001b[0m \u001b[39mThe module can be accessed as an attribute using the given name.\u001b[39;00m\n\u001b[0;32m   (...)\u001b[0m\n\u001b[1;32m    607\u001b[0m \u001b[39m    module (Module): child module to be added to the module.\u001b[39;00m\n\u001b[1;32m    608\u001b[0m \u001b[39m\"\"\"\u001b[39;00m\n\u001b[1;32m    609\u001b[0m \u001b[39mif\u001b[39;00m \u001b[39mnot\u001b[39;00m \u001b[39misinstance\u001b[39m(module, Module) \u001b[39mand\u001b[39;00m module \u001b[39mis\u001b[39;00m \u001b[39mnot\u001b[39;00m \u001b[39mNone\u001b[39;00m:\n\u001b[0;32m--> 610\u001b[0m     \u001b[39mraise\u001b[39;00m \u001b[39mTypeError\u001b[39;00m(\u001b[39mf\u001b[39m\u001b[39m\"\u001b[39m\u001b[39m{\u001b[39;00mtorch\u001b[39m.\u001b[39mtypename(module)\u001b[39m}\u001b[39;00m\u001b[39m is not a Module subclass\u001b[39m\u001b[39m\"\u001b[39m)\n\u001b[1;32m    611\u001b[0m \u001b[39melif\u001b[39;00m \u001b[39mnot\u001b[39;00m \u001b[39misinstance\u001b[39m(name, \u001b[39mstr\u001b[39m):\n\u001b[1;32m    612\u001b[0m     \u001b[39mraise\u001b[39;00m \u001b[39mTypeError\u001b[39;00m(\u001b[39mf\u001b[39m\u001b[39m\"\u001b[39m\u001b[39mmodule name should be a string. Got \u001b[39m\u001b[39m{\u001b[39;00mtorch\u001b[39m.\u001b[39mtypename(name)\u001b[39m}\u001b[39;00m\u001b[39m\"\u001b[39m)\n",
            "\u001b[0;31mTypeError\u001b[0m: tuple is not a Module subclass"
          ]
        }
      ],
      "source": [
        "# Parameters for safety function\n",
        "x_position = 2.4\n",
        "pole_angel = 0.2095  # In radians\n",
        "\n",
        "# Define the control barrier function (h) and the NNDM + HHead combined network\n",
        "h_function = HHead(x_position, pole_angel).to(device)\n",
        "nndm_h = NNDM_HHead(x_position, pole_angel).to(device)\n",
        "\n",
        "# Load the pre-trained parameters for NNDM\n",
        "nndm_pretrained_params = nndm.state_dict()\n",
        "\n",
        "# Assign the pre-trained parameters to the nndm module of NNDM_HHead\n",
        "nndm_h.nndm.load_state_dict(nndm_pretrained_params)"
      ]
    },
    {
      "cell_type": "code",
      "execution_count": null,
      "metadata": {
        "id": "erSA_Vj6lBeh",
        "outputId": "388d8890-15c5-46fd-e21c-def736b4ba56"
      },
      "outputs": [
        {
          "ename": "InfeasibilityError",
          "evalue": "No safe action to take",
          "output_type": "error",
          "traceback": [
            "\u001b[0;31m---------------------------------------------------------------------------\u001b[0m",
            "\u001b[0;31mInfeasibilityError\u001b[0m                        Traceback (most recent call last)",
            "Cell \u001b[0;32mIn[19], line 19\u001b[0m\n\u001b[1;32m     17\u001b[0m action \u001b[39m=\u001b[39m policy_net(state)\n\u001b[1;32m     18\u001b[0m action \u001b[39m=\u001b[39m np\u001b[39m.\u001b[39marray(torch\u001b[39m.\u001b[39margmax(action))\n\u001b[0;32m---> 19\u001b[0m action \u001b[39m=\u001b[39m discrete_cbf(action_space, state, h_function, nndm_h, policy_net, \u001b[39m0.8\u001b[39;49m)\n\u001b[1;32m     20\u001b[0m state, reward, terminated, truncated, _ \u001b[39m=\u001b[39m env\u001b[39m.\u001b[39mstep(action)\n\u001b[1;32m     22\u001b[0m \u001b[39m# append new state information to lists\u001b[39;00m\n",
            "Cell \u001b[0;32mIn[14], line 39\u001b[0m, in \u001b[0;36mdiscrete_cbf\u001b[0;34m(action_space, state, hfunction, nndm_h, q_network, alpha)\u001b[0m\n\u001b[1;32m     37\u001b[0m     \u001b[39mreturn\u001b[39;00m safe_actions[\u001b[39m0\u001b[39m]\u001b[39m.\u001b[39mview(\u001b[39m1\u001b[39m, \u001b[39m1\u001b[39m)\u001b[39m.\u001b[39mcpu()\u001b[39m.\u001b[39mdetach()\u001b[39m.\u001b[39mnumpy()\u001b[39m.\u001b[39mitem()\n\u001b[1;32m     38\u001b[0m \u001b[39melse\u001b[39;00m:\n\u001b[0;32m---> 39\u001b[0m     \u001b[39mraise\u001b[39;00m InfeasibilityError()\n",
            "\u001b[0;31mInfeasibilityError\u001b[0m: No safe action to take"
          ]
        }
      ],
      "source": [
        "env = gym.make(\"CartPole-v1\", render_mode='human')\n",
        "observation, _ = env.reset()  # initialize the environment randomly\n",
        "\n",
        "action_space = torch.tensor([0, 1])\n",
        "\n",
        "N = 5000  # how long to run the simulation for\n",
        "frames: list[int] = list(range(N+1))  # list of frames for plotting\n",
        "\n",
        "# save the start information and create lists to save simulation data\n",
        "true_position = [observation[0]]\n",
        "true_angle = [observation[2]]\n",
        "actions = []\n",
        "state = observation\n",
        "\n",
        "for i in range(N):\n",
        "    state = torch.Tensor(state)\n",
        "    action = policy_net(state)\n",
        "    action = np.array(torch.argmax(action))\n",
        "    action = discrete_cbf(action_space, state, h_function, nndm_h, policy_net, 0.8)\n",
        "    state, reward, terminated, truncated, _ = env.step(action)\n",
        "\n",
        "    # append new state information to lists\n",
        "    actions.append(action)\n",
        "    true_position.append(state[0])\n",
        "    true_angle.append(state[2])\n",
        "\n",
        "    if truncated or terminated:\n",
        "        state, _ = env.reset()\n",
        "\n",
        "env.close()  # close the simulation environment\n"
      ]
    },
    {
      "cell_type": "code",
      "execution_count": 1,
      "metadata": {},
      "outputs": [
        {
          "ename": "NameError",
          "evalue": "name 'gym' is not defined",
          "output_type": "error",
          "traceback": [
            "\u001b[0;31m---------------------------------------------------------------------------\u001b[0m",
            "\u001b[0;31mNameError\u001b[0m                                 Traceback (most recent call last)",
            "Cell \u001b[0;32mIn[1], line 1\u001b[0m\n\u001b[0;32m----> 1\u001b[0m env \u001b[39m=\u001b[39m gym\u001b[39m.\u001b[39mmake(\u001b[39m\"\u001b[39m\u001b[39mCartPole-v1\u001b[39m\u001b[39m\"\u001b[39m)\n\u001b[1;32m      2\u001b[0m observation, _ \u001b[39m=\u001b[39m env\u001b[39m.\u001b[39mreset()  \u001b[39m# initialize the environment randomly\u001b[39;00m\n\u001b[1;32m      4\u001b[0m action_space \u001b[39m=\u001b[39m torch\u001b[39m.\u001b[39mtensor([\u001b[39m0\u001b[39m, \u001b[39m1\u001b[39m])\n",
            "\u001b[0;31mNameError\u001b[0m: name 'gym' is not defined"
          ]
        }
      ],
      "source": [
        "env = gym.make(\"CartPole-v1\")\n",
        "observation, _ = env.reset()  # initialize the environment randomly\n",
        "\n",
        "action_space = torch.tensor([0, 1])\n",
        "\n",
        "N = 5000  # how long to run the simulation for\n",
        "frames: list[int] = list(range(N+1))  # list of frames for plotting\n",
        "\n",
        "# save the start information and create lists to save simulation data\n",
        "positions = []\n",
        "angles = []\n",
        "true_position = [observation[0]]\n",
        "true_angle = [observation[2]]\n",
        "state = observation\n",
        "step = 0\n",
        "\n",
        "for i in range(N):\n",
        "    state = torch.Tensor(state)\n",
        "    action = policy_net(state)\n",
        "    action = np.array(torch.argmax(action))\n",
        "    # action = discrete_cbf(action_space, state, h_function, nndm_h, policy_net, 0.8)\n",
        "    state, reward, terminated, truncated, _ = env.step(action)\n",
        "\n",
        "    # append new state information to lists\n",
        "    true_position.append(step, state[0])\n",
        "    true_angle.append(step, state[2])\n",
        "\n",
        "    step += 1\n",
        "\n",
        "    if truncated or terminated:\n",
        "        positions.append(true_position)\n",
        "        angles.append(true_angle)\n",
        "        state, _ = env.reset()\n",
        "        true_position = [state[0]]\n",
        "        true_angle = [state[2]]\n",
        "        step = 0\n",
        "\n",
        "env.close()  # close the simulation environment"
      ]
    },
    {
      "cell_type": "code",
      "execution_count": null,
      "metadata": {},
      "outputs": [],
      "source": [
        "import matplotlib.pyplot as plt\n",
        "\n",
        "# Assuming 'positions' and 'angles' lists contain the position and angle data for each episode\n",
        "\n",
        "# Plot for True Angles vs Steps\n",
        "plt.figure(figsize=(10, 5))\n",
        "plt.title(\"True Angles vs Steps\")\n",
        "plt.xlabel(\"Steps\")\n",
        "plt.ylabel(\"True Angles\")\n",
        "for angle_data in angles:\n",
        "    plt.plot(range(len(angle_data)), angle_data)\n",
        "plt.show()\n",
        "\n",
        "# Plot for True Positions vs Steps\n",
        "plt.figure(figsize=(10, 5))\n",
        "plt.title(\"True Positions vs Steps\")\n",
        "plt.xlabel(\"Steps\")\n",
        "plt.ylabel(\"True Positions\")\n",
        "for position_data in positions:\n",
        "    plt.plot(range(len(position_data)), position_data)\n",
        "plt.show()"
      ]
    }
  ],
  "metadata": {
    "colab": {
      "provenance": []
    },
    "kernelspec": {
      "display_name": "venv",
      "language": "python",
      "name": "python3"
    },
    "language_info": {
      "codemirror_mode": {
        "name": "ipython",
        "version": 3
      },
      "file_extension": ".py",
      "mimetype": "text/x-python",
      "name": "python",
      "nbconvert_exporter": "python",
      "pygments_lexer": "ipython3",
      "version": "3.11.3 (v3.11.3:f3909b8bc8, Apr  4 2023, 20:12:10) [Clang 13.0.0 (clang-1300.0.29.30)]"
    },
    "vscode": {
      "interpreter": {
        "hash": "5a40ef642b076910db029035e8a6499a4c0b1b5d539d6340d12e574079074661"
      }
    }
  },
  "nbformat": 4,
  "nbformat_minor": 0
}
