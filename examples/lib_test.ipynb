{
 "cells": [
  {
   "cell_type": "code",
   "execution_count": 1,
   "metadata": {
    "ExecuteTime": {
     "end_time": "2024-01-26T13:25:06.715526700Z",
     "start_time": "2024-01-26T13:25:02.793360700Z"
    }
   },
   "outputs": [
    {
     "ename": "IndentationError",
     "evalue": "expected an indented block after 'else' statement on line 48 (evaluation.py, line 51)",
     "output_type": "error",
     "traceback": [
      "Traceback \u001B[1;36m(most recent call last)\u001B[0m:\n",
      "\u001B[0m  File \u001B[0;32m~\\PycharmProjects\\Capstone\\venv\\Lib\\site-packages\\IPython\\core\\interactiveshell.py:3553\u001B[0m in \u001B[0;35mrun_code\u001B[0m\n    exec(code_obj, self.user_global_ns, self.user_ns)\u001B[0m\n",
      "\u001B[0m  Cell \u001B[0;32mIn[1], line 5\u001B[0m\n    from capstone.settings import Cartpole\u001B[0m\n",
      "\u001B[1;36m  File \u001B[1;32m~\\PycharmProjects\\Capstone\\examples\\../src\\capstone\\__init__.py:7\u001B[1;36m\n\u001B[1;33m    from .evaluation import Evaluator\u001B[1;36m\n",
      "\u001B[1;36m  File \u001B[1;32m~\\PycharmProjects\\Capstone\\examples\\../src\\capstone\\evaluation.py:51\u001B[1;36m\u001B[0m\n\u001B[1;33m    if self.is_discrete:\u001B[0m\n\u001B[1;37m    ^\u001B[0m\n\u001B[1;31mIndentationError\u001B[0m\u001B[1;31m:\u001B[0m expected an indented block after 'else' statement on line 48\n"
     ]
    }
   ],
   "source": [
    "import torch\n",
    "import sys\n",
    "sys.path.insert(0, '../src')  # Adjust the path to the root of the package\n",
    "\n",
    "from capstone.settings import Cartpole\n",
    "from capstone.training import Trainer\n",
    "from capstone.evaluation import Evaluator\n",
    "\n",
    "from capstone.barriers import NNDM_H\n",
    "from capstone.cbf import CBF\n",
    "\n",
    "from capstone.nndm import NNDM\n",
    "from capstone.dqn import DQN\n",
    "from capstone.ddpg import Actor"
   ]
  },
  {
   "cell_type": "code",
   "execution_count": 2,
   "metadata": {
    "ExecuteTime": {
     "end_time": "2024-01-26T13:23:11.040625900Z",
     "start_time": "2024-01-26T13:23:10.984027200Z"
    }
   },
   "outputs": [
    {
     "ename": "NameError",
     "evalue": "name 'Cartpole' is not defined",
     "output_type": "error",
     "traceback": [
      "\u001B[1;31m---------------------------------------------------------------------------\u001B[0m",
      "\u001B[1;31mNameError\u001B[0m                                 Traceback (most recent call last)",
      "Cell \u001B[1;32mIn[2], line 1\u001B[0m\n\u001B[1;32m----> 1\u001B[0m env \u001B[38;5;241m=\u001B[39m \u001B[43mCartpole\u001B[49m()\n",
      "\u001B[1;31mNameError\u001B[0m: name 'Cartpole' is not defined"
     ]
    }
   ],
   "source": [
    "env = Cartpole()"
   ]
  },
  {
   "cell_type": "code",
   "execution_count": 29,
   "metadata": {},
   "outputs": [
    {
     "name": "stdout",
     "output_type": "stream",
     "text": [
      "/Users/koentuin/Documents/Studie/Minor Engineering wit AI/CAI/Capstone/examples\n"
     ]
    }
   ],
   "source": [
    "import os\n",
    "print(os.getcwd())"
   ]
  },
  {
   "cell_type": "code",
   "execution_count": 26,
   "metadata": {},
   "outputs": [
    {
     "name": "stderr",
     "output_type": "stream",
     "text": [
      "  0%|          | 0/200 [00:00<?, ?it/s]"
     ]
    },
    {
     "name": "stdout",
     "output_type": "stream",
     "text": [
      "Unexpected exception formatting exception. Falling back to standard exception\n"
     ]
    },
    {
     "name": "stderr",
     "output_type": "stream",
     "text": [
      "\n",
      "Traceback (most recent call last):\n",
      "  File \"/Users/koentuin/Documents/Studie/Minor Engineering wit AI/CAI/venv/lib/python3.11/site-packages/IPython/core/interactiveshell.py\", line 3553, in run_code\n",
      "    exec(code_obj, self.user_global_ns, self.user_ns)\n",
      "  File \"/var/folders/s8/ldh2lbpn1sx0sk0ypljb0rpm0000gn/T/ipykernel_47979/1242368290.py\", line 2, in <module>\n",
      "    policy, nndm = pipeline.train()\n",
      "                   ^^^^^^^^^^^^^^^^\n",
      "  File \"/Users/koentuin/Documents/Studie/Minor Engineering wit AI/CAI/Capstone/examples/../src/capstone/training.py\", line 42, in train\n",
      "    return self.ddqn_train()\n",
      "           ^^^^^^^^^^^^^^^^^\n",
      "  File \"/Users/koentuin/Documents/Studie/Minor Engineering wit AI/CAI/Capstone/examples/../src/capstone/training.py\", line 59, in ddqn_train\n",
      "    observation, reward, terminated, _, _ = self.env.step(action.item())\n",
      "                                            ^^^^^^^^^^^^^^^^^^^^^^^^^^^^\n",
      "  File \"/Users/koentuin/Documents/Studie/Minor Engineering wit AI/CAI/Capstone/examples/../src/capstone/settings.py\", line 301, in step\n",
      "AttributeError: 'CartPoleEnv' object has no attribute 'lander'\n",
      "\n",
      "During handling of the above exception, another exception occurred:\n",
      "\n",
      "Traceback (most recent call last):\n",
      "  File \"/Users/koentuin/Documents/Studie/Minor Engineering wit AI/CAI/venv/lib/python3.11/site-packages/IPython/core/interactiveshell.py\", line 2144, in showtraceback\n",
      "    stb = self.InteractiveTB.structured_traceback(\n",
      "          ^^^^^^^^^^^^^^^^^^^^^^^^^^^^^^^^^^^^^^^^\n",
      "  File \"/Users/koentuin/Documents/Studie/Minor Engineering wit AI/CAI/venv/lib/python3.11/site-packages/IPython/core/ultratb.py\", line 1435, in structured_traceback\n",
      "    return FormattedTB.structured_traceback(\n",
      "           ^^^^^^^^^^^^^^^^^^^^^^^^^^^^^^^^^\n",
      "  File \"/Users/koentuin/Documents/Studie/Minor Engineering wit AI/CAI/venv/lib/python3.11/site-packages/IPython/core/ultratb.py\", line 1326, in structured_traceback\n",
      "    return VerboseTB.structured_traceback(\n",
      "           ^^^^^^^^^^^^^^^^^^^^^^^^^^^^^^^\n",
      "  File \"/Users/koentuin/Documents/Studie/Minor Engineering wit AI/CAI/venv/lib/python3.11/site-packages/IPython/core/ultratb.py\", line 1173, in structured_traceback\n",
      "    formatted_exception = self.format_exception_as_a_whole(etype, evalue, etb, number_of_lines_of_context,\n",
      "                          ^^^^^^^^^^^^^^^^^^^^^^^^^^^^^^^^^^^^^^^^^^^^^^^^^^^^^^^^^^^^^^^^^^^^^^^^^^^^^^^^\n",
      "  File \"/Users/koentuin/Documents/Studie/Minor Engineering wit AI/CAI/venv/lib/python3.11/site-packages/IPython/core/ultratb.py\", line 1088, in format_exception_as_a_whole\n",
      "    frames.append(self.format_record(record))\n",
      "                  ^^^^^^^^^^^^^^^^^^^^^^^^^^\n",
      "  File \"/Users/koentuin/Documents/Studie/Minor Engineering wit AI/CAI/venv/lib/python3.11/site-packages/IPython/core/ultratb.py\", line 970, in format_record\n",
      "    frame_info.lines, Colors, self.has_colors, lvals\n",
      "    ^^^^^^^^^^^^^^^^\n",
      "  File \"/Users/koentuin/Documents/Studie/Minor Engineering wit AI/CAI/venv/lib/python3.11/site-packages/IPython/core/ultratb.py\", line 792, in lines\n",
      "    return self._sd.lines\n",
      "           ^^^^^^^^^^^^^^\n",
      "  File \"/Users/koentuin/Documents/Studie/Minor Engineering wit AI/CAI/venv/lib/python3.11/site-packages/stack_data/utils.py\", line 145, in cached_property_wrapper\n",
      "    value = obj.__dict__[self.func.__name__] = self.func(obj)\n",
      "                                               ^^^^^^^^^^^^^^\n",
      "  File \"/Users/koentuin/Documents/Studie/Minor Engineering wit AI/CAI/venv/lib/python3.11/site-packages/stack_data/core.py\", line 734, in lines\n",
      "    pieces = self.included_pieces\n",
      "             ^^^^^^^^^^^^^^^^^^^^\n",
      "  File \"/Users/koentuin/Documents/Studie/Minor Engineering wit AI/CAI/venv/lib/python3.11/site-packages/stack_data/utils.py\", line 145, in cached_property_wrapper\n",
      "    value = obj.__dict__[self.func.__name__] = self.func(obj)\n",
      "                                               ^^^^^^^^^^^^^^\n",
      "  File \"/Users/koentuin/Documents/Studie/Minor Engineering wit AI/CAI/venv/lib/python3.11/site-packages/stack_data/core.py\", line 681, in included_pieces\n",
      "    pos = scope_pieces.index(self.executing_piece)\n",
      "                             ^^^^^^^^^^^^^^^^^^^^\n",
      "  File \"/Users/koentuin/Documents/Studie/Minor Engineering wit AI/CAI/venv/lib/python3.11/site-packages/stack_data/utils.py\", line 145, in cached_property_wrapper\n",
      "    value = obj.__dict__[self.func.__name__] = self.func(obj)\n",
      "                                               ^^^^^^^^^^^^^^\n",
      "  File \"/Users/koentuin/Documents/Studie/Minor Engineering wit AI/CAI/venv/lib/python3.11/site-packages/stack_data/core.py\", line 660, in executing_piece\n",
      "    return only(\n",
      "           ^^^^^\n",
      "  File \"/Users/koentuin/Documents/Studie/Minor Engineering wit AI/CAI/venv/lib/python3.11/site-packages/executing/executing.py\", line 116, in only\n",
      "    raise NotOneValueFound('Expected one value, found 0')\n",
      "executing.executing.NotOneValueFound: Expected one value, found 0\n"
     ]
    }
   ],
   "source": [
    "pipeline = Trainer(env)\n",
    "policy, nndm = pipeline.train()\n",
    "\n",
    "torch.save(policy.state_dict(), f'../Agents/{type(env).__name__}')\n",
    "torch.save(nndm.state_dict(), f'../NNDMs/{type(env).__name__}')"
   ]
  },
  {
   "cell_type": "code",
   "execution_count": 11,
   "metadata": {},
   "outputs": [
    {
     "data": {
      "text/plain": [
       "<capstone.training.Trainer at 0x176727810>"
      ]
     },
     "execution_count": 11,
     "metadata": {},
     "output_type": "execute_result"
    }
   ],
   "source": [
    "policy = DQN(env) if env.is_discrete else Actor(env)\n",
    "policy_params = torch.load(f'../Agents/{type(env).__name__}')\n",
    "policy.load_state_dict(policy_params)\n",
    "\n",
    "nndm = NNDM(env)\n",
    "nndm_params = torch.load(f'../NNDMs/{type(env).__name__}')\n",
    "nndm.load_state_dict(nndm_params)\n",
    "\n",
    "evaluator = Evaluator(env)\n",
    "\n",
    "h = NNDM_H(env, nndm)\n",
    "cbf = CBF(env, h, policy, alpha=0.9)\n",
    "\n",
    "evaluator.play(policy)\n",
    "evaluator.nice_plots(policy, 0.9, 0, 10, 500, 1)"
   ]
  }
 ],
 "metadata": {
  "kernelspec": {
   "display_name": "venv",
   "language": "python",
   "name": "python3"
  },
  "language_info": {
   "codemirror_mode": {
    "name": "ipython",
    "version": 3
   },
   "file_extension": ".py",
   "mimetype": "text/x-python",
   "name": "python",
   "nbconvert_exporter": "python",
   "pygments_lexer": "ipython3",
   "version": "3.11.3"
  },
  "orig_nbformat": 4,
  "vscode": {
   "interpreter": {
    "hash": "5a40ef642b076910db029035e8a6499a4c0b1b5d539d6340d12e574079074661"
   }
  }
 },
 "nbformat": 4,
 "nbformat_minor": 2
}
