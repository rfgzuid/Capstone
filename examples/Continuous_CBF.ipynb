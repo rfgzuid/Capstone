{
  "cells": [
    {
      "cell_type": "code",
      "execution_count": 105,
      "metadata": {
        "id": "EQMzLhfyk1ro",
        "outputId": "4b79c8ba-cf42-4d64-eebf-e3b32b4fcb3a"
      },
      "outputs": [],
      "source": [
        "from collections import OrderedDict\n",
        "from torch import nn\n",
        "from bound_propagation import BoundModelFactory, HyperRectangle\n",
        "from bound_propagation.polynomial import Pow\n",
        "from bound_propagation.bounds import LinearBounds\n",
        "import torch\n",
        "from scipy.stats import norm\n",
        "import numpy as np\n",
        "import cvxpy as cp\n",
        "import gymnasium as gym\n",
        "from gymnasium import spaces"
      ]
    },
    {
      "cell_type": "code",
      "execution_count": 62,
      "metadata": {
        "id": "vJrpCTQrk1rq"
      },
      "outputs": [],
      "source": [
        "def create_action_partitions(env, partitions):\n",
        "    \"\"\"\n",
        "    Generates partitions of the action space of a reinforcement learning environment into smaller hyperrectangles.\n",
        "\n",
        "    This function is useful for discretizing a continuous action space into smaller, manageable parts, allowing for more granular exploration or analysis.\n",
        "\n",
        "    Parameters:\n",
        "    - env (Environment): The reinforcement learning environment object, which should have an action space attribute.\n",
        "    - partitions (int): The number of partitions to create along each dimension of the action space.\n",
        "\n",
        "    Each dimension of the action space is divided into 'partitions' number of equal parts. For an action space with 'n' dimensions, this results in 'partitions^n' total hyperrectangles.\n",
        "\n",
        "    Returns:\n",
        "    - A list of HyperRectangle objects, each representing a partition of the action space. Each HyperRectangle object is defined by its lower and upper bounds in the action space.\n",
        "    \"\"\"\n",
        "    action_space = env.action_space\n",
        "    num_actions = action_space.shape[0]\n",
        "    action_low = action_space.low\n",
        "    action_high = action_space.high\n",
        "\n",
        "    res = []\n",
        "\n",
        "    def generate_partitions(dimensions, lower, upper, current_partition):\n",
        "        if dimensions == num_actions:\n",
        "            # If we've reached the number of dimensions, add the current partition\n",
        "            res.append(HyperRectangle(torch.tensor(lower, dtype=torch.float32).unsqueeze(0), torch.tensor(upper, dtype=torch.float32).unsqueeze(0)))\n",
        "        else:\n",
        "            # Calculate the size of the partition for the current dimension\n",
        "            partition_size = (action_high[dimensions] - action_low[dimensions]) / partitions\n",
        "\n",
        "            for part in range(partitions):\n",
        "                # Determine the lower and upper bounds for the current dimension\n",
        "                dim_lower_bound = action_low[dimensions] + part * partition_size\n",
        "                dim_upper_bound = dim_lower_bound + partition_size\n",
        "\n",
        "                # Recursively generate partitions for the next dimension\n",
        "                generate_partitions(dimensions + 1, lower + [dim_lower_bound], upper + [dim_upper_bound], current_partition)\n",
        "\n",
        "    generate_partitions(0, [], [], [])\n",
        "\n",
        "    return res"
      ]
    },
    {
      "cell_type": "code",
      "execution_count": 63,
      "metadata": {
        "id": "rtWNurG4k1rr"
      },
      "outputs": [],
      "source": [
        "def get_lower_bound(model, state, action_partition, epsilon):\n",
        "    \"\"\"\n",
        "    Computes the lower bound of the output for a given state-action pair using CROWN (Convex Relaxation for neural network Output bounNd) method.\n",
        "\n",
        "    This function applies CROWN, a method for robustness verification of neural networks, to compute the lower bound of the neural network's output for a given state-action pair within a specified perturbation range. The perturbation range is defined by epsilon around the state-action pair.\n",
        "\n",
        "    Parameters:\n",
        "    - model (NN): The neural network model for which the bounds are computed.\n",
        "    - state (Tensor): The current state of the system, represented as a tensor.\n",
        "    - action (Tensor): The action to be evaluated, represented as a tensor.\n",
        "    - epsilon (float): The perturbation range around the state-action pair within which the lower bound is computed.\n",
        "\n",
        "    Returns:\n",
        "    - A tensor representing the lower bound of the network's output for the given state-action pair within the specified perturbation range. The shape of the tensor matches the concatenated state-action input shape.\n",
        "\n",
        "    Notes:\n",
        "    - The method assumes that the input to 'model' is a concatenation of state and action.\n",
        "    - The lower bound is computed using the CROWN method, which involves a convex relaxation technique to estimate bounds on neural network outputs.\n",
        "    - HyperRectangle.from_eps is used to define the perturbation range around the input state-action pair.\n",
        "    \"\"\"\n",
        "    state_partition = HyperRectangle.from_eps(state.view(1, -1), epsilon)\n",
        "\n",
        "    input_bounds = HyperRectangle(\n",
        "        torch.cat((state_partition.lower, action_partition.lower), dim=1),\n",
        "        torch.cat((state_partition.upper, action_partition.upper), dim=1)\n",
        "    )\n",
        "    crown_bounds = model.crown(input_bounds, bound_upper=False)\n",
        "\n",
        "    crown_bounds.lower # (A, b)\n",
        "\n",
        "    return crown_bounds.lower"
      ]
    },
    {
      "cell_type": "code",
      "execution_count": 140,
      "metadata": {
        "id": "TzN2anPCk1rs"
      },
      "outputs": [],
      "source": [
        "def create_bound_matrices(partitions, state, env, boundnet):\n",
        "    \"\"\"\n",
        "    Computes bound matrices for action partitions in a given state using a bound network.\n",
        "\n",
        "    Parameters:\n",
        "    - partitions (Iterable): A collection of partitions of the action space, each representing a subset of potential actions.\n",
        "    - state (Tensor): The current state of the system, represented as a tensor.\n",
        "    - env: The environment object, containing information about the action space.\n",
        "    - boundnet (NN): A neural network used to compute linear bounds for a given state and action.\n",
        "\n",
        "    Returns:\n",
        "    - A list of tuples. Each tuple contains:\n",
        "        1. An action partition,\n",
        "        2. A tensor representing the action-dependent component of the bound for that partition,\n",
        "        3. A numpy array representing the state vector component of the bound.\n",
        "    \"\"\"\n",
        "    action_space = env.action_space\n",
        "    action_dimensionality = action_space.shape[0]\n",
        "    res = []\n",
        "    for action_partition in partitions:\n",
        "        print(\"partition\", action_partition.lower.shape)\n",
        "        print(\"state\", state.shape)\n",
        "        (A, b) = get_lower_bound(boundnet, state, action_partition, 0.01)\n",
        "        h_action_dependent = A[:, :, -action_dimensionality:]\n",
        "        # State input region is a hyperrectangle with \"radius\" 0.01\n",
        "        state_input_bounds = HyperRectangle.from_eps(state, 0.01)\n",
        "        # State dependent part of the A matrix\n",
        "        state_A = A[:, :, :-action_dimensionality]\n",
        "        # Make this into a (lower) linear bounds (\\underbar{A}_x x + b \\leq ...)\n",
        "        state_linear_bounds = LinearBounds(state_input_bounds, (state_A, b), None)\n",
        "        # Convert to lower interval bounds (b \\leq ...)\n",
        "        state_interval_bounds = state_linear_bounds.concretize()\n",
        "        # Select the lower bound\n",
        "        h_vec = state_interval_bounds.lower\n",
        "\n",
        "        vecs = (action_partition, h_action_dependent.squeeze().detach().numpy(), h_vec.squeeze().detach().numpy())\n",
        "        res.append(vecs)\n",
        "\n",
        "    return res"
      ]
    },
    {
      "cell_type": "code",
      "execution_count": 65,
      "metadata": {
        "id": "kwejjbz4k1rt"
      },
      "outputs": [],
      "source": [
        "class InfeasibilityError(Exception):\n",
        "    \"\"\"Exception raised if there are no actions that fulfill the safety criterions.\"\"\"\n",
        "\n",
        "    def __init__(self, message=\"No safe action to take\"):\n",
        "        self.message = message\n",
        "        super().__init__(self.message)"
      ]
    },
    {
      "cell_type": "code",
      "execution_count": 70,
      "metadata": {
        "id": "x9otczxgk1ru"
      },
      "outputs": [],
      "source": [
        "def continuous_cbf(bound_matrices, nominal_action, h_current, alpha):\n",
        "    \"\"\"\n",
        "    Selects a safe action from bound matrices using continuous control barrier functions (CBF).\n",
        "\n",
        "    Parameters:\n",
        "    - bound_matrices (Iterable): An iterable of tuples, each containing the action partition, the action-dependent component of the barrier function h, and the state vector component of the bound of h.\n",
        "    - nominal_action (Tensor): The preferred action in the current state, typically derived from an unconstrained policy.\n",
        "    - h_current (Tensor): The current value of the barrier function.\n",
        "    - alpha (float): A scaling factor used in the safety criterion. It scales the current barrier function value to set a threshold for the next state's barrier function value.\n",
        "\n",
        "    Returns:\n",
        "    - The selected safe action as a numpy array. If multiple safe actions are available, it returns the one closest to the nominal action.\n",
        "\n",
        "    Raises:\n",
        "    - InfeasibilityError: If no safe actions are found, indicating that the current state is infeasible under the given safety constraints.\n",
        "    \"\"\"\n",
        "    safe_actions = []\n",
        "    for action_partition, h_action_dependent, h_vec in bound_matrices:\n",
        "        num_actions = nominal_action.shape[0]\n",
        "        action = cp.Variable(num_actions)\n",
        "\n",
        "        # Constraints\n",
        "        action_lower_bound = (action_partition).lower.reshape((-1,))\n",
        "        action_upper_bound = (action_partition).upper.reshape((-1,))\n",
        "        constraints = [action_lower_bound <= action, action <= action_upper_bound, h_action_dependent @ action + h_vec >= alpha * h_current]\n",
        "\n",
        "        # Objective\n",
        "        objective = cp.Minimize(cp.norm(action - nominal_action, 2))\n",
        "\n",
        "        # Solve the problem\n",
        "        problem = cp.Problem(objective, constraints)\n",
        "        problem.solve()\n",
        "\n",
        "        if problem.status is cp.UNBOUNDED:\n",
        "            print(\"something goes very wrong\")\n",
        "        elif problem.status is cp.INFEASIBLE:\n",
        "           pass\n",
        "        else:\n",
        "            safe_actions.append((action.value, objective.value))\n",
        "\n",
        "    if safe_actions and len(safe_actions) > 1:\n",
        "      return min(safe_actions, key=lambda x: x[1], default=(None, None))[0]\n",
        "    elif safe_actions:\n",
        "      return safe_actions[0]\n",
        "    else:\n",
        "      raise InfeasibilityError()"
      ]
    },
    {
      "cell_type": "code",
      "execution_count": 67,
      "metadata": {
        "id": "mboOyfFmk1ru"
      },
      "outputs": [],
      "source": [
        "class NNDM(nn.Sequential):\n",
        "    \"\"\"\n",
        "    TODO: write docstring\n",
        "    TODO: generalise class\n",
        "    \"\"\"\n",
        "    def __init__(self):\n",
        "        super(NNDM, self).__init__(\n",
        "            nn.Linear(29, 64),\n",
        "            nn.Tanh(),\n",
        "            nn.Linear(64, 25),\n",
        "        )\n",
        "\n",
        "    def forward(self, x):\n",
        "        out = super().forward(x)\n",
        "        return out + x[:,:25]\n",
        "\n",
        "\n",
        "class HHead(nn.Sequential):\n",
        "    \"\"\"\n",
        "    TODO: implement h function\n",
        "    TODO: write docstring\n",
        "    TODO: generalise class\n",
        "    \"\"\"\n",
        "    def __init__(self):\n",
        "\n",
        "        super().__init__(\n",
        "            Pow(2),\n",
        "            nn.Linear(25, 2)\n",
        "        )\n",
        "\n",
        "class CombinedModel(nn.Sequential):\n",
        "    def __init__(self):\n",
        "        super(CombinedModel, self).__init__(OrderedDict([\n",
        "            ('nndm', NNDM()),\n",
        "            ('hhead', HHead())\n",
        "        ]))"
      ]
    },
    {
      "cell_type": "code",
      "execution_count": 68,
      "metadata": {},
      "outputs": [],
      "source": [
        "class BipedalWalkerWithPositionWrapper(gym.Wrapper):\n",
        "    def __init__(self, env):\n",
        "        super().__init__(env)\n",
        "        # Adjust the shape of the observation space to include the additional state\n",
        "        obs_space = env.observation_space\n",
        "        low = np.append(obs_space.low.flatten(), -np.inf)\n",
        "        high = np.append(obs_space.high.flatten(), np.inf)\n",
        "        self.observation_space = spaces.Box(low=low, high=high, dtype=np.float32)\n",
        "\n",
        "    def step(self, action):\n",
        "        state, reward, terminated, truncated, info = self.env.step(action)\n",
        "        hull_position = np.array([self.env.unwrapped.hull.position[0]])\n",
        "        # Flatten the state and add the x-coordinate of the hull's position\n",
        "        extended_state = np.concatenate((state.flatten(), hull_position))\n",
        "        return extended_state, reward, terminated, truncated, info\n",
        "\n",
        "    def reset(self, **kwargs):\n",
        "        state = self.env.reset(**kwargs)\n",
        "        hull_position = np.array([self.env.unwrapped.hull.position[0]])\n",
        "        # Flatten the state and add the x-coordinate of the hull's position\n",
        "        extended_state = np.concatenate((state[0].flatten(), hull_position))\n",
        "        return extended_state"
      ]
    },
    {
      "cell_type": "code",
      "execution_count": 141,
      "metadata": {
        "id": "bZCPd6EOk1rv",
        "outputId": "08c4e66f-2e85-4173-efc9-406176e89671"
      },
      "outputs": [
        {
          "name": "stdout",
          "output_type": "stream",
          "text": [
            "partition torch.Size([1, 4])\n",
            "state torch.Size([25])\n",
            "partition torch.Size([1, 4])\n",
            "state torch.Size([25])\n",
            "partition torch.Size([1, 4])\n",
            "state torch.Size([25])\n",
            "partition torch.Size([1, 4])\n",
            "state torch.Size([25])\n",
            "partition torch.Size([1, 4])\n",
            "state torch.Size([25])\n",
            "partition torch.Size([1, 4])\n",
            "state torch.Size([25])\n",
            "partition torch.Size([1, 4])\n",
            "state torch.Size([25])\n",
            "partition torch.Size([1, 4])\n",
            "state torch.Size([25])\n",
            "partition torch.Size([1, 4])\n",
            "state torch.Size([25])\n",
            "partition torch.Size([1, 4])\n",
            "state torch.Size([25])\n",
            "partition torch.Size([1, 4])\n",
            "state torch.Size([25])\n",
            "partition torch.Size([1, 4])\n",
            "state torch.Size([25])\n",
            "partition torch.Size([1, 4])\n",
            "state torch.Size([25])\n",
            "partition torch.Size([1, 4])\n",
            "state torch.Size([25])\n",
            "partition torch.Size([1, 4])\n",
            "state torch.Size([25])\n",
            "partition torch.Size([1, 4])\n",
            "state torch.Size([25])\n"
          ]
        },
        {
          "name": "stderr",
          "output_type": "stream",
          "text": [
            "/Users/koentuin/Documents/Studie/Minor Engineering wit AI/CAI/venv/lib/python3.11/site-packages/cvxpy/reductions/solvers/solving_chain.py:336: FutureWarning: \n",
            "    Your problem is being solved with the ECOS solver by default. Starting in \n",
            "    CVXPY 1.5.0, Clarabel will be used as the default solver instead. To continue \n",
            "    using ECOS, specify the ECOS solver explicitly using the ``solver=cp.ECOS`` \n",
            "    argument to the ``problem.solve`` method.\n",
            "    \n",
            "  warnings.warn(ECOS_DEPRECATION_MSG, FutureWarning)\n"
          ]
        },
        {
          "ename": "InfeasibilityError",
          "evalue": "No safe action to take",
          "output_type": "error",
          "traceback": [
            "\u001b[0;31m---------------------------------------------------------------------------\u001b[0m",
            "\u001b[0;31mInfeasibilityError\u001b[0m                        Traceback (most recent call last)",
            "Cell \u001b[0;32mIn[141], line 23\u001b[0m\n\u001b[1;32m     21\u001b[0m nominal_action \u001b[39m=\u001b[39m torch\u001b[39m.\u001b[39mrand(\u001b[39m4\u001b[39m)\n\u001b[1;32m     22\u001b[0m bound_matrices \u001b[39m=\u001b[39m create_bound_matrices(partitions, state, env, boundnet)\n\u001b[0;32m---> 23\u001b[0m safe_action \u001b[39m=\u001b[39m continuous_cbf(bound_matrices, nominal_action, h_current, \u001b[39m-\u001b[39;49m\u001b[39m100000\u001b[39;49m)\n\u001b[1;32m     24\u001b[0m state, reward, terminated, truncated, info \u001b[39m=\u001b[39m env\u001b[39m.\u001b[39mstep(safe_action)\n\u001b[1;32m     25\u001b[0m state \u001b[39m=\u001b[39m torch\u001b[39m.\u001b[39mtensor(state, dtype\u001b[39m=\u001b[39mtorch\u001b[39m.\u001b[39mfloat32)\n",
            "Cell \u001b[0;32mIn[70], line 46\u001b[0m, in \u001b[0;36mcontinuous_cbf\u001b[0;34m(bound_matrices, nominal_action, h_current, alpha)\u001b[0m\n\u001b[1;32m     44\u001b[0m   \u001b[39mreturn\u001b[39;00m safe_actions[\u001b[39m0\u001b[39m]\n\u001b[1;32m     45\u001b[0m \u001b[39melse\u001b[39;00m:\n\u001b[0;32m---> 46\u001b[0m   \u001b[39mraise\u001b[39;00m InfeasibilityError()\n",
            "\u001b[0;31mInfeasibilityError\u001b[0m: No safe action to take"
          ]
        }
      ],
      "source": [
        "# Initialise the environment\n",
        "env = gym.make(\"BipedalWalker-v3\")\n",
        "env = BipedalWalkerWithPositionWrapper(env)\n",
        "\n",
        "# Initialise the barrier function h and the NNDM with the barrier function on top to compute linear bounds\n",
        "hnet = HHead()\n",
        "net = CombinedModel()\n",
        "factory = BoundModelFactory()\n",
        "boundnet = factory.build(net)\n",
        "\n",
        "# Generate random state, h values, and nominal action for demonstration\n",
        "\n",
        "# Generate the action partitions\n",
        "partitions = create_action_partitions(env, 2)\n",
        "\n",
        "state = env.reset()\n",
        "state = torch.tensor(state, dtype=torch.float32)\n",
        "\n",
        "while True:\n",
        "    h_current = hnet(state).view(-1).detach().numpy()\n",
        "    nominal_action = torch.rand(4)\n",
        "    bound_matrices = create_bound_matrices(partitions, state, env, boundnet)\n",
        "    safe_action = continuous_cbf(bound_matrices, nominal_action, h_current, -100000)\n",
        "    state, reward, terminated, truncated, info = env.step(safe_action)\n",
        "    state = torch.tensor(state, dtype=torch.float32)\n",
        "    print(safe_action)"
      ]
    },
    {
      "cell_type": "code",
      "execution_count": 84,
      "metadata": {},
      "outputs": [
        {
          "name": "stdout",
          "output_type": "stream",
          "text": [
            "(25,)\n"
          ]
        }
      ],
      "source": [
        "print(env.observation_space.shape)"
      ]
    },
    {
      "cell_type": "code",
      "execution_count": 87,
      "metadata": {},
      "outputs": [],
      "source": [
        "def create_noise_partitions(ids, state_dimensionality, partitions, std):\n",
        "    \"\"\"\n",
        "    Create partitions for specified dimensions in a multi-dimensional space.\n",
        "\n",
        "    Parameters:\n",
        "    ids (list): List of dimensions to be partitioned.\n",
        "    state_dimensionality (int): The total number of dimensions in the space.\n",
        "    partitions (int): Number of partitions for each dimension in ids.\n",
        "    std (float): Standard deviation used to define the partition range.\n",
        "\n",
        "    Returns:\n",
        "    list: A list of HyperRectangle objects representing the partitioned space.\n",
        "    \"\"\"\n",
        "    partition_lower, partition_upper = -6 * std, 6 * std\n",
        "\n",
        "    res = []\n",
        "\n",
        "    def generate_partitions(dimension, current_lower, current_upper):\n",
        "        if dimension == state_dimensionality:\n",
        "            # If we've reached the total number of dimensions, add the current partition\n",
        "            res.append(HyperRectangle(torch.tensor(current_lower, dtype=torch.float32).unsqueeze(0),\n",
        "                                      torch.tensor(current_upper, dtype=torch.float32).unsqueeze(0)))\n",
        "        else:\n",
        "            if dimension in ids:\n",
        "                # Partition this dimension\n",
        "                partition_size = (partition_upper - partition_lower) / partitions\n",
        "                for part in range(partitions):\n",
        "                    dim_lower_bound = partition_lower + part * partition_size\n",
        "                    dim_upper_bound = dim_lower_bound + partition_size\n",
        "                    generate_partitions(dimension + 1, current_lower + [dim_lower_bound], current_upper + [dim_upper_bound])\n",
        "            else:\n",
        "                # Set this dimension's bounds to 0 and move to the next dimension\n",
        "                generate_partitions(dimension + 1, current_lower + [0], current_upper + [0])\n",
        "\n",
        "    generate_partitions(0, [], [])\n",
        "\n",
        "    return res\n"
      ]
    },
    {
      "cell_type": "code",
      "execution_count": 106,
      "metadata": {},
      "outputs": [],
      "source": [
        "def HR_probability(ids, HR, sigma):\n",
        "    lower_list = []\n",
        "    upper_list = []\n",
        "    len_vector = len(ids)\n",
        "    for i in range(len_vector):\n",
        "        lower_list += [HR.lower[i]/sigma]\n",
        "        upper_list += [HR.upper[i]/sigma]\n",
        "    prob = 1\n",
        "    for j in range(len_vector):\n",
        "        prob *= (norm.cdf(upper_list[j]) - norm.cdf(lower_list[j]))\n",
        "    return prob\n"
      ]
    },
    {
      "cell_type": "code",
      "execution_count": 138,
      "metadata": {},
      "outputs": [],
      "source": [
        "def create_noise_bounds(noise_partitions, ids, std, boundnet, action_dimensionality, state):\n",
        "    \"\"\"\n",
        "    TODO: this is still wrong\n",
        "    TODO: write docstring\n",
        "    \"\"\"\n",
        "    res = []\n",
        "    for noise_partition in noise_partitions:\n",
        "        noise_prob = HR_probability(ids, noise_partition, std)\n",
        "        # State input region is a hyperrectangle with\n",
        "        state_input_region = HyperRectangle(noise_partition.lower + state, noise_partition.upper + state)\n",
        "        print(\"partition\", state_input_region.lower.shape)\n",
        "        print(\"state\", state.shape)\n",
        "        # Get the lower bounds\n",
        "        (A, b) = get_lower_bound(boundnet, state, state_input_region, 0.01)\n",
        "        # State dependent part of the A matrix\n",
        "        state_A = A[:, :, :-action_dimensionality]\n",
        "        # Make this into a (lower) linear bounds (\\underbar{A}_x x + b \\leq ...)\n",
        "        state_linear_bounds = LinearBounds(state_input_region, (state_A, b), None)\n",
        "        # Convert to lower interval bounds (b \\leq ...)\n",
        "        state_interval_bounds = state_linear_bounds.concretize()\n",
        "        # Select the lower bound\n",
        "        h_vec = state_interval_bounds.lower\n",
        "        res.append((h_vec * noise_prob))\n",
        "    return sum(res)\n"
      ]
    },
    {
      "cell_type": "code",
      "execution_count": 142,
      "metadata": {},
      "outputs": [
        {
          "name": "stdout",
          "output_type": "stream",
          "text": [
            "partition torch.Size([1, 25])\n",
            "state torch.Size([25])\n"
          ]
        },
        {
          "ename": "RuntimeError",
          "evalue": "The following operation failed in the TorchScript interpreter.\nTraceback of TorchScript (most recent call last):\n  File \"/Users/koentuin/Documents/Studie/Minor Engineering wit AI/CAI/venv/lib/python3.11/site-packages/bound_propagation/linear.py\", line 38, in ibp_forward_linear_jit\n    weight = weight.transpose(-1, -2).to(dtype)\n\n    w_mid = center.matmul(weight) + (bias.to(dtype).unsqueeze(-2) if bias is not None else torch.tensor(0.0, device=device, dtype=dtype))\n            ~~~~~~~~~~~~~ <--- HERE\n    w_diff = diff.matmul(weight.abs())\nRuntimeError: mat1 and mat2 shapes cannot be multiplied (1x50 and 29x64)\n",
          "output_type": "error",
          "traceback": [
            "\u001b[0;31m---------------------------------------------------------------------------\u001b[0m",
            "\u001b[0;31mRuntimeError\u001b[0m                              Traceback (most recent call last)",
            "Cell \u001b[0;32mIn[142], line 8\u001b[0m\n\u001b[1;32m      5\u001b[0m action_dimensionality \u001b[39m=\u001b[39m \u001b[39m4\u001b[39m\n\u001b[1;32m      7\u001b[0m noise_partitions \u001b[39m=\u001b[39m create_noise_partitions(ids, state_dimensionality, partitions, std)\n\u001b[0;32m----> 8\u001b[0m bound \u001b[39m=\u001b[39m create_noise_bounds(noise_partitions, ids, std, boundnet, action_dimensionality, state)\n",
            "Cell \u001b[0;32mIn[138], line 10\u001b[0m, in \u001b[0;36mcreate_noise_bounds\u001b[0;34m(noise_partitions, ids, std, boundnet, action_dimensionality, state)\u001b[0m\n\u001b[1;32m      8\u001b[0m \u001b[39mprint\u001b[39m(\u001b[39m\"\u001b[39m\u001b[39mstate\u001b[39m\u001b[39m\"\u001b[39m, state\u001b[39m.\u001b[39mshape)\n\u001b[1;32m      9\u001b[0m \u001b[39m# Get the lower bounds\u001b[39;00m\n\u001b[0;32m---> 10\u001b[0m (A, b) \u001b[39m=\u001b[39m get_lower_bound(boundnet, state, state_input_region, \u001b[39m0.01\u001b[39;49m)\n\u001b[1;32m     11\u001b[0m \u001b[39m# State dependent part of the A matrix\u001b[39;00m\n\u001b[1;32m     12\u001b[0m state_A \u001b[39m=\u001b[39m A[:, :, :\u001b[39m-\u001b[39maction_dimensionality]\n",
            "Cell \u001b[0;32mIn[63], line 26\u001b[0m, in \u001b[0;36mget_lower_bound\u001b[0;34m(model, state, action_partition, epsilon)\u001b[0m\n\u001b[1;32m     21\u001b[0m state_partition \u001b[39m=\u001b[39m HyperRectangle\u001b[39m.\u001b[39mfrom_eps(state\u001b[39m.\u001b[39mview(\u001b[39m1\u001b[39m, \u001b[39m-\u001b[39m\u001b[39m1\u001b[39m), epsilon)\n\u001b[1;32m     22\u001b[0m input_bounds \u001b[39m=\u001b[39m HyperRectangle(\n\u001b[1;32m     23\u001b[0m     torch\u001b[39m.\u001b[39mcat((state_partition\u001b[39m.\u001b[39mlower, action_partition\u001b[39m.\u001b[39mlower), dim\u001b[39m=\u001b[39m\u001b[39m1\u001b[39m),\n\u001b[1;32m     24\u001b[0m     torch\u001b[39m.\u001b[39mcat((state_partition\u001b[39m.\u001b[39mupper, action_partition\u001b[39m.\u001b[39mupper), dim\u001b[39m=\u001b[39m\u001b[39m1\u001b[39m)\n\u001b[1;32m     25\u001b[0m )\n\u001b[0;32m---> 26\u001b[0m crown_bounds \u001b[39m=\u001b[39m model\u001b[39m.\u001b[39;49mcrown(input_bounds)\n\u001b[1;32m     28\u001b[0m crown_bounds\u001b[39m.\u001b[39mlower \u001b[39m# (A, b)\u001b[39;00m\n\u001b[1;32m     30\u001b[0m \u001b[39mreturn\u001b[39;00m crown_bounds\u001b[39m.\u001b[39mlower\n",
            "File \u001b[0;32m~/Documents/Studie/Minor Engineering wit AI/CAI/venv/lib/python3.11/site-packages/bound_propagation/general.py:42\u001b[0m, in \u001b[0;36mBoundModule.crown\u001b[0;34m(self, region, bound_lower, bound_upper, alpha)\u001b[0m\n\u001b[1;32m     41\u001b[0m \u001b[39mdef\u001b[39;00m \u001b[39mcrown\u001b[39m(\u001b[39mself\u001b[39m, region, bound_lower\u001b[39m=\u001b[39m\u001b[39mTrue\u001b[39;00m, bound_upper\u001b[39m=\u001b[39m\u001b[39mTrue\u001b[39;00m, alpha\u001b[39m=\u001b[39m\u001b[39mFalse\u001b[39;00m):\n\u001b[0;32m---> 42\u001b[0m     \u001b[39mreturn\u001b[39;00m \u001b[39mself\u001b[39;49m\u001b[39m.\u001b[39;49mcrown_with_relaxation(\u001b[39mself\u001b[39;49m\u001b[39m.\u001b[39;49mcrown_relax, region, bound_lower, bound_upper, alpha)\n",
            "File \u001b[0;32m~/Documents/Studie/Minor Engineering wit AI/CAI/venv/lib/python3.11/site-packages/bound_propagation/general.py:50\u001b[0m, in \u001b[0;36mBoundModule.crown_with_relaxation\u001b[0;34m(self, relax, region, bound_lower, bound_upper, alpha)\u001b[0m\n\u001b[1;32m     47\u001b[0m \u001b[39mdef\u001b[39;00m \u001b[39mcrown_with_relaxation\u001b[39m(\u001b[39mself\u001b[39m, relax, region, bound_lower, bound_upper, alpha):\n\u001b[1;32m     48\u001b[0m     out_size \u001b[39m=\u001b[39m \u001b[39mself\u001b[39m\u001b[39m.\u001b[39mpropagate_size(region\u001b[39m.\u001b[39mlower\u001b[39m.\u001b[39msize(\u001b[39m-\u001b[39m\u001b[39m1\u001b[39m))\n\u001b[0;32m---> 50\u001b[0m     relax(region)\n\u001b[1;32m     52\u001b[0m     \u001b[39mif\u001b[39;00m alpha:\n\u001b[1;32m     53\u001b[0m         linear_bounds \u001b[39m=\u001b[39m \u001b[39mself\u001b[39m\u001b[39m.\u001b[39malpha_crown(region, out_size, bound_lower, bound_upper)\n",
            "File \u001b[0;32m~/Documents/Studie/Minor Engineering wit AI/CAI/venv/lib/python3.11/site-packages/torch/utils/_contextlib.py:115\u001b[0m, in \u001b[0;36mcontext_decorator.<locals>.decorate_context\u001b[0;34m(*args, **kwargs)\u001b[0m\n\u001b[1;32m    112\u001b[0m \u001b[39m@functools\u001b[39m\u001b[39m.\u001b[39mwraps(func)\n\u001b[1;32m    113\u001b[0m \u001b[39mdef\u001b[39;00m \u001b[39mdecorate_context\u001b[39m(\u001b[39m*\u001b[39margs, \u001b[39m*\u001b[39m\u001b[39m*\u001b[39mkwargs):\n\u001b[1;32m    114\u001b[0m     \u001b[39mwith\u001b[39;00m ctx_factory():\n\u001b[0;32m--> 115\u001b[0m         \u001b[39mreturn\u001b[39;00m func(\u001b[39m*\u001b[39;49margs, \u001b[39m*\u001b[39;49m\u001b[39m*\u001b[39;49mkwargs)\n",
            "File \u001b[0;32m~/Documents/Studie/Minor Engineering wit AI/CAI/venv/lib/python3.11/site-packages/bound_propagation/general.py:28\u001b[0m, in \u001b[0;36mBoundModule.crown_relax\u001b[0;34m(self, region)\u001b[0m\n\u001b[1;32m     23\u001b[0m \u001b[39m@torch\u001b[39m\u001b[39m.\u001b[39mno_grad()\n\u001b[1;32m     24\u001b[0m \u001b[39mdef\u001b[39;00m \u001b[39mcrown_relax\u001b[39m(\u001b[39mself\u001b[39m, region):\n\u001b[1;32m     25\u001b[0m     \u001b[39m# Force bounds based on IBP, which may be tighter. More importantly, this also works if say there\u001b[39;00m\n\u001b[1;32m     26\u001b[0m     \u001b[39m# is a Clamp in front of a Log which requires x > 0, and a linear relaxation may violate this\u001b[39;00m\n\u001b[1;32m     27\u001b[0m     interval_bounds \u001b[39m=\u001b[39m IntervalBounds(region, region\u001b[39m.\u001b[39mlower, region\u001b[39m.\u001b[39mupper)\n\u001b[0;32m---> 28\u001b[0m     \u001b[39mself\u001b[39;49m\u001b[39m.\u001b[39;49mibp_forward(interval_bounds, save_input_bounds\u001b[39m=\u001b[39;49m\u001b[39mTrue\u001b[39;49;00m)\n\u001b[1;32m     30\u001b[0m     \u001b[39m# No grad for relaxations improves accuracy and stabilizes training for CROWN.\u001b[39;00m\n\u001b[1;32m     31\u001b[0m     \u001b[39mwhile\u001b[39;00m \u001b[39mself\u001b[39m\u001b[39m.\u001b[39mneed_relaxation:\n",
            "File \u001b[0;32m~/Documents/Studie/Minor Engineering wit AI/CAI/venv/lib/python3.11/site-packages/bound_propagation/sequential.py:38\u001b[0m, in \u001b[0;36mBoundSequential.ibp_forward\u001b[0;34m(self, bounds, save_relaxation, save_input_bounds)\u001b[0m\n\u001b[1;32m     36\u001b[0m \u001b[39mdef\u001b[39;00m \u001b[39mibp_forward\u001b[39m(\u001b[39mself\u001b[39m, bounds, save_relaxation\u001b[39m=\u001b[39m\u001b[39mFalse\u001b[39;00m, save_input_bounds\u001b[39m=\u001b[39m\u001b[39mFalse\u001b[39;00m):\n\u001b[1;32m     37\u001b[0m     \u001b[39mfor\u001b[39;00m module \u001b[39min\u001b[39;00m \u001b[39mself\u001b[39m\u001b[39m.\u001b[39mbound_sequential:\n\u001b[0;32m---> 38\u001b[0m         bounds \u001b[39m=\u001b[39m module\u001b[39m.\u001b[39;49mibp_forward(bounds, save_relaxation\u001b[39m=\u001b[39;49msave_relaxation, save_input_bounds\u001b[39m=\u001b[39;49msave_input_bounds)\n\u001b[1;32m     40\u001b[0m     \u001b[39mreturn\u001b[39;00m bounds\n",
            "File \u001b[0;32m~/Documents/Studie/Minor Engineering wit AI/CAI/venv/lib/python3.11/site-packages/bound_propagation/sequential.py:38\u001b[0m, in \u001b[0;36mBoundSequential.ibp_forward\u001b[0;34m(self, bounds, save_relaxation, save_input_bounds)\u001b[0m\n\u001b[1;32m     36\u001b[0m \u001b[39mdef\u001b[39;00m \u001b[39mibp_forward\u001b[39m(\u001b[39mself\u001b[39m, bounds, save_relaxation\u001b[39m=\u001b[39m\u001b[39mFalse\u001b[39;00m, save_input_bounds\u001b[39m=\u001b[39m\u001b[39mFalse\u001b[39;00m):\n\u001b[1;32m     37\u001b[0m     \u001b[39mfor\u001b[39;00m module \u001b[39min\u001b[39;00m \u001b[39mself\u001b[39m\u001b[39m.\u001b[39mbound_sequential:\n\u001b[0;32m---> 38\u001b[0m         bounds \u001b[39m=\u001b[39m module\u001b[39m.\u001b[39;49mibp_forward(bounds, save_relaxation\u001b[39m=\u001b[39;49msave_relaxation, save_input_bounds\u001b[39m=\u001b[39;49msave_input_bounds)\n\u001b[1;32m     40\u001b[0m     \u001b[39mreturn\u001b[39;00m bounds\n",
            "File \u001b[0;32m~/Documents/Studie/Minor Engineering wit AI/CAI/venv/lib/python3.11/site-packages/bound_propagation/activation.py:28\u001b[0m, in \u001b[0;36massert_bound_order.<locals>.wrapper\u001b[0;34m(self, *args, **kwargs)\u001b[0m\n\u001b[1;32m     23\u001b[0m     bounds \u001b[39m=\u001b[39m kwargs[keyword]\n\u001b[1;32m     25\u001b[0m \u001b[39massert\u001b[39;00m torch\u001b[39m.\u001b[39misnan(bounds\u001b[39m.\u001b[39mlower)\u001b[39m.\u001b[39many() \u001b[39mor\u001b[39;00m torch\u001b[39m.\u001b[39misnan(bounds\u001b[39m.\u001b[39mupper)\u001b[39m.\u001b[39many() \u001b[39mor\u001b[39;00m \\\n\u001b[1;32m     26\u001b[0m        torch\u001b[39m.\u001b[39mall(bounds\u001b[39m.\u001b[39mlower \u001b[39m<\u001b[39m\u001b[39m=\u001b[39m bounds\u001b[39m.\u001b[39mupper \u001b[39m+\u001b[39m \u001b[39m1e-6\u001b[39m)\n\u001b[0;32m---> 28\u001b[0m \u001b[39mreturn\u001b[39;00m func(\u001b[39mself\u001b[39;49m, \u001b[39m*\u001b[39;49margs, \u001b[39m*\u001b[39;49m\u001b[39m*\u001b[39;49mkwargs)\n",
            "File \u001b[0;32m~/Documents/Studie/Minor Engineering wit AI/CAI/venv/lib/python3.11/site-packages/bound_propagation/linear.py:74\u001b[0m, in \u001b[0;36mBoundLinear.ibp_forward\u001b[0;34m(self, bounds, save_relaxation, save_input_bounds)\u001b[0m\n\u001b[1;32m     71\u001b[0m \u001b[39m@assert_bound_order\u001b[39m\n\u001b[1;32m     72\u001b[0m \u001b[39mdef\u001b[39;00m \u001b[39mibp_forward\u001b[39m(\u001b[39mself\u001b[39m, bounds, save_relaxation\u001b[39m=\u001b[39m\u001b[39mFalse\u001b[39;00m, save_input_bounds\u001b[39m=\u001b[39m\u001b[39mFalse\u001b[39;00m):\n\u001b[1;32m     73\u001b[0m     center, diff \u001b[39m=\u001b[39m bounds\u001b[39m.\u001b[39mcenter, bounds\u001b[39m.\u001b[39mwidth \u001b[39m/\u001b[39m \u001b[39m2\u001b[39m\n\u001b[0;32m---> 74\u001b[0m     lower, upper \u001b[39m=\u001b[39m ibp_forward_linear_jit(\u001b[39mself\u001b[39;49m\u001b[39m.\u001b[39;49mmodule\u001b[39m.\u001b[39;49mweight, \u001b[39mself\u001b[39;49m\u001b[39m.\u001b[39;49mmodule\u001b[39m.\u001b[39;49mbias, center, diff)\n\u001b[1;32m     76\u001b[0m     \u001b[39mreturn\u001b[39;00m IntervalBounds(bounds\u001b[39m.\u001b[39mregion, lower, upper)\n",
            "\u001b[0;31mRuntimeError\u001b[0m: The following operation failed in the TorchScript interpreter.\nTraceback of TorchScript (most recent call last):\n  File \"/Users/koentuin/Documents/Studie/Minor Engineering wit AI/CAI/venv/lib/python3.11/site-packages/bound_propagation/linear.py\", line 38, in ibp_forward_linear_jit\n    weight = weight.transpose(-1, -2).to(dtype)\n\n    w_mid = center.matmul(weight) + (bias.to(dtype).unsqueeze(-2) if bias is not None else torch.tensor(0.0, device=device, dtype=dtype))\n            ~~~~~~~~~~~~~ <--- HERE\n    w_diff = diff.matmul(weight.abs())\nRuntimeError: mat1 and mat2 shapes cannot be multiplied (1x50 and 29x64)\n"
          ]
        }
      ],
      "source": [
        "state_dimensionality = 25\n",
        "ids = [24]\n",
        "partitions = 10\n",
        "std = 10/6\n",
        "action_dimensionality = 4\n",
        "\n",
        "noise_partitions = create_noise_partitions(ids, state_dimensionality, partitions, std)\n",
        "bound = create_noise_bounds(noise_partitions, ids, std, boundnet, action_dimensionality, state)\n"
      ]
    }
  ],
  "metadata": {
    "colab": {
      "provenance": []
    },
    "kernelspec": {
      "display_name": "venv",
      "language": "python",
      "name": "python3"
    },
    "language_info": {
      "codemirror_mode": {
        "name": "ipython",
        "version": 3
      },
      "file_extension": ".py",
      "mimetype": "text/x-python",
      "name": "python",
      "nbconvert_exporter": "python",
      "pygments_lexer": "ipython3",
      "version": "3.11.3"
    },
    "orig_nbformat": 4,
    "vscode": {
      "interpreter": {
        "hash": "5a40ef642b076910db029035e8a6499a4c0b1b5d539d6340d12e574079074661"
      }
    }
  },
  "nbformat": 4,
  "nbformat_minor": 0
}
