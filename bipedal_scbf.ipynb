{
 "cells": [
  {
   "cell_type": "code",
   "execution_count": 72,
   "metadata": {},
   "outputs": [],
   "source": [
    "from torch import nn\n",
    "from bound_propagation import BoundModelFactory, HyperRectangle\n",
    "from bound_propagation.polynomial import Pow\n",
    "import torch\n",
    "import numpy as np\n",
    "\n",
    "class NNDM(nn.Sequential):\n",
    "    def __init__(self):\n",
    "        super(NNDM, self).__init__(\n",
    "            nn.Linear(28, 64),\n",
    "            nn.Tanh(),\n",
    "            nn.Linear(64, 24),\n",
    "        )\n",
    "\n",
    "    def forward(self, x):\n",
    "        out = super().forward(x)\n",
    "        return out + x[:,:24]\n",
    "\n",
    "    \n",
    "class HHead(nn.Sequential):\n",
    "    def __init__(self):\n",
    "        \n",
    "        super().__init__(\n",
    "            Pow(2),\n",
    "            nn.Linear(24, 2)\n",
    "        )\n",
    "        # TODO: implement h function\n",
    "        # self[1].weight.data = torch.tensor([[-1/x_0_max**2, 0, 0, 0],\n",
    "        #                                     [0, 0, -1/x_2_max**2, 0]])\n",
    "        # self[1].bias.data = torch.tensor([1., 1.])\n",
    "\n",
    "class CombinedModel(nn.Sequential):\n",
    "    def __init__(self):\n",
    "        super(CombinedModel, self).__init__()\n",
    "        self.add_module('nndm', NNDM())\n",
    "        self.add_module('hhead', HHead())\n",
    "    \n",
    "\n",
    "# thetanet = HThetaHead(pole_angel)\n",
    "net = CombinedModel()\n",
    "\n",
    "factory = BoundModelFactory()\n",
    "boundnet = factory.build(net)"
   ]
  },
  {
   "cell_type": "code",
   "execution_count": 73,
   "metadata": {},
   "outputs": [],
   "source": [
    "import torch.nn.functional as F\n",
    "\n",
    "class Actor(nn.Module):\n",
    "\n",
    "    def __init__(self, n_observations, n_actions):\n",
    "        super(Actor, self).__init__()\n",
    "        self.layer1 = nn.Linear(n_observations, 128)\n",
    "        self.layer2 = nn.Linear(128, 128)\n",
    "        self.layer3 = nn.Linear(128, n_actions)\n",
    "\n",
    "    def forward(self, x):\n",
    "        x = F.relu(self.layer1(x))\n",
    "        x = F.relu(self.layer2(x))\n",
    "        x = torch.tanh(self.layer3(x))\n",
    "        return self.layer3(x)\n",
    "    \n",
    "class Critic(nn.Module):\n",
    "\n",
    "    def __init__(self, no_state_actions):\n",
    "        super(Critic, self).__init__()\n",
    "        self.layer1 = nn.Linear(no_state_actions, 128)\n",
    "        self.layer2 = nn.Linear(128, 128)\n",
    "        self.layer3 = nn.Linear(128, 1)\n",
    "\n",
    "    def forward(self, x):\n",
    "        x = F.relu(self.layer1(x))\n",
    "        x = F.relu(self.layer2(x))\n",
    "        return self.layer3(x)\n",
    "    \n",
    "actor_network = Actor(24, 4)\n",
    "critic_network = Critic(28)\n",
    "\n",
    "# TODO: when we have trained the model\n",
    "# dqn_model.load_state_dict(torch.load(PATH_TO_MODEL_WEIGHTS))"
   ]
  },
  {
   "cell_type": "code",
   "execution_count": 74,
   "metadata": {},
   "outputs": [],
   "source": [
    "def create_action_partitions(env, partitions):\n",
    "    action_space = env.action_space\n",
    "    num_actions = action_space.shape[0]\n",
    "    action_low = action_space.low\n",
    "    action_high = action_space.high\n",
    "\n",
    "    res = []\n",
    "\n",
    "    def generate_partitions(dimensions, lower, upper, current_partition):\n",
    "        if dimensions == num_actions:\n",
    "            # If we've reached the number of dimensions, add the current partition\n",
    "            res.append(HyperRectangle(np.array(lower), np.array(upper)))\n",
    "        else:\n",
    "            # Calculate the size of the partition for the current dimension\n",
    "            partition_size = (action_high[dimensions] - action_low[dimensions]) / partitions\n",
    "\n",
    "            for part in range(partitions):\n",
    "                # Determine the lower and upper bounds for the current dimension\n",
    "                dim_lower_bound = action_low[dimensions] + part * partition_size\n",
    "                dim_upper_bound = dim_lower_bound + partition_size\n",
    "\n",
    "                # Recursively generate partitions for the next dimension\n",
    "                generate_partitions(dimensions + 1, lower + [dim_lower_bound], upper + [dim_upper_bound], current_partition)\n",
    "\n",
    "    generate_partitions(0, [], [], [])\n",
    "\n",
    "    return res"
   ]
  },
  {
   "cell_type": "code",
   "execution_count": 75,
   "metadata": {},
   "outputs": [],
   "source": [
    "def get_lower_bound(model, state, action, epsilon):\n",
    "    state_action = torch.cat((state, action), dim=1).view(1, -1)\n",
    "    input_bounds = HyperRectangle.from_eps(state_action, epsilon)\n",
    "    crown_bounds = model.crown(input_bounds)\n",
    "\n",
    "    lower_bound = crown_bounds.lower[0].unsqueeze(0)\n",
    "\n",
    "    return lower_bound.view(-1, state_action.shape[1])"
   ]
  },
  {
   "cell_type": "code",
   "execution_count": 76,
   "metadata": {},
   "outputs": [],
   "source": [
    "def create_bound_matrices(partitions, state, env):\n",
    "    action_space = env.action_space\n",
    "    num_actions = action_space.shape[0]\n",
    "    res = []\n",
    "    for partition in partitions:\n",
    "        action = torch.tensor(partition.center).view(1, -1)\n",
    "        bounds = get_lower_bound(boundnet, state, action, 0.1)\n",
    "        action_bounds = bounds[:, -num_actions:]\n",
    "        state_bounds = bounds[:, :-num_actions]\n",
    "        state_vec = state_bounds @ state.to(state_bounds.dtype).t()\n",
    "        vecs = (partition, action_bounds.detach().numpy(), state_vec.detach().numpy())\n",
    "        res.append(vecs)\n",
    "\n",
    "    return res"
   ]
  },
  {
   "cell_type": "code",
   "execution_count": 77,
   "metadata": {},
   "outputs": [],
   "source": [
    "import gymnasium as gym\n",
    "\n",
    "\n",
    "env = gym.make(\"BipedalWalker-v3\")\n",
    "\n",
    "state = torch.rand(1, 24)\n",
    "action = torch.rand(1, 4)\n",
    "\n",
    "partitions = create_action_partitions(env, 2)\n",
    "bound_matrices = create_bound_matrices(partitions, state, env)"
   ]
  },
  {
   "cell_type": "code",
   "execution_count": 78,
   "metadata": {},
   "outputs": [],
   "source": [
    "class InfeasibilityError(Exception):\n",
    "    \"\"\"Exception raised if there are no actions that fulfill the safety criterions.\"\"\"\n",
    "\n",
    "    def __init__(self, message=\"No safe action to take\"):\n",
    "        self.message = message\n",
    "        super().__init__(self.message)\n"
   ]
  }
 ],
 "metadata": {
  "kernelspec": {
   "display_name": "venv",
   "language": "python",
   "name": "python3"
  },
  "language_info": {
   "codemirror_mode": {
    "name": "ipython",
    "version": 3
   },
   "file_extension": ".py",
   "mimetype": "text/x-python",
   "name": "python",
   "nbconvert_exporter": "python",
   "pygments_lexer": "ipython3",
   "version": "3.11.3"
  },
  "orig_nbformat": 4,
  "vscode": {
   "interpreter": {
    "hash": "5a40ef642b076910db029035e8a6499a4c0b1b5d539d6340d12e574079074661"
   }
  }
 },
 "nbformat": 4,
 "nbformat_minor": 2
}
